{
 "cells": [
  {
   "cell_type": "code",
   "execution_count": null,
   "metadata": {},
   "outputs": [],
   "source": [
    "import numpy as np\n",
    "from matplotlib import pyplot as plt\n",
    "from matplotlib.colors import rgb_to_hsv, hsv_to_rgb, to_rgb\n",
    "import pandas as pd\n",
    "import seaborn as sns\n",
    "import scipy\n",
    "from teeplot import teeplot as tp\n",
    "\n",
    "import random\n"
   ]
  },
  {
   "cell_type": "code",
   "execution_count": null,
   "metadata": {},
   "outputs": [],
   "source": [
    "# adapted from https://stackoverflow.com/a/78998203/17332200\n",
    "def darken(color, amount):\n",
    "    hue, saturation, value = rgb_to_hsv(to_rgb(color))\n",
    "    return hsv_to_rgb((hue, saturation, value * amount))\n"
   ]
  },
  {
   "cell_type": "code",
   "execution_count": null,
   "metadata": {},
   "outputs": [],
   "source": [
    "def darken_palette(palette: str, amount: float) -> list:\n",
    "    palette = sns.color_palette(palette)\n",
    "    return [darken(color, amount) for color in palette]\n"
   ]
  },
  {
   "cell_type": "code",
   "execution_count": null,
   "metadata": {},
   "outputs": [],
   "source": [
    "# Set seeds for reproducibility\n",
    "np.random.seed(42)\n",
    "random.seed(42)\n"
   ]
  },
  {
   "cell_type": "markdown",
   "metadata": {},
   "source": [
    "## Get Data\n"
   ]
  },
  {
   "cell_type": "code",
   "execution_count": null,
   "metadata": {},
   "outputs": [],
   "source": [
    "df = pd.read_parquet(\"https://osf.io/gk2ty/download\")\n"
   ]
  },
  {
   "cell_type": "code",
   "execution_count": null,
   "metadata": {},
   "outputs": [],
   "source": [
    "df.columns\n"
   ]
  },
  {
   "cell_type": "markdown",
   "metadata": {},
   "source": [
    "## Prep Data\n"
   ]
  },
  {
   "cell_type": "code",
   "execution_count": null,
   "metadata": {},
   "outputs": [],
   "source": [
    "df[\"Components\"] = df[\"Task\"].map(\n",
    "    {\n",
    "        \"AND\": 2,\n",
    "        \"ANDNOT\": 3,\n",
    "        \"NAND\": 1,\n",
    "        \"NOR\": 4,\n",
    "        \"NOT\": 1,\n",
    "        \"OR\": 3,\n",
    "        \"ORNOT\": 2,\n",
    "        \"XOR\": 4,\n",
    "        \"EQUALS\": 5,\n",
    "    },\n",
    ")\n"
   ]
  },
  {
   "cell_type": "code",
   "execution_count": null,
   "metadata": {},
   "outputs": [],
   "source": [
    "df[\"codes for num tasks\"] = df.groupby(\n",
    "    [\"Site\", \"Lineage Generation Index\", \"Treatment\", \"Run ID\"],\n",
    "    observed=True,\n",
    ")[\"Is Task Coding Site\"].transform(\"sum\")\n"
   ]
  },
  {
   "cell_type": "code",
   "execution_count": null,
   "metadata": {},
   "outputs": [],
   "source": [
    "df[\"prev codes for num tasks\"] = df.groupby(\n",
    "    [\"Site\", \"Lineage Generation Index\", \"Treatment\", \"Run ID\"],\n",
    "    observed=True,\n",
    ")[\"Prev Is Task Coding Site\"].transform(\"sum\")\n"
   ]
  },
  {
   "cell_type": "code",
   "execution_count": null,
   "metadata": {},
   "outputs": [],
   "source": [
    "df[\"prev codes for tasks\"] = df[\"prev codes for num tasks\"].astype(bool)\n"
   ]
  },
  {
   "cell_type": "code",
   "execution_count": null,
   "metadata": {},
   "outputs": [],
   "source": [
    "df[\"prev coded for tasks\"] = df.groupby(\n",
    "    [\"Site\", \"Lineage Generation Index\", \"Treatment\", \"Run ID\"],\n",
    "    observed=True,\n",
    ")[\"Prev Is Task Coding Site Cumulative Count\"].transform(\"sum\")\n",
    "df[\"prev coded for tasks\"] = df[\"prev coded for tasks\"].astype(bool)\n"
   ]
  },
  {
   "cell_type": "code",
   "execution_count": null,
   "metadata": {},
   "outputs": [],
   "source": [
    "df['First Task Generation'] = df['Generation Born'].where(\n",
    "    df['has task'] != 0,\n",
    ").groupby(\n",
    "    [df['Treatment'], df['Run ID'], df['Task']],\n",
    "    observed=True,\n",
    ").transform('min')\n"
   ]
  },
  {
   "cell_type": "code",
   "execution_count": null,
   "metadata": {},
   "outputs": [],
   "source": [
    "df[\"SLIP_INSERTION_BOOL_MASK any\"] = df.groupby(\n",
    "    [\"Lineage Generation Index\", \"Treatment\", \"Run ID\"],\n",
    "    observed=True,\n",
    ")[\"SLIP_INSERTION_BOOL_MASK\"].transform(\"any\")\n"
   ]
  },
  {
   "cell_type": "code",
   "execution_count": null,
   "metadata": {},
   "outputs": [],
   "source": [
    "dff = df[\n",
    "    (df[\"delta has task\"] == 1)\n",
    "    & (df[\"Generation Born\"] == df[\"First Task Generation\"])\n",
    "    & (df[\"Treatment\"] == \"Slip-duplicate\")\n",
    "    & (~df[\"prev coded for tasks\"])\n",
    "    # & df[\"Is Task Coding Site\"]\n",
    "].reset_index(drop=True)\n",
    "dff\n"
   ]
  },
  {
   "cell_type": "code",
   "execution_count": null,
   "metadata": {},
   "outputs": [],
   "source": [
    "dff.columns\n"
   ]
  },
  {
   "cell_type": "code",
   "execution_count": null,
   "metadata": {},
   "outputs": [],
   "source": [
    "dfy = dff.groupby(\n",
    "    [\"Treatment\", \"Run ID\", \"Task\"],\n",
    "    observed=True,\n",
    ")[\"Is Task Coding Site\"].transform(\"mean\")\n",
    "print(dfy)\n",
    "\n",
    "dff[\"Mean Is Task Coding Site\"] = dfy\n"
   ]
  },
  {
   "cell_type": "code",
   "execution_count": null,
   "metadata": {},
   "outputs": [],
   "source": [
    "dfp = dff.astype(\n",
    "    {\"Prev Slip Insertion Cumulative Count\": bool},\n",
    ").groupby(\n",
    "    [\"Treatment\", \"Run ID\", \"Task\", \"Prev Slip Insertion Cumulative Count\"],\n",
    "    observed=True,\n",
    ").agg(\n",
    "    {\n",
    "        \"Mean Is Task Coding Site\": \"first\",\n",
    "        \"Is Task Coding Site\": \"mean\",\n",
    "        \"Components\": \"first\",\n",
    "        \"SLIP_INSERTION_BOOL_MASK any\": \"first\",\n",
    "    },\n",
    ")\n",
    "\n",
    "dfp[\"Is Task Coding Site\"] /= dfp[\"Mean Is Task Coding Site\"]\n",
    "dfp = dfp.reset_index()\n",
    "dfp\n"
   ]
  },
  {
   "cell_type": "markdown",
   "metadata": {},
   "source": [
    "## base\n"
   ]
  },
  {
   "cell_type": "code",
   "execution_count": null,
   "metadata": {},
   "outputs": [],
   "source": [
    "dfp_ = dfp.copy()\n",
    "dfp_[\"Prev Slip Insertion Cumulative Count\"] = dfp_[\n",
    "    \"Prev Slip Insertion Cumulative Count\"\n",
    "].map(\n",
    "    {True: \"Slip Inserted\", False: \"Not Slip Inserted\"}\n",
    ")\n",
    "dfp_\n"
   ]
  },
  {
   "cell_type": "code",
   "execution_count": null,
   "metadata": {},
   "outputs": [],
   "source": [
    "data = dfp_[\n",
    "    (dfp_[\"Prev Slip Insertion Cumulative Count\"] == \"Slip Inserted\")\n",
    "].groupby(\n",
    "    [\"Prev Slip Insertion Cumulative Count\", \"Run ID\", \"Is Task Coding Site\", \"Components\", \"Task\"],\n",
    "    observed=True,\n",
    ").median(numeric_only=True).reset_index()\n",
    "print(len(data))\n",
    "data\n"
   ]
  },
  {
   "cell_type": "code",
   "execution_count": null,
   "metadata": {},
   "outputs": [],
   "source": [
    "# Perform one-sample Wilcoxon signed-rank test for each \"Components\" group\n",
    "# against the null hypothesis median = 1.0\n",
    "wilcoxon_results = data.groupby(\"Components\").apply(\n",
    "    lambda x: scipy.stats.wilcoxon(\n",
    "        x[\"Is Task Coding Site\"] - 1.0,  # shift by 1.0\n",
    "        alternative='greater',\n",
    "    )\n",
    ")\n",
    "\n",
    "# Create a DataFrame to store the test results\n",
    "wilcoxon_df = pd.DataFrame(\n",
    "    wilcoxon_results.tolist(),\n",
    "    index=wilcoxon_results.index,\n",
    "    columns=[\"W-statistic\", \"p-value\"]\n",
    ")\n",
    "\n",
    "display(wilcoxon_df)\n",
    "\n",
    "group_stats = data.groupby([\"Components\", \"Prev Slip Insertion Cumulative Count\"])[\"Is Task Coding Site\"].agg([\"mean\", \"std\"]).reset_index()\n",
    "display(group_stats)\n",
    "\n",
    "group_sizes = data.groupby([\"Components\", \"Prev Slip Insertion Cumulative Count\"]).size().reset_index(name='size')\n",
    "display(group_sizes)\n"
   ]
  },
  {
   "cell_type": "code",
   "execution_count": null,
   "metadata": {},
   "outputs": [],
   "source": [
    "with tp.teed(\n",
    "    sns.violinplot,\n",
    "    data=data,\n",
    "    y=\"Is Task Coding Site\",\n",
    "    x=\"Components\",\n",
    "    hue=\"Components\",\n",
    "    density_norm=\"width\",\n",
    "    cut=0,\n",
    "    gap=0.2,\n",
    "    inner=None,\n",
    "    legend=False,\n",
    "    palette=\"Pastel1\",\n",
    "    teeplot_outexclude=\"palette\",\n",
    "    teeplot_outattrs={\"prevcoding\": False},\n",
    ") as ax:\n",
    "    sns.boxplot(\n",
    "        data=data,\n",
    "        y=\"Is Task Coding Site\",\n",
    "        x=\"Components\",\n",
    "        hue=\"Components\",\n",
    "        gap=0.2,\n",
    "        notch=True,\n",
    "        palette=darken_palette(\"Pastel1\", 0.8),\n",
    "        color=\"black\",\n",
    "        width=0.5,\n",
    "        linewidth=1,\n",
    "        fliersize=0,\n",
    "        ax=ax,\n",
    "        legend=False,\n",
    "    )\n",
    "    sns.stripplot(\n",
    "        data=data,\n",
    "        y=\"Is Task Coding Site\",\n",
    "        x=\"Components\",\n",
    "        hue=\"Components\",\n",
    "        jitter=0.2,\n",
    "        palette=darken_palette(\"Pastel1\", 0.2),\n",
    "        size=4,\n",
    "        alpha=0.3,\n",
    "        ax=ax,\n",
    "        legend=False,\n",
    "    )\n",
    "    ax.axhline(1, color=\"black\", linestyle=\"--\", lw=1)\n",
    "    ax.set_ylabel(\"Coding Site Enrichment\\nin Slip-inserted Regions\")\n",
    "    ax.set_xlabel(\"Novel Task Complexity\")\n",
    "    ax.figure.set_size_inches(3.5, 2.5)\n",
    "\n",
    "    ax.spines['right'].set_visible(False)\n",
    "    ax.spines['top'].set_visible(False)\n",
    "\n",
    "    # Add significance annotations based on wilcoxon_df\n",
    "    y_max = ax.get_ylim()[1]\n",
    "    x_positions = ax.get_xticks()\n",
    "\n",
    "    # Loop over each component in sorted order\n",
    "    for i, comp in enumerate(sorted(wilcoxon_df.index)):\n",
    "        p_val = wilcoxon_df.loc[comp, 'p-value']\n",
    "        if p_val < 0.001:\n",
    "            sig = '***'\n",
    "        elif p_val < 0.01:\n",
    "            sig = '**'\n",
    "        elif p_val < 0.05:\n",
    "            sig = '*'\n",
    "        else:\n",
    "            sig = 'ns'\n",
    "        ax.text(x_positions[i], y_max * 0.95, sig, ha='center', va='bottom', fontsize=10, color='black')\n"
   ]
  },
  {
   "cell_type": "code",
   "execution_count": null,
   "metadata": {},
   "outputs": [],
   "source": [
    "# Perform one-sample Wilcoxon signed-rank test for each \"Components\" group\n",
    "# against the null hypothesis median = 1.0\n",
    "data[\"one\"] = 1\n",
    "wilcoxon_results = data.groupby(\"one\").apply(\n",
    "    lambda x: scipy.stats.wilcoxon(\n",
    "        x[\"Is Task Coding Site\"] - 1.0,  # shift by 1.0\n",
    "        alternative='greater',\n",
    "    )\n",
    ")\n",
    "\n",
    "# Create a DataFrame to store the test results\n",
    "wilcoxon_df = pd.DataFrame(\n",
    "    wilcoxon_results.tolist(),\n",
    "    index=wilcoxon_results.index,\n",
    "    columns=[\"W-statistic\", \"p-value\"]\n",
    ")\n",
    "\n",
    "display(wilcoxon_df)\n",
    "\n",
    "group_stats = data.groupby([\"one\", \"Prev Slip Insertion Cumulative Count\"])[\"Is Task Coding Site\"].agg([\"mean\", \"std\"]).reset_index()\n",
    "display(group_stats)\n",
    "\n",
    "group_sizes = data.groupby([\"one\", \"Prev Slip Insertion Cumulative Count\"]).size().reset_index(name='size')\n",
    "display(group_sizes)\n"
   ]
  },
  {
   "cell_type": "code",
   "execution_count": null,
   "metadata": {},
   "outputs": [],
   "source": [
    "with tp.teed(\n",
    "    sns.violinplot,\n",
    "    data=data,\n",
    "    y=\"Is Task Coding Site\",\n",
    "    density_norm=\"width\",\n",
    "    cut=0,\n",
    "    gap=0.2,\n",
    "    inner=None,\n",
    "    legend=False,\n",
    "    palette=\"Pastel1\",\n",
    "    teeplot_outexclude=\"palette\",\n",
    "    teeplot_outattrs={\"prevcoding\": False},\n",
    ") as ax:\n",
    "    sns.boxplot(\n",
    "        data=data,\n",
    "        y=\"Is Task Coding Site\",\n",
    "        gap=0.2,\n",
    "        notch=True,\n",
    "        palette=darken_palette(\"Pastel1\", 0.8),\n",
    "        color=\"black\",\n",
    "        width=0.5,\n",
    "        linewidth=1,\n",
    "        fliersize=0,\n",
    "        ax=ax,\n",
    "        legend=False,\n",
    "    )\n",
    "    sns.stripplot(\n",
    "        data=data,\n",
    "        y=\"Is Task Coding Site\",\n",
    "        jitter=0.2,\n",
    "        palette=darken_palette(\"Pastel1\", 0.2),\n",
    "        size=4,\n",
    "        alpha=0.3,\n",
    "        ax=ax,\n",
    "        legend=False,\n",
    "    )\n",
    "    ax.axhline(1, color=\"black\", linestyle=\"--\", lw=1)\n",
    "    ax.set_ylabel(\"Coding Site Enrichment\\nin Slip-inserted Regions\")\n",
    "    ax.set_xlabel(\"Novel Task Complexity\")\n",
    "    ax.figure.set_size_inches(3.5, 2.5)\n",
    "\n",
    "    ax.spines['right'].set_visible(False)\n",
    "    ax.spines['top'].set_visible(False)\n",
    "\n",
    "    # Add significance annotations based on wilcoxon_df\n",
    "    y_max = ax.get_ylim()[1]\n",
    "    x_positions = ax.get_xticks()\n",
    "\n",
    "    # Loop over each component in sorted order\n",
    "    for i, comp in enumerate(sorted(wilcoxon_df.index)):\n",
    "        p_val = wilcoxon_df.loc[comp, 'p-value']\n",
    "        if p_val < 0.001:\n",
    "            sig = '***'\n",
    "        elif p_val < 0.01:\n",
    "            sig = '**'\n",
    "        elif p_val < 0.05:\n",
    "            sig = '*'\n",
    "        else:\n",
    "            sig = 'ns'\n",
    "        ax.text(x_positions[i], y_max * 0.95, sig, ha='center', va='bottom', fontsize=10, color='black')\n"
   ]
  }
 ],
 "metadata": {
  "kernelspec": {
   "display_name": ".env",
   "language": "python",
   "name": "python3"
  },
  "language_info": {
   "codemirror_mode": {
    "name": "ipython",
    "version": 3
   },
   "file_extension": ".py",
   "mimetype": "text/x-python",
   "name": "python",
   "nbconvert_exporter": "python",
   "pygments_lexer": "ipython3"
  }
 },
 "nbformat": 4,
 "nbformat_minor": 2
}
