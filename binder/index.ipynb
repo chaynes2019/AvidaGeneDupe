{
 "cells": [
  {
   "cell_type": "markdown",
   "metadata": {},
   "source": [
    "## Set Up Dependencies and Data\n"
   ]
  },
  {
   "cell_type": "code",
   "execution_count": 1,
   "metadata": {
    "execution": {
     "iopub.execute_input": "2024-03-08T00:54:21.667180Z",
     "iopub.status.busy": "2024-03-08T00:54:21.667006Z",
     "iopub.status.idle": "2024-03-08T00:54:21.913907Z",
     "shell.execute_reply": "2024-03-08T00:54:21.913271Z"
    }
   },
   "outputs": [],
   "source": [
    "import joblib\n",
    "import pandas as pd\n"
   ]
  },
  {
   "cell_type": "code",
   "execution_count": 2,
   "metadata": {
    "execution": {
     "iopub.execute_input": "2024-03-08T00:54:21.916868Z",
     "iopub.status.busy": "2024-03-08T00:54:21.916465Z",
     "iopub.status.idle": "2024-03-08T00:54:23.490048Z",
     "shell.execute_reply": "2024-03-08T00:54:23.489508Z"
    }
   },
   "outputs": [],
   "source": [
    "slip_df = pd.read_csv(\"https://osf.io/mgky2/download\")\n",
    "baseline_df = pd.read_csv(\"https://osf.io/a48ch/download\")\n"
   ]
  },
  {
   "cell_type": "markdown",
   "metadata": {},
   "source": [
    "## Reproducibility\n"
   ]
  },
  {
   "cell_type": "code",
   "execution_count": 3,
   "metadata": {
    "execution": {
     "iopub.execute_input": "2024-03-08T00:54:23.492475Z",
     "iopub.status.busy": "2024-03-08T00:54:23.492066Z",
     "iopub.status.idle": "2024-03-08T00:54:23.510863Z",
     "shell.execute_reply": "2024-03-08T00:54:23.510328Z"
    }
   },
   "outputs": [
    {
     "name": "stdout",
     "output_type": "stream",
     "text": [
      "Last updated: 2024-03-08T00:54:23.498485+00:00\n",
      "\n",
      "Python implementation: CPython\n",
      "Python version       : 3.10.12\n",
      "IPython version      : 8.20.0\n",
      "\n",
      "Compiler    : GCC 11.4.0\n",
      "OS          : Linux\n",
      "Release     : 6.5.0-1015-azure\n",
      "Machine     : x86_64\n",
      "Processor   : x86_64\n",
      "CPU cores   : 4\n",
      "Architecture: 64bit\n",
      "\n",
      "Git hash: 2039b855af78d83787ffe2e5d61daffe654977b5\n",
      "\n",
      "Git branch: HEAD\n",
      "\n",
      "pandas: 1.5.3\n",
      "joblib: 1.3.2\n",
      "\n",
      "Watermark: 2.4.3\n",
      "\n"
     ]
    }
   ],
   "source": [
    "%load_ext watermark\n",
    "%watermark -iwbmuvg -iv\n"
   ]
  },
  {
   "cell_type": "code",
   "execution_count": 4,
   "metadata": {
    "execution": {
     "iopub.execute_input": "2024-03-08T00:54:23.537896Z",
     "iopub.status.busy": "2024-03-08T00:54:23.537572Z",
     "iopub.status.idle": "2024-03-08T00:54:23.543516Z",
     "shell.execute_reply": "2024-03-08T00:54:23.542973Z"
    }
   },
   "outputs": [
    {
     "data": {
      "text/plain": [
       "'898222e7af51ac0b533ce339b8929eff'"
      ]
     },
     "execution_count": 4,
     "metadata": {},
     "output_type": "execute_result"
    }
   ],
   "source": [
    "joblib.hash(slip_df)\n"
   ]
  },
  {
   "cell_type": "code",
   "execution_count": 5,
   "metadata": {
    "execution": {
     "iopub.execute_input": "2024-03-08T00:54:23.545747Z",
     "iopub.status.busy": "2024-03-08T00:54:23.545396Z",
     "iopub.status.idle": "2024-03-08T00:54:23.550994Z",
     "shell.execute_reply": "2024-03-08T00:54:23.550517Z"
    }
   },
   "outputs": [
    {
     "data": {
      "text/plain": [
       "'23be3265dab707e33bc6b859a1c5c4d5'"
      ]
     },
     "execution_count": 5,
     "metadata": {},
     "output_type": "execute_result"
    }
   ],
   "source": [
    "joblib.hash(baseline_df)\n"
   ]
  }
 ],
 "metadata": {
  "kernelspec": {
   "display_name": "Python 3",
   "language": "python",
   "name": "python3"
  },
  "language_info": {
   "codemirror_mode": {
    "name": "ipython",
    "version": 3
   },
   "file_extension": ".py",
   "mimetype": "text/x-python",
   "name": "python",
   "nbconvert_exporter": "python",
   "pygments_lexer": "ipython3",
   "version": "3.10.12"
  }
 },
 "nbformat": 4,
 "nbformat_minor": 4
}
