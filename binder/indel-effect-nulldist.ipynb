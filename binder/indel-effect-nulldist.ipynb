{
 "cells": [
  {
   "cell_type": "code",
   "execution_count": 1,
   "metadata": {
    "execution": {
     "iopub.execute_input": "2025-08-11T20:57:14.102366Z",
     "iopub.status.busy": "2025-08-11T20:57:14.101966Z",
     "iopub.status.idle": "2025-08-11T20:57:15.249540Z",
     "shell.execute_reply": "2025-08-11T20:57:15.248923Z"
    }
   },
   "outputs": [],
   "source": [
    "import requests\n",
    "import os\n",
    "\n",
    "import numpy as np\n",
    "from matplotlib import pyplot as plt\n",
    "import pandas as pd\n",
    "import polars as pl\n",
    "import seaborn as sns\n",
    "from teeplot import teeplot as tp\n",
    "from tqdm import tqdm\n"
   ]
  },
  {
   "cell_type": "code",
   "execution_count": 2,
   "metadata": {
    "execution": {
     "iopub.execute_input": "2025-08-11T20:57:15.251700Z",
     "iopub.status.busy": "2025-08-11T20:57:15.251417Z",
     "iopub.status.idle": "2025-08-11T20:57:15.255554Z",
     "shell.execute_reply": "2025-08-11T20:57:15.255038Z"
    }
   },
   "outputs": [],
   "source": [
    "def scan_parquet(slug: str) -> pl.LazyFrame:\n",
    "    response = requests.get(f\"https://osf.io/{slug}/download\", stream=True)\n",
    "\n",
    "    total_size = int(response.headers.get(\"content-length\", 0))\n",
    "    block_size = 1024\n",
    "\n",
    "    with tqdm(total=total_size, unit=\"B\", unit_scale=True) as progress_bar:\n",
    "        with open(f\"/tmp/{slug}\", \"wb\") as file:\n",
    "            for data in response.iter_content(block_size):\n",
    "                progress_bar.update(len(data))\n",
    "                file.write(data)\n",
    "\n",
    "    return pl.scan_parquet(f\"/tmp/{slug}\")\n"
   ]
  },
  {
   "cell_type": "code",
   "execution_count": 3,
   "metadata": {
    "execution": {
     "iopub.execute_input": "2025-08-11T20:57:15.257137Z",
     "iopub.status.busy": "2025-08-11T20:57:15.256861Z",
     "iopub.status.idle": "2025-08-11T20:57:15.259764Z",
     "shell.execute_reply": "2025-08-11T20:57:15.259246Z"
    }
   },
   "outputs": [],
   "source": [
    "if \"CI\" not in os.environ:\n",
    "    df1 = scan_parquet(\n",
    "        \"musp8\",\n",
    "    ).with_columns(\n",
    "        pl.lit(\"baseline\").alias(\"what\"),\n",
    "    ).filter(\n",
    "        pl.col(\"Treatment\") == \"Slip-duplicate\",\n",
    "    ).collect()\n",
    "    len(df1)\n"
   ]
  },
  {
   "cell_type": "code",
   "execution_count": 4,
   "metadata": {
    "execution": {
     "iopub.execute_input": "2025-08-11T20:57:15.261749Z",
     "iopub.status.busy": "2025-08-11T20:57:15.261303Z",
     "iopub.status.idle": "2025-08-11T20:57:15.264227Z",
     "shell.execute_reply": "2025-08-11T20:57:15.263686Z"
    }
   },
   "outputs": [],
   "source": [
    "if \"CI\" not in os.environ:\n",
    "    df2 = scan_parquet(\n",
    "        \"72d6m\",\n",
    "    ).filter(\n",
    "        pl.col(\"Treatment\") == \"Slip-duplicate\",\n",
    "    ).with_columns(\n",
    "        pl.lit(\"insertions\").alias(\"what\"),\n",
    "    ).collect()\n",
    "    len(df2)\n"
   ]
  },
  {
   "cell_type": "code",
   "execution_count": 5,
   "metadata": {
    "execution": {
     "iopub.execute_input": "2025-08-11T20:57:15.265987Z",
     "iopub.status.busy": "2025-08-11T20:57:15.265530Z",
     "iopub.status.idle": "2025-08-11T20:57:15.268301Z",
     "shell.execute_reply": "2025-08-11T20:57:15.267882Z"
    }
   },
   "outputs": [],
   "source": [
    "if \"CI\" not in os.environ:\n",
    "    df3 = scan_parquet(\n",
    "        \"sudfh\",\n",
    "    ).filter(\n",
    "        pl.col(\"Treatment\") == \"Slip-duplicate\",\n",
    "    ).with_columns(\n",
    "        pl.lit(\"deletions\").alias(\"what\"),\n",
    "    ).collect()\n",
    "    len(df3)\n"
   ]
  },
  {
   "cell_type": "code",
   "execution_count": 6,
   "metadata": {
    "execution": {
     "iopub.execute_input": "2025-08-11T20:57:15.269720Z",
     "iopub.status.busy": "2025-08-11T20:57:15.269573Z",
     "iopub.status.idle": "2025-08-11T20:57:15.272066Z",
     "shell.execute_reply": "2025-08-11T20:57:15.271666Z"
    }
   },
   "outputs": [],
   "source": [
    "if \"CI\" not in os.environ:\n",
    "    df = pl.concat(\n",
    "        [df1.lazy(), df2.lazy(), df3.lazy()],\n",
    "        how=\"vertical_relaxed\",\n",
    "    ).collect()\n"
   ]
  },
  {
   "cell_type": "code",
   "execution_count": 7,
   "metadata": {
    "execution": {
     "iopub.execute_input": "2025-08-11T20:57:15.273450Z",
     "iopub.status.busy": "2025-08-11T20:57:15.273306Z",
     "iopub.status.idle": "2025-08-11T20:57:15.275972Z",
     "shell.execute_reply": "2025-08-11T20:57:15.275585Z"
    }
   },
   "outputs": [],
   "source": [
    "if \"CI\" not in os.environ:\n",
    "    df = df.with_columns(\n",
    "        Components=pl.col(\"Task\").replace_strict(\n",
    "            {\n",
    "                \"AND\": 2,\n",
    "                \"ANDNOT\": 3,\n",
    "                \"NAND\": 1,\n",
    "                \"NOR\": 4,\n",
    "                \"NOT\": 1,\n",
    "                \"OR\": 3,\n",
    "                \"ORNOT\": 2,\n",
    "                \"XOR\": 4,\n",
    "                \"EQUALS\": 5,\n",
    "            },\n",
    "        ),\n",
    "    )\n"
   ]
  },
  {
   "cell_type": "code",
   "execution_count": 8,
   "metadata": {
    "execution": {
     "iopub.execute_input": "2025-08-11T20:57:15.277621Z",
     "iopub.status.busy": "2025-08-11T20:57:15.277224Z",
     "iopub.status.idle": "2025-08-11T20:57:15.280137Z",
     "shell.execute_reply": "2025-08-11T20:57:15.279622Z"
    }
   },
   "outputs": [],
   "source": [
    "if \"CI\" not in os.environ:\n",
    "    df = df.with_columns(\n",
    "        (\n",
    "            pl.col(\"Components\")\n",
    "            * pl.col(\"Has Task\")\n",
    "        ).max().over(\n",
    "            [\"Treatment\", \"Run ID\", \"Generation Born\"],\n",
    "        ).alias(\"max components\"),\n",
    "    )\n"
   ]
  },
  {
   "cell_type": "code",
   "execution_count": 9,
   "metadata": {
    "execution": {
     "iopub.execute_input": "2025-08-11T20:57:15.281692Z",
     "iopub.status.busy": "2025-08-11T20:57:15.281407Z",
     "iopub.status.idle": "2025-08-11T20:57:15.284254Z",
     "shell.execute_reply": "2025-08-11T20:57:15.283745Z"
    }
   },
   "outputs": [],
   "source": [
    "if \"CI\" not in os.environ:\n",
    "    df = df.with_columns(\n",
    "        TaskNumber=pl.col(\"Task\").replace_strict(\n",
    "            dict(map(reversed, enumerate(df[\"Task\"].unique()))),\n",
    "        ),\n",
    "    ).with_columns(\n",
    "        TaskBit=np.left_shift(1, pl.col(\"TaskNumber\")),\n",
    "    )\n"
   ]
  },
  {
   "cell_type": "code",
   "execution_count": 10,
   "metadata": {
    "execution": {
     "iopub.execute_input": "2025-08-11T20:57:15.285864Z",
     "iopub.status.busy": "2025-08-11T20:57:15.285617Z",
     "iopub.status.idle": "2025-08-11T20:57:15.288323Z",
     "shell.execute_reply": "2025-08-11T20:57:15.287765Z"
    }
   },
   "outputs": [],
   "source": [
    "if \"CI\" not in os.environ:\n",
    "    df = df.with_columns(\n",
    "        SetTaskBit=pl.col(\"TaskBit\") * pl.col(\"Has Task\"),\n",
    "    )\n"
   ]
  },
  {
   "cell_type": "code",
   "execution_count": 11,
   "metadata": {
    "execution": {
     "iopub.execute_input": "2025-08-11T20:57:15.290472Z",
     "iopub.status.busy": "2025-08-11T20:57:15.290267Z",
     "iopub.status.idle": "2025-08-11T20:57:15.293495Z",
     "shell.execute_reply": "2025-08-11T20:57:15.293076Z"
    }
   },
   "outputs": [],
   "source": [
    "if \"CI\" not in os.environ:\n",
    "    df = df.with_columns(\n",
    "        pl.col(\"SetTaskBit\").bitwise_or().over(\n",
    "            [\"Treatment\", \"Run ID\", \"Generation Born\", \"what\"],\n",
    "        )\n",
    "        .alias(\"SetTaskBits\"),\n",
    "    )\n"
   ]
  },
  {
   "cell_type": "code",
   "execution_count": 12,
   "metadata": {
    "execution": {
     "iopub.execute_input": "2025-08-11T20:57:15.295138Z",
     "iopub.status.busy": "2025-08-11T20:57:15.294821Z",
     "iopub.status.idle": "2025-08-11T20:57:15.297418Z",
     "shell.execute_reply": "2025-08-11T20:57:15.297031Z"
    }
   },
   "outputs": [],
   "source": [
    "if \"CI\" not in os.environ:\n",
    "    df = df.with_columns(\n",
    "        pl.col(\"Is Task Coding Site\").any().over(\n",
    "            [\"Treatment\", \"Run ID\", \"Generation Born\", \"Site\", \"what\"],\n",
    "        )\n",
    "        .alias(\"is any coding site\"),\n",
    "    )\n"
   ]
  },
  {
   "cell_type": "code",
   "execution_count": 13,
   "metadata": {
    "execution": {
     "iopub.execute_input": "2025-08-11T20:57:15.299031Z",
     "iopub.status.busy": "2025-08-11T20:57:15.298709Z",
     "iopub.status.idle": "2025-08-11T20:57:15.301313Z",
     "shell.execute_reply": "2025-08-11T20:57:15.300877Z"
    }
   },
   "outputs": [],
   "source": [
    "if \"CI\" not in os.environ:\n",
    "    df = df.with_columns(\n",
    "        pl.col(\"Has Task\").sum().over(\n",
    "            [\"Treatment\", \"Run ID\", \"Generation Born\", \"Site\", \"what\"],\n",
    "        )\n",
    "        .alias(\"num tasks has\"),\n",
    "    )\n"
   ]
  },
  {
   "cell_type": "code",
   "execution_count": 14,
   "metadata": {
    "execution": {
     "iopub.execute_input": "2025-08-11T20:57:15.302883Z",
     "iopub.status.busy": "2025-08-11T20:57:15.302628Z",
     "iopub.status.idle": "2025-08-11T20:57:15.305519Z",
     "shell.execute_reply": "2025-08-11T20:57:15.305027Z"
    }
   },
   "outputs": [],
   "source": [
    "if \"CI\" not in os.environ:\n",
    "    assert df.lazy().group_by(\n",
    "        [\"Treatment\", \"Run ID\", \"Generation Born\", \"what\"]\n",
    "    ).agg(\n",
    "        pl.col(\"num tasks has\").n_unique(),\n",
    "    ).select(\"num tasks has\").max().collect().item() == 1\n"
   ]
  },
  {
   "cell_type": "code",
   "execution_count": 15,
   "metadata": {
    "execution": {
     "iopub.execute_input": "2025-08-11T20:57:15.307162Z",
     "iopub.status.busy": "2025-08-11T20:57:15.306893Z",
     "iopub.status.idle": "2025-08-11T20:57:15.309601Z",
     "shell.execute_reply": "2025-08-11T20:57:15.309114Z"
    }
   },
   "outputs": [],
   "source": [
    "if \"CI\" not in os.environ:\n",
    "    df = df.with_columns(\n",
    "        pl.col(\"is any coding site\").sum().over(\n",
    "            [\"Treatment\", \"Run ID\", \"Generation Born\", \"Task\", \"what\"],\n",
    "        ).alias(\"num coding sites\"),\n",
    "    )\n"
   ]
  },
  {
   "cell_type": "code",
   "execution_count": 16,
   "metadata": {
    "execution": {
     "iopub.execute_input": "2025-08-11T20:57:15.311325Z",
     "iopub.status.busy": "2025-08-11T20:57:15.311066Z",
     "iopub.status.idle": "2025-08-11T20:57:18.043528Z",
     "shell.execute_reply": "2025-08-11T20:57:18.042969Z"
    }
   },
   "outputs": [
    {
     "name": "stderr",
     "output_type": "stream",
     "text": [
      "\r",
      "  0%|          | 0.00/219k [00:00<?, ?B/s]"
     ]
    },
    {
     "name": "stderr",
     "output_type": "stream",
     "text": [
      "\r",
      "100%|██████████| 219k/219k [00:00<00:00, 14.4MB/s]"
     ]
    },
    {
     "name": "stderr",
     "output_type": "stream",
     "text": [
      "\n"
     ]
    },
    {
     "data": {
      "text/plain": [
       "['Treatment',\n",
       " 'Run ID',\n",
       " 'Generation Born',\n",
       " 'what',\n",
       " 'Task',\n",
       " 'Genome Length',\n",
       " 'Lineage Generation Index',\n",
       " 'Is Task Coding Site',\n",
       " 'Is Viability Site',\n",
       " 'Site',\n",
       " 'Update Analyzed',\n",
       " 'Has Task',\n",
       " 'Update Born',\n",
       " 'Components',\n",
       " 'max components',\n",
       " 'TaskNumber',\n",
       " 'TaskBit',\n",
       " 'SetTaskBit',\n",
       " 'SetTaskBits',\n",
       " 'is any coding site',\n",
       " 'num tasks has',\n",
       " 'num coding sites']"
      ]
     },
     "execution_count": 16,
     "metadata": {},
     "output_type": "execute_result"
    }
   ],
   "source": [
    "if \"CI\" not in os.environ:\n",
    "    dfx = df.group_by(\n",
    "        [\"Treatment\", \"Run ID\", \"Generation Born\", \"what\"],\n",
    "    ).first()\n",
    "else:\n",
    "    dfx = scan_parquet(\"8xt2p\").collect()\n",
    "dfx.columns\n"
   ]
  },
  {
   "cell_type": "code",
   "execution_count": 17,
   "metadata": {
    "execution": {
     "iopub.execute_input": "2025-08-11T20:57:18.057208Z",
     "iopub.status.busy": "2025-08-11T20:57:18.056962Z",
     "iopub.status.idle": "2025-08-11T20:57:18.063705Z",
     "shell.execute_reply": "2025-08-11T20:57:18.063278Z"
    }
   },
   "outputs": [],
   "source": [
    "dfx.write_parquet(\"/tmp/indel-effect-nulldist.pqt\")\n"
   ]
  },
  {
   "cell_type": "code",
   "execution_count": 18,
   "metadata": {
    "execution": {
     "iopub.execute_input": "2025-08-11T20:57:18.065405Z",
     "iopub.status.busy": "2025-08-11T20:57:18.064987Z",
     "iopub.status.idle": "2025-08-11T20:57:18.076923Z",
     "shell.execute_reply": "2025-08-11T20:57:18.076532Z"
    }
   },
   "outputs": [],
   "source": [
    "df1_ = dfx.filter(pl.col(\"what\") == \"baseline\").sort(\n",
    "    \"Treatment\", \"Run ID\", \"Generation Born\"\n",
    ")\n",
    "df2_ = dfx.filter(pl.col(\"what\") == \"insertions\").sort(\n",
    "    \"Treatment\", \"Run ID\", \"Generation Born\"\n",
    ")\n",
    "df3_ = dfx.filter(pl.col(\"what\") == \"deletions\").sort(\n",
    "    \"Treatment\", \"Run ID\", \"Generation Born\"\n",
    ")\n"
   ]
  },
  {
   "cell_type": "code",
   "execution_count": 19,
   "metadata": {
    "execution": {
     "iopub.execute_input": "2025-08-11T20:57:18.078450Z",
     "iopub.status.busy": "2025-08-11T20:57:18.078283Z",
     "iopub.status.idle": "2025-08-11T20:57:18.081375Z",
     "shell.execute_reply": "2025-08-11T20:57:18.080862Z"
    }
   },
   "outputs": [],
   "source": [
    "delta_ncs_insertion = (\n",
    "    df2_[\"num coding sites\"].to_numpy().astype(np.int64)\n",
    "    - df1_[\"num coding sites\"].to_numpy().astype(np.int64)\n",
    ")\n"
   ]
  },
  {
   "cell_type": "code",
   "execution_count": 20,
   "metadata": {
    "execution": {
     "iopub.execute_input": "2025-08-11T20:57:18.083162Z",
     "iopub.status.busy": "2025-08-11T20:57:18.082757Z",
     "iopub.status.idle": "2025-08-11T20:57:18.085408Z",
     "shell.execute_reply": "2025-08-11T20:57:18.084986Z"
    }
   },
   "outputs": [],
   "source": [
    "delta_ncs_deletion = (\n",
    "    df3_[\"num coding sites\"].to_numpy().astype(np.int64)\n",
    "    - df1_[\"num coding sites\"].to_numpy().astype(np.int64)\n",
    ")\n"
   ]
  },
  {
   "cell_type": "code",
   "execution_count": 21,
   "metadata": {
    "execution": {
     "iopub.execute_input": "2025-08-11T20:57:18.087074Z",
     "iopub.status.busy": "2025-08-11T20:57:18.086733Z",
     "iopub.status.idle": "2025-08-11T20:57:18.089283Z",
     "shell.execute_reply": "2025-08-11T20:57:18.088891Z"
    }
   },
   "outputs": [],
   "source": [
    "delta_nth_insertion = (\n",
    "    df2_[\"num tasks has\"].to_numpy().astype(np.int64)\n",
    "    - df1_[\"num tasks has\"].to_numpy().astype(np.int64)\n",
    ")\n"
   ]
  },
  {
   "cell_type": "code",
   "execution_count": 22,
   "metadata": {
    "execution": {
     "iopub.execute_input": "2025-08-11T20:57:18.090869Z",
     "iopub.status.busy": "2025-08-11T20:57:18.090558Z",
     "iopub.status.idle": "2025-08-11T20:57:18.093210Z",
     "shell.execute_reply": "2025-08-11T20:57:18.092781Z"
    }
   },
   "outputs": [],
   "source": [
    "delta_nth_deletion = (\n",
    "    df3_[\"num tasks has\"].to_numpy().astype(np.int64)\n",
    "    - df1_[\"num tasks has\"].to_numpy().astype(np.int64)\n",
    ")\n"
   ]
  },
  {
   "cell_type": "code",
   "execution_count": 23,
   "metadata": {
    "execution": {
     "iopub.execute_input": "2025-08-11T20:57:18.094861Z",
     "iopub.status.busy": "2025-08-11T20:57:18.094549Z",
     "iopub.status.idle": "2025-08-11T20:57:18.097283Z",
     "shell.execute_reply": "2025-08-11T20:57:18.096767Z"
    }
   },
   "outputs": [],
   "source": [
    "delta_tasks_insertion = (\n",
    "    df2_[\"SetTaskBits\"].to_numpy().astype(np.int64)\n",
    "    != df1_[\"SetTaskBits\"].to_numpy().astype(np.int64)\n",
    ")\n"
   ]
  },
  {
   "cell_type": "code",
   "execution_count": 24,
   "metadata": {
    "execution": {
     "iopub.execute_input": "2025-08-11T20:57:18.098810Z",
     "iopub.status.busy": "2025-08-11T20:57:18.098555Z",
     "iopub.status.idle": "2025-08-11T20:57:18.101273Z",
     "shell.execute_reply": "2025-08-11T20:57:18.100850Z"
    }
   },
   "outputs": [],
   "source": [
    "delta_tasks_deletion = (\n",
    "    df3_[\"SetTaskBits\"].to_numpy().astype(np.int64)\n",
    "    != df1_[\"SetTaskBits\"].to_numpy().astype(np.int64)\n",
    ")\n"
   ]
  },
  {
   "cell_type": "code",
   "execution_count": 25,
   "metadata": {
    "execution": {
     "iopub.execute_input": "2025-08-11T20:57:18.102975Z",
     "iopub.status.busy": "2025-08-11T20:57:18.102586Z",
     "iopub.status.idle": "2025-08-11T20:57:18.105491Z",
     "shell.execute_reply": "2025-08-11T20:57:18.104981Z"
    }
   },
   "outputs": [],
   "source": [
    "gained_task_insertion = (\n",
    "    df2_[\"SetTaskBits\"].to_numpy().astype(np.int64)\n",
    "    & np.invert(df1_[\"SetTaskBits\"].to_numpy().astype(np.int64))\n",
    ").astype(bool)\n"
   ]
  },
  {
   "cell_type": "code",
   "execution_count": 26,
   "metadata": {
    "execution": {
     "iopub.execute_input": "2025-08-11T20:57:18.107246Z",
     "iopub.status.busy": "2025-08-11T20:57:18.106826Z",
     "iopub.status.idle": "2025-08-11T20:57:18.109665Z",
     "shell.execute_reply": "2025-08-11T20:57:18.109138Z"
    }
   },
   "outputs": [],
   "source": [
    "gained_task_deletion = (\n",
    "    df3_[\"SetTaskBits\"].to_numpy().astype(np.int64)\n",
    "    & np.invert(df1_[\"SetTaskBits\"].to_numpy().astype(np.int64))\n",
    ").astype(bool)\n"
   ]
  },
  {
   "cell_type": "code",
   "execution_count": 27,
   "metadata": {
    "execution": {
     "iopub.execute_input": "2025-08-11T20:57:18.111440Z",
     "iopub.status.busy": "2025-08-11T20:57:18.111000Z",
     "iopub.status.idle": "2025-08-11T20:57:18.113758Z",
     "shell.execute_reply": "2025-08-11T20:57:18.113366Z"
    }
   },
   "outputs": [],
   "source": [
    "lost_task_insertion = (\n",
    "    np.invert(df2_[\"SetTaskBits\"].to_numpy().astype(np.int64))\n",
    "    & df1_[\"SetTaskBits\"].to_numpy().astype(np.int64)\n",
    ").astype(bool)\n"
   ]
  },
  {
   "cell_type": "code",
   "execution_count": 28,
   "metadata": {
    "execution": {
     "iopub.execute_input": "2025-08-11T20:57:18.115211Z",
     "iopub.status.busy": "2025-08-11T20:57:18.115066Z",
     "iopub.status.idle": "2025-08-11T20:57:18.117749Z",
     "shell.execute_reply": "2025-08-11T20:57:18.117331Z"
    }
   },
   "outputs": [],
   "source": [
    "lost_task_deletion = (\n",
    "    np.invert(df3_[\"SetTaskBits\"].to_numpy().astype(np.int64))\n",
    "    & df1_[\"SetTaskBits\"].to_numpy().astype(np.int64)\n",
    ").astype(bool)\n"
   ]
  },
  {
   "cell_type": "code",
   "execution_count": 29,
   "metadata": {
    "execution": {
     "iopub.execute_input": "2025-08-11T20:57:18.119156Z",
     "iopub.status.busy": "2025-08-11T20:57:18.118989Z",
     "iopub.status.idle": "2025-08-11T20:57:18.121428Z",
     "shell.execute_reply": "2025-08-11T20:57:18.121028Z"
    }
   },
   "outputs": [],
   "source": [
    "fitness_effect_lookup = {\n",
    "    -1: \"deleterious\",\n",
    "    0: \"neutral\",\n",
    "    1: \"beneficial\",\n",
    "}\n"
   ]
  },
  {
   "cell_type": "code",
   "execution_count": 30,
   "metadata": {
    "execution": {
     "iopub.execute_input": "2025-08-11T20:57:18.122838Z",
     "iopub.status.busy": "2025-08-11T20:57:18.122692Z",
     "iopub.status.idle": "2025-08-11T20:57:18.126866Z",
     "shell.execute_reply": "2025-08-11T20:57:18.126357Z"
    }
   },
   "outputs": [],
   "source": [
    "fitness_effect_insertion = np.vectorize(fitness_effect_lookup.__getitem__)(\n",
    "    np.sign(2 * gained_task_insertion - lost_task_insertion),\n",
    ")\n"
   ]
  },
  {
   "cell_type": "code",
   "execution_count": 31,
   "metadata": {
    "execution": {
     "iopub.execute_input": "2025-08-11T20:57:18.128729Z",
     "iopub.status.busy": "2025-08-11T20:57:18.128262Z",
     "iopub.status.idle": "2025-08-11T20:57:18.132549Z",
     "shell.execute_reply": "2025-08-11T20:57:18.132035Z"
    }
   },
   "outputs": [],
   "source": [
    "fitness_effect_deletion = np.vectorize(fitness_effect_lookup.__getitem__)(\n",
    "    np.sign(2 * gained_task_insertion - lost_task_insertion),\n",
    ")\n"
   ]
  },
  {
   "cell_type": "code",
   "execution_count": 32,
   "metadata": {
    "execution": {
     "iopub.execute_input": "2025-08-11T20:57:18.134315Z",
     "iopub.status.busy": "2025-08-11T20:57:18.133881Z",
     "iopub.status.idle": "2025-08-11T20:57:18.144851Z",
     "shell.execute_reply": "2025-08-11T20:57:18.144428Z"
    }
   },
   "outputs": [
    {
     "data": {
      "text/html": [
       "<div><style>\n",
       ".dataframe > thead > tr,\n",
       ".dataframe > tbody > tr {\n",
       "  text-align: right;\n",
       "  white-space: pre-wrap;\n",
       "}\n",
       "</style>\n",
       "<small>shape: (7_403, 14)</small><table border=\"1\" class=\"dataframe\"><thead><tr><th>Treatment</th><th>Run ID</th><th>Generation Born</th><th>what</th><th>delta num coding sites</th><th>delta num tasks has</th><th>num tasks has</th><th>num coding sites</th><th>delta tasks</th><th>gained task</th><th>lost task</th><th>max components</th><th>fitness effect</th><th>delta frac coding sites</th></tr><tr><td>str</td><td>str</td><td>i64</td><td>str</td><td>i64</td><td>i64</td><td>u32</td><td>u32</td><td>bool</td><td>bool</td><td>bool</td><td>i64</td><td>str</td><td>f64</td></tr></thead><tbody><tr><td>&quot;Slip-duplicate&quot;</td><td>&quot;run_1590&quot;</td><td>0</td><td>&quot;insertion&quot;</td><td>0</td><td>0</td><td>0</td><td>0</td><td>false</td><td>false</td><td>false</td><td>0</td><td>&quot;neutral&quot;</td><td>NaN</td></tr><tr><td>&quot;Slip-duplicate&quot;</td><td>&quot;run_1590&quot;</td><td>12</td><td>&quot;insertion&quot;</td><td>0</td><td>0</td><td>0</td><td>0</td><td>false</td><td>false</td><td>false</td><td>0</td><td>&quot;neutral&quot;</td><td>NaN</td></tr><tr><td>&quot;Slip-duplicate&quot;</td><td>&quot;run_1590&quot;</td><td>18</td><td>&quot;insertion&quot;</td><td>0</td><td>0</td><td>0</td><td>0</td><td>false</td><td>false</td><td>false</td><td>0</td><td>&quot;neutral&quot;</td><td>NaN</td></tr><tr><td>&quot;Slip-duplicate&quot;</td><td>&quot;run_1590&quot;</td><td>28</td><td>&quot;insertion&quot;</td><td>0</td><td>0</td><td>0</td><td>0</td><td>false</td><td>false</td><td>false</td><td>0</td><td>&quot;neutral&quot;</td><td>NaN</td></tr><tr><td>&quot;Slip-duplicate&quot;</td><td>&quot;run_1590&quot;</td><td>34</td><td>&quot;insertion&quot;</td><td>0</td><td>0</td><td>0</td><td>0</td><td>false</td><td>false</td><td>false</td><td>0</td><td>&quot;neutral&quot;</td><td>NaN</td></tr><tr><td>&hellip;</td><td>&hellip;</td><td>&hellip;</td><td>&hellip;</td><td>&hellip;</td><td>&hellip;</td><td>&hellip;</td><td>&hellip;</td><td>&hellip;</td><td>&hellip;</td><td>&hellip;</td><td>&hellip;</td><td>&hellip;</td><td>&hellip;</td></tr><tr><td>&quot;Slip-duplicate&quot;</td><td>&quot;run_1619&quot;</td><td>1674</td><td>&quot;insertion&quot;</td><td>-5</td><td>-1</td><td>9</td><td>82</td><td>true</td><td>false</td><td>false</td><td>5</td><td>&quot;deleterious&quot;</td><td>-0.060976</td></tr><tr><td>&quot;Slip-duplicate&quot;</td><td>&quot;run_1619&quot;</td><td>1680</td><td>&quot;insertion&quot;</td><td>-79</td><td>-9</td><td>9</td><td>83</td><td>true</td><td>false</td><td>false</td><td>5</td><td>&quot;deleterious&quot;</td><td>-0.951807</td></tr><tr><td>&quot;Slip-duplicate&quot;</td><td>&quot;run_1619&quot;</td><td>1685</td><td>&quot;insertion&quot;</td><td>-79</td><td>-9</td><td>9</td><td>83</td><td>true</td><td>false</td><td>false</td><td>5</td><td>&quot;deleterious&quot;</td><td>-0.951807</td></tr><tr><td>&quot;Slip-duplicate&quot;</td><td>&quot;run_1619&quot;</td><td>1686</td><td>&quot;insertion&quot;</td><td>-83</td><td>-9</td><td>9</td><td>83</td><td>true</td><td>false</td><td>false</td><td>5</td><td>&quot;deleterious&quot;</td><td>-1.0</td></tr><tr><td>&quot;Slip-duplicate&quot;</td><td>&quot;run_1619&quot;</td><td>1688</td><td>&quot;insertion&quot;</td><td>-78</td><td>-9</td><td>9</td><td>83</td><td>true</td><td>false</td><td>false</td><td>5</td><td>&quot;deleterious&quot;</td><td>-0.939759</td></tr></tbody></table></div>"
      ],
      "text/plain": [
       "shape: (7_403, 14)\n",
       "┌───────────┬──────────┬───────────┬───────────┬───┬───────────┬───────────┬───────────┬───────────┐\n",
       "│ Treatment ┆ Run ID   ┆ Generatio ┆ what      ┆ … ┆ lost task ┆ max compo ┆ fitness   ┆ delta     │\n",
       "│ ---       ┆ ---      ┆ n Born    ┆ ---       ┆   ┆ ---       ┆ nents     ┆ effect    ┆ frac      │\n",
       "│ str       ┆ str      ┆ ---       ┆ str       ┆   ┆ bool      ┆ ---       ┆ ---       ┆ coding    │\n",
       "│           ┆          ┆ i64       ┆           ┆   ┆           ┆ i64       ┆ str       ┆ sites     │\n",
       "│           ┆          ┆           ┆           ┆   ┆           ┆           ┆           ┆ ---       │\n",
       "│           ┆          ┆           ┆           ┆   ┆           ┆           ┆           ┆ f64       │\n",
       "╞═══════════╪══════════╪═══════════╪═══════════╪═══╪═══════════╪═══════════╪═══════════╪═══════════╡\n",
       "│ Slip-dupl ┆ run_1590 ┆ 0         ┆ insertion ┆ … ┆ false     ┆ 0         ┆ neutral   ┆ NaN       │\n",
       "│ icate     ┆          ┆           ┆           ┆   ┆           ┆           ┆           ┆           │\n",
       "│ Slip-dupl ┆ run_1590 ┆ 12        ┆ insertion ┆ … ┆ false     ┆ 0         ┆ neutral   ┆ NaN       │\n",
       "│ icate     ┆          ┆           ┆           ┆   ┆           ┆           ┆           ┆           │\n",
       "│ Slip-dupl ┆ run_1590 ┆ 18        ┆ insertion ┆ … ┆ false     ┆ 0         ┆ neutral   ┆ NaN       │\n",
       "│ icate     ┆          ┆           ┆           ┆   ┆           ┆           ┆           ┆           │\n",
       "│ Slip-dupl ┆ run_1590 ┆ 28        ┆ insertion ┆ … ┆ false     ┆ 0         ┆ neutral   ┆ NaN       │\n",
       "│ icate     ┆          ┆           ┆           ┆   ┆           ┆           ┆           ┆           │\n",
       "│ Slip-dupl ┆ run_1590 ┆ 34        ┆ insertion ┆ … ┆ false     ┆ 0         ┆ neutral   ┆ NaN       │\n",
       "│ icate     ┆          ┆           ┆           ┆   ┆           ┆           ┆           ┆           │\n",
       "│ …         ┆ …        ┆ …         ┆ …         ┆ … ┆ …         ┆ …         ┆ …         ┆ …         │\n",
       "│ Slip-dupl ┆ run_1619 ┆ 1674      ┆ insertion ┆ … ┆ false     ┆ 5         ┆ deleterio ┆ -0.060976 │\n",
       "│ icate     ┆          ┆           ┆           ┆   ┆           ┆           ┆ us        ┆           │\n",
       "│ Slip-dupl ┆ run_1619 ┆ 1680      ┆ insertion ┆ … ┆ false     ┆ 5         ┆ deleterio ┆ -0.951807 │\n",
       "│ icate     ┆          ┆           ┆           ┆   ┆           ┆           ┆ us        ┆           │\n",
       "│ Slip-dupl ┆ run_1619 ┆ 1685      ┆ insertion ┆ … ┆ false     ┆ 5         ┆ deleterio ┆ -0.951807 │\n",
       "│ icate     ┆          ┆           ┆           ┆   ┆           ┆           ┆ us        ┆           │\n",
       "│ Slip-dupl ┆ run_1619 ┆ 1686      ┆ insertion ┆ … ┆ false     ┆ 5         ┆ deleterio ┆ -1.0      │\n",
       "│ icate     ┆          ┆           ┆           ┆   ┆           ┆           ┆ us        ┆           │\n",
       "│ Slip-dupl ┆ run_1619 ┆ 1688      ┆ insertion ┆ … ┆ false     ┆ 5         ┆ deleterio ┆ -0.939759 │\n",
       "│ icate     ┆          ┆           ┆           ┆   ┆           ┆           ┆ us        ┆           │\n",
       "└───────────┴──────────┴───────────┴───────────┴───┴───────────┴───────────┴───────────┴───────────┘"
      ]
     },
     "execution_count": 32,
     "metadata": {},
     "output_type": "execute_result"
    }
   ],
   "source": [
    "dfz = pl.concat(\n",
    "    [\n",
    "        pl.DataFrame(\n",
    "            {\n",
    "                \"Treatment\": df1_[\"Treatment\"],\n",
    "                \"Run ID\": df1_[\"Run ID\"],\n",
    "                \"Generation Born\": df1_[\"Generation Born\"],\n",
    "                \"what\": \"insertion\",\n",
    "                \"delta num coding sites\": delta_ncs_insertion,\n",
    "                \"delta num tasks has\": delta_nth_insertion,\n",
    "                \"num tasks has\": df1_[\"num tasks has\"],\n",
    "                \"num coding sites\": df1_[\"num coding sites\"],\n",
    "                \"delta tasks\": delta_tasks_insertion,\n",
    "                \"gained task\": gained_task_insertion,\n",
    "                \"lost task\": gained_task_insertion,\n",
    "                \"max components\": df1_[\"max components\"],\n",
    "                \"fitness effect\": fitness_effect_insertion,\n",
    "            },\n",
    "        ),\n",
    "        # disable deletion outputs, as they are not of interest\n",
    "        # pl.DataFrame(\n",
    "        #     {\n",
    "        #         \"Treatment\": df1_[\"Treatment\"],\n",
    "        #         \"Run ID\": df1_[\"Run ID\"],\n",
    "        #         \"Generation Born\": df1_[\"Generation Born\"],\n",
    "        #         \"what\": \"deletion\",\n",
    "        #         \"delta num coding sites\": delta_ncs_deletion,\n",
    "        #         \"delta num tasks has\": delta_nth_deletion,\n",
    "        #         \"num tasks has\": df1_[\"num tasks has\"],\n",
    "        #         \"num coding sites\": df1_[\"num coding sites\"],\n",
    "        #         \"delta tasks\": delta_tasks_deletion,\n",
    "        #         \"gained task\": gained_task_deletion,\n",
    "        #         \"lost task\": lost_task_deletion,\n",
    "        #         \"max components\": df1_[\"max components\"],\n",
    "        #         \"fitness effect\": fitness_effect_deletion,\n",
    "        #     },\n",
    "        # ),\n",
    "    ],\n",
    ")\n",
    "\n",
    "dfz = dfz.with_columns(\n",
    "    (\n",
    "        dfz[\"delta num coding sites\"] / (\n",
    "            dfz[\"num coding sites\"]\n",
    "        )\n",
    "    ).alias(\"delta frac coding sites\")\n",
    ")\n",
    "dfz\n"
   ]
  },
  {
   "cell_type": "code",
   "execution_count": 33,
   "metadata": {
    "execution": {
     "iopub.execute_input": "2025-08-11T20:57:18.146274Z",
     "iopub.status.busy": "2025-08-11T20:57:18.146125Z",
     "iopub.status.idle": "2025-08-11T20:57:18.160809Z",
     "shell.execute_reply": "2025-08-11T20:57:18.160273Z"
    }
   },
   "outputs": [
    {
     "data": {
      "text/html": [
       "<div>\n",
       "<style scoped>\n",
       "    .dataframe tbody tr th:only-of-type {\n",
       "        vertical-align: middle;\n",
       "    }\n",
       "\n",
       "    .dataframe tbody tr th {\n",
       "        vertical-align: top;\n",
       "    }\n",
       "\n",
       "    .dataframe thead th {\n",
       "        text-align: right;\n",
       "    }\n",
       "</style>\n",
       "<table border=\"1\" class=\"dataframe\">\n",
       "  <thead>\n",
       "    <tr style=\"text-align: right;\">\n",
       "      <th></th>\n",
       "      <th>Treatment</th>\n",
       "      <th>Run ID</th>\n",
       "      <th>Generation Born</th>\n",
       "      <th>what</th>\n",
       "      <th>delta num coding sites</th>\n",
       "      <th>delta num tasks has</th>\n",
       "      <th>num tasks has</th>\n",
       "      <th>num coding sites</th>\n",
       "      <th>delta tasks</th>\n",
       "      <th>gained task</th>\n",
       "      <th>lost task</th>\n",
       "      <th>max components</th>\n",
       "      <th>fitness effect</th>\n",
       "      <th>delta frac coding sites</th>\n",
       "    </tr>\n",
       "  </thead>\n",
       "  <tbody>\n",
       "    <tr>\n",
       "      <th>0</th>\n",
       "      <td>Slip-duplicate</td>\n",
       "      <td>run_1590</td>\n",
       "      <td>0</td>\n",
       "      <td>insertion</td>\n",
       "      <td>0</td>\n",
       "      <td>0</td>\n",
       "      <td>0</td>\n",
       "      <td>0</td>\n",
       "      <td>False</td>\n",
       "      <td>False</td>\n",
       "      <td>False</td>\n",
       "      <td>0</td>\n",
       "      <td>neutral</td>\n",
       "      <td>NaN</td>\n",
       "    </tr>\n",
       "    <tr>\n",
       "      <th>1</th>\n",
       "      <td>Slip-duplicate</td>\n",
       "      <td>run_1590</td>\n",
       "      <td>12</td>\n",
       "      <td>insertion</td>\n",
       "      <td>0</td>\n",
       "      <td>0</td>\n",
       "      <td>0</td>\n",
       "      <td>0</td>\n",
       "      <td>False</td>\n",
       "      <td>False</td>\n",
       "      <td>False</td>\n",
       "      <td>0</td>\n",
       "      <td>neutral</td>\n",
       "      <td>NaN</td>\n",
       "    </tr>\n",
       "    <tr>\n",
       "      <th>2</th>\n",
       "      <td>Slip-duplicate</td>\n",
       "      <td>run_1590</td>\n",
       "      <td>18</td>\n",
       "      <td>insertion</td>\n",
       "      <td>0</td>\n",
       "      <td>0</td>\n",
       "      <td>0</td>\n",
       "      <td>0</td>\n",
       "      <td>False</td>\n",
       "      <td>False</td>\n",
       "      <td>False</td>\n",
       "      <td>0</td>\n",
       "      <td>neutral</td>\n",
       "      <td>NaN</td>\n",
       "    </tr>\n",
       "    <tr>\n",
       "      <th>3</th>\n",
       "      <td>Slip-duplicate</td>\n",
       "      <td>run_1590</td>\n",
       "      <td>28</td>\n",
       "      <td>insertion</td>\n",
       "      <td>0</td>\n",
       "      <td>0</td>\n",
       "      <td>0</td>\n",
       "      <td>0</td>\n",
       "      <td>False</td>\n",
       "      <td>False</td>\n",
       "      <td>False</td>\n",
       "      <td>0</td>\n",
       "      <td>neutral</td>\n",
       "      <td>NaN</td>\n",
       "    </tr>\n",
       "    <tr>\n",
       "      <th>4</th>\n",
       "      <td>Slip-duplicate</td>\n",
       "      <td>run_1590</td>\n",
       "      <td>34</td>\n",
       "      <td>insertion</td>\n",
       "      <td>0</td>\n",
       "      <td>0</td>\n",
       "      <td>0</td>\n",
       "      <td>0</td>\n",
       "      <td>False</td>\n",
       "      <td>False</td>\n",
       "      <td>False</td>\n",
       "      <td>0</td>\n",
       "      <td>neutral</td>\n",
       "      <td>NaN</td>\n",
       "    </tr>\n",
       "    <tr>\n",
       "      <th>...</th>\n",
       "      <td>...</td>\n",
       "      <td>...</td>\n",
       "      <td>...</td>\n",
       "      <td>...</td>\n",
       "      <td>...</td>\n",
       "      <td>...</td>\n",
       "      <td>...</td>\n",
       "      <td>...</td>\n",
       "      <td>...</td>\n",
       "      <td>...</td>\n",
       "      <td>...</td>\n",
       "      <td>...</td>\n",
       "      <td>...</td>\n",
       "      <td>...</td>\n",
       "    </tr>\n",
       "    <tr>\n",
       "      <th>7398</th>\n",
       "      <td>Slip-duplicate</td>\n",
       "      <td>run_1619</td>\n",
       "      <td>1674</td>\n",
       "      <td>insertion</td>\n",
       "      <td>-5</td>\n",
       "      <td>-1</td>\n",
       "      <td>9</td>\n",
       "      <td>82</td>\n",
       "      <td>True</td>\n",
       "      <td>False</td>\n",
       "      <td>False</td>\n",
       "      <td>5</td>\n",
       "      <td>deleterious</td>\n",
       "      <td>-0.060976</td>\n",
       "    </tr>\n",
       "    <tr>\n",
       "      <th>7399</th>\n",
       "      <td>Slip-duplicate</td>\n",
       "      <td>run_1619</td>\n",
       "      <td>1680</td>\n",
       "      <td>insertion</td>\n",
       "      <td>-79</td>\n",
       "      <td>-9</td>\n",
       "      <td>9</td>\n",
       "      <td>83</td>\n",
       "      <td>True</td>\n",
       "      <td>False</td>\n",
       "      <td>False</td>\n",
       "      <td>5</td>\n",
       "      <td>deleterious</td>\n",
       "      <td>-0.951807</td>\n",
       "    </tr>\n",
       "    <tr>\n",
       "      <th>7400</th>\n",
       "      <td>Slip-duplicate</td>\n",
       "      <td>run_1619</td>\n",
       "      <td>1685</td>\n",
       "      <td>insertion</td>\n",
       "      <td>-79</td>\n",
       "      <td>-9</td>\n",
       "      <td>9</td>\n",
       "      <td>83</td>\n",
       "      <td>True</td>\n",
       "      <td>False</td>\n",
       "      <td>False</td>\n",
       "      <td>5</td>\n",
       "      <td>deleterious</td>\n",
       "      <td>-0.951807</td>\n",
       "    </tr>\n",
       "    <tr>\n",
       "      <th>7401</th>\n",
       "      <td>Slip-duplicate</td>\n",
       "      <td>run_1619</td>\n",
       "      <td>1686</td>\n",
       "      <td>insertion</td>\n",
       "      <td>-83</td>\n",
       "      <td>-9</td>\n",
       "      <td>9</td>\n",
       "      <td>83</td>\n",
       "      <td>True</td>\n",
       "      <td>False</td>\n",
       "      <td>False</td>\n",
       "      <td>5</td>\n",
       "      <td>deleterious</td>\n",
       "      <td>-1.000000</td>\n",
       "    </tr>\n",
       "    <tr>\n",
       "      <th>7402</th>\n",
       "      <td>Slip-duplicate</td>\n",
       "      <td>run_1619</td>\n",
       "      <td>1688</td>\n",
       "      <td>insertion</td>\n",
       "      <td>-78</td>\n",
       "      <td>-9</td>\n",
       "      <td>9</td>\n",
       "      <td>83</td>\n",
       "      <td>True</td>\n",
       "      <td>False</td>\n",
       "      <td>False</td>\n",
       "      <td>5</td>\n",
       "      <td>deleterious</td>\n",
       "      <td>-0.939759</td>\n",
       "    </tr>\n",
       "  </tbody>\n",
       "</table>\n",
       "<p>7403 rows × 14 columns</p>\n",
       "</div>"
      ],
      "text/plain": [
       "           Treatment    Run ID  Generation Born       what  \\\n",
       "0     Slip-duplicate  run_1590                0  insertion   \n",
       "1     Slip-duplicate  run_1590               12  insertion   \n",
       "2     Slip-duplicate  run_1590               18  insertion   \n",
       "3     Slip-duplicate  run_1590               28  insertion   \n",
       "4     Slip-duplicate  run_1590               34  insertion   \n",
       "...              ...       ...              ...        ...   \n",
       "7398  Slip-duplicate  run_1619             1674  insertion   \n",
       "7399  Slip-duplicate  run_1619             1680  insertion   \n",
       "7400  Slip-duplicate  run_1619             1685  insertion   \n",
       "7401  Slip-duplicate  run_1619             1686  insertion   \n",
       "7402  Slip-duplicate  run_1619             1688  insertion   \n",
       "\n",
       "      delta num coding sites  delta num tasks has  num tasks has  \\\n",
       "0                          0                    0              0   \n",
       "1                          0                    0              0   \n",
       "2                          0                    0              0   \n",
       "3                          0                    0              0   \n",
       "4                          0                    0              0   \n",
       "...                      ...                  ...            ...   \n",
       "7398                      -5                   -1              9   \n",
       "7399                     -79                   -9              9   \n",
       "7400                     -79                   -9              9   \n",
       "7401                     -83                   -9              9   \n",
       "7402                     -78                   -9              9   \n",
       "\n",
       "      num coding sites  delta tasks  gained task  lost task  max components  \\\n",
       "0                    0        False        False      False               0   \n",
       "1                    0        False        False      False               0   \n",
       "2                    0        False        False      False               0   \n",
       "3                    0        False        False      False               0   \n",
       "4                    0        False        False      False               0   \n",
       "...                ...          ...          ...        ...             ...   \n",
       "7398                82         True        False      False               5   \n",
       "7399                83         True        False      False               5   \n",
       "7400                83         True        False      False               5   \n",
       "7401                83         True        False      False               5   \n",
       "7402                83         True        False      False               5   \n",
       "\n",
       "     fitness effect  delta frac coding sites  \n",
       "0           neutral                      NaN  \n",
       "1           neutral                      NaN  \n",
       "2           neutral                      NaN  \n",
       "3           neutral                      NaN  \n",
       "4           neutral                      NaN  \n",
       "...             ...                      ...  \n",
       "7398    deleterious                -0.060976  \n",
       "7399    deleterious                -0.951807  \n",
       "7400    deleterious                -0.951807  \n",
       "7401    deleterious                -1.000000  \n",
       "7402    deleterious                -0.939759  \n",
       "\n",
       "[7403 rows x 14 columns]"
      ]
     },
     "execution_count": 33,
     "metadata": {},
     "output_type": "execute_result"
    }
   ],
   "source": [
    "dfz.to_pandas()\n"
   ]
  },
  {
   "cell_type": "code",
   "execution_count": 34,
   "metadata": {
    "execution": {
     "iopub.execute_input": "2025-08-11T20:57:18.162522Z",
     "iopub.status.busy": "2025-08-11T20:57:18.162196Z",
     "iopub.status.idle": "2025-08-11T20:57:18.653293Z",
     "shell.execute_reply": "2025-08-11T20:57:18.652823Z"
    }
   },
   "outputs": [
    {
     "data": {
      "image/png": "[encoded data removed]",
      "text/plain": [
       "<Figure size 511.111x500 with 1 Axes>"
      ]
     },
     "metadata": {},
     "output_type": "display_data"
    },
    {
     "data": {
      "image/png": "[encoded data removed]",
      "text/plain": [
       "<Figure size 511.111x500 with 1 Axes>"
      ]
     },
     "metadata": {},
     "output_type": "display_data"
    }
   ],
   "source": [
    "for kind in \"bar\", \"violin\":\n",
    "    saveit, g = tp.tee(\n",
    "        sns.catplot,\n",
    "        data=dfz.to_pandas(),\n",
    "        col=\"what\",\n",
    "        y=\"delta num coding sites\",\n",
    "        kind=kind,\n",
    "        teeplot_callback=True,\n",
    "    )\n",
    "    for ax in g.axes.flat:\n",
    "        ax.axhline(0, color=\"black\", linewidth=1)\n"
   ]
  },
  {
   "cell_type": "code",
   "execution_count": 35,
   "metadata": {
    "execution": {
     "iopub.execute_input": "2025-08-11T20:57:18.655267Z",
     "iopub.status.busy": "2025-08-11T20:57:18.654824Z",
     "iopub.status.idle": "2025-08-11T20:57:31.067033Z",
     "shell.execute_reply": "2025-08-11T20:57:31.066475Z"
    }
   },
   "outputs": [
    {
     "name": "stdout",
     "output_type": "stream",
     "text": [
      "(np.float64(-7.292023205221175), np.float64(-6.424631375392797))\n",
      "(np.float64(0.9657258064516131), np.float64(7.903225806451613))\n",
      "(np.float64(-52.83549469413233), np.float64(-50.17860486891386))\n",
      "teeplots/col=what+hue=fitness-effect+kind=bar+palette=pastel+viz=catplot+x=fitness-effect+y=delta-num-coding-sites+ext=.pdf\n",
      "teeplots/col=what+hue=fitness-effect+kind=bar+palette=pastel+viz=catplot+x=fitness-effect+y=delta-num-coding-sites+ext=.png\n"
     ]
    },
    {
     "data": {
      "image/png": "[encoded data removed]",
      "text/plain": [
       "<Figure size 270x300 with 1 Axes>"
      ]
     },
     "metadata": {},
     "output_type": "display_data"
    },
    {
     "name": "stdout",
     "output_type": "stream",
     "text": [
      "(np.float64(-27.0), np.float64(16.0))\n",
      "(np.float64(-11.0), np.float64(0.0))\n",
      "(np.float64(-1.0), np.float64(-1.0))\n",
      "(np.float64(-16.0), np.float64(28.0))\n",
      "(np.float64(0.25), np.float64(12.0))\n",
      "(np.float64(7.0), np.float64(7.0))\n",
      "(np.float64(-157.0), np.float64(58.0))\n",
      "(np.float64(-78.0), np.float64(-17.0))\n",
      "(np.float64(-53.0), np.float64(-53.0))\n",
      "teeplots/col=what+hue=fitness-effect+kind=violin+palette=pastel+viz=catplot+x=fitness-effect+y=delta-num-coding-sites+ext=.pdf\n",
      "teeplots/col=what+hue=fitness-effect+kind=violin+palette=pastel+viz=catplot+x=fitness-effect+y=delta-num-coding-sites+ext=.png\n"
     ]
    },
    {
     "data": {
      "image/png": "[encoded data removed]",
      "text/plain": [
       "<Figure size 270x300 with 1 Axes>"
      ]
     },
     "metadata": {},
     "output_type": "display_data"
    },
    {
     "name": "stdout",
     "output_type": "stream",
     "text": [
      "(np.float64(-7.318262025622432), np.float64(-6.3819011360889535))\n",
      "(np.float64(1.1443548387096776), np.float64(7.85524193548387))\n",
      "(np.float64(-52.82183208489388), np.float64(-50.17780898876405))\n",
      "teeplots/col=what+hue=fitness-effect+kind=bar+palette=pastel+textlabels=True+viz=catplot+x=fitness-effect+y=delta-num-coding-sites+ext=.pdf\n",
      "teeplots/col=what+hue=fitness-effect+kind=bar+palette=pastel+textlabels=True+viz=catplot+x=fitness-effect+y=delta-num-coding-sites+ext=.png\n"
     ]
    },
    {
     "data": {
      "image/png": "[encoded data removed]",
      "text/plain": [
       "<Figure size 270x300 with 1 Axes>"
      ]
     },
     "metadata": {},
     "output_type": "display_data"
    },
    {
     "name": "stdout",
     "output_type": "stream",
     "text": [
      "(np.float64(-27.0), np.float64(16.0))\n",
      "(np.float64(-11.0), np.float64(0.0))\n",
      "(np.float64(-1.0), np.float64(-1.0))\n",
      "(np.float64(-16.0), np.float64(28.0))\n",
      "(np.float64(0.25), np.float64(12.0))\n",
      "(np.float64(7.0), np.float64(7.0))\n",
      "(np.float64(-157.0), np.float64(58.0))\n",
      "(np.float64(-78.0), np.float64(-17.0))\n",
      "(np.float64(-53.0), np.float64(-53.0))\n",
      "teeplots/col=what+hue=fitness-effect+kind=violin+palette=pastel+textlabels=True+viz=catplot+x=fitness-effect+y=delta-num-coding-sites+ext=.pdf\n",
      "teeplots/col=what+hue=fitness-effect+kind=violin+palette=pastel+textlabels=True+viz=catplot+x=fitness-effect+y=delta-num-coding-sites+ext=.png\n"
     ]
    },
    {
     "data": {
      "image/png": "[encoded data removed]",
      "text/plain": [
       "<Figure size 270x300 with 1 Axes>"
      ]
     },
     "metadata": {},
     "output_type": "display_data"
    },
    {
     "name": "stdout",
     "output_type": "stream",
     "text": [
      "teeplots/col=what+hue=fitness-effect+kind=hist+multiple=stack+palette=pastel+stat=probability+viz=displot+x=fitness-effect+ext=.pdf\n",
      "teeplots/col=what+hue=fitness-effect+kind=hist+multiple=stack+palette=pastel+stat=probability+viz=displot+x=fitness-effect+ext=.png\n"
     ]
    },
    {
     "data": {
      "image/png": "[encoded data removed]",
      "text/plain": [
       "<Figure size 397.75x300 with 1 Axes>"
      ]
     },
     "metadata": {},
     "output_type": "display_data"
    },
    {
     "name": "stdout",
     "output_type": "stream",
     "text": [
      "teeplots/col=what+hue=fitness-effect+kind=hist+multiple=stack+palette=pastel+stat=count+viz=displot+x=fitness-effect+ext=.pdf\n"
     ]
    },
    {
     "name": "stdout",
     "output_type": "stream",
     "text": [
      "teeplots/col=what+hue=fitness-effect+kind=hist+multiple=stack+palette=pastel+stat=count+viz=displot+x=fitness-effect+ext=.png\n"
     ]
    },
    {
     "data": {
      "image/png": "[encoded data removed]",
      "text/plain": [
       "<Figure size 397.75x300 with 1 Axes>"
      ]
     },
     "metadata": {},
     "output_type": "display_data"
    },
    {
     "name": "stdout",
     "output_type": "stream",
     "text": [
      "(np.float64(0.031413612565445025), np.float64(0.1256544502617801))\n",
      "(np.float64(-8.107843137254902), np.float64(-6.186029411764706))\n",
      "(np.float64(-0.1404494382022472), np.float64(1.2980337078651683))\n",
      "(np.float64(5.444444444444445), np.float64(9.222222222222221))\n",
      "(np.float64(-15.755867346938777), np.float64(-12.244642857142857))\n",
      "(np.float64(-3.9258733624454147), np.float64(-2.0914847161572054))\n",
      "(np.float64(4.454545454545454), np.float64(13.727272727272727))\n",
      "(np.float64(-25.213623595505616), np.float64(-18.527949438202246))\n",
      "(np.float64(-5.386162790697674), np.float64(-3.4557558139534885))\n",
      "(np.float64(-7.131521739130434), np.float64(7.132608695652172))\n",
      "(np.float64(-49.43881534283774), np.float64(-46.55595723014257))\n",
      "(np.float64(-9.908879781420765), np.float64(-8.516734972677597))\n",
      "(np.float64(-1.2941176470588236), np.float64(12.357352941176467))\n",
      "(np.float64(-67.49279379157429), np.float64(-63.261067997043604))\n",
      "(np.float64(-9.357766544117647), np.float64(-7.253630514705883))\n",
      "(np.float64(0.0), np.float64(19.0))\n",
      "teeplots/col=what+hue=fitness-effect+kind=bar+palette=pastel+viz=catplot+x=max-components+y=delta-num-coding-sites+ext=.pdf\n",
      "teeplots/col=what+hue=fitness-effect+kind=bar+palette=pastel+viz=catplot+x=max-components+y=delta-num-coding-sites+ext=.png\n"
     ]
    },
    {
     "data": {
      "image/png": "[encoded data removed]",
      "text/plain": [
       "<Figure size 397.75x300 with 1 Axes>"
      ]
     },
     "metadata": {},
     "output_type": "display_data"
    },
    {
     "name": "stdout",
     "output_type": "stream",
     "text": [
      "(np.float64(0.0), np.float64(0.0))\n",
      "(np.float64(0.0), np.float64(0.0))\n",
      "(np.float64(0.0), np.float64(0.0))\n",
      "(np.float64(-13.0), np.float64(0.0))\n",
      "(np.float64(-9.0), np.float64(-5.0))\n",
      "(np.float64(-7.0), np.float64(-7.0))\n",
      "(np.float64(0.0), np.float64(0.0))\n",
      "(np.float64(0.0), np.float64(0.0))\n",
      "(np.float64(0.0), np.float64(0.0))\n",
      "(np.float64(3.0), np.float64(12.0))\n",
      "(np.float64(6.0), np.float64(9.0))\n",
      "(np.float64(7.0), np.float64(7.0))\n",
      "(np.float64(-32.0), np.float64(7.0))\n",
      "(np.float64(-19.0), np.float64(-6.25))\n",
      "(np.float64(-15.5), np.float64(-15.5))\n",
      "(np.float64(-12.0), np.float64(7.0))\n",
      "(np.float64(-5.0), np.float64(0.0))\n",
      "(np.float64(0.0), np.float64(0.0))\n",
      "(np.float64(-1.0), np.float64(21.0))\n",
      "(np.float64(3.0), np.float64(12.5))\n",
      "(np.float64(6.0), np.float64(6.0))\n",
      "(np.float64(-73.0), np.float64(36.0))\n",
      "(np.float64(-37.0), np.float64(-4.0))\n",
      "(np.float64(-17.5), np.float64(-17.5))\n",
      "(np.float64(-22.0), np.float64(13.0))\n",
      "(np.float64(-9.0), np.float64(0.0))\n",
      "(np.float64(-1.0), np.float64(-1.0))\n",
      "(np.float64(-26.0), np.float64(28.0))\n",
      "(np.float64(-5.0), np.float64(11.0))\n",
      "(np.float64(7.0), np.float64(7.0))\n",
      "(np.float64(-123.0), np.float64(43.0))\n",
      "(np.float64(-68.0), np.float64(-23.0))\n",
      "(np.float64(-52.0), np.float64(-52.0))\n",
      "(np.float64(-40.0), np.float64(24.0))\n",
      "(np.float64(-16.0), np.float64(0.0))\n",
      "(np.float64(-3.0), np.float64(-3.0))\n",
      "(np.float64(-19.0), np.float64(30.0))\n",
      "(np.float64(-7.0), np.float64(14.0))\n",
      "(np.float64(8.0), np.float64(8.0))\n",
      "(np.float64(-157.0), np.float64(58.0))\n",
      "(np.float64(-96.0), np.float64(-30.0))\n",
      "(np.float64(-71.0), np.float64(-71.0))\n",
      "(np.float64(-32.0), np.float64(19.0))\n",
      "(np.float64(-13.0), np.float64(0.0))\n",
      "(np.float64(-3.0), np.float64(-3.0))\n",
      "(np.float64(0.0), np.float64(19.0))\n",
      "(np.float64(4.75), np.float64(14.25))\n",
      "(np.float64(9.5), np.float64(9.5))\n",
      "teeplots/col=what+hue=fitness-effect+kind=violin+palette=pastel+viz=catplot+x=max-components+y=delta-num-coding-sites+ext=.pdf\n",
      "teeplots/col=what+hue=fitness-effect+kind=violin+palette=pastel+viz=catplot+x=max-components+y=delta-num-coding-sites+ext=.png\n"
     ]
    },
    {
     "data": {
      "image/png": "[encoded data removed]",
      "text/plain": [
       "<Figure size 397.75x300 with 1 Axes>"
      ]
     },
     "metadata": {},
     "output_type": "display_data"
    },
    {
     "name": "stdout",
     "output_type": "stream",
     "text": [
      "(np.float64(0.02617801047120419), np.float64(0.12303664921465969))\n",
      "(np.float64(-8.127696078431372), np.float64(-6.078431372549019))\n",
      "(np.float64(-0.0898876404494382), np.float64(1.309269662921348))\n",
      "(np.float64(5.666666666666667), np.float64(9.333333333333334))\n",
      "(np.float64(-15.83673469387755), np.float64(-12.061224489795919))\n",
      "(np.float64(-3.8995633187772927), np.float64(-2.0959606986899564))\n",
      "(np.float64(4.2727272727272725), np.float64(14.45681818181818))\n",
      "(np.float64(-24.977808988764046), np.float64(-18.295786516853934))\n",
      "(np.float64(-5.428081395348837), np.float64(-3.415697674418605))\n",
      "(np.float64(-7.218478260869565), np.float64(6.957608695652173))\n",
      "(np.float64(-49.40493890020367), np.float64(-46.607196198234895))\n",
      "(np.float64(-9.917049180327869), np.float64(-8.512486338797814))\n",
      "(np.float64(-0.9411764705882353), np.float64(12.530882352941175))\n",
      "(np.float64(-67.67453806356245), np.float64(-63.12468588322247))\n",
      "(np.float64(-9.337063419117646), np.float64(-7.290142463235294))\n",
      "(np.float64(0.0), np.float64(19.0))\n",
      "teeplots/col=what+hue=fitness-effect+kind=bar+palette=pastel+textlabels=True+viz=catplot+x=max-components+y=delta-num-coding-sites+ext=.pdf\n",
      "teeplots/col=what+hue=fitness-effect+kind=bar+palette=pastel+textlabels=True+viz=catplot+x=max-components+y=delta-num-coding-sites+ext=.png\n"
     ]
    },
    {
     "data": {
      "image/png": "[encoded data removed]",
      "text/plain": [
       "<Figure size 397.75x300 with 1 Axes>"
      ]
     },
     "metadata": {},
     "output_type": "display_data"
    },
    {
     "name": "stdout",
     "output_type": "stream",
     "text": [
      "(np.float64(0.0), np.float64(0.0))\n",
      "(np.float64(0.0), np.float64(0.0))\n",
      "(np.float64(0.0), np.float64(0.0))\n",
      "(np.float64(-13.0), np.float64(0.0))\n",
      "(np.float64(-9.0), np.float64(-5.0))\n",
      "(np.float64(-7.0), np.float64(-7.0))\n",
      "(np.float64(0.0), np.float64(0.0))\n",
      "(np.float64(0.0), np.float64(0.0))\n",
      "(np.float64(0.0), np.float64(0.0))\n",
      "(np.float64(3.0), np.float64(12.0))\n",
      "(np.float64(6.0), np.float64(9.0))\n",
      "(np.float64(7.0), np.float64(7.0))\n",
      "(np.float64(-32.0), np.float64(7.0))\n",
      "(np.float64(-19.0), np.float64(-6.25))\n",
      "(np.float64(-15.5), np.float64(-15.5))\n",
      "(np.float64(-12.0), np.float64(7.0))\n",
      "(np.float64(-5.0), np.float64(0.0))\n",
      "(np.float64(0.0), np.float64(0.0))\n",
      "(np.float64(-1.0), np.float64(21.0))\n",
      "(np.float64(3.0), np.float64(12.5))\n",
      "(np.float64(6.0), np.float64(6.0))\n",
      "(np.float64(-73.0), np.float64(36.0))\n",
      "(np.float64(-37.0), np.float64(-4.0))\n",
      "(np.float64(-17.5), np.float64(-17.5))\n",
      "(np.float64(-22.0), np.float64(13.0))\n",
      "(np.float64(-9.0), np.float64(0.0))\n",
      "(np.float64(-1.0), np.float64(-1.0))\n",
      "(np.float64(-26.0), np.float64(28.0))\n",
      "(np.float64(-5.0), np.float64(11.0))\n",
      "(np.float64(7.0), np.float64(7.0))\n",
      "(np.float64(-123.0), np.float64(43.0))\n",
      "(np.float64(-68.0), np.float64(-23.0))\n",
      "(np.float64(-52.0), np.float64(-52.0))\n",
      "(np.float64(-40.0), np.float64(24.0))\n",
      "(np.float64(-16.0), np.float64(0.0))\n",
      "(np.float64(-3.0), np.float64(-3.0))\n",
      "(np.float64(-19.0), np.float64(30.0))\n",
      "(np.float64(-7.0), np.float64(14.0))\n",
      "(np.float64(8.0), np.float64(8.0))\n",
      "(np.float64(-157.0), np.float64(58.0))\n",
      "(np.float64(-96.0), np.float64(-30.0))\n",
      "(np.float64(-71.0), np.float64(-71.0))\n",
      "(np.float64(-32.0), np.float64(19.0))\n",
      "(np.float64(-13.0), np.float64(0.0))\n",
      "(np.float64(-3.0), np.float64(-3.0))\n",
      "(np.float64(0.0), np.float64(19.0))\n",
      "(np.float64(4.75), np.float64(14.25))\n",
      "(np.float64(9.5), np.float64(9.5))\n",
      "teeplots/col=what+hue=fitness-effect+kind=violin+palette=pastel+textlabels=True+viz=catplot+x=max-components+y=delta-num-coding-sites+ext=.pdf\n",
      "teeplots/col=what+hue=fitness-effect+kind=violin+palette=pastel+textlabels=True+viz=catplot+x=max-components+y=delta-num-coding-sites+ext=.png\n"
     ]
    },
    {
     "data": {
      "image/png": "[encoded data removed]",
      "text/plain": [
       "<Figure size 397.75x300 with 1 Axes>"
      ]
     },
     "metadata": {},
     "output_type": "display_data"
    },
    {
     "name": "stdout",
     "output_type": "stream",
     "text": [
      "teeplots/col=what+hue=fitness-effect+kind=hist+multiple=dodge+palette=pastel+stat=probability+viz=displot+x=max-components+ext=.pdf\n",
      "teeplots/col=what+hue=fitness-effect+kind=hist+multiple=dodge+palette=pastel+stat=probability+viz=displot+x=max-components+ext=.png\n"
     ]
    },
    {
     "data": {
      "image/png": "[encoded data removed]",
      "text/plain": [
       "<Figure size 397.75x300 with 1 Axes>"
      ]
     },
     "metadata": {},
     "output_type": "display_data"
    },
    {
     "name": "stdout",
     "output_type": "stream",
     "text": [
      "teeplots/col=what+hue=fitness-effect+kind=hist+multiple=dodge+palette=pastel+stat=count+viz=displot+x=max-components+ext=.pdf\n"
     ]
    },
    {
     "name": "stdout",
     "output_type": "stream",
     "text": [
      "teeplots/col=what+hue=fitness-effect+kind=hist+multiple=dodge+palette=pastel+stat=count+viz=displot+x=max-components+ext=.png\n"
     ]
    },
    {
     "data": {
      "image/png": "[encoded data removed]",
      "text/plain": [
       "<Figure size 397.75x300 with 1 Axes>"
      ]
     },
     "metadata": {},
     "output_type": "display_data"
    },
    {
     "name": "stdout",
     "output_type": "stream",
     "text": [
      "(np.float64(0.031413612565445025), np.float64(0.12827225130890052))\n",
      "(np.float64(6.0), np.float64(9.75))\n",
      "(np.float64(-7.372383720930232), np.float64(-5.837209302325581))\n",
      "(np.float64(-0.27450980392156865), np.float64(1.2222222222222223))\n",
      "(np.float64(5.6134615384615385), np.float64(12.153846153846153))\n",
      "(np.float64(-14.038461538461538), np.float64(-8.11346153846154))\n",
      "(np.float64(-2.6832317073170735), np.float64(-0.15853658536585366))\n",
      "(np.float64(0.6666666666666666), np.float64(15.016666666666652))\n",
      "(np.float64(-15.360755813953489), np.float64(-11.464825581395349))\n",
      "(np.float64(-3.179640718562874), np.float64(-0.8142215568862277))\n",
      "(np.float64(-16.333333333333332), np.float64(6.666666666666667))\n",
      "(np.float64(-19.964197530864197), np.float64(-12.888271604938273))\n",
      "(np.float64(-4.376361386138615), np.float64(-1.9743811881188127))\n",
      "(np.float64(-9.0), np.float64(9.291071428571424))\n",
      "(np.float64(-29.01404109589041), np.float64(-19.998630136986304))\n",
      "(np.float64(-6.889197530864198), np.float64(-3.900771604938272))\n",
      "(np.float64(3.8333333333333335), np.float64(10.666666666666666))\n",
      "(np.float64(-37.03496503496503), np.float64(-28.32832167832168))\n",
      "(np.float64(-7.775612244897959), np.float64(-4.934489795918368))\n",
      "(np.float64(-3.717857142857143), np.float64(18.0))\n",
      "(np.float64(-49.10578770413065), np.float64(-45.86150336215178))\n",
      "(np.float64(-10.309164934164935), np.float64(-8.728291753291755))\n",
      "(np.float64(nan), np.float64(nan))\n",
      "(np.float64(-62.079755892255896), np.float64(-57.04882154882155))\n",
      "(np.float64(-9.064824797843666), np.float64(-5.301819407008086))\n",
      "(np.float64(0.0), np.float64(19.0))\n",
      "(np.float64(-68.25337523277467), np.float64(-62.836243016759774))\n",
      "(np.float64(-10.322150537634409), np.float64(-8.021155913978495))\n",
      "teeplots/col=what+hue=fitness-effect+kind=bar+palette=pastel+viz=catplot+x=num-tasks-has+y=delta-num-coding-sites+ext=.pdf\n",
      "teeplots/col=what+hue=fitness-effect+kind=bar+palette=pastel+viz=catplot+x=num-tasks-has+y=delta-num-coding-sites+ext=.png\n"
     ]
    },
    {
     "data": {
      "image/png": "[encoded data removed]",
      "text/plain": [
       "<Figure size 397.75x300 with 1 Axes>"
      ]
     },
     "metadata": {},
     "output_type": "display_data"
    },
    {
     "name": "stdout",
     "output_type": "stream",
     "text": [
      "(np.float64(0.0), np.float64(0.0))\n",
      "(np.float64(0.0), np.float64(0.0))\n",
      "(np.float64(0.0), np.float64(0.0))\n",
      "(np.float64(6.0), np.float64(11.0))\n",
      "(np.float64(6.0), np.float64(8.75))\n",
      "(np.float64(7.0), np.float64(7.0))\n",
      "(np.float64(-13.0), np.float64(0.0))\n",
      "(np.float64(-9.0), np.float64(-5.0))\n",
      "(np.float64(-7.0), np.float64(-7.0))\n",
      "(np.float64(-1.0), np.float64(2.0))\n",
      "(np.float64(0.0), np.float64(1.0))\n",
      "(np.float64(0.0), np.float64(0.0))\n",
      "(np.float64(3.0), np.float64(21.0))\n",
      "(np.float64(4.0), np.float64(12.0))\n",
      "(np.float64(7.0), np.float64(7.0))\n",
      "(np.float64(-23.0), np.float64(2.0))\n",
      "(np.float64(-16.75), np.float64(-7.0))\n",
      "(np.float64(-11.5), np.float64(-11.5))\n",
      "(np.float64(-5.0), np.float64(3.0))\n",
      "(np.float64(-2.0), np.float64(0.0))\n",
      "(np.float64(0.0), np.float64(0.0))\n",
      "(np.float64(-1.0), np.float64(9.0))\n",
      "(np.float64(-0.5), np.float64(8.5))\n",
      "(np.float64(4.0), np.float64(4.0))\n",
      "(np.float64(-31.0), np.float64(7.0))\n",
      "(np.float64(-19.0), np.float64(-6.0))\n",
      "(np.float64(-15.5), np.float64(-15.5))\n",
      "(np.float64(-9.0), np.float64(6.0))\n",
      "(np.float64(-4.0), np.float64(0.0))\n",
      "(np.float64(0.0), np.float64(0.0))\n",
      "(np.float64(-35.0), np.float64(14.0))\n",
      "(np.float64(-26.0), np.float64(12.0))\n",
      "(np.float64(2.0), np.float64(2.0))\n",
      "(np.float64(-53.0), np.float64(14.0))\n",
      "(np.float64(-27.0), np.float64(-5.0))\n",
      "(np.float64(-17.0), np.float64(-17.0))\n",
      "(np.float64(-15.0), np.float64(9.0))\n",
      "(np.float64(-6.0), np.float64(0.0))\n",
      "(np.float64(0.0), np.float64(0.0))\n",
      "(np.float64(-40.0), np.float64(28.0))\n",
      "(np.float64(-10.25), np.float64(11.75))\n",
      "(np.float64(0.0), np.float64(0.0))\n",
      "(np.float64(-60.0), np.float64(21.0))\n",
      "(np.float64(-37.0), np.float64(-9.0))\n",
      "(np.float64(-26.0), np.float64(-26.0))\n",
      "(np.float64(-25.0), np.float64(15.0))\n",
      "(np.float64(-10.0), np.float64(0.0))\n",
      "(np.float64(-1.0), np.float64(-1.0))\n",
      "(np.float64(7.0), np.float64(11.0))\n",
      "(np.float64(7.5), np.float64(11.0))\n",
      "(np.float64(10.0), np.float64(10.0))\n",
      "(np.float64(-73.0), np.float64(21.0))\n",
      "(np.float64(-60.5), np.float64(-6.0))\n",
      "(np.float64(-34.0), np.float64(-34.0))\n",
      "(np.float64(-25.0), np.float64(15.0))\n",
      "(np.float64(-10.0), np.float64(0.0))\n",
      "(np.float64(-2.0), np.float64(-2.0))\n",
      "(np.float64(-19.0), np.float64(30.0))\n",
      "(np.float64(-2.5), np.float64(14.5))\n",
      "(np.float64(12.0), np.float64(12.0))\n",
      "(np.float64(-95.0), np.float64(27.0))\n",
      "(np.float64(-67.0), np.float64(-23.0))\n",
      "(np.float64(-55.0), np.float64(-55.0))\n",
      "(np.float64(-40.0), np.float64(24.0))\n",
      "(np.float64(-16.0), np.float64(0.0))\n",
      "(np.float64(-4.0), np.float64(-4.0))\n",
      "(np.float64(13.0), np.float64(13.0))\n",
      "(np.float64(-123.0), np.float64(19.0))\n",
      "(np.float64(-81.0), np.float64(-41.0))\n",
      "(np.float64(-64.0), np.float64(-64.0))\n",
      "(np.float64(-33.0), np.float64(21.0))\n",
      "(np.float64(-14.0), np.float64(0.0))\n",
      "(np.float64(-2.0), np.float64(-2.0))\n",
      "(np.float64(0.0), np.float64(19.0))\n",
      "(np.float64(4.75), np.float64(14.25))\n",
      "(np.float64(9.5), np.float64(9.5))\n",
      "(np.float64(-157.0), np.float64(58.0))\n",
      "(np.float64(-102.0), np.float64(-25.0))\n",
      "(np.float64(-73.0), np.float64(-73.0))\n",
      "(np.float64(-32.0), np.float64(19.0))\n",
      "(np.float64(-13.0), np.float64(0.0))\n",
      "(np.float64(-4.0), np.float64(-4.0))\n",
      "teeplots/col=what+hue=fitness-effect+kind=violin+palette=pastel+viz=catplot+x=num-tasks-has+y=delta-num-coding-sites+ext=.pdf\n",
      "teeplots/col=what+hue=fitness-effect+kind=violin+palette=pastel+viz=catplot+x=num-tasks-has+y=delta-num-coding-sites+ext=.png\n"
     ]
    },
    {
     "data": {
      "image/png": "[encoded data removed]",
      "text/plain": [
       "<Figure size 397.75x300 with 1 Axes>"
      ]
     },
     "metadata": {},
     "output_type": "display_data"
    },
    {
     "name": "stdout",
     "output_type": "stream",
     "text": [
      "(np.float64(0.028795811518324606), np.float64(0.12571989528795804))\n",
      "(np.float64(6.0), np.float64(9.75))\n",
      "(np.float64(-7.337209302325581), np.float64(-5.906686046511628))\n",
      "(np.float64(-0.3006535947712418), np.float64(1.1503267973856208))\n",
      "(np.float64(5.6923076923076925), np.float64(12.463461538461537))\n",
      "(np.float64(-13.9625), np.float64(-8.0))\n",
      "(np.float64(-2.744207317073171), np.float64(-0.08536585365853659))\n",
      "(np.float64(1.0), np.float64(16.0))\n",
      "(np.float64(-15.221511627906976), np.float64(-11.383139534883721))\n",
      "(np.float64(-3.108383233532934), np.float64(-0.7902694610778445))\n",
      "(np.float64(-16.33888888888889), np.float64(7.444444444444445))\n",
      "(np.float64(-19.927160493827163), np.float64(-12.839506172839506))\n",
      "(np.float64(-4.371410891089109), np.float64(-1.97871287128713))\n",
      "(np.float64(-9.428571428571429), np.float64(9.574999999999996))\n",
      "(np.float64(-28.67157534246575), np.float64(-19.259931506849316))\n",
      "(np.float64(-7.0125), np.float64(-3.845524691358025))\n",
      "(np.float64(3.8250000000000006), np.float64(10.666666666666666))\n",
      "(np.float64(-37.56416083916084), np.float64(-28.006993006993007))\n",
      "(np.float64(-7.719387755102041), np.float64(-4.85295918367347))\n",
      "(np.float64(-4.714285714285714), np.float64(17.857142857142858))\n",
      "(np.float64(-49.094212295869355), np.float64(-45.88174831892411))\n",
      "(np.float64(-10.277356202356202), np.float64(-8.738617463617464))\n",
      "(np.float64(nan), np.float64(nan))\n",
      "(np.float64(-62.0388468013468), np.float64(-57.193223905723904))\n",
      "(np.float64(-8.994811320754717), np.float64(-5.112938005390836))\n",
      "(np.float64(0.0), np.float64(19.0))\n",
      "(np.float64(-68.42367318435754), np.float64(-62.80872905027933))\n",
      "(np.float64(-10.3097311827957), np.float64(-8.005268817204302))\n",
      "teeplots/col=what+hue=fitness-effect+kind=bar+palette=pastel+textlabels=True+viz=catplot+x=num-tasks-has+y=delta-num-coding-sites+ext=.pdf\n",
      "teeplots/col=what+hue=fitness-effect+kind=bar+palette=pastel+textlabels=True+viz=catplot+x=num-tasks-has+y=delta-num-coding-sites+ext=.png\n"
     ]
    },
    {
     "data": {
      "image/png": "[encoded data removed]",
      "text/plain": [
       "<Figure size 397.75x300 with 1 Axes>"
      ]
     },
     "metadata": {},
     "output_type": "display_data"
    },
    {
     "name": "stdout",
     "output_type": "stream",
     "text": [
      "(np.float64(0.0), np.float64(0.0))\n",
      "(np.float64(0.0), np.float64(0.0))\n",
      "(np.float64(0.0), np.float64(0.0))\n",
      "(np.float64(6.0), np.float64(11.0))\n",
      "(np.float64(6.0), np.float64(8.75))\n",
      "(np.float64(7.0), np.float64(7.0))\n",
      "(np.float64(-13.0), np.float64(0.0))\n",
      "(np.float64(-9.0), np.float64(-5.0))\n",
      "(np.float64(-7.0), np.float64(-7.0))\n",
      "(np.float64(-1.0), np.float64(2.0))\n",
      "(np.float64(0.0), np.float64(1.0))\n",
      "(np.float64(0.0), np.float64(0.0))\n",
      "(np.float64(3.0), np.float64(21.0))\n",
      "(np.float64(4.0), np.float64(12.0))\n",
      "(np.float64(7.0), np.float64(7.0))\n",
      "(np.float64(-23.0), np.float64(2.0))\n",
      "(np.float64(-16.75), np.float64(-7.0))\n",
      "(np.float64(-11.5), np.float64(-11.5))\n",
      "(np.float64(-5.0), np.float64(3.0))\n",
      "(np.float64(-2.0), np.float64(0.0))\n",
      "(np.float64(0.0), np.float64(0.0))\n",
      "(np.float64(-1.0), np.float64(9.0))\n",
      "(np.float64(-0.5), np.float64(8.5))\n",
      "(np.float64(4.0), np.float64(4.0))\n",
      "(np.float64(-31.0), np.float64(7.0))\n",
      "(np.float64(-19.0), np.float64(-6.0))\n",
      "(np.float64(-15.5), np.float64(-15.5))\n",
      "(np.float64(-9.0), np.float64(6.0))\n",
      "(np.float64(-4.0), np.float64(0.0))\n",
      "(np.float64(0.0), np.float64(0.0))\n",
      "(np.float64(-35.0), np.float64(14.0))\n",
      "(np.float64(-26.0), np.float64(12.0))\n",
      "(np.float64(2.0), np.float64(2.0))\n",
      "(np.float64(-53.0), np.float64(14.0))\n",
      "(np.float64(-27.0), np.float64(-5.0))\n",
      "(np.float64(-17.0), np.float64(-17.0))\n",
      "(np.float64(-15.0), np.float64(9.0))\n",
      "(np.float64(-6.0), np.float64(0.0))\n",
      "(np.float64(0.0), np.float64(0.0))\n",
      "(np.float64(-40.0), np.float64(28.0))\n",
      "(np.float64(-10.25), np.float64(11.75))\n",
      "(np.float64(0.0), np.float64(0.0))\n",
      "(np.float64(-60.0), np.float64(21.0))\n",
      "(np.float64(-37.0), np.float64(-9.0))\n",
      "(np.float64(-26.0), np.float64(-26.0))\n",
      "(np.float64(-25.0), np.float64(15.0))\n",
      "(np.float64(-10.0), np.float64(0.0))\n",
      "(np.float64(-1.0), np.float64(-1.0))\n",
      "(np.float64(7.0), np.float64(11.0))\n",
      "(np.float64(7.5), np.float64(11.0))\n",
      "(np.float64(10.0), np.float64(10.0))\n",
      "(np.float64(-73.0), np.float64(21.0))\n",
      "(np.float64(-60.5), np.float64(-6.0))\n",
      "(np.float64(-34.0), np.float64(-34.0))\n",
      "(np.float64(-25.0), np.float64(15.0))\n",
      "(np.float64(-10.0), np.float64(0.0))\n",
      "(np.float64(-2.0), np.float64(-2.0))\n",
      "(np.float64(-19.0), np.float64(30.0))\n",
      "(np.float64(-2.5), np.float64(14.5))\n",
      "(np.float64(12.0), np.float64(12.0))\n",
      "(np.float64(-95.0), np.float64(27.0))\n",
      "(np.float64(-67.0), np.float64(-23.0))\n",
      "(np.float64(-55.0), np.float64(-55.0))\n",
      "(np.float64(-40.0), np.float64(24.0))\n",
      "(np.float64(-16.0), np.float64(0.0))\n",
      "(np.float64(-4.0), np.float64(-4.0))\n",
      "(np.float64(13.0), np.float64(13.0))\n",
      "(np.float64(-123.0), np.float64(19.0))\n",
      "(np.float64(-81.0), np.float64(-41.0))\n",
      "(np.float64(-64.0), np.float64(-64.0))\n",
      "(np.float64(-33.0), np.float64(21.0))\n",
      "(np.float64(-14.0), np.float64(0.0))\n",
      "(np.float64(-2.0), np.float64(-2.0))\n",
      "(np.float64(0.0), np.float64(19.0))\n",
      "(np.float64(4.75), np.float64(14.25))\n",
      "(np.float64(9.5), np.float64(9.5))\n",
      "(np.float64(-157.0), np.float64(58.0))\n",
      "(np.float64(-102.0), np.float64(-25.0))\n",
      "(np.float64(-73.0), np.float64(-73.0))\n",
      "(np.float64(-32.0), np.float64(19.0))\n",
      "(np.float64(-13.0), np.float64(0.0))\n",
      "(np.float64(-4.0), np.float64(-4.0))\n",
      "teeplots/col=what+hue=fitness-effect+kind=violin+palette=pastel+textlabels=True+viz=catplot+x=num-tasks-has+y=delta-num-coding-sites+ext=.pdf\n",
      "teeplots/col=what+hue=fitness-effect+kind=violin+palette=pastel+textlabels=True+viz=catplot+x=num-tasks-has+y=delta-num-coding-sites+ext=.png\n"
     ]
    },
    {
     "data": {
      "image/png": "[encoded data removed]",
      "text/plain": [
       "<Figure size 397.75x300 with 1 Axes>"
      ]
     },
     "metadata": {},
     "output_type": "display_data"
    },
    {
     "name": "stdout",
     "output_type": "stream",
     "text": [
      "teeplots/col=what+hue=fitness-effect+kind=hist+multiple=dodge+palette=pastel+stat=probability+viz=displot+x=num-tasks-has+ext=.pdf\n",
      "teeplots/col=what+hue=fitness-effect+kind=hist+multiple=dodge+palette=pastel+stat=probability+viz=displot+x=num-tasks-has+ext=.png\n"
     ]
    },
    {
     "data": {
      "image/png": "[encoded data removed]",
      "text/plain": [
       "<Figure size 397.75x300 with 1 Axes>"
      ]
     },
     "metadata": {},
     "output_type": "display_data"
    },
    {
     "name": "stdout",
     "output_type": "stream",
     "text": [
      "teeplots/col=what+hue=fitness-effect+kind=hist+multiple=dodge+palette=pastel+stat=count+viz=displot+x=num-tasks-has+ext=.pdf\n"
     ]
    },
    {
     "name": "stdout",
     "output_type": "stream",
     "text": [
      "teeplots/col=what+hue=fitness-effect+kind=hist+multiple=dodge+palette=pastel+stat=count+viz=displot+x=num-tasks-has+ext=.png\n"
     ]
    },
    {
     "data": {
      "image/png": "[encoded data removed]",
      "text/plain": [
       "<Figure size 397.75x300 with 1 Axes>"
      ]
     },
     "metadata": {},
     "output_type": "display_data"
    }
   ],
   "source": [
    "for x in \"fitness effect\", \"max components\", \"num tasks has\":\n",
    "    for kind in \"bar\", \"violin\":\n",
    "        saveit, g = tp.tee(\n",
    "            sns.catplot,\n",
    "            data=dfz.to_pandas(),\n",
    "            col=\"what\",\n",
    "            x=x,\n",
    "            y=\"delta num coding sites\",\n",
    "            hue=\"fitness effect\",\n",
    "            hue_order=[\"deleterious\", \"neutral\", \"beneficial\"],\n",
    "            kind=kind,\n",
    "            palette=\"pastel\",\n",
    "            teeplot_callback=True,\n",
    "            aspect=0.9,\n",
    "            height=3,\n",
    "        )\n",
    "        if x != \"max components\":\n",
    "            g.set(xticklabels=[], xlabel=\"\")\n",
    "        else:\n",
    "            g.set(xlabel=\"max task complexity\")\n",
    "        g.set_titles(\"\")\n",
    "        for ax in g.axes.flat:\n",
    "            xs = [line.get_xdata().min() for line in ax.lines]\n",
    "            lower = [line.get_ydata().min() for line in ax.lines]\n",
    "            upper = [line.get_ydata().max() for line in ax.lines]\n",
    "            cis = [*zip(lower, upper)]\n",
    "            order = np.argsort(xs)\n",
    "            for o in order:\n",
    "                print(cis[o])\n",
    "            ax.axhline(0, color=\"black\", linewidth=1)\n",
    "        saveit()\n",
    "\n",
    "    for kind in \"bar\", \"violin\":\n",
    "        saveit, g = tp.tee(\n",
    "            sns.catplot,\n",
    "            data=dfz.to_pandas(),\n",
    "            col=\"what\",\n",
    "            x=x,\n",
    "            y=\"delta num coding sites\",\n",
    "            hue=\"fitness effect\",\n",
    "            hue_order=[\"deleterious\", \"neutral\", \"beneficial\"],\n",
    "            kind=kind,\n",
    "            palette=\"pastel\",\n",
    "            teeplot_callback=True,\n",
    "            teeplot_outattrs={\"textlabels\": True},\n",
    "            aspect=0.9,\n",
    "            height=3,\n",
    "        )\n",
    "        if x != \"max components\":\n",
    "            g.set(xticklabels=[], xlabel=\"\")\n",
    "        else:\n",
    "            g.set(xlabel=\"max task complexity\")\n",
    "        g.set_titles(\"\")\n",
    "        for ax in g.axes.flat:\n",
    "            xs = [line.get_xdata().min() for line in ax.lines]\n",
    "            lower = [line.get_ydata().min() for line in ax.lines]\n",
    "            upper = [line.get_ydata().max() for line in ax.lines]\n",
    "            cis = [*zip(lower, upper)]\n",
    "            order = np.argsort(xs)\n",
    "            for o in order:\n",
    "                print(cis[o])\n",
    "            ax.axhline(0, color=\"black\", linewidth=1)\n",
    "            # add count labels\n",
    "            # adapted from https://stackoverflow.com/a/55319634/17332200\n",
    "            for p in ax.patches:\n",
    "                ax.annotate(\n",
    "                    text=f\"{p.get_height():1.1f}\",\n",
    "                    xy=(\n",
    "                        p.get_x() + p.get_width() / 2.,\n",
    "                        -5 * np.sign(p.get_height())\n",
    "                    ),\n",
    "                    xycoords=\"data\",\n",
    "                    ha=\"center\",\n",
    "                    va=\"center\",\n",
    "                    fontsize=11,\n",
    "                    color=\"black\",\n",
    "                    xytext=(0,0),\n",
    "                    textcoords=\"offset points\",\n",
    "                    clip_on=True,                   # <---  important\n",
    "                )\n",
    "        saveit()\n",
    "\n",
    "    saveit, g = tp.tee(\n",
    "        sns.displot,\n",
    "        data=dfz.to_pandas(),\n",
    "        col=\"what\",\n",
    "        x=x,\n",
    "        kind=\"hist\",\n",
    "        hue=\"fitness effect\",\n",
    "        hue_order=[\"deleterious\", \"neutral\", \"beneficial\"],\n",
    "        multiple=\"stack\" if x == \"fitness effect\" else \"dodge\",\n",
    "        palette=\"pastel\",\n",
    "        stat=\"probability\",\n",
    "        teeplot_callback=True,\n",
    "        aspect=0.9,\n",
    "        height=3,\n",
    "    )\n",
    "    plt.yscale(\"symlog\", linthresh=5e-2)\n",
    "    g.set(xticklabels=[], xlabel=\"\", ylim=(0, 1.5))\n",
    "    g.set_titles(\"\")\n",
    "\n",
    "    # add count labels\n",
    "    # adapted from https://stackoverflow.com/a/55319634/17332200\n",
    "    for ax in g.axes.flat:\n",
    "        xs = [line.get_xdata().min() for line in ax.lines]\n",
    "        lower = [line.get_ydata().min() for line in ax.lines]\n",
    "        upper = [line.get_ydata().max() for line in ax.lines]\n",
    "        cis = [*zip(lower, upper)]\n",
    "        order = np.argsort(xs)\n",
    "        for o in order:\n",
    "            print(cis[o])\n",
    "\n",
    "        for p in ax.patches:\n",
    "            if p.get_height() > 0.0001:\n",
    "                ax.annotate(\n",
    "                    text=f\"{p.get_height():1.3f}\",\n",
    "                    xy=(\n",
    "                        p.get_x() + p.get_width() / 2.,\n",
    "                        p.get_height(),\n",
    "                    ),\n",
    "                    xycoords=\"data\",\n",
    "                    ha=\"center\",\n",
    "                    va=\"center\",\n",
    "                    fontsize=11,\n",
    "                    color=\"black\",\n",
    "                    xytext=(0,7),\n",
    "                    textcoords=\"offset points\",\n",
    "                    clip_on=True,                   # <---  important\n",
    "                )\n",
    "\n",
    "    saveit()\n",
    "\n",
    "    saveit, g = tp.tee(\n",
    "        sns.displot,\n",
    "        data=dfz.to_pandas(),\n",
    "        col=\"what\",\n",
    "        x=x,\n",
    "        kind=\"hist\",\n",
    "        hue=\"fitness effect\",\n",
    "        hue_order=[\"deleterious\", \"neutral\", \"beneficial\"],\n",
    "        stat=\"count\",\n",
    "        palette=\"pastel\",\n",
    "        multiple=\"stack\" if x == \"fitness effect\" else \"dodge\",\n",
    "        teeplot_callback=True,\n",
    "        aspect=0.9,\n",
    "        height=3,\n",
    "    )\n",
    "    plt.yscale(\"log\")\n",
    "    if x != \"max components\":\n",
    "        g.set(xticklabels=[], xlabel=\"\")\n",
    "    else:\n",
    "        g.set(xlabel=\"max task complexity\")\n",
    "    g.set_titles(\"\")\n",
    "\n",
    "    # add count labels\n",
    "    # adapted from https://stackoverflow.com/a/55319634/17332200\n",
    "    for ax in g.axes.flat:\n",
    "        xs = [line.get_xdata().min() for line in ax.lines]\n",
    "        lower = [line.get_ydata().min() for line in ax.lines]\n",
    "        upper = [line.get_ydata().max() for line in ax.lines]\n",
    "        cis = [*zip(lower, upper)]\n",
    "        order = np.argsort(xs)\n",
    "        for o in order:\n",
    "            print(cis[o])\n",
    "\n",
    "        for p in ax.patches:\n",
    "            ax.annotate(\n",
    "                text=f\"{p.get_height():1.0f}\",\n",
    "                xy=(\n",
    "                    p.get_x() + p.get_width() / 2.,\n",
    "                    -5 * np.sign(p.get_height()),\n",
    "                ),\n",
    "                xycoords=\"data\",\n",
    "                ha=\"center\",\n",
    "                va=\"center\",\n",
    "                fontsize=11,\n",
    "                color=\"black\",\n",
    "                xytext=(0,0),\n",
    "                textcoords=\"offset points\",\n",
    "                clip_on=True,                   # <---  important\n",
    "            )\n",
    "\n",
    "    saveit()\n"
   ]
  },
  {
   "cell_type": "code",
   "execution_count": 36,
   "metadata": {
    "execution": {
     "iopub.execute_input": "2025-08-11T20:57:31.069136Z",
     "iopub.status.busy": "2025-08-11T20:57:31.068657Z",
     "iopub.status.idle": "2025-08-11T20:57:31.102179Z",
     "shell.execute_reply": "2025-08-11T20:57:31.101720Z"
    }
   },
   "outputs": [
    {
     "data": {
      "text/html": [
       "<div>\n",
       "<style scoped>\n",
       "    .dataframe tbody tr th:only-of-type {\n",
       "        vertical-align: middle;\n",
       "    }\n",
       "\n",
       "    .dataframe tbody tr th {\n",
       "        vertical-align: top;\n",
       "    }\n",
       "\n",
       "    .dataframe thead tr th {\n",
       "        text-align: left;\n",
       "    }\n",
       "\n",
       "    .dataframe thead tr:last-of-type th {\n",
       "        text-align: right;\n",
       "    }\n",
       "</style>\n",
       "<table border=\"1\" class=\"dataframe\">\n",
       "  <thead>\n",
       "    <tr>\n",
       "      <th></th>\n",
       "      <th></th>\n",
       "      <th></th>\n",
       "      <th colspan=\"4\" halign=\"left\">delta frac coding sites</th>\n",
       "    </tr>\n",
       "    <tr>\n",
       "      <th></th>\n",
       "      <th></th>\n",
       "      <th></th>\n",
       "      <th>median</th>\n",
       "      <th>mean</th>\n",
       "      <th>std</th>\n",
       "      <th>count</th>\n",
       "    </tr>\n",
       "    <tr>\n",
       "      <th>what</th>\n",
       "      <th>fitness effect</th>\n",
       "      <th>fitness effect</th>\n",
       "      <th></th>\n",
       "      <th></th>\n",
       "      <th></th>\n",
       "      <th></th>\n",
       "    </tr>\n",
       "  </thead>\n",
       "  <tbody>\n",
       "    <tr>\n",
       "      <th rowspan=\"3\" valign=\"top\">insertion</th>\n",
       "      <th>beneficial</th>\n",
       "      <th>beneficial</th>\n",
       "      <td>0.300000</td>\n",
       "      <td>inf</td>\n",
       "      <td>NaN</td>\n",
       "      <td>62</td>\n",
       "    </tr>\n",
       "    <tr>\n",
       "      <th>deleterious</th>\n",
       "      <th>deleterious</th>\n",
       "      <td>-0.943741</td>\n",
       "      <td>-0.677902</td>\n",
       "      <td>0.395289</td>\n",
       "      <td>3202</td>\n",
       "    </tr>\n",
       "    <tr>\n",
       "      <th>neutral</th>\n",
       "      <th>neutral</th>\n",
       "      <td>-0.030928</td>\n",
       "      <td>inf</td>\n",
       "      <td>NaN</td>\n",
       "      <td>3782</td>\n",
       "    </tr>\n",
       "  </tbody>\n",
       "</table>\n",
       "</div>"
      ],
      "text/plain": [
       "                                        delta frac coding sites            \\\n",
       "                                                         median      mean   \n",
       "what      fitness effect fitness effect                                     \n",
       "insertion beneficial     beneficial                    0.300000       inf   \n",
       "          deleterious    deleterious                  -0.943741 -0.677902   \n",
       "          neutral        neutral                      -0.030928       inf   \n",
       "\n",
       "                                                         \n",
       "                                              std count  \n",
       "what      fitness effect fitness effect                  \n",
       "insertion beneficial     beneficial           NaN    62  \n",
       "          deleterious    deleterious     0.395289  3202  \n",
       "          neutral        neutral              NaN  3782  "
      ]
     },
     "metadata": {},
     "output_type": "display_data"
    },
    {
     "data": {
      "text/html": [
       "<div>\n",
       "<style scoped>\n",
       "    .dataframe tbody tr th:only-of-type {\n",
       "        vertical-align: middle;\n",
       "    }\n",
       "\n",
       "    .dataframe tbody tr th {\n",
       "        vertical-align: top;\n",
       "    }\n",
       "\n",
       "    .dataframe thead tr th {\n",
       "        text-align: left;\n",
       "    }\n",
       "\n",
       "    .dataframe thead tr:last-of-type th {\n",
       "        text-align: right;\n",
       "    }\n",
       "</style>\n",
       "<table border=\"1\" class=\"dataframe\">\n",
       "  <thead>\n",
       "    <tr>\n",
       "      <th></th>\n",
       "      <th></th>\n",
       "      <th></th>\n",
       "      <th colspan=\"4\" halign=\"left\">delta frac coding sites</th>\n",
       "    </tr>\n",
       "    <tr>\n",
       "      <th></th>\n",
       "      <th></th>\n",
       "      <th></th>\n",
       "      <th>median</th>\n",
       "      <th>mean</th>\n",
       "      <th>std</th>\n",
       "      <th>count</th>\n",
       "    </tr>\n",
       "    <tr>\n",
       "      <th>what</th>\n",
       "      <th>max components</th>\n",
       "      <th>fitness effect</th>\n",
       "      <th></th>\n",
       "      <th></th>\n",
       "      <th></th>\n",
       "      <th></th>\n",
       "    </tr>\n",
       "  </thead>\n",
       "  <tbody>\n",
       "    <tr>\n",
       "      <th rowspan=\"16\" valign=\"top\">insertion</th>\n",
       "      <th>0</th>\n",
       "      <th>neutral</th>\n",
       "      <td>1.000000</td>\n",
       "      <td>inf</td>\n",
       "      <td>NaN</td>\n",
       "      <td>34</td>\n",
       "    </tr>\n",
       "    <tr>\n",
       "      <th rowspan=\"3\" valign=\"top\">1</th>\n",
       "      <th>beneficial</th>\n",
       "      <td>2.400000</td>\n",
       "      <td>inf</td>\n",
       "      <td>NaN</td>\n",
       "      <td>9</td>\n",
       "    </tr>\n",
       "    <tr>\n",
       "      <th>deleterious</th>\n",
       "      <td>-0.692308</td>\n",
       "      <td>-0.623165</td>\n",
       "      <td>0.380656</td>\n",
       "      <td>101</td>\n",
       "    </tr>\n",
       "    <tr>\n",
       "      <th>neutral</th>\n",
       "      <td>0.000000</td>\n",
       "      <td>0.051175</td>\n",
       "      <td>0.561517</td>\n",
       "      <td>173</td>\n",
       "    </tr>\n",
       "    <tr>\n",
       "      <th rowspan=\"3\" valign=\"top\">2</th>\n",
       "      <th>beneficial</th>\n",
       "      <td>0.600000</td>\n",
       "      <td>2.063411</td>\n",
       "      <td>3.902785</td>\n",
       "      <td>11</td>\n",
       "    </tr>\n",
       "    <tr>\n",
       "      <th>deleterious</th>\n",
       "      <td>-0.812500</td>\n",
       "      <td>-0.626390</td>\n",
       "      <td>0.405080</td>\n",
       "      <td>97</td>\n",
       "    </tr>\n",
       "    <tr>\n",
       "      <th>neutral</th>\n",
       "      <td>0.000000</td>\n",
       "      <td>-0.115255</td>\n",
       "      <td>0.426855</td>\n",
       "      <td>227</td>\n",
       "    </tr>\n",
       "    <tr>\n",
       "      <th rowspan=\"3\" valign=\"top\">3</th>\n",
       "      <th>beneficial</th>\n",
       "      <td>0.102941</td>\n",
       "      <td>0.062434</td>\n",
       "      <td>0.419986</td>\n",
       "      <td>23</td>\n",
       "    </tr>\n",
       "    <tr>\n",
       "      <th>deleterious</th>\n",
       "      <td>-0.601171</td>\n",
       "      <td>-0.491575</td>\n",
       "      <td>0.505809</td>\n",
       "      <td>178</td>\n",
       "    </tr>\n",
       "    <tr>\n",
       "      <th>neutral</th>\n",
       "      <td>-0.020870</td>\n",
       "      <td>-0.102038</td>\n",
       "      <td>0.300432</td>\n",
       "      <td>430</td>\n",
       "    </tr>\n",
       "    <tr>\n",
       "      <th rowspan=\"3\" valign=\"top\">4</th>\n",
       "      <th>beneficial</th>\n",
       "      <td>0.222222</td>\n",
       "      <td>0.293770</td>\n",
       "      <td>0.628640</td>\n",
       "      <td>17</td>\n",
       "    </tr>\n",
       "    <tr>\n",
       "      <th>deleterious</th>\n",
       "      <td>-0.946429</td>\n",
       "      <td>-0.714866</td>\n",
       "      <td>0.377912</td>\n",
       "      <td>1473</td>\n",
       "    </tr>\n",
       "    <tr>\n",
       "      <th>neutral</th>\n",
       "      <td>-0.054545</td>\n",
       "      <td>-0.140572</td>\n",
       "      <td>0.233209</td>\n",
       "      <td>1830</td>\n",
       "    </tr>\n",
       "    <tr>\n",
       "      <th rowspan=\"3\" valign=\"top\">5</th>\n",
       "      <th>beneficial</th>\n",
       "      <td>0.101064</td>\n",
       "      <td>0.101064</td>\n",
       "      <td>0.142926</td>\n",
       "      <td>2</td>\n",
       "    </tr>\n",
       "    <tr>\n",
       "      <th>deleterious</th>\n",
       "      <td>-0.950000</td>\n",
       "      <td>-0.669951</td>\n",
       "      <td>0.389940</td>\n",
       "      <td>1353</td>\n",
       "    </tr>\n",
       "    <tr>\n",
       "      <th>neutral</th>\n",
       "      <td>-0.033333</td>\n",
       "      <td>-0.094742</td>\n",
       "      <td>0.206517</td>\n",
       "      <td>1088</td>\n",
       "    </tr>\n",
       "  </tbody>\n",
       "</table>\n",
       "</div>"
      ],
      "text/plain": [
       "                                        delta frac coding sites            \\\n",
       "                                                         median      mean   \n",
       "what      max components fitness effect                                     \n",
       "insertion 0              neutral                       1.000000       inf   \n",
       "          1              beneficial                    2.400000       inf   \n",
       "                         deleterious                  -0.692308 -0.623165   \n",
       "                         neutral                       0.000000  0.051175   \n",
       "          2              beneficial                    0.600000  2.063411   \n",
       "                         deleterious                  -0.812500 -0.626390   \n",
       "                         neutral                       0.000000 -0.115255   \n",
       "          3              beneficial                    0.102941  0.062434   \n",
       "                         deleterious                  -0.601171 -0.491575   \n",
       "                         neutral                      -0.020870 -0.102038   \n",
       "          4              beneficial                    0.222222  0.293770   \n",
       "                         deleterious                  -0.946429 -0.714866   \n",
       "                         neutral                      -0.054545 -0.140572   \n",
       "          5              beneficial                    0.101064  0.101064   \n",
       "                         deleterious                  -0.950000 -0.669951   \n",
       "                         neutral                      -0.033333 -0.094742   \n",
       "\n",
       "                                                         \n",
       "                                              std count  \n",
       "what      max components fitness effect                  \n",
       "insertion 0              neutral              NaN    34  \n",
       "          1              beneficial           NaN     9  \n",
       "                         deleterious     0.380656   101  \n",
       "                         neutral         0.561517   173  \n",
       "          2              beneficial      3.902785    11  \n",
       "                         deleterious     0.405080    97  \n",
       "                         neutral         0.426855   227  \n",
       "          3              beneficial      0.419986    23  \n",
       "                         deleterious     0.505809   178  \n",
       "                         neutral         0.300432   430  \n",
       "          4              beneficial      0.628640    17  \n",
       "                         deleterious     0.377912  1473  \n",
       "                         neutral         0.233209  1830  \n",
       "          5              beneficial      0.142926     2  \n",
       "                         deleterious     0.389940  1353  \n",
       "                         neutral         0.206517  1088  "
      ]
     },
     "metadata": {},
     "output_type": "display_data"
    },
    {
     "data": {
      "text/html": [
       "<div>\n",
       "<style scoped>\n",
       "    .dataframe tbody tr th:only-of-type {\n",
       "        vertical-align: middle;\n",
       "    }\n",
       "\n",
       "    .dataframe tbody tr th {\n",
       "        vertical-align: top;\n",
       "    }\n",
       "\n",
       "    .dataframe thead tr th {\n",
       "        text-align: left;\n",
       "    }\n",
       "\n",
       "    .dataframe thead tr:last-of-type th {\n",
       "        text-align: right;\n",
       "    }\n",
       "</style>\n",
       "<table border=\"1\" class=\"dataframe\">\n",
       "  <thead>\n",
       "    <tr>\n",
       "      <th></th>\n",
       "      <th></th>\n",
       "      <th></th>\n",
       "      <th colspan=\"4\" halign=\"left\">delta frac coding sites</th>\n",
       "    </tr>\n",
       "    <tr>\n",
       "      <th></th>\n",
       "      <th></th>\n",
       "      <th></th>\n",
       "      <th>median</th>\n",
       "      <th>mean</th>\n",
       "      <th>std</th>\n",
       "      <th>count</th>\n",
       "    </tr>\n",
       "    <tr>\n",
       "      <th>what</th>\n",
       "      <th>num tasks has</th>\n",
       "      <th>fitness effect</th>\n",
       "      <th></th>\n",
       "      <th></th>\n",
       "      <th></th>\n",
       "      <th></th>\n",
       "    </tr>\n",
       "  </thead>\n",
       "  <tbody>\n",
       "    <tr>\n",
       "      <th rowspan=\"28\" valign=\"top\">insertion</th>\n",
       "      <th rowspan=\"2\" valign=\"top\">0</th>\n",
       "      <th>beneficial</th>\n",
       "      <td>inf</td>\n",
       "      <td>inf</td>\n",
       "      <td>NaN</td>\n",
       "      <td>4</td>\n",
       "    </tr>\n",
       "    <tr>\n",
       "      <th>neutral</th>\n",
       "      <td>1.000000</td>\n",
       "      <td>inf</td>\n",
       "      <td>NaN</td>\n",
       "      <td>34</td>\n",
       "    </tr>\n",
       "    <tr>\n",
       "      <th rowspan=\"3\" valign=\"top\">1</th>\n",
       "      <th>beneficial</th>\n",
       "      <td>1.000000</td>\n",
       "      <td>1.262510</td>\n",
       "      <td>0.915742</td>\n",
       "      <td>13</td>\n",
       "    </tr>\n",
       "    <tr>\n",
       "      <th>deleterious</th>\n",
       "      <td>-0.692308</td>\n",
       "      <td>-0.652749</td>\n",
       "      <td>0.360009</td>\n",
       "      <td>85</td>\n",
       "    </tr>\n",
       "    <tr>\n",
       "      <th>neutral</th>\n",
       "      <td>0.000000</td>\n",
       "      <td>0.045828</td>\n",
       "      <td>0.586070</td>\n",
       "      <td>148</td>\n",
       "    </tr>\n",
       "    <tr>\n",
       "      <th rowspan=\"3\" valign=\"top\">2</th>\n",
       "      <th>beneficial</th>\n",
       "      <td>0.162963</td>\n",
       "      <td>2.358699</td>\n",
       "      <td>5.461317</td>\n",
       "      <td>6</td>\n",
       "    </tr>\n",
       "    <tr>\n",
       "      <th>deleterious</th>\n",
       "      <td>-0.741667</td>\n",
       "      <td>-0.577949</td>\n",
       "      <td>0.395109</td>\n",
       "      <td>26</td>\n",
       "    </tr>\n",
       "    <tr>\n",
       "      <th>neutral</th>\n",
       "      <td>0.000000</td>\n",
       "      <td>-0.077346</td>\n",
       "      <td>0.342736</td>\n",
       "      <td>82</td>\n",
       "    </tr>\n",
       "    <tr>\n",
       "      <th rowspan=\"3\" valign=\"top\">3</th>\n",
       "      <th>beneficial</th>\n",
       "      <td>0.095238</td>\n",
       "      <td>0.031198</td>\n",
       "      <td>0.591633</td>\n",
       "      <td>9</td>\n",
       "    </tr>\n",
       "    <tr>\n",
       "      <th>deleterious</th>\n",
       "      <td>-0.823529</td>\n",
       "      <td>-0.593874</td>\n",
       "      <td>0.429795</td>\n",
       "      <td>85</td>\n",
       "    </tr>\n",
       "    <tr>\n",
       "      <th>neutral</th>\n",
       "      <td>0.000000</td>\n",
       "      <td>-0.063887</td>\n",
       "      <td>0.495837</td>\n",
       "      <td>165</td>\n",
       "    </tr>\n",
       "    <tr>\n",
       "      <th rowspan=\"3\" valign=\"top\">4</th>\n",
       "      <th>beneficial</th>\n",
       "      <td>-0.014685</td>\n",
       "      <td>0.064237</td>\n",
       "      <td>0.406248</td>\n",
       "      <td>14</td>\n",
       "    </tr>\n",
       "    <tr>\n",
       "      <th>deleterious</th>\n",
       "      <td>-0.625000</td>\n",
       "      <td>-0.508391</td>\n",
       "      <td>0.476752</td>\n",
       "      <td>81</td>\n",
       "    </tr>\n",
       "    <tr>\n",
       "      <th>neutral</th>\n",
       "      <td>0.000000</td>\n",
       "      <td>-0.086759</td>\n",
       "      <td>0.302970</td>\n",
       "      <td>202</td>\n",
       "    </tr>\n",
       "    <tr>\n",
       "      <th rowspan=\"3\" valign=\"top\">5</th>\n",
       "      <th>beneficial</th>\n",
       "      <td>0.358876</td>\n",
       "      <td>0.263134</td>\n",
       "      <td>0.197995</td>\n",
       "      <td>6</td>\n",
       "    </tr>\n",
       "    <tr>\n",
       "      <th>deleterious</th>\n",
       "      <td>-0.896552</td>\n",
       "      <td>-0.564200</td>\n",
       "      <td>0.512730</td>\n",
       "      <td>73</td>\n",
       "    </tr>\n",
       "    <tr>\n",
       "      <th>neutral</th>\n",
       "      <td>-0.022497</td>\n",
       "      <td>-0.129672</td>\n",
       "      <td>0.259962</td>\n",
       "      <td>162</td>\n",
       "    </tr>\n",
       "    <tr>\n",
       "      <th rowspan=\"3\" valign=\"top\">6</th>\n",
       "      <th>beneficial</th>\n",
       "      <td>0.222222</td>\n",
       "      <td>0.148368</td>\n",
       "      <td>0.310998</td>\n",
       "      <td>7</td>\n",
       "    </tr>\n",
       "    <tr>\n",
       "      <th>deleterious</th>\n",
       "      <td>-0.903226</td>\n",
       "      <td>-0.571140</td>\n",
       "      <td>0.444571</td>\n",
       "      <td>143</td>\n",
       "    </tr>\n",
       "    <tr>\n",
       "      <th>neutral</th>\n",
       "      <td>-0.046512</td>\n",
       "      <td>-0.135508</td>\n",
       "      <td>0.250449</td>\n",
       "      <td>245</td>\n",
       "    </tr>\n",
       "    <tr>\n",
       "      <th rowspan=\"3\" valign=\"top\">7</th>\n",
       "      <th>beneficial</th>\n",
       "      <td>0.254902</td>\n",
       "      <td>0.254902</td>\n",
       "      <td>NaN</td>\n",
       "      <td>1</td>\n",
       "    </tr>\n",
       "    <tr>\n",
       "      <th>deleterious</th>\n",
       "      <td>-0.949153</td>\n",
       "      <td>-0.724539</td>\n",
       "      <td>0.376167</td>\n",
       "      <td>1041</td>\n",
       "    </tr>\n",
       "    <tr>\n",
       "      <th>neutral</th>\n",
       "      <td>-0.064516</td>\n",
       "      <td>-0.148390</td>\n",
       "      <td>0.231369</td>\n",
       "      <td>1443</td>\n",
       "    </tr>\n",
       "    <tr>\n",
       "      <th rowspan=\"3\" valign=\"top\">8</th>\n",
       "      <th>beneficial</th>\n",
       "      <td>0.101064</td>\n",
       "      <td>0.101064</td>\n",
       "      <td>0.142926</td>\n",
       "      <td>2</td>\n",
       "    </tr>\n",
       "    <tr>\n",
       "      <th>deleterious</th>\n",
       "      <td>-0.947368</td>\n",
       "      <td>-0.759841</td>\n",
       "      <td>0.335634</td>\n",
       "      <td>594</td>\n",
       "    </tr>\n",
       "    <tr>\n",
       "      <th>neutral</th>\n",
       "      <td>-0.019802</td>\n",
       "      <td>-0.078622</td>\n",
       "      <td>0.232979</td>\n",
       "      <td>371</td>\n",
       "    </tr>\n",
       "    <tr>\n",
       "      <th rowspan=\"2\" valign=\"top\">9</th>\n",
       "      <th>deleterious</th>\n",
       "      <td>-0.953596</td>\n",
       "      <td>-0.633167</td>\n",
       "      <td>0.405582</td>\n",
       "      <td>1074</td>\n",
       "    </tr>\n",
       "    <tr>\n",
       "      <th>neutral</th>\n",
       "      <td>-0.037975</td>\n",
       "      <td>-0.103640</td>\n",
       "      <td>0.200443</td>\n",
       "      <td>930</td>\n",
       "    </tr>\n",
       "  </tbody>\n",
       "</table>\n",
       "</div>"
      ],
      "text/plain": [
       "                                       delta frac coding sites            \\\n",
       "                                                        median      mean   \n",
       "what      num tasks has fitness effect                                     \n",
       "insertion 0             beneficial                         inf       inf   \n",
       "                        neutral                       1.000000       inf   \n",
       "          1             beneficial                    1.000000  1.262510   \n",
       "                        deleterious                  -0.692308 -0.652749   \n",
       "                        neutral                       0.000000  0.045828   \n",
       "          2             beneficial                    0.162963  2.358699   \n",
       "                        deleterious                  -0.741667 -0.577949   \n",
       "                        neutral                       0.000000 -0.077346   \n",
       "          3             beneficial                    0.095238  0.031198   \n",
       "                        deleterious                  -0.823529 -0.593874   \n",
       "                        neutral                       0.000000 -0.063887   \n",
       "          4             beneficial                   -0.014685  0.064237   \n",
       "                        deleterious                  -0.625000 -0.508391   \n",
       "                        neutral                       0.000000 -0.086759   \n",
       "          5             beneficial                    0.358876  0.263134   \n",
       "                        deleterious                  -0.896552 -0.564200   \n",
       "                        neutral                      -0.022497 -0.129672   \n",
       "          6             beneficial                    0.222222  0.148368   \n",
       "                        deleterious                  -0.903226 -0.571140   \n",
       "                        neutral                      -0.046512 -0.135508   \n",
       "          7             beneficial                    0.254902  0.254902   \n",
       "                        deleterious                  -0.949153 -0.724539   \n",
       "                        neutral                      -0.064516 -0.148390   \n",
       "          8             beneficial                    0.101064  0.101064   \n",
       "                        deleterious                  -0.947368 -0.759841   \n",
       "                        neutral                      -0.019802 -0.078622   \n",
       "          9             deleterious                  -0.953596 -0.633167   \n",
       "                        neutral                      -0.037975 -0.103640   \n",
       "\n",
       "                                                        \n",
       "                                             std count  \n",
       "what      num tasks has fitness effect                  \n",
       "insertion 0             beneficial           NaN     4  \n",
       "                        neutral              NaN    34  \n",
       "          1             beneficial      0.915742    13  \n",
       "                        deleterious     0.360009    85  \n",
       "                        neutral         0.586070   148  \n",
       "          2             beneficial      5.461317     6  \n",
       "                        deleterious     0.395109    26  \n",
       "                        neutral         0.342736    82  \n",
       "          3             beneficial      0.591633     9  \n",
       "                        deleterious     0.429795    85  \n",
       "                        neutral         0.495837   165  \n",
       "          4             beneficial      0.406248    14  \n",
       "                        deleterious     0.476752    81  \n",
       "                        neutral         0.302970   202  \n",
       "          5             beneficial      0.197995     6  \n",
       "                        deleterious     0.512730    73  \n",
       "                        neutral         0.259962   162  \n",
       "          6             beneficial      0.310998     7  \n",
       "                        deleterious     0.444571   143  \n",
       "                        neutral         0.250449   245  \n",
       "          7             beneficial           NaN     1  \n",
       "                        deleterious     0.376167  1041  \n",
       "                        neutral         0.231369  1443  \n",
       "          8             beneficial      0.142926     2  \n",
       "                        deleterious     0.335634   594  \n",
       "                        neutral         0.232979   371  \n",
       "          9             deleterious     0.405582  1074  \n",
       "                        neutral         0.200443   930  "
      ]
     },
     "metadata": {},
     "output_type": "display_data"
    }
   ],
   "source": [
    "for x in \"fitness effect\", \"max components\", \"num tasks has\":\n",
    "    display(\n",
    "        dfz.to_pandas().groupby(\n",
    "            [\"what\", x, \"fitness effect\"],\n",
    "        ).agg(\n",
    "            {\n",
    "                \"delta frac coding sites\": [\"median\", \"mean\", \"std\", \"count\"],\n",
    "            },\n",
    "        ),\n",
    "    )\n"
   ]
  },
  {
   "cell_type": "code",
   "execution_count": 37,
   "metadata": {
    "execution": {
     "iopub.execute_input": "2025-08-11T20:57:31.103906Z",
     "iopub.status.busy": "2025-08-11T20:57:31.103579Z",
     "iopub.status.idle": "2025-08-11T20:57:34.341791Z",
     "shell.execute_reply": "2025-08-11T20:57:34.341329Z"
    }
   },
   "outputs": [
    {
     "name": "stdout",
     "output_type": "stream",
     "text": [
      "teeplots/col=num-tasks-has+kind=hist+row=what+viz=displot+x=delta-num-coding-sites+y=delta-num-tasks-has+ext=.pdf\n"
     ]
    },
    {
     "name": "stdout",
     "output_type": "stream",
     "text": [
      "teeplots/col=num-tasks-has+kind=hist+row=what+viz=displot+x=delta-num-coding-sites+y=delta-num-tasks-has+ext=.png\n"
     ]
    },
    {
     "data": {
      "image/png": "[encoded data removed]",
      "text/plain": [
       "<Figure size 5000x500 with 10 Axes>"
      ]
     },
     "metadata": {},
     "output_type": "display_data"
    },
    {
     "data": {
      "text/plain": [
       "<seaborn.axisgrid.FacetGrid at 0x7fd72d908800>"
      ]
     },
     "execution_count": 37,
     "metadata": {},
     "output_type": "execute_result"
    }
   ],
   "source": [
    "tp.tee(\n",
    "    sns.displot,\n",
    "    data=dfz.to_pandas(),\n",
    "    x=\"delta num coding sites\",\n",
    "    y=\"delta num tasks has\",\n",
    "    row=\"what\",\n",
    "    common_norm=False,\n",
    "    col=\"num tasks has\",\n",
    "    kind=\"hist\",\n",
    ")\n"
   ]
  }
 ],
 "metadata": {
  "kernelspec": {
   "display_name": "Python 3",
   "language": "python",
   "name": "python3"
  },
  "language_info": {
   "codemirror_mode": {
    "name": "ipython",
    "version": 3
   },
   "file_extension": ".py",
   "mimetype": "text/x-python",
   "name": "python",
   "nbconvert_exporter": "python",
   "pygments_lexer": "ipython3",
   "version": "3.12.3"
  }
 },
 "nbformat": 4,
 "nbformat_minor": 2
}
