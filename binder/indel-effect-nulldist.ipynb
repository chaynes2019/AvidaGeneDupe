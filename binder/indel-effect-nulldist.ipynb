{
 "cells": [
  {
   "cell_type": "code",
   "execution_count": 1,
   "metadata": {
    "execution": {
     "iopub.execute_input": "2025-08-11T02:10:26.063870Z",
     "iopub.status.busy": "2025-08-11T02:10:26.063704Z",
     "iopub.status.idle": "2025-08-11T02:10:27.172087Z",
     "shell.execute_reply": "2025-08-11T02:10:27.171572Z"
    }
   },
   "outputs": [],
   "source": [
    "import requests\n",
    "import os\n",
    "\n",
    "import numpy as np\n",
    "from matplotlib import pyplot as plt\n",
    "import pandas as pd\n",
    "import polars as pl\n",
    "import seaborn as sns\n",
    "from teeplot import teeplot as tp\n",
    "from tqdm import tqdm\n"
   ]
  },
  {
   "cell_type": "code",
   "execution_count": 2,
   "metadata": {
    "execution": {
     "iopub.execute_input": "2025-08-11T02:10:27.174253Z",
     "iopub.status.busy": "2025-08-11T02:10:27.173828Z",
     "iopub.status.idle": "2025-08-11T02:10:27.177477Z",
     "shell.execute_reply": "2025-08-11T02:10:27.177067Z"
    }
   },
   "outputs": [],
   "source": [
    "def scan_parquet(slug: str) -> pl.LazyFrame:\n",
    "    response = requests.get(f\"https://osf.io/{slug}/download\", stream=True)\n",
    "\n",
    "    total_size = int(response.headers.get(\"content-length\", 0))\n",
    "    block_size = 1024\n",
    "\n",
    "    with tqdm(total=total_size, unit=\"B\", unit_scale=True) as progress_bar:\n",
    "        with open(f\"/tmp/{slug}\", \"wb\") as file:\n",
    "            for data in response.iter_content(block_size):\n",
    "                progress_bar.update(len(data))\n",
    "                file.write(data)\n",
    "\n",
    "    return pl.scan_parquet(f\"/tmp/{slug}\")\n"
   ]
  },
  {
   "cell_type": "code",
   "execution_count": 3,
   "metadata": {
    "execution": {
     "iopub.execute_input": "2025-08-11T02:10:27.179076Z",
     "iopub.status.busy": "2025-08-11T02:10:27.178761Z",
     "iopub.status.idle": "2025-08-11T02:10:27.181497Z",
     "shell.execute_reply": "2025-08-11T02:10:27.181064Z"
    }
   },
   "outputs": [],
   "source": [
    "if \"CI\" not in os.environ:\n",
    "    df1 = scan_parquet(\n",
    "        \"musp8\",\n",
    "    ).with_columns(\n",
    "        pl.lit(\"baseline\").alias(\"what\"),\n",
    "    ).filter(\n",
    "        pl.col(\"Treatment\") == \"Slip-duplicate\",\n",
    "    ).collect()\n",
    "    len(df1)\n"
   ]
  },
  {
   "cell_type": "code",
   "execution_count": 4,
   "metadata": {
    "execution": {
     "iopub.execute_input": "2025-08-11T02:10:27.183104Z",
     "iopub.status.busy": "2025-08-11T02:10:27.182789Z",
     "iopub.status.idle": "2025-08-11T02:10:27.185398Z",
     "shell.execute_reply": "2025-08-11T02:10:27.185005Z"
    }
   },
   "outputs": [],
   "source": [
    "if \"CI\" not in os.environ:\n",
    "    df2 = scan_parquet(\n",
    "        \"72d6m\",\n",
    "    ).filter(\n",
    "        pl.col(\"Treatment\") == \"Slip-duplicate\",\n",
    "    ).with_columns(\n",
    "        pl.lit(\"insertions\").alias(\"what\"),\n",
    "    ).collect()\n",
    "    len(df2)\n"
   ]
  },
  {
   "cell_type": "code",
   "execution_count": 5,
   "metadata": {
    "execution": {
     "iopub.execute_input": "2025-08-11T02:10:27.186962Z",
     "iopub.status.busy": "2025-08-11T02:10:27.186653Z",
     "iopub.status.idle": "2025-08-11T02:10:27.189238Z",
     "shell.execute_reply": "2025-08-11T02:10:27.188867Z"
    }
   },
   "outputs": [],
   "source": [
    "if \"CI\" not in os.environ:\n",
    "    df3 = scan_parquet(\n",
    "        \"sudfh\",\n",
    "    ).filter(\n",
    "        pl.col(\"Treatment\") == \"Slip-duplicate\",\n",
    "    ).with_columns(\n",
    "        pl.lit(\"deletions\").alias(\"what\"),\n",
    "    ).collect()\n",
    "    len(df3)\n"
   ]
  },
  {
   "cell_type": "code",
   "execution_count": 6,
   "metadata": {
    "execution": {
     "iopub.execute_input": "2025-08-11T02:10:27.190596Z",
     "iopub.status.busy": "2025-08-11T02:10:27.190452Z",
     "iopub.status.idle": "2025-08-11T02:10:27.192948Z",
     "shell.execute_reply": "2025-08-11T02:10:27.192567Z"
    }
   },
   "outputs": [],
   "source": [
    "if \"CI\" not in os.environ:\n",
    "    df = pl.concat(\n",
    "        [df1.lazy(), df2.lazy(), df3.lazy()],\n",
    "        how=\"vertical_relaxed\",\n",
    "    ).collect()\n"
   ]
  },
  {
   "cell_type": "code",
   "execution_count": 7,
   "metadata": {
    "execution": {
     "iopub.execute_input": "2025-08-11T02:10:27.194537Z",
     "iopub.status.busy": "2025-08-11T02:10:27.194211Z",
     "iopub.status.idle": "2025-08-11T02:10:27.196873Z",
     "shell.execute_reply": "2025-08-11T02:10:27.196505Z"
    }
   },
   "outputs": [],
   "source": [
    "if \"CI\" not in os.environ:\n",
    "    df = df.with_columns(\n",
    "        Components=pl.col(\"Task\").replace_strict(\n",
    "            {\n",
    "                \"AND\": 2,\n",
    "                \"ANDNOT\": 3,\n",
    "                \"NAND\": 1,\n",
    "                \"NOR\": 4,\n",
    "                \"NOT\": 1,\n",
    "                \"OR\": 3,\n",
    "                \"ORNOT\": 2,\n",
    "                \"XOR\": 4,\n",
    "                \"EQUALS\": 5,\n",
    "            },\n",
    "        ),\n",
    "    )\n"
   ]
  },
  {
   "cell_type": "code",
   "execution_count": 8,
   "metadata": {
    "execution": {
     "iopub.execute_input": "2025-08-11T02:10:27.198316Z",
     "iopub.status.busy": "2025-08-11T02:10:27.198063Z",
     "iopub.status.idle": "2025-08-11T02:10:27.200821Z",
     "shell.execute_reply": "2025-08-11T02:10:27.200335Z"
    }
   },
   "outputs": [],
   "source": [
    "if \"CI\" not in os.environ:\n",
    "    df = df.with_columns(\n",
    "        (\n",
    "            pl.col(\"Components\")\n",
    "            * pl.col(\"Has Task\")\n",
    "        ).max().over(\n",
    "            [\"Treatment\", \"Run ID\", \"Generation Born\"],\n",
    "        ).alias(\"max components\"),\n",
    "    )\n"
   ]
  },
  {
   "cell_type": "code",
   "execution_count": 9,
   "metadata": {
    "execution": {
     "iopub.execute_input": "2025-08-11T02:10:27.202494Z",
     "iopub.status.busy": "2025-08-11T02:10:27.202102Z",
     "iopub.status.idle": "2025-08-11T02:10:27.204868Z",
     "shell.execute_reply": "2025-08-11T02:10:27.204494Z"
    }
   },
   "outputs": [],
   "source": [
    "if \"CI\" not in os.environ:\n",
    "    df = df.with_columns(\n",
    "        TaskNumber=pl.col(\"Task\").replace_strict(\n",
    "            dict(map(reversed, enumerate(df[\"Task\"].unique()))),\n",
    "        ),\n",
    "    ).with_columns(\n",
    "        TaskBit=np.left_shift(1, pl.col(\"TaskNumber\")),\n",
    "    )\n"
   ]
  },
  {
   "cell_type": "code",
   "execution_count": 10,
   "metadata": {
    "execution": {
     "iopub.execute_input": "2025-08-11T02:10:27.206385Z",
     "iopub.status.busy": "2025-08-11T02:10:27.206103Z",
     "iopub.status.idle": "2025-08-11T02:10:27.208715Z",
     "shell.execute_reply": "2025-08-11T02:10:27.208313Z"
    }
   },
   "outputs": [],
   "source": [
    "if \"CI\" not in os.environ:\n",
    "    df = df.with_columns(\n",
    "        SetTaskBit=pl.col(\"TaskBit\") * pl.col(\"Has Task\"),\n",
    "    )\n"
   ]
  },
  {
   "cell_type": "code",
   "execution_count": 11,
   "metadata": {
    "execution": {
     "iopub.execute_input": "2025-08-11T02:10:27.210361Z",
     "iopub.status.busy": "2025-08-11T02:10:27.209971Z",
     "iopub.status.idle": "2025-08-11T02:10:27.212915Z",
     "shell.execute_reply": "2025-08-11T02:10:27.212422Z"
    }
   },
   "outputs": [],
   "source": [
    "if \"CI\" not in os.environ:\n",
    "    df = df.with_columns(\n",
    "        pl.col(\"SetTaskBit\").bitwise_or().over(\n",
    "            [\"Treatment\", \"Run ID\", \"Generation Born\", \"what\"],\n",
    "        )\n",
    "        .alias(\"SetTaskBits\"),\n",
    "    )\n"
   ]
  },
  {
   "cell_type": "code",
   "execution_count": 12,
   "metadata": {
    "execution": {
     "iopub.execute_input": "2025-08-11T02:10:27.214573Z",
     "iopub.status.busy": "2025-08-11T02:10:27.214303Z",
     "iopub.status.idle": "2025-08-11T02:10:27.217016Z",
     "shell.execute_reply": "2025-08-11T02:10:27.216536Z"
    }
   },
   "outputs": [],
   "source": [
    "if \"CI\" not in os.environ:\n",
    "    df = df.with_columns(\n",
    "        pl.col(\"Is Task Coding Site\").any().over(\n",
    "            [\"Treatment\", \"Run ID\", \"Generation Born\", \"Site\", \"what\"],\n",
    "        )\n",
    "        .alias(\"is any coding site\"),\n",
    "    )\n"
   ]
  },
  {
   "cell_type": "code",
   "execution_count": 13,
   "metadata": {
    "execution": {
     "iopub.execute_input": "2025-08-11T02:10:27.218675Z",
     "iopub.status.busy": "2025-08-11T02:10:27.218365Z",
     "iopub.status.idle": "2025-08-11T02:10:27.221071Z",
     "shell.execute_reply": "2025-08-11T02:10:27.220589Z"
    }
   },
   "outputs": [],
   "source": [
    "if \"CI\" not in os.environ:\n",
    "    df = df.with_columns(\n",
    "        pl.col(\"Has Task\").sum().over(\n",
    "            [\"Treatment\", \"Run ID\", \"Generation Born\", \"Site\", \"what\"],\n",
    "        )\n",
    "        .alias(\"num tasks has\"),\n",
    "    )\n"
   ]
  },
  {
   "cell_type": "code",
   "execution_count": 14,
   "metadata": {
    "execution": {
     "iopub.execute_input": "2025-08-11T02:10:27.222715Z",
     "iopub.status.busy": "2025-08-11T02:10:27.222455Z",
     "iopub.status.idle": "2025-08-11T02:10:27.225234Z",
     "shell.execute_reply": "2025-08-11T02:10:27.224736Z"
    }
   },
   "outputs": [],
   "source": [
    "if \"CI\" not in os.environ:\n",
    "    assert df.lazy().group_by(\n",
    "        [\"Treatment\", \"Run ID\", \"Generation Born\", \"what\"]\n",
    "    ).agg(\n",
    "        pl.col(\"num tasks has\").n_unique(),\n",
    "    ).select(\"num tasks has\").max().collect().item() == 1\n"
   ]
  },
  {
   "cell_type": "code",
   "execution_count": 15,
   "metadata": {
    "execution": {
     "iopub.execute_input": "2025-08-11T02:10:27.226801Z",
     "iopub.status.busy": "2025-08-11T02:10:27.226551Z",
     "iopub.status.idle": "2025-08-11T02:10:27.229271Z",
     "shell.execute_reply": "2025-08-11T02:10:27.228769Z"
    }
   },
   "outputs": [],
   "source": [
    "if \"CI\" not in os.environ:\n",
    "    df = df.with_columns(\n",
    "        pl.col(\"is any coding site\").sum().over(\n",
    "            [\"Treatment\", \"Run ID\", \"Generation Born\", \"Task\", \"what\"],\n",
    "        ).alias(\"num coding sites\"),\n",
    "    )\n"
   ]
  },
  {
   "cell_type": "code",
   "execution_count": 16,
   "metadata": {
    "execution": {
     "iopub.execute_input": "2025-08-11T02:10:27.230887Z",
     "iopub.status.busy": "2025-08-11T02:10:27.230610Z",
     "iopub.status.idle": "2025-08-11T02:10:28.456317Z",
     "shell.execute_reply": "2025-08-11T02:10:28.455772Z"
    }
   },
   "outputs": [
    {
     "name": "stderr",
     "output_type": "stream",
     "text": [
      "\r",
      "  0%|          | 0.00/219k [00:00<?, ?B/s]"
     ]
    },
    {
     "name": "stderr",
     "output_type": "stream",
     "text": [
      "\r",
      "100%|██████████| 219k/219k [00:00<00:00, 9.98MB/s]"
     ]
    },
    {
     "name": "stderr",
     "output_type": "stream",
     "text": [
      "\n"
     ]
    },
    {
     "data": {
      "text/plain": [
       "['Treatment',\n",
       " 'Run ID',\n",
       " 'Generation Born',\n",
       " 'what',\n",
       " 'Task',\n",
       " 'Genome Length',\n",
       " 'Lineage Generation Index',\n",
       " 'Is Task Coding Site',\n",
       " 'Is Viability Site',\n",
       " 'Site',\n",
       " 'Update Analyzed',\n",
       " 'Has Task',\n",
       " 'Update Born',\n",
       " 'Components',\n",
       " 'max components',\n",
       " 'TaskNumber',\n",
       " 'TaskBit',\n",
       " 'SetTaskBit',\n",
       " 'SetTaskBits',\n",
       " 'is any coding site',\n",
       " 'num tasks has',\n",
       " 'num coding sites']"
      ]
     },
     "execution_count": 16,
     "metadata": {},
     "output_type": "execute_result"
    }
   ],
   "source": [
    "if \"CI\" not in os.environ:\n",
    "    dfx = df.group_by(\n",
    "        [\"Treatment\", \"Run ID\", \"Generation Born\", \"what\"],\n",
    "    ).first()\n",
    "else:\n",
    "    dfx = scan_parquet(\"8xt2p\").collect()\n",
    "dfx.columns\n"
   ]
  },
  {
   "cell_type": "code",
   "execution_count": 17,
   "metadata": {
    "execution": {
     "iopub.execute_input": "2025-08-11T02:10:28.461305Z",
     "iopub.status.busy": "2025-08-11T02:10:28.461006Z",
     "iopub.status.idle": "2025-08-11T02:10:28.467609Z",
     "shell.execute_reply": "2025-08-11T02:10:28.467184Z"
    }
   },
   "outputs": [],
   "source": [
    "dfx.write_parquet(\"/tmp/indel-effect-nulldist.pqt\")\n"
   ]
  },
  {
   "cell_type": "code",
   "execution_count": 18,
   "metadata": {
    "execution": {
     "iopub.execute_input": "2025-08-11T02:10:28.469477Z",
     "iopub.status.busy": "2025-08-11T02:10:28.469037Z",
     "iopub.status.idle": "2025-08-11T02:10:28.481599Z",
     "shell.execute_reply": "2025-08-11T02:10:28.481141Z"
    }
   },
   "outputs": [],
   "source": [
    "df1_ = dfx.filter(pl.col(\"what\") == \"baseline\").sort(\n",
    "    \"Treatment\", \"Run ID\", \"Generation Born\"\n",
    ")\n",
    "df2_ = dfx.filter(pl.col(\"what\") == \"insertions\").sort(\n",
    "    \"Treatment\", \"Run ID\", \"Generation Born\"\n",
    ")\n",
    "df3_ = dfx.filter(pl.col(\"what\") == \"deletions\").sort(\n",
    "    \"Treatment\", \"Run ID\", \"Generation Born\"\n",
    ")\n"
   ]
  },
  {
   "cell_type": "code",
   "execution_count": 19,
   "metadata": {
    "execution": {
     "iopub.execute_input": "2025-08-11T02:10:28.483329Z",
     "iopub.status.busy": "2025-08-11T02:10:28.483111Z",
     "iopub.status.idle": "2025-08-11T02:10:28.486040Z",
     "shell.execute_reply": "2025-08-11T02:10:28.485556Z"
    }
   },
   "outputs": [],
   "source": [
    "delta_ncs_insertion = (\n",
    "    df2_[\"num coding sites\"].to_numpy().astype(np.int64)\n",
    "    - df1_[\"num coding sites\"].to_numpy().astype(np.int64)\n",
    ")\n"
   ]
  },
  {
   "cell_type": "code",
   "execution_count": 20,
   "metadata": {
    "execution": {
     "iopub.execute_input": "2025-08-11T02:10:28.487608Z",
     "iopub.status.busy": "2025-08-11T02:10:28.487355Z",
     "iopub.status.idle": "2025-08-11T02:10:28.490100Z",
     "shell.execute_reply": "2025-08-11T02:10:28.489612Z"
    }
   },
   "outputs": [],
   "source": [
    "delta_ncs_deletion = (\n",
    "    df3_[\"num coding sites\"].to_numpy().astype(np.int64)\n",
    "    - df1_[\"num coding sites\"].to_numpy().astype(np.int64)\n",
    ")\n"
   ]
  },
  {
   "cell_type": "code",
   "execution_count": 21,
   "metadata": {
    "execution": {
     "iopub.execute_input": "2025-08-11T02:10:28.491658Z",
     "iopub.status.busy": "2025-08-11T02:10:28.491405Z",
     "iopub.status.idle": "2025-08-11T02:10:28.493905Z",
     "shell.execute_reply": "2025-08-11T02:10:28.493524Z"
    }
   },
   "outputs": [],
   "source": [
    "delta_nth_insertion = (\n",
    "    df2_[\"num tasks has\"].to_numpy().astype(np.int64)\n",
    "    - df1_[\"num tasks has\"].to_numpy().astype(np.int64)\n",
    ")\n"
   ]
  },
  {
   "cell_type": "code",
   "execution_count": 22,
   "metadata": {
    "execution": {
     "iopub.execute_input": "2025-08-11T02:10:28.495600Z",
     "iopub.status.busy": "2025-08-11T02:10:28.495166Z",
     "iopub.status.idle": "2025-08-11T02:10:28.497755Z",
     "shell.execute_reply": "2025-08-11T02:10:28.497374Z"
    }
   },
   "outputs": [],
   "source": [
    "delta_nth_deletion = (\n",
    "    df3_[\"num tasks has\"].to_numpy().astype(np.int64)\n",
    "    - df1_[\"num tasks has\"].to_numpy().astype(np.int64)\n",
    ")\n"
   ]
  },
  {
   "cell_type": "code",
   "execution_count": 23,
   "metadata": {
    "execution": {
     "iopub.execute_input": "2025-08-11T02:10:28.499168Z",
     "iopub.status.busy": "2025-08-11T02:10:28.499009Z",
     "iopub.status.idle": "2025-08-11T02:10:28.501532Z",
     "shell.execute_reply": "2025-08-11T02:10:28.501134Z"
    }
   },
   "outputs": [],
   "source": [
    "delta_tasks_insertion = (\n",
    "    df2_[\"SetTaskBits\"].to_numpy().astype(np.int64)\n",
    "    != df1_[\"SetTaskBits\"].to_numpy().astype(np.int64)\n",
    ")\n"
   ]
  },
  {
   "cell_type": "code",
   "execution_count": 24,
   "metadata": {
    "execution": {
     "iopub.execute_input": "2025-08-11T02:10:28.503078Z",
     "iopub.status.busy": "2025-08-11T02:10:28.502821Z",
     "iopub.status.idle": "2025-08-11T02:10:28.505617Z",
     "shell.execute_reply": "2025-08-11T02:10:28.505094Z"
    }
   },
   "outputs": [],
   "source": [
    "delta_tasks_deletion = (\n",
    "    df3_[\"SetTaskBits\"].to_numpy().astype(np.int64)\n",
    "    != df1_[\"SetTaskBits\"].to_numpy().astype(np.int64)\n",
    ")\n"
   ]
  },
  {
   "cell_type": "code",
   "execution_count": 25,
   "metadata": {
    "execution": {
     "iopub.execute_input": "2025-08-11T02:10:28.507292Z",
     "iopub.status.busy": "2025-08-11T02:10:28.506898Z",
     "iopub.status.idle": "2025-08-11T02:10:28.509732Z",
     "shell.execute_reply": "2025-08-11T02:10:28.509243Z"
    }
   },
   "outputs": [],
   "source": [
    "gained_task_insertion = (\n",
    "    df2_[\"SetTaskBits\"].to_numpy().astype(np.int64)\n",
    "    & np.invert(df1_[\"SetTaskBits\"].to_numpy().astype(np.int64))\n",
    ").astype(bool)\n"
   ]
  },
  {
   "cell_type": "code",
   "execution_count": 26,
   "metadata": {
    "execution": {
     "iopub.execute_input": "2025-08-11T02:10:28.511407Z",
     "iopub.status.busy": "2025-08-11T02:10:28.511101Z",
     "iopub.status.idle": "2025-08-11T02:10:28.513808Z",
     "shell.execute_reply": "2025-08-11T02:10:28.513399Z"
    }
   },
   "outputs": [],
   "source": [
    "gained_task_deletion = (\n",
    "    df3_[\"SetTaskBits\"].to_numpy().astype(np.int64)\n",
    "    & np.invert(df1_[\"SetTaskBits\"].to_numpy().astype(np.int64))\n",
    ").astype(bool)\n"
   ]
  },
  {
   "cell_type": "code",
   "execution_count": 27,
   "metadata": {
    "execution": {
     "iopub.execute_input": "2025-08-11T02:10:28.515502Z",
     "iopub.status.busy": "2025-08-11T02:10:28.515123Z",
     "iopub.status.idle": "2025-08-11T02:10:28.517799Z",
     "shell.execute_reply": "2025-08-11T02:10:28.517427Z"
    }
   },
   "outputs": [],
   "source": [
    "lost_task_insertion = (\n",
    "    np.invert(df2_[\"SetTaskBits\"].to_numpy().astype(np.int64))\n",
    "    & df1_[\"SetTaskBits\"].to_numpy().astype(np.int64)\n",
    ").astype(bool)\n"
   ]
  },
  {
   "cell_type": "code",
   "execution_count": 28,
   "metadata": {
    "execution": {
     "iopub.execute_input": "2025-08-11T02:10:28.519364Z",
     "iopub.status.busy": "2025-08-11T02:10:28.519092Z",
     "iopub.status.idle": "2025-08-11T02:10:28.521884Z",
     "shell.execute_reply": "2025-08-11T02:10:28.521385Z"
    }
   },
   "outputs": [],
   "source": [
    "lost_task_deletion = (\n",
    "    np.invert(df3_[\"SetTaskBits\"].to_numpy().astype(np.int64))\n",
    "    & df1_[\"SetTaskBits\"].to_numpy().astype(np.int64)\n",
    ").astype(bool)\n"
   ]
  },
  {
   "cell_type": "code",
   "execution_count": 29,
   "metadata": {
    "execution": {
     "iopub.execute_input": "2025-08-11T02:10:28.523715Z",
     "iopub.status.busy": "2025-08-11T02:10:28.523240Z",
     "iopub.status.idle": "2025-08-11T02:10:28.525720Z",
     "shell.execute_reply": "2025-08-11T02:10:28.525341Z"
    }
   },
   "outputs": [],
   "source": [
    "fitness_effect_lookup = {\n",
    "    -1: \"deleterious\",\n",
    "    0: \"neutral\",\n",
    "    1: \"beneficial\",\n",
    "}\n"
   ]
  },
  {
   "cell_type": "code",
   "execution_count": 30,
   "metadata": {
    "execution": {
     "iopub.execute_input": "2025-08-11T02:10:28.527259Z",
     "iopub.status.busy": "2025-08-11T02:10:28.527078Z",
     "iopub.status.idle": "2025-08-11T02:10:28.530853Z",
     "shell.execute_reply": "2025-08-11T02:10:28.530457Z"
    }
   },
   "outputs": [],
   "source": [
    "fitness_effect_insertion = np.vectorize(fitness_effect_lookup.__getitem__)(\n",
    "    np.sign(2 * gained_task_insertion - lost_task_insertion),\n",
    ")\n"
   ]
  },
  {
   "cell_type": "code",
   "execution_count": 31,
   "metadata": {
    "execution": {
     "iopub.execute_input": "2025-08-11T02:10:28.532303Z",
     "iopub.status.busy": "2025-08-11T02:10:28.532129Z",
     "iopub.status.idle": "2025-08-11T02:10:28.535800Z",
     "shell.execute_reply": "2025-08-11T02:10:28.535425Z"
    }
   },
   "outputs": [],
   "source": [
    "fitness_effect_deletion = np.vectorize(fitness_effect_lookup.__getitem__)(\n",
    "    np.sign(2 * gained_task_insertion - lost_task_insertion),\n",
    ")\n"
   ]
  },
  {
   "cell_type": "code",
   "execution_count": 32,
   "metadata": {
    "execution": {
     "iopub.execute_input": "2025-08-11T02:10:28.537284Z",
     "iopub.status.busy": "2025-08-11T02:10:28.537106Z",
     "iopub.status.idle": "2025-08-11T02:10:28.548868Z",
     "shell.execute_reply": "2025-08-11T02:10:28.548383Z"
    }
   },
   "outputs": [
    {
     "data": {
      "text/html": [
       "<div><style>\n",
       ".dataframe > thead > tr,\n",
       ".dataframe > tbody > tr {\n",
       "  text-align: right;\n",
       "  white-space: pre-wrap;\n",
       "}\n",
       "</style>\n",
       "<small>shape: (7_403, 14)</small><table border=\"1\" class=\"dataframe\"><thead><tr><th>Treatment</th><th>Run ID</th><th>Generation Born</th><th>what</th><th>delta num coding sites</th><th>delta num tasks has</th><th>num tasks has</th><th>num coding sites</th><th>delta tasks</th><th>gained task</th><th>lost task</th><th>max components</th><th>fitness effect</th><th>delta frac coding sites</th></tr><tr><td>str</td><td>str</td><td>i64</td><td>str</td><td>i64</td><td>i64</td><td>u32</td><td>u32</td><td>bool</td><td>bool</td><td>bool</td><td>i64</td><td>str</td><td>f64</td></tr></thead><tbody><tr><td>&quot;Slip-duplicate&quot;</td><td>&quot;run_1590&quot;</td><td>0</td><td>&quot;insertion&quot;</td><td>0</td><td>0</td><td>0</td><td>0</td><td>false</td><td>false</td><td>false</td><td>0</td><td>&quot;neutral&quot;</td><td>NaN</td></tr><tr><td>&quot;Slip-duplicate&quot;</td><td>&quot;run_1590&quot;</td><td>12</td><td>&quot;insertion&quot;</td><td>0</td><td>0</td><td>0</td><td>0</td><td>false</td><td>false</td><td>false</td><td>0</td><td>&quot;neutral&quot;</td><td>NaN</td></tr><tr><td>&quot;Slip-duplicate&quot;</td><td>&quot;run_1590&quot;</td><td>18</td><td>&quot;insertion&quot;</td><td>0</td><td>0</td><td>0</td><td>0</td><td>false</td><td>false</td><td>false</td><td>0</td><td>&quot;neutral&quot;</td><td>NaN</td></tr><tr><td>&quot;Slip-duplicate&quot;</td><td>&quot;run_1590&quot;</td><td>28</td><td>&quot;insertion&quot;</td><td>0</td><td>0</td><td>0</td><td>0</td><td>false</td><td>false</td><td>false</td><td>0</td><td>&quot;neutral&quot;</td><td>NaN</td></tr><tr><td>&quot;Slip-duplicate&quot;</td><td>&quot;run_1590&quot;</td><td>34</td><td>&quot;insertion&quot;</td><td>0</td><td>0</td><td>0</td><td>0</td><td>false</td><td>false</td><td>false</td><td>0</td><td>&quot;neutral&quot;</td><td>NaN</td></tr><tr><td>&hellip;</td><td>&hellip;</td><td>&hellip;</td><td>&hellip;</td><td>&hellip;</td><td>&hellip;</td><td>&hellip;</td><td>&hellip;</td><td>&hellip;</td><td>&hellip;</td><td>&hellip;</td><td>&hellip;</td><td>&hellip;</td><td>&hellip;</td></tr><tr><td>&quot;Slip-duplicate&quot;</td><td>&quot;run_1619&quot;</td><td>1674</td><td>&quot;insertion&quot;</td><td>-5</td><td>-1</td><td>9</td><td>82</td><td>true</td><td>false</td><td>false</td><td>5</td><td>&quot;deleterious&quot;</td><td>-0.060976</td></tr><tr><td>&quot;Slip-duplicate&quot;</td><td>&quot;run_1619&quot;</td><td>1680</td><td>&quot;insertion&quot;</td><td>-79</td><td>-9</td><td>9</td><td>83</td><td>true</td><td>false</td><td>false</td><td>5</td><td>&quot;deleterious&quot;</td><td>-0.951807</td></tr><tr><td>&quot;Slip-duplicate&quot;</td><td>&quot;run_1619&quot;</td><td>1685</td><td>&quot;insertion&quot;</td><td>-79</td><td>-9</td><td>9</td><td>83</td><td>true</td><td>false</td><td>false</td><td>5</td><td>&quot;deleterious&quot;</td><td>-0.951807</td></tr><tr><td>&quot;Slip-duplicate&quot;</td><td>&quot;run_1619&quot;</td><td>1686</td><td>&quot;insertion&quot;</td><td>-83</td><td>-9</td><td>9</td><td>83</td><td>true</td><td>false</td><td>false</td><td>5</td><td>&quot;deleterious&quot;</td><td>-1.0</td></tr><tr><td>&quot;Slip-duplicate&quot;</td><td>&quot;run_1619&quot;</td><td>1688</td><td>&quot;insertion&quot;</td><td>-78</td><td>-9</td><td>9</td><td>83</td><td>true</td><td>false</td><td>false</td><td>5</td><td>&quot;deleterious&quot;</td><td>-0.939759</td></tr></tbody></table></div>"
      ],
      "text/plain": [
       "shape: (7_403, 14)\n",
       "┌───────────┬──────────┬───────────┬───────────┬───┬───────────┬───────────┬───────────┬───────────┐\n",
       "│ Treatment ┆ Run ID   ┆ Generatio ┆ what      ┆ … ┆ lost task ┆ max compo ┆ fitness   ┆ delta     │\n",
       "│ ---       ┆ ---      ┆ n Born    ┆ ---       ┆   ┆ ---       ┆ nents     ┆ effect    ┆ frac      │\n",
       "│ str       ┆ str      ┆ ---       ┆ str       ┆   ┆ bool      ┆ ---       ┆ ---       ┆ coding    │\n",
       "│           ┆          ┆ i64       ┆           ┆   ┆           ┆ i64       ┆ str       ┆ sites     │\n",
       "│           ┆          ┆           ┆           ┆   ┆           ┆           ┆           ┆ ---       │\n",
       "│           ┆          ┆           ┆           ┆   ┆           ┆           ┆           ┆ f64       │\n",
       "╞═══════════╪══════════╪═══════════╪═══════════╪═══╪═══════════╪═══════════╪═══════════╪═══════════╡\n",
       "│ Slip-dupl ┆ run_1590 ┆ 0         ┆ insertion ┆ … ┆ false     ┆ 0         ┆ neutral   ┆ NaN       │\n",
       "│ icate     ┆          ┆           ┆           ┆   ┆           ┆           ┆           ┆           │\n",
       "│ Slip-dupl ┆ run_1590 ┆ 12        ┆ insertion ┆ … ┆ false     ┆ 0         ┆ neutral   ┆ NaN       │\n",
       "│ icate     ┆          ┆           ┆           ┆   ┆           ┆           ┆           ┆           │\n",
       "│ Slip-dupl ┆ run_1590 ┆ 18        ┆ insertion ┆ … ┆ false     ┆ 0         ┆ neutral   ┆ NaN       │\n",
       "│ icate     ┆          ┆           ┆           ┆   ┆           ┆           ┆           ┆           │\n",
       "│ Slip-dupl ┆ run_1590 ┆ 28        ┆ insertion ┆ … ┆ false     ┆ 0         ┆ neutral   ┆ NaN       │\n",
       "│ icate     ┆          ┆           ┆           ┆   ┆           ┆           ┆           ┆           │\n",
       "│ Slip-dupl ┆ run_1590 ┆ 34        ┆ insertion ┆ … ┆ false     ┆ 0         ┆ neutral   ┆ NaN       │\n",
       "│ icate     ┆          ┆           ┆           ┆   ┆           ┆           ┆           ┆           │\n",
       "│ …         ┆ …        ┆ …         ┆ …         ┆ … ┆ …         ┆ …         ┆ …         ┆ …         │\n",
       "│ Slip-dupl ┆ run_1619 ┆ 1674      ┆ insertion ┆ … ┆ false     ┆ 5         ┆ deleterio ┆ -0.060976 │\n",
       "│ icate     ┆          ┆           ┆           ┆   ┆           ┆           ┆ us        ┆           │\n",
       "│ Slip-dupl ┆ run_1619 ┆ 1680      ┆ insertion ┆ … ┆ false     ┆ 5         ┆ deleterio ┆ -0.951807 │\n",
       "│ icate     ┆          ┆           ┆           ┆   ┆           ┆           ┆ us        ┆           │\n",
       "│ Slip-dupl ┆ run_1619 ┆ 1685      ┆ insertion ┆ … ┆ false     ┆ 5         ┆ deleterio ┆ -0.951807 │\n",
       "│ icate     ┆          ┆           ┆           ┆   ┆           ┆           ┆ us        ┆           │\n",
       "│ Slip-dupl ┆ run_1619 ┆ 1686      ┆ insertion ┆ … ┆ false     ┆ 5         ┆ deleterio ┆ -1.0      │\n",
       "│ icate     ┆          ┆           ┆           ┆   ┆           ┆           ┆ us        ┆           │\n",
       "│ Slip-dupl ┆ run_1619 ┆ 1688      ┆ insertion ┆ … ┆ false     ┆ 5         ┆ deleterio ┆ -0.939759 │\n",
       "│ icate     ┆          ┆           ┆           ┆   ┆           ┆           ┆ us        ┆           │\n",
       "└───────────┴──────────┴───────────┴───────────┴───┴───────────┴───────────┴───────────┴───────────┘"
      ]
     },
     "execution_count": 32,
     "metadata": {},
     "output_type": "execute_result"
    }
   ],
   "source": [
    "dfz = pl.concat(\n",
    "    [\n",
    "        pl.DataFrame(\n",
    "            {\n",
    "                \"Treatment\": df1_[\"Treatment\"],\n",
    "                \"Run ID\": df1_[\"Run ID\"],\n",
    "                \"Generation Born\": df1_[\"Generation Born\"],\n",
    "                \"what\": \"insertion\",\n",
    "                \"delta num coding sites\": delta_ncs_insertion,\n",
    "                \"delta num tasks has\": delta_nth_insertion,\n",
    "                \"num tasks has\": df1_[\"num tasks has\"],\n",
    "                \"num coding sites\": df1_[\"num coding sites\"],\n",
    "                \"delta tasks\": delta_tasks_insertion,\n",
    "                \"gained task\": gained_task_insertion,\n",
    "                \"lost task\": gained_task_insertion,\n",
    "                \"max components\": df1_[\"max components\"],\n",
    "                \"fitness effect\": fitness_effect_insertion,\n",
    "            },\n",
    "        ),\n",
    "        # disable deletion outputs, as they are not of interest\n",
    "        # pl.DataFrame(\n",
    "        #     {\n",
    "        #         \"Treatment\": df1_[\"Treatment\"],\n",
    "        #         \"Run ID\": df1_[\"Run ID\"],\n",
    "        #         \"Generation Born\": df1_[\"Generation Born\"],\n",
    "        #         \"what\": \"deletion\",\n",
    "        #         \"delta num coding sites\": delta_ncs_deletion,\n",
    "        #         \"delta num tasks has\": delta_nth_deletion,\n",
    "        #         \"num tasks has\": df1_[\"num tasks has\"],\n",
    "        #         \"num coding sites\": df1_[\"num coding sites\"],\n",
    "        #         \"delta tasks\": delta_tasks_deletion,\n",
    "        #         \"gained task\": gained_task_deletion,\n",
    "        #         \"lost task\": lost_task_deletion,\n",
    "        #         \"max components\": df1_[\"max components\"],\n",
    "        #         \"fitness effect\": fitness_effect_deletion,\n",
    "        #     },\n",
    "        # ),\n",
    "    ],\n",
    ")\n",
    "\n",
    "dfz = dfz.with_columns(\n",
    "    (\n",
    "        dfz[\"delta num coding sites\"] / (\n",
    "            dfz[\"num coding sites\"]\n",
    "        )\n",
    "    ).alias(\"delta frac coding sites\")\n",
    ")\n",
    "dfz\n"
   ]
  },
  {
   "cell_type": "code",
   "execution_count": 33,
   "metadata": {
    "execution": {
     "iopub.execute_input": "2025-08-11T02:10:28.550621Z",
     "iopub.status.busy": "2025-08-11T02:10:28.550264Z",
     "iopub.status.idle": "2025-08-11T02:10:28.565019Z",
     "shell.execute_reply": "2025-08-11T02:10:28.564600Z"
    }
   },
   "outputs": [
    {
     "data": {
      "text/html": [
       "<div>\n",
       "<style scoped>\n",
       "    .dataframe tbody tr th:only-of-type {\n",
       "        vertical-align: middle;\n",
       "    }\n",
       "\n",
       "    .dataframe tbody tr th {\n",
       "        vertical-align: top;\n",
       "    }\n",
       "\n",
       "    .dataframe thead th {\n",
       "        text-align: right;\n",
       "    }\n",
       "</style>\n",
       "<table border=\"1\" class=\"dataframe\">\n",
       "  <thead>\n",
       "    <tr style=\"text-align: right;\">\n",
       "      <th></th>\n",
       "      <th>Treatment</th>\n",
       "      <th>Run ID</th>\n",
       "      <th>Generation Born</th>\n",
       "      <th>what</th>\n",
       "      <th>delta num coding sites</th>\n",
       "      <th>delta num tasks has</th>\n",
       "      <th>num tasks has</th>\n",
       "      <th>num coding sites</th>\n",
       "      <th>delta tasks</th>\n",
       "      <th>gained task</th>\n",
       "      <th>lost task</th>\n",
       "      <th>max components</th>\n",
       "      <th>fitness effect</th>\n",
       "      <th>delta frac coding sites</th>\n",
       "    </tr>\n",
       "  </thead>\n",
       "  <tbody>\n",
       "    <tr>\n",
       "      <th>0</th>\n",
       "      <td>Slip-duplicate</td>\n",
       "      <td>run_1590</td>\n",
       "      <td>0</td>\n",
       "      <td>insertion</td>\n",
       "      <td>0</td>\n",
       "      <td>0</td>\n",
       "      <td>0</td>\n",
       "      <td>0</td>\n",
       "      <td>False</td>\n",
       "      <td>False</td>\n",
       "      <td>False</td>\n",
       "      <td>0</td>\n",
       "      <td>neutral</td>\n",
       "      <td>NaN</td>\n",
       "    </tr>\n",
       "    <tr>\n",
       "      <th>1</th>\n",
       "      <td>Slip-duplicate</td>\n",
       "      <td>run_1590</td>\n",
       "      <td>12</td>\n",
       "      <td>insertion</td>\n",
       "      <td>0</td>\n",
       "      <td>0</td>\n",
       "      <td>0</td>\n",
       "      <td>0</td>\n",
       "      <td>False</td>\n",
       "      <td>False</td>\n",
       "      <td>False</td>\n",
       "      <td>0</td>\n",
       "      <td>neutral</td>\n",
       "      <td>NaN</td>\n",
       "    </tr>\n",
       "    <tr>\n",
       "      <th>2</th>\n",
       "      <td>Slip-duplicate</td>\n",
       "      <td>run_1590</td>\n",
       "      <td>18</td>\n",
       "      <td>insertion</td>\n",
       "      <td>0</td>\n",
       "      <td>0</td>\n",
       "      <td>0</td>\n",
       "      <td>0</td>\n",
       "      <td>False</td>\n",
       "      <td>False</td>\n",
       "      <td>False</td>\n",
       "      <td>0</td>\n",
       "      <td>neutral</td>\n",
       "      <td>NaN</td>\n",
       "    </tr>\n",
       "    <tr>\n",
       "      <th>3</th>\n",
       "      <td>Slip-duplicate</td>\n",
       "      <td>run_1590</td>\n",
       "      <td>28</td>\n",
       "      <td>insertion</td>\n",
       "      <td>0</td>\n",
       "      <td>0</td>\n",
       "      <td>0</td>\n",
       "      <td>0</td>\n",
       "      <td>False</td>\n",
       "      <td>False</td>\n",
       "      <td>False</td>\n",
       "      <td>0</td>\n",
       "      <td>neutral</td>\n",
       "      <td>NaN</td>\n",
       "    </tr>\n",
       "    <tr>\n",
       "      <th>4</th>\n",
       "      <td>Slip-duplicate</td>\n",
       "      <td>run_1590</td>\n",
       "      <td>34</td>\n",
       "      <td>insertion</td>\n",
       "      <td>0</td>\n",
       "      <td>0</td>\n",
       "      <td>0</td>\n",
       "      <td>0</td>\n",
       "      <td>False</td>\n",
       "      <td>False</td>\n",
       "      <td>False</td>\n",
       "      <td>0</td>\n",
       "      <td>neutral</td>\n",
       "      <td>NaN</td>\n",
       "    </tr>\n",
       "    <tr>\n",
       "      <th>...</th>\n",
       "      <td>...</td>\n",
       "      <td>...</td>\n",
       "      <td>...</td>\n",
       "      <td>...</td>\n",
       "      <td>...</td>\n",
       "      <td>...</td>\n",
       "      <td>...</td>\n",
       "      <td>...</td>\n",
       "      <td>...</td>\n",
       "      <td>...</td>\n",
       "      <td>...</td>\n",
       "      <td>...</td>\n",
       "      <td>...</td>\n",
       "      <td>...</td>\n",
       "    </tr>\n",
       "    <tr>\n",
       "      <th>7398</th>\n",
       "      <td>Slip-duplicate</td>\n",
       "      <td>run_1619</td>\n",
       "      <td>1674</td>\n",
       "      <td>insertion</td>\n",
       "      <td>-5</td>\n",
       "      <td>-1</td>\n",
       "      <td>9</td>\n",
       "      <td>82</td>\n",
       "      <td>True</td>\n",
       "      <td>False</td>\n",
       "      <td>False</td>\n",
       "      <td>5</td>\n",
       "      <td>deleterious</td>\n",
       "      <td>-0.060976</td>\n",
       "    </tr>\n",
       "    <tr>\n",
       "      <th>7399</th>\n",
       "      <td>Slip-duplicate</td>\n",
       "      <td>run_1619</td>\n",
       "      <td>1680</td>\n",
       "      <td>insertion</td>\n",
       "      <td>-79</td>\n",
       "      <td>-9</td>\n",
       "      <td>9</td>\n",
       "      <td>83</td>\n",
       "      <td>True</td>\n",
       "      <td>False</td>\n",
       "      <td>False</td>\n",
       "      <td>5</td>\n",
       "      <td>deleterious</td>\n",
       "      <td>-0.951807</td>\n",
       "    </tr>\n",
       "    <tr>\n",
       "      <th>7400</th>\n",
       "      <td>Slip-duplicate</td>\n",
       "      <td>run_1619</td>\n",
       "      <td>1685</td>\n",
       "      <td>insertion</td>\n",
       "      <td>-79</td>\n",
       "      <td>-9</td>\n",
       "      <td>9</td>\n",
       "      <td>83</td>\n",
       "      <td>True</td>\n",
       "      <td>False</td>\n",
       "      <td>False</td>\n",
       "      <td>5</td>\n",
       "      <td>deleterious</td>\n",
       "      <td>-0.951807</td>\n",
       "    </tr>\n",
       "    <tr>\n",
       "      <th>7401</th>\n",
       "      <td>Slip-duplicate</td>\n",
       "      <td>run_1619</td>\n",
       "      <td>1686</td>\n",
       "      <td>insertion</td>\n",
       "      <td>-83</td>\n",
       "      <td>-9</td>\n",
       "      <td>9</td>\n",
       "      <td>83</td>\n",
       "      <td>True</td>\n",
       "      <td>False</td>\n",
       "      <td>False</td>\n",
       "      <td>5</td>\n",
       "      <td>deleterious</td>\n",
       "      <td>-1.000000</td>\n",
       "    </tr>\n",
       "    <tr>\n",
       "      <th>7402</th>\n",
       "      <td>Slip-duplicate</td>\n",
       "      <td>run_1619</td>\n",
       "      <td>1688</td>\n",
       "      <td>insertion</td>\n",
       "      <td>-78</td>\n",
       "      <td>-9</td>\n",
       "      <td>9</td>\n",
       "      <td>83</td>\n",
       "      <td>True</td>\n",
       "      <td>False</td>\n",
       "      <td>False</td>\n",
       "      <td>5</td>\n",
       "      <td>deleterious</td>\n",
       "      <td>-0.939759</td>\n",
       "    </tr>\n",
       "  </tbody>\n",
       "</table>\n",
       "<p>7403 rows × 14 columns</p>\n",
       "</div>"
      ],
      "text/plain": [
       "           Treatment    Run ID  Generation Born       what  \\\n",
       "0     Slip-duplicate  run_1590                0  insertion   \n",
       "1     Slip-duplicate  run_1590               12  insertion   \n",
       "2     Slip-duplicate  run_1590               18  insertion   \n",
       "3     Slip-duplicate  run_1590               28  insertion   \n",
       "4     Slip-duplicate  run_1590               34  insertion   \n",
       "...              ...       ...              ...        ...   \n",
       "7398  Slip-duplicate  run_1619             1674  insertion   \n",
       "7399  Slip-duplicate  run_1619             1680  insertion   \n",
       "7400  Slip-duplicate  run_1619             1685  insertion   \n",
       "7401  Slip-duplicate  run_1619             1686  insertion   \n",
       "7402  Slip-duplicate  run_1619             1688  insertion   \n",
       "\n",
       "      delta num coding sites  delta num tasks has  num tasks has  \\\n",
       "0                          0                    0              0   \n",
       "1                          0                    0              0   \n",
       "2                          0                    0              0   \n",
       "3                          0                    0              0   \n",
       "4                          0                    0              0   \n",
       "...                      ...                  ...            ...   \n",
       "7398                      -5                   -1              9   \n",
       "7399                     -79                   -9              9   \n",
       "7400                     -79                   -9              9   \n",
       "7401                     -83                   -9              9   \n",
       "7402                     -78                   -9              9   \n",
       "\n",
       "      num coding sites  delta tasks  gained task  lost task  max components  \\\n",
       "0                    0        False        False      False               0   \n",
       "1                    0        False        False      False               0   \n",
       "2                    0        False        False      False               0   \n",
       "3                    0        False        False      False               0   \n",
       "4                    0        False        False      False               0   \n",
       "...                ...          ...          ...        ...             ...   \n",
       "7398                82         True        False      False               5   \n",
       "7399                83         True        False      False               5   \n",
       "7400                83         True        False      False               5   \n",
       "7401                83         True        False      False               5   \n",
       "7402                83         True        False      False               5   \n",
       "\n",
       "     fitness effect  delta frac coding sites  \n",
       "0           neutral                      NaN  \n",
       "1           neutral                      NaN  \n",
       "2           neutral                      NaN  \n",
       "3           neutral                      NaN  \n",
       "4           neutral                      NaN  \n",
       "...             ...                      ...  \n",
       "7398    deleterious                -0.060976  \n",
       "7399    deleterious                -0.951807  \n",
       "7400    deleterious                -0.951807  \n",
       "7401    deleterious                -1.000000  \n",
       "7402    deleterious                -0.939759  \n",
       "\n",
       "[7403 rows x 14 columns]"
      ]
     },
     "execution_count": 33,
     "metadata": {},
     "output_type": "execute_result"
    }
   ],
   "source": [
    "dfz.to_pandas()\n"
   ]
  },
  {
   "cell_type": "code",
   "execution_count": 34,
   "metadata": {
    "execution": {
     "iopub.execute_input": "2025-08-11T02:10:28.566439Z",
     "iopub.status.busy": "2025-08-11T02:10:28.566282Z",
     "iopub.status.idle": "2025-08-11T02:10:29.038024Z",
     "shell.execute_reply": "2025-08-11T02:10:29.037578Z"
    }
   },
   "outputs": [
    {
     "data": {
      "image/png": "[encoded data removed]",
      "text/plain": [
       "<Figure size 511.111x500 with 1 Axes>"
      ]
     },
     "metadata": {},
     "output_type": "display_data"
    },
    {
     "data": {
      "image/png": "[encoded data removed]",
      "text/plain": [
       "<Figure size 511.111x500 with 1 Axes>"
      ]
     },
     "metadata": {},
     "output_type": "display_data"
    }
   ],
   "source": [
    "for kind in \"bar\", \"violin\":\n",
    "    saveit, g = tp.tee(\n",
    "        sns.catplot,\n",
    "        data=dfz.to_pandas(),\n",
    "        col=\"what\",\n",
    "        y=\"delta num coding sites\",\n",
    "        kind=kind,\n",
    "        teeplot_callback=True,\n",
    "    )\n",
    "    for ax in g.axes.flat:\n",
    "        ax.axhline(0, color=\"black\", linewidth=1)\n"
   ]
  },
  {
   "cell_type": "code",
   "execution_count": 35,
   "metadata": {
    "execution": {
     "iopub.execute_input": "2025-08-11T02:10:29.039907Z",
     "iopub.status.busy": "2025-08-11T02:10:29.039583Z",
     "iopub.status.idle": "2025-08-11T02:10:41.265919Z",
     "shell.execute_reply": "2025-08-11T02:10:41.265463Z"
    }
   },
   "outputs": [
    {
     "name": "stdout",
     "output_type": "stream",
     "text": [
      "(np.float64(-7.322419627749577), np.float64(-6.4138264442832975))\n",
      "(np.float64(1.0483870967741935), np.float64(8.225806451612904))\n",
      "(np.float64(-52.848064918851435), np.float64(-50.30120162297129))\n",
      "teeplots/col=what+hue=fitness-effect+kind=bar+palette=pastel+viz=catplot+x=fitness-effect+y=delta-num-coding-sites+ext=.pdf\n",
      "teeplots/col=what+hue=fitness-effect+kind=bar+palette=pastel+viz=catplot+x=fitness-effect+y=delta-num-coding-sites+ext=.png\n"
     ]
    },
    {
     "data": {
      "image/png": "[encoded data removed]",
      "text/plain": [
       "<Figure size 270x300 with 1 Axes>"
      ]
     },
     "metadata": {},
     "output_type": "display_data"
    },
    {
     "name": "stdout",
     "output_type": "stream",
     "text": [
      "(np.float64(-27.0), np.float64(16.0))\n",
      "(np.float64(-11.0), np.float64(0.0))\n",
      "(np.float64(-1.0), np.float64(-1.0))\n",
      "(np.float64(-16.0), np.float64(28.0))\n",
      "(np.float64(0.25), np.float64(12.0))\n",
      "(np.float64(7.0), np.float64(7.0))\n",
      "(np.float64(-157.0), np.float64(58.0))\n",
      "(np.float64(-78.0), np.float64(-17.0))\n",
      "(np.float64(-53.0), np.float64(-53.0))\n",
      "teeplots/col=what+hue=fitness-effect+kind=violin+palette=pastel+viz=catplot+x=fitness-effect+y=delta-num-coding-sites+ext=.pdf\n",
      "teeplots/col=what+hue=fitness-effect+kind=violin+palette=pastel+viz=catplot+x=fitness-effect+y=delta-num-coding-sites+ext=.png\n"
     ]
    },
    {
     "data": {
      "image/png": "[encoded data removed]",
      "text/plain": [
       "<Figure size 270x300 with 1 Axes>"
      ]
     },
     "metadata": {},
     "output_type": "display_data"
    },
    {
     "name": "stdout",
     "output_type": "stream",
     "text": [
      "(np.float64(-7.284034324389655), np.float64(-6.36085327532028))\n",
      "(np.float64(0.9330645161290323), np.float64(8.067741935483868))\n",
      "(np.float64(-52.77420411985018), np.float64(-50.250140449438206))\n",
      "teeplots/col=what+hue=fitness-effect+kind=bar+palette=pastel+textlabels=True+viz=catplot+x=fitness-effect+y=delta-num-coding-sites+ext=.pdf\n",
      "teeplots/col=what+hue=fitness-effect+kind=bar+palette=pastel+textlabels=True+viz=catplot+x=fitness-effect+y=delta-num-coding-sites+ext=.png\n"
     ]
    },
    {
     "data": {
      "image/png": "[encoded data removed]",
      "text/plain": [
       "<Figure size 270x300 with 1 Axes>"
      ]
     },
     "metadata": {},
     "output_type": "display_data"
    },
    {
     "name": "stdout",
     "output_type": "stream",
     "text": [
      "(np.float64(-27.0), np.float64(16.0))\n",
      "(np.float64(-11.0), np.float64(0.0))\n",
      "(np.float64(-1.0), np.float64(-1.0))\n",
      "(np.float64(-16.0), np.float64(28.0))\n",
      "(np.float64(0.25), np.float64(12.0))\n",
      "(np.float64(7.0), np.float64(7.0))\n",
      "(np.float64(-157.0), np.float64(58.0))\n",
      "(np.float64(-78.0), np.float64(-17.0))\n",
      "(np.float64(-53.0), np.float64(-53.0))\n",
      "teeplots/col=what+hue=fitness-effect+kind=violin+palette=pastel+textlabels=True+viz=catplot+x=fitness-effect+y=delta-num-coding-sites+ext=.pdf\n",
      "teeplots/col=what+hue=fitness-effect+kind=violin+palette=pastel+textlabels=True+viz=catplot+x=fitness-effect+y=delta-num-coding-sites+ext=.png\n"
     ]
    },
    {
     "data": {
      "image/png": "[encoded data removed]",
      "text/plain": [
       "<Figure size 270x300 with 1 Axes>"
      ]
     },
     "metadata": {},
     "output_type": "display_data"
    },
    {
     "name": "stdout",
     "output_type": "stream",
     "text": [
      "teeplots/col=what+hue=fitness-effect+kind=hist+multiple=stack+palette=pastel+stat=probability+viz=displot+x=fitness-effect+ext=.pdf\n",
      "teeplots/col=what+hue=fitness-effect+kind=hist+multiple=stack+palette=pastel+stat=probability+viz=displot+x=fitness-effect+ext=.png\n"
     ]
    },
    {
     "data": {
      "image/png": "[encoded data removed]",
      "text/plain": [
       "<Figure size 397.75x300 with 1 Axes>"
      ]
     },
     "metadata": {},
     "output_type": "display_data"
    },
    {
     "name": "stdout",
     "output_type": "stream",
     "text": [
      "teeplots/col=what+hue=fitness-effect+kind=hist+multiple=stack+palette=pastel+stat=count+viz=displot+x=fitness-effect+ext=.pdf\n"
     ]
    },
    {
     "name": "stdout",
     "output_type": "stream",
     "text": [
      "teeplots/col=what+hue=fitness-effect+kind=hist+multiple=stack+palette=pastel+stat=count+viz=displot+x=fitness-effect+ext=.png\n"
     ]
    },
    {
     "data": {
      "image/png": "[encoded data removed]",
      "text/plain": [
       "<Figure size 397.75x300 with 1 Axes>"
      ]
     },
     "metadata": {},
     "output_type": "display_data"
    },
    {
     "name": "stdout",
     "output_type": "stream",
     "text": [
      "(np.float64(0.028730366492146598), np.float64(0.1256544502617801))\n",
      "(np.float64(-8.09877450980392), np.float64(-6.156372549019609))\n",
      "(np.float64(-0.08455056179775279), np.float64(1.3036516853932583))\n",
      "(np.float64(5.441666666666667), np.float64(9.333333333333334))\n",
      "(np.float64(-16.092091836734696), np.float64(-12.193622448979593))\n",
      "(np.float64(-3.8693231441048033), np.float64(-2.1658296943231443))\n",
      "(np.float64(4.179545454545455), np.float64(14.181818181818182))\n",
      "(np.float64(-24.977668539325844), np.float64(-18.398595505617976))\n",
      "(np.float64(-5.432616279069767), np.float64(-3.4998837209302325))\n",
      "(np.float64(-6.653260869565218), np.float64(6.78478260869565))\n",
      "(np.float64(-49.406704005431095), np.float64(-46.602800407331976))\n",
      "(np.float64(-9.897513661202186), np.float64(-8.484603825136613))\n",
      "(np.float64(-0.9411764705882353), np.float64(12.591176470588232))\n",
      "(np.float64(-67.48141167775314), np.float64(-63.188673318551366))\n",
      "(np.float64(-9.371691176470588), np.float64(-7.266521139705882))\n",
      "(np.float64(0.0), np.float64(19.0))\n",
      "teeplots/col=what+hue=fitness-effect+kind=bar+palette=pastel+viz=catplot+x=max-components+y=delta-num-coding-sites+ext=.pdf\n",
      "teeplots/col=what+hue=fitness-effect+kind=bar+palette=pastel+viz=catplot+x=max-components+y=delta-num-coding-sites+ext=.png\n"
     ]
    },
    {
     "data": {
      "image/png": "[encoded data removed]",
      "text/plain": [
       "<Figure size 397.75x300 with 1 Axes>"
      ]
     },
     "metadata": {},
     "output_type": "display_data"
    },
    {
     "name": "stdout",
     "output_type": "stream",
     "text": [
      "(np.float64(0.0), np.float64(0.0))\n",
      "(np.float64(0.0), np.float64(0.0))\n",
      "(np.float64(0.0), np.float64(0.0))\n",
      "(np.float64(-13.0), np.float64(0.0))\n",
      "(np.float64(-9.0), np.float64(-5.0))\n",
      "(np.float64(-7.0), np.float64(-7.0))\n",
      "(np.float64(0.0), np.float64(0.0))\n",
      "(np.float64(0.0), np.float64(0.0))\n",
      "(np.float64(0.0), np.float64(0.0))\n",
      "(np.float64(3.0), np.float64(12.0))\n",
      "(np.float64(6.0), np.float64(9.0))\n",
      "(np.float64(7.0), np.float64(7.0))\n",
      "(np.float64(-32.0), np.float64(7.0))\n",
      "(np.float64(-19.0), np.float64(-6.25))\n",
      "(np.float64(-15.5), np.float64(-15.5))\n",
      "(np.float64(-12.0), np.float64(7.0))\n",
      "(np.float64(-5.0), np.float64(0.0))\n",
      "(np.float64(0.0), np.float64(0.0))\n",
      "(np.float64(-1.0), np.float64(21.0))\n",
      "(np.float64(3.0), np.float64(12.5))\n",
      "(np.float64(6.0), np.float64(6.0))\n",
      "(np.float64(-73.0), np.float64(36.0))\n",
      "(np.float64(-37.0), np.float64(-4.0))\n",
      "(np.float64(-17.5), np.float64(-17.5))\n",
      "(np.float64(-22.0), np.float64(13.0))\n",
      "(np.float64(-9.0), np.float64(0.0))\n",
      "(np.float64(-1.0), np.float64(-1.0))\n",
      "(np.float64(-26.0), np.float64(28.0))\n",
      "(np.float64(-5.0), np.float64(11.0))\n",
      "(np.float64(7.0), np.float64(7.0))\n",
      "(np.float64(-123.0), np.float64(43.0))\n",
      "(np.float64(-68.0), np.float64(-23.0))\n",
      "(np.float64(-52.0), np.float64(-52.0))\n",
      "(np.float64(-40.0), np.float64(24.0))\n",
      "(np.float64(-16.0), np.float64(0.0))\n",
      "(np.float64(-3.0), np.float64(-3.0))\n",
      "(np.float64(-19.0), np.float64(30.0))\n",
      "(np.float64(-7.0), np.float64(14.0))\n",
      "(np.float64(8.0), np.float64(8.0))\n",
      "(np.float64(-157.0), np.float64(58.0))\n",
      "(np.float64(-96.0), np.float64(-30.0))\n",
      "(np.float64(-71.0), np.float64(-71.0))\n",
      "(np.float64(-32.0), np.float64(19.0))\n",
      "(np.float64(-13.0), np.float64(0.0))\n",
      "(np.float64(-3.0), np.float64(-3.0))\n",
      "(np.float64(0.0), np.float64(19.0))\n",
      "(np.float64(4.75), np.float64(14.25))\n",
      "(np.float64(9.5), np.float64(9.5))\n",
      "teeplots/col=what+hue=fitness-effect+kind=violin+palette=pastel+viz=catplot+x=max-components+y=delta-num-coding-sites+ext=.pdf\n",
      "teeplots/col=what+hue=fitness-effect+kind=violin+palette=pastel+viz=catplot+x=max-components+y=delta-num-coding-sites+ext=.png\n"
     ]
    },
    {
     "data": {
      "image/png": "[encoded data removed]",
      "text/plain": [
       "<Figure size 397.75x300 with 1 Axes>"
      ]
     },
     "metadata": {},
     "output_type": "display_data"
    },
    {
     "name": "stdout",
     "output_type": "stream",
     "text": [
      "(np.float64(0.031413612565445025), np.float64(0.1256544502617801))\n",
      "(np.float64(-8.157107843137254), np.float64(-6.137254901960785))\n",
      "(np.float64(-0.15196629213483145), np.float64(1.3089887640449438))\n",
      "(np.float64(5.555555555555555), np.float64(9.0))\n",
      "(np.float64(-15.990051020408163), np.float64(-12.295408163265307))\n",
      "(np.float64(-3.8298034934497815), np.float64(-2.143886462882096))\n",
      "(np.float64(4.63409090909091), np.float64(14.184090909090907))\n",
      "(np.float64(-24.76432584269663), np.float64(-18.19002808988764))\n",
      "(np.float64(-5.332558139534884), np.float64(-3.492732558139535))\n",
      "(np.float64(-7.001086956521739), np.float64(6.782608695652174))\n",
      "(np.float64(-49.459249830278345), np.float64(-46.50022063815343))\n",
      "(np.float64(-9.920669398907105), np.float64(-8.547950819672131))\n",
      "(np.float64(-0.9455882352941174), np.float64(12.530882352941175))\n",
      "(np.float64(-67.51866223207686), np.float64(-62.94052106430155))\n",
      "(np.float64(-9.314613970588235), np.float64(-7.268336397058824))\n",
      "(np.float64(0.0), np.float64(19.0))\n",
      "teeplots/col=what+hue=fitness-effect+kind=bar+palette=pastel+textlabels=True+viz=catplot+x=max-components+y=delta-num-coding-sites+ext=.pdf\n",
      "teeplots/col=what+hue=fitness-effect+kind=bar+palette=pastel+textlabels=True+viz=catplot+x=max-components+y=delta-num-coding-sites+ext=.png\n"
     ]
    },
    {
     "data": {
      "image/png": "[encoded data removed]",
      "text/plain": [
       "<Figure size 397.75x300 with 1 Axes>"
      ]
     },
     "metadata": {},
     "output_type": "display_data"
    },
    {
     "name": "stdout",
     "output_type": "stream",
     "text": [
      "(np.float64(0.0), np.float64(0.0))\n",
      "(np.float64(0.0), np.float64(0.0))\n",
      "(np.float64(0.0), np.float64(0.0))\n",
      "(np.float64(-13.0), np.float64(0.0))\n",
      "(np.float64(-9.0), np.float64(-5.0))\n",
      "(np.float64(-7.0), np.float64(-7.0))\n",
      "(np.float64(0.0), np.float64(0.0))\n",
      "(np.float64(0.0), np.float64(0.0))\n",
      "(np.float64(0.0), np.float64(0.0))\n",
      "(np.float64(3.0), np.float64(12.0))\n",
      "(np.float64(6.0), np.float64(9.0))\n",
      "(np.float64(7.0), np.float64(7.0))\n",
      "(np.float64(-32.0), np.float64(7.0))\n",
      "(np.float64(-19.0), np.float64(-6.25))\n",
      "(np.float64(-15.5), np.float64(-15.5))\n",
      "(np.float64(-12.0), np.float64(7.0))\n",
      "(np.float64(-5.0), np.float64(0.0))\n",
      "(np.float64(0.0), np.float64(0.0))\n",
      "(np.float64(-1.0), np.float64(21.0))\n",
      "(np.float64(3.0), np.float64(12.5))\n",
      "(np.float64(6.0), np.float64(6.0))\n",
      "(np.float64(-73.0), np.float64(36.0))\n",
      "(np.float64(-37.0), np.float64(-4.0))\n",
      "(np.float64(-17.5), np.float64(-17.5))\n",
      "(np.float64(-22.0), np.float64(13.0))\n",
      "(np.float64(-9.0), np.float64(0.0))\n",
      "(np.float64(-1.0), np.float64(-1.0))\n",
      "(np.float64(-26.0), np.float64(28.0))\n",
      "(np.float64(-5.0), np.float64(11.0))\n",
      "(np.float64(7.0), np.float64(7.0))\n",
      "(np.float64(-123.0), np.float64(43.0))\n",
      "(np.float64(-68.0), np.float64(-23.0))\n",
      "(np.float64(-52.0), np.float64(-52.0))\n",
      "(np.float64(-40.0), np.float64(24.0))\n",
      "(np.float64(-16.0), np.float64(0.0))\n",
      "(np.float64(-3.0), np.float64(-3.0))\n",
      "(np.float64(-19.0), np.float64(30.0))\n",
      "(np.float64(-7.0), np.float64(14.0))\n",
      "(np.float64(8.0), np.float64(8.0))\n",
      "(np.float64(-157.0), np.float64(58.0))\n",
      "(np.float64(-96.0), np.float64(-30.0))\n",
      "(np.float64(-71.0), np.float64(-71.0))\n",
      "(np.float64(-32.0), np.float64(19.0))\n",
      "(np.float64(-13.0), np.float64(0.0))\n",
      "(np.float64(-3.0), np.float64(-3.0))\n",
      "(np.float64(0.0), np.float64(19.0))\n",
      "(np.float64(4.75), np.float64(14.25))\n",
      "(np.float64(9.5), np.float64(9.5))\n",
      "teeplots/col=what+hue=fitness-effect+kind=violin+palette=pastel+textlabels=True+viz=catplot+x=max-components+y=delta-num-coding-sites+ext=.pdf\n",
      "teeplots/col=what+hue=fitness-effect+kind=violin+palette=pastel+textlabels=True+viz=catplot+x=max-components+y=delta-num-coding-sites+ext=.png\n"
     ]
    },
    {
     "data": {
      "image/png": "[encoded data removed]",
      "text/plain": [
       "<Figure size 397.75x300 with 1 Axes>"
      ]
     },
     "metadata": {},
     "output_type": "display_data"
    },
    {
     "name": "stdout",
     "output_type": "stream",
     "text": [
      "teeplots/col=what+hue=fitness-effect+kind=hist+multiple=dodge+palette=pastel+stat=probability+viz=displot+x=max-components+ext=.pdf\n"
     ]
    },
    {
     "name": "stdout",
     "output_type": "stream",
     "text": [
      "teeplots/col=what+hue=fitness-effect+kind=hist+multiple=dodge+palette=pastel+stat=probability+viz=displot+x=max-components+ext=.png\n"
     ]
    },
    {
     "data": {
      "image/png": "[encoded data removed]",
      "text/plain": [
       "<Figure size 397.75x300 with 1 Axes>"
      ]
     },
     "metadata": {},
     "output_type": "display_data"
    },
    {
     "name": "stdout",
     "output_type": "stream",
     "text": [
      "teeplots/col=what+hue=fitness-effect+kind=hist+multiple=dodge+palette=pastel+stat=count+viz=displot+x=max-components+ext=.pdf\n"
     ]
    },
    {
     "name": "stdout",
     "output_type": "stream",
     "text": [
      "teeplots/col=what+hue=fitness-effect+kind=hist+multiple=dodge+palette=pastel+stat=count+viz=displot+x=max-components+ext=.png\n"
     ]
    },
    {
     "data": {
      "image/png": "[encoded data removed]",
      "text/plain": [
       "<Figure size 397.75x300 with 1 Axes>"
      ]
     },
     "metadata": {},
     "output_type": "display_data"
    },
    {
     "name": "stdout",
     "output_type": "stream",
     "text": [
      "(np.float64(0.031413612565445025), np.float64(0.12303664921465969))\n",
      "(np.float64(6.0), np.float64(9.75))\n",
      "(np.float64(-7.255813953488372), np.float64(-5.825))\n",
      "(np.float64(-0.2879084967320261), np.float64(1.1178104575163397))\n",
      "(np.float64(5.690384615384616), np.float64(12.078846153846152))\n",
      "(np.float64(-14.077884615384615), np.float64(-8.038461538461538))\n",
      "(np.float64(-2.6100609756097564), np.float64(-0.2073170731707317))\n",
      "(np.float64(0.6666666666666666), np.float64(14.674999999999992))\n",
      "(np.float64(-15.43139534883721), np.float64(-11.534593023255814))\n",
      "(np.float64(-3.2101796407185628), np.float64(-0.8321856287425151))\n",
      "(np.float64(-15.88888888888889), np.float64(6.336111111111109))\n",
      "(np.float64(-20.08672839506173), np.float64(-12.751851851851853))\n",
      "(np.float64(-4.267821782178218), np.float64(-1.9898514851485152))\n",
      "(np.float64(-8.501785714285715), np.float64(9.430357142857142))\n",
      "(np.float64(-28.397602739726025), np.float64(-19.451712328767126))\n",
      "(np.float64(-7.1419753086419755), np.float64(-3.9438271604938278))\n",
      "(np.float64(3.5), np.float64(10.666666666666666))\n",
      "(np.float64(-37.11958041958042), np.float64(-28.446853146853147))\n",
      "(np.float64(-7.7270408163265305), np.float64(-4.946632653061225))\n",
      "(np.float64(-5.003571428571428), np.float64(17.285714285714285))\n",
      "(np.float64(-49.060734870317006), np.float64(-45.666354466858785))\n",
      "(np.float64(-10.307709632709633), np.float64(-8.742862092862094))\n",
      "(np.float64(nan), np.float64(nan))\n",
      "(np.float64(-62.13674242424242), np.float64(-57.17293771043771))\n",
      "(np.float64(-9.069272237196765), np.float64(-5.058692722371968))\n",
      "(np.float64(0.0), np.float64(19.0))\n",
      "(np.float64(-68.28591713221601), np.float64(-62.71201117318436))\n",
      "(np.float64(-10.349139784946235), np.float64(-8.084919354838709))\n",
      "teeplots/col=what+hue=fitness-effect+kind=bar+palette=pastel+viz=catplot+x=num-tasks-has+y=delta-num-coding-sites+ext=.pdf\n",
      "teeplots/col=what+hue=fitness-effect+kind=bar+palette=pastel+viz=catplot+x=num-tasks-has+y=delta-num-coding-sites+ext=.png\n"
     ]
    },
    {
     "data": {
      "image/png": "[encoded data removed]",
      "text/plain": [
       "<Figure size 397.75x300 with 1 Axes>"
      ]
     },
     "metadata": {},
     "output_type": "display_data"
    },
    {
     "name": "stdout",
     "output_type": "stream",
     "text": [
      "(np.float64(0.0), np.float64(0.0))\n",
      "(np.float64(0.0), np.float64(0.0))\n",
      "(np.float64(0.0), np.float64(0.0))\n",
      "(np.float64(6.0), np.float64(11.0))\n",
      "(np.float64(6.0), np.float64(8.75))\n",
      "(np.float64(7.0), np.float64(7.0))\n",
      "(np.float64(-13.0), np.float64(0.0))\n",
      "(np.float64(-9.0), np.float64(-5.0))\n",
      "(np.float64(-7.0), np.float64(-7.0))\n",
      "(np.float64(-1.0), np.float64(2.0))\n",
      "(np.float64(0.0), np.float64(1.0))\n",
      "(np.float64(0.0), np.float64(0.0))\n",
      "(np.float64(3.0), np.float64(21.0))\n",
      "(np.float64(4.0), np.float64(12.0))\n",
      "(np.float64(7.0), np.float64(7.0))\n",
      "(np.float64(-23.0), np.float64(2.0))\n",
      "(np.float64(-16.75), np.float64(-7.0))\n",
      "(np.float64(-11.5), np.float64(-11.5))\n",
      "(np.float64(-5.0), np.float64(3.0))\n",
      "(np.float64(-2.0), np.float64(0.0))\n",
      "(np.float64(0.0), np.float64(0.0))\n",
      "(np.float64(-1.0), np.float64(9.0))\n",
      "(np.float64(-0.5), np.float64(8.5))\n",
      "(np.float64(4.0), np.float64(4.0))\n",
      "(np.float64(-31.0), np.float64(7.0))\n",
      "(np.float64(-19.0), np.float64(-6.0))\n",
      "(np.float64(-15.5), np.float64(-15.5))\n",
      "(np.float64(-9.0), np.float64(6.0))\n",
      "(np.float64(-4.0), np.float64(0.0))\n",
      "(np.float64(0.0), np.float64(0.0))\n",
      "(np.float64(-35.0), np.float64(14.0))\n",
      "(np.float64(-26.0), np.float64(12.0))\n",
      "(np.float64(2.0), np.float64(2.0))\n",
      "(np.float64(-53.0), np.float64(14.0))\n",
      "(np.float64(-27.0), np.float64(-5.0))\n",
      "(np.float64(-17.0), np.float64(-17.0))\n",
      "(np.float64(-15.0), np.float64(9.0))\n",
      "(np.float64(-6.0), np.float64(0.0))\n",
      "(np.float64(0.0), np.float64(0.0))\n",
      "(np.float64(-40.0), np.float64(28.0))\n",
      "(np.float64(-10.25), np.float64(11.75))\n",
      "(np.float64(0.0), np.float64(0.0))\n",
      "(np.float64(-60.0), np.float64(21.0))\n",
      "(np.float64(-37.0), np.float64(-9.0))\n",
      "(np.float64(-26.0), np.float64(-26.0))\n",
      "(np.float64(-25.0), np.float64(15.0))\n",
      "(np.float64(-10.0), np.float64(0.0))\n",
      "(np.float64(-1.0), np.float64(-1.0))\n",
      "(np.float64(7.0), np.float64(11.0))\n",
      "(np.float64(7.5), np.float64(11.0))\n",
      "(np.float64(10.0), np.float64(10.0))\n",
      "(np.float64(-73.0), np.float64(21.0))\n",
      "(np.float64(-60.5), np.float64(-6.0))\n",
      "(np.float64(-34.0), np.float64(-34.0))\n",
      "(np.float64(-25.0), np.float64(15.0))\n",
      "(np.float64(-10.0), np.float64(0.0))\n",
      "(np.float64(-2.0), np.float64(-2.0))\n",
      "(np.float64(-19.0), np.float64(30.0))\n",
      "(np.float64(-2.5), np.float64(14.5))\n",
      "(np.float64(12.0), np.float64(12.0))\n",
      "(np.float64(-95.0), np.float64(27.0))\n",
      "(np.float64(-67.0), np.float64(-23.0))\n",
      "(np.float64(-55.0), np.float64(-55.0))\n",
      "(np.float64(-40.0), np.float64(24.0))\n",
      "(np.float64(-16.0), np.float64(0.0))\n",
      "(np.float64(-4.0), np.float64(-4.0))\n",
      "(np.float64(13.0), np.float64(13.0))\n",
      "(np.float64(-123.0), np.float64(19.0))\n",
      "(np.float64(-81.0), np.float64(-41.0))\n",
      "(np.float64(-64.0), np.float64(-64.0))\n",
      "(np.float64(-33.0), np.float64(21.0))\n",
      "(np.float64(-14.0), np.float64(0.0))\n",
      "(np.float64(-2.0), np.float64(-2.0))\n",
      "(np.float64(0.0), np.float64(19.0))\n",
      "(np.float64(4.75), np.float64(14.25))\n",
      "(np.float64(9.5), np.float64(9.5))\n",
      "(np.float64(-157.0), np.float64(58.0))\n",
      "(np.float64(-102.0), np.float64(-25.0))\n",
      "(np.float64(-73.0), np.float64(-73.0))\n",
      "(np.float64(-32.0), np.float64(19.0))\n",
      "(np.float64(-13.0), np.float64(0.0))\n",
      "(np.float64(-4.0), np.float64(-4.0))\n",
      "teeplots/col=what+hue=fitness-effect+kind=violin+palette=pastel+viz=catplot+x=num-tasks-has+y=delta-num-coding-sites+ext=.pdf\n",
      "teeplots/col=what+hue=fitness-effect+kind=violin+palette=pastel+viz=catplot+x=num-tasks-has+y=delta-num-coding-sites+ext=.png\n"
     ]
    },
    {
     "data": {
      "image/png": "[encoded data removed]",
      "text/plain": [
       "<Figure size 397.75x300 with 1 Axes>"
      ]
     },
     "metadata": {},
     "output_type": "display_data"
    },
    {
     "name": "stdout",
     "output_type": "stream",
     "text": [
      "(np.float64(0.031348167539267016), np.float64(0.1256544502617801))\n",
      "(np.float64(6.0), np.float64(9.75))\n",
      "(np.float64(-7.3023255813953485), np.float64(-5.848837209302325))\n",
      "(np.float64(-0.2812091503267974), np.float64(1.1570261437908496))\n",
      "(np.float64(5.844230769230769), np.float64(12.0))\n",
      "(np.float64(-14.116346153846154), np.float64(-8.26923076923077))\n",
      "(np.float64(-2.6707317073170733), np.float64(-0.14603658536585393))\n",
      "(np.float64(0.6666666666666666), np.float64(15.333333333333334))\n",
      "(np.float64(-15.372383720930234), np.float64(-11.44156976744186))\n",
      "(np.float64(-3.2456586826347307), np.float64(-0.7053892215568873))\n",
      "(np.float64(-16.33888888888889), np.float64(6.891666666666665))\n",
      "(np.float64(-20.07438271604938), np.float64(-12.999382716049384))\n",
      "(np.float64(-4.326732673267327), np.float64(-1.9455445544554455))\n",
      "(np.float64(-8.642857142857142), np.float64(9.7875))\n",
      "(np.float64(-28.808561643835613), np.float64(-19.63013698630137))\n",
      "(np.float64(-7.172839506172839), np.float64(-3.9074074074074074))\n",
      "(np.float64(3.8250000000000006), np.float64(10.666666666666666))\n",
      "(np.float64(-37.26695804195804), np.float64(-28.446853146853147))\n",
      "(np.float64(-7.918877551020408), np.float64(-4.889693877551021))\n",
      "(np.float64(-4.292857142857143), np.float64(17.14642857142857))\n",
      "(np.float64(-49.08580691642651), np.float64(-45.88991354466859))\n",
      "(np.float64(-10.338565488565488), np.float64(-8.731288981288982))\n",
      "(np.float64(nan), np.float64(nan))\n",
      "(np.float64(-62.00239898989899), np.float64(-57.08977272727273))\n",
      "(np.float64(-9.011994609164422), np.float64(-5.231738544474394))\n",
      "(np.float64(0.0), np.float64(19.0))\n",
      "(np.float64(-68.32504655493483), np.float64(-63.05863594040968))\n",
      "(np.float64(-10.35763440860215), np.float64(-8.089005376344087))\n",
      "teeplots/col=what+hue=fitness-effect+kind=bar+palette=pastel+textlabels=True+viz=catplot+x=num-tasks-has+y=delta-num-coding-sites+ext=.pdf\n",
      "teeplots/col=what+hue=fitness-effect+kind=bar+palette=pastel+textlabels=True+viz=catplot+x=num-tasks-has+y=delta-num-coding-sites+ext=.png\n"
     ]
    },
    {
     "data": {
      "image/png": "[encoded data removed]",
      "text/plain": [
       "<Figure size 397.75x300 with 1 Axes>"
      ]
     },
     "metadata": {},
     "output_type": "display_data"
    },
    {
     "name": "stdout",
     "output_type": "stream",
     "text": [
      "(np.float64(0.0), np.float64(0.0))\n",
      "(np.float64(0.0), np.float64(0.0))\n",
      "(np.float64(0.0), np.float64(0.0))\n",
      "(np.float64(6.0), np.float64(11.0))\n",
      "(np.float64(6.0), np.float64(8.75))\n",
      "(np.float64(7.0), np.float64(7.0))\n",
      "(np.float64(-13.0), np.float64(0.0))\n",
      "(np.float64(-9.0), np.float64(-5.0))\n",
      "(np.float64(-7.0), np.float64(-7.0))\n",
      "(np.float64(-1.0), np.float64(2.0))\n",
      "(np.float64(0.0), np.float64(1.0))\n",
      "(np.float64(0.0), np.float64(0.0))\n",
      "(np.float64(3.0), np.float64(21.0))\n",
      "(np.float64(4.0), np.float64(12.0))\n",
      "(np.float64(7.0), np.float64(7.0))\n",
      "(np.float64(-23.0), np.float64(2.0))\n",
      "(np.float64(-16.75), np.float64(-7.0))\n",
      "(np.float64(-11.5), np.float64(-11.5))\n",
      "(np.float64(-5.0), np.float64(3.0))\n",
      "(np.float64(-2.0), np.float64(0.0))\n",
      "(np.float64(0.0), np.float64(0.0))\n",
      "(np.float64(-1.0), np.float64(9.0))\n",
      "(np.float64(-0.5), np.float64(8.5))\n",
      "(np.float64(4.0), np.float64(4.0))\n",
      "(np.float64(-31.0), np.float64(7.0))\n",
      "(np.float64(-19.0), np.float64(-6.0))\n",
      "(np.float64(-15.5), np.float64(-15.5))\n",
      "(np.float64(-9.0), np.float64(6.0))\n",
      "(np.float64(-4.0), np.float64(0.0))\n",
      "(np.float64(0.0), np.float64(0.0))\n",
      "(np.float64(-35.0), np.float64(14.0))\n",
      "(np.float64(-26.0), np.float64(12.0))\n",
      "(np.float64(2.0), np.float64(2.0))\n",
      "(np.float64(-53.0), np.float64(14.0))\n",
      "(np.float64(-27.0), np.float64(-5.0))\n",
      "(np.float64(-17.0), np.float64(-17.0))\n",
      "(np.float64(-15.0), np.float64(9.0))\n",
      "(np.float64(-6.0), np.float64(0.0))\n",
      "(np.float64(0.0), np.float64(0.0))\n",
      "(np.float64(-40.0), np.float64(28.0))\n",
      "(np.float64(-10.25), np.float64(11.75))\n",
      "(np.float64(0.0), np.float64(0.0))\n",
      "(np.float64(-60.0), np.float64(21.0))\n",
      "(np.float64(-37.0), np.float64(-9.0))\n",
      "(np.float64(-26.0), np.float64(-26.0))\n",
      "(np.float64(-25.0), np.float64(15.0))\n",
      "(np.float64(-10.0), np.float64(0.0))\n",
      "(np.float64(-1.0), np.float64(-1.0))\n",
      "(np.float64(7.0), np.float64(11.0))\n",
      "(np.float64(7.5), np.float64(11.0))\n",
      "(np.float64(10.0), np.float64(10.0))\n",
      "(np.float64(-73.0), np.float64(21.0))\n",
      "(np.float64(-60.5), np.float64(-6.0))\n",
      "(np.float64(-34.0), np.float64(-34.0))\n",
      "(np.float64(-25.0), np.float64(15.0))\n",
      "(np.float64(-10.0), np.float64(0.0))\n",
      "(np.float64(-2.0), np.float64(-2.0))\n",
      "(np.float64(-19.0), np.float64(30.0))\n",
      "(np.float64(-2.5), np.float64(14.5))\n",
      "(np.float64(12.0), np.float64(12.0))\n",
      "(np.float64(-95.0), np.float64(27.0))\n",
      "(np.float64(-67.0), np.float64(-23.0))\n",
      "(np.float64(-55.0), np.float64(-55.0))\n",
      "(np.float64(-40.0), np.float64(24.0))\n",
      "(np.float64(-16.0), np.float64(0.0))\n",
      "(np.float64(-4.0), np.float64(-4.0))\n",
      "(np.float64(13.0), np.float64(13.0))\n",
      "(np.float64(-123.0), np.float64(19.0))\n",
      "(np.float64(-81.0), np.float64(-41.0))\n",
      "(np.float64(-64.0), np.float64(-64.0))\n",
      "(np.float64(-33.0), np.float64(21.0))\n",
      "(np.float64(-14.0), np.float64(0.0))\n",
      "(np.float64(-2.0), np.float64(-2.0))\n",
      "(np.float64(0.0), np.float64(19.0))\n",
      "(np.float64(4.75), np.float64(14.25))\n",
      "(np.float64(9.5), np.float64(9.5))\n",
      "(np.float64(-157.0), np.float64(58.0))\n",
      "(np.float64(-102.0), np.float64(-25.0))\n",
      "(np.float64(-73.0), np.float64(-73.0))\n",
      "(np.float64(-32.0), np.float64(19.0))\n",
      "(np.float64(-13.0), np.float64(0.0))\n",
      "(np.float64(-4.0), np.float64(-4.0))\n",
      "teeplots/col=what+hue=fitness-effect+kind=violin+palette=pastel+textlabels=True+viz=catplot+x=num-tasks-has+y=delta-num-coding-sites+ext=.pdf\n",
      "teeplots/col=what+hue=fitness-effect+kind=violin+palette=pastel+textlabels=True+viz=catplot+x=num-tasks-has+y=delta-num-coding-sites+ext=.png\n"
     ]
    },
    {
     "data": {
      "image/png": "[encoded data removed]",
      "text/plain": [
       "<Figure size 397.75x300 with 1 Axes>"
      ]
     },
     "metadata": {},
     "output_type": "display_data"
    },
    {
     "name": "stdout",
     "output_type": "stream",
     "text": [
      "teeplots/col=what+hue=fitness-effect+kind=hist+multiple=dodge+palette=pastel+stat=probability+viz=displot+x=num-tasks-has+ext=.pdf\n",
      "teeplots/col=what+hue=fitness-effect+kind=hist+multiple=dodge+palette=pastel+stat=probability+viz=displot+x=num-tasks-has+ext=.png\n"
     ]
    },
    {
     "data": {
      "image/png": "[encoded data removed]",
      "text/plain": [
       "<Figure size 397.75x300 with 1 Axes>"
      ]
     },
     "metadata": {},
     "output_type": "display_data"
    },
    {
     "name": "stdout",
     "output_type": "stream",
     "text": [
      "teeplots/col=what+hue=fitness-effect+kind=hist+multiple=dodge+palette=pastel+stat=count+viz=displot+x=num-tasks-has+ext=.pdf\n"
     ]
    },
    {
     "name": "stdout",
     "output_type": "stream",
     "text": [
      "teeplots/col=what+hue=fitness-effect+kind=hist+multiple=dodge+palette=pastel+stat=count+viz=displot+x=num-tasks-has+ext=.png\n"
     ]
    },
    {
     "data": {
      "image/png": "[encoded data removed]",
      "text/plain": [
       "<Figure size 397.75x300 with 1 Axes>"
      ]
     },
     "metadata": {},
     "output_type": "display_data"
    }
   ],
   "source": [
    "for x in \"fitness effect\", \"max components\", \"num tasks has\":\n",
    "    for kind in \"bar\", \"violin\":\n",
    "        saveit, g = tp.tee(\n",
    "            sns.catplot,\n",
    "            data=dfz.to_pandas(),\n",
    "            col=\"what\",\n",
    "            x=x,\n",
    "            y=\"delta num coding sites\",\n",
    "            hue=\"fitness effect\",\n",
    "            hue_order=[\"deleterious\", \"neutral\", \"beneficial\"],\n",
    "            kind=kind,\n",
    "            palette=\"pastel\",\n",
    "            teeplot_callback=True,\n",
    "            aspect=0.9,\n",
    "            height=3,\n",
    "        )\n",
    "        if x != \"max components\":\n",
    "            g.set(xticklabels=[], xlabel=\"\")\n",
    "        else:\n",
    "            g.set(xlabel=\"max task complexity\")\n",
    "        g.set_titles(\"\")\n",
    "        for ax in g.axes.flat:\n",
    "            xs = [line.get_xdata().min() for line in ax.lines]\n",
    "            lower = [line.get_ydata().min() for line in ax.lines]\n",
    "            upper = [line.get_ydata().max() for line in ax.lines]\n",
    "            cis = [*zip(lower, upper)]\n",
    "            order = np.argsort(xs)\n",
    "            for o in order:\n",
    "                print(cis[o])\n",
    "            ax.axhline(0, color=\"black\", linewidth=1)\n",
    "        saveit()\n",
    "\n",
    "    for kind in \"bar\", \"violin\":\n",
    "        saveit, g = tp.tee(\n",
    "            sns.catplot,\n",
    "            data=dfz.to_pandas(),\n",
    "            col=\"what\",\n",
    "            x=x,\n",
    "            y=\"delta num coding sites\",\n",
    "            hue=\"fitness effect\",\n",
    "            hue_order=[\"deleterious\", \"neutral\", \"beneficial\"],\n",
    "            kind=kind,\n",
    "            palette=\"pastel\",\n",
    "            teeplot_callback=True,\n",
    "            teeplot_outattrs={\"textlabels\": True},\n",
    "            aspect=0.9,\n",
    "            height=3,\n",
    "        )\n",
    "        if x != \"max components\":\n",
    "            g.set(xticklabels=[], xlabel=\"\")\n",
    "        else:\n",
    "            g.set(xlabel=\"max task complexity\")\n",
    "        g.set_titles(\"\")\n",
    "        for ax in g.axes.flat:\n",
    "            xs = [line.get_xdata().min() for line in ax.lines]\n",
    "            lower = [line.get_ydata().min() for line in ax.lines]\n",
    "            upper = [line.get_ydata().max() for line in ax.lines]\n",
    "            cis = [*zip(lower, upper)]\n",
    "            order = np.argsort(xs)\n",
    "            for o in order:\n",
    "                print(cis[o])\n",
    "            ax.axhline(0, color=\"black\", linewidth=1)\n",
    "            # add count labels\n",
    "            # adapted from https://stackoverflow.com/a/55319634/17332200\n",
    "            for p in ax.patches:\n",
    "                ax.annotate(\n",
    "                    text=f\"{p.get_height():1.1f}\",\n",
    "                    xy=(\n",
    "                        p.get_x() + p.get_width() / 2.,\n",
    "                        -5 * np.sign(p.get_height())\n",
    "                    ),\n",
    "                    xycoords=\"data\",\n",
    "                    ha=\"center\",\n",
    "                    va=\"center\",\n",
    "                    fontsize=11,\n",
    "                    color=\"black\",\n",
    "                    xytext=(0,0),\n",
    "                    textcoords=\"offset points\",\n",
    "                    clip_on=True,                   # <---  important\n",
    "                )\n",
    "        saveit()\n",
    "\n",
    "    saveit, g = tp.tee(\n",
    "        sns.displot,\n",
    "        data=dfz.to_pandas(),\n",
    "        col=\"what\",\n",
    "        x=x,\n",
    "        kind=\"hist\",\n",
    "        hue=\"fitness effect\",\n",
    "        hue_order=[\"deleterious\", \"neutral\", \"beneficial\"],\n",
    "        multiple=\"stack\" if x == \"fitness effect\" else \"dodge\",\n",
    "        palette=\"pastel\",\n",
    "        stat=\"probability\",\n",
    "        teeplot_callback=True,\n",
    "        aspect=0.9,\n",
    "        height=3,\n",
    "    )\n",
    "    plt.yscale(\"symlog\", linthresh=5e-2)\n",
    "    g.set(xticklabels=[], xlabel=\"\", ylim=(0, 1.5))\n",
    "    g.set_titles(\"\")\n",
    "\n",
    "    # add count labels\n",
    "    # adapted from https://stackoverflow.com/a/55319634/17332200\n",
    "    for ax in g.axes.flat:\n",
    "        xs = [line.get_xdata().min() for line in ax.lines]\n",
    "        lower = [line.get_ydata().min() for line in ax.lines]\n",
    "        upper = [line.get_ydata().max() for line in ax.lines]\n",
    "        cis = [*zip(lower, upper)]\n",
    "        order = np.argsort(xs)\n",
    "        for o in order:\n",
    "            print(cis[o])\n",
    "\n",
    "        for p in ax.patches:\n",
    "            if p.get_height() > 0.0001:\n",
    "                ax.annotate(\n",
    "                    text=f\"{p.get_height():1.3f}\",\n",
    "                    xy=(\n",
    "                        p.get_x() + p.get_width() / 2.,\n",
    "                        p.get_height(),\n",
    "                    ),\n",
    "                    xycoords=\"data\",\n",
    "                    ha=\"center\",\n",
    "                    va=\"center\",\n",
    "                    fontsize=11,\n",
    "                    color=\"black\",\n",
    "                    xytext=(0,7),\n",
    "                    textcoords=\"offset points\",\n",
    "                    clip_on=True,                   # <---  important\n",
    "                )\n",
    "\n",
    "    saveit()\n",
    "\n",
    "    saveit, g = tp.tee(\n",
    "        sns.displot,\n",
    "        data=dfz.to_pandas(),\n",
    "        col=\"what\",\n",
    "        x=x,\n",
    "        kind=\"hist\",\n",
    "        hue=\"fitness effect\",\n",
    "        hue_order=[\"deleterious\", \"neutral\", \"beneficial\"],\n",
    "        stat=\"count\",\n",
    "        palette=\"pastel\",\n",
    "        multiple=\"stack\" if x == \"fitness effect\" else \"dodge\",\n",
    "        teeplot_callback=True,\n",
    "        aspect=0.9,\n",
    "        height=3,\n",
    "    )\n",
    "    plt.yscale(\"log\")\n",
    "    if x != \"max components\":\n",
    "        g.set(xticklabels=[], xlabel=\"\")\n",
    "    else:\n",
    "        g.set(xlabel=\"max task complexity\")\n",
    "    g.set_titles(\"\")\n",
    "\n",
    "    # add count labels\n",
    "    # adapted from https://stackoverflow.com/a/55319634/17332200\n",
    "    for ax in g.axes.flat:\n",
    "        xs = [line.get_xdata().min() for line in ax.lines]\n",
    "        lower = [line.get_ydata().min() for line in ax.lines]\n",
    "        upper = [line.get_ydata().max() for line in ax.lines]\n",
    "        cis = [*zip(lower, upper)]\n",
    "        order = np.argsort(xs)\n",
    "        for o in order:\n",
    "            print(cis[o])\n",
    "\n",
    "        for p in ax.patches:\n",
    "            ax.annotate(\n",
    "                text=f\"{p.get_height():1.0f}\",\n",
    "                xy=(\n",
    "                    p.get_x() + p.get_width() / 2.,\n",
    "                    -5 * np.sign(p.get_height()),\n",
    "                ),\n",
    "                xycoords=\"data\",\n",
    "                ha=\"center\",\n",
    "                va=\"center\",\n",
    "                fontsize=11,\n",
    "                color=\"black\",\n",
    "                xytext=(0,0),\n",
    "                textcoords=\"offset points\",\n",
    "                clip_on=True,                   # <---  important\n",
    "            )\n",
    "\n",
    "    saveit()\n"
   ]
  },
  {
   "cell_type": "code",
   "execution_count": 36,
   "metadata": {
    "execution": {
     "iopub.execute_input": "2025-08-11T02:10:41.267803Z",
     "iopub.status.busy": "2025-08-11T02:10:41.267456Z",
     "iopub.status.idle": "2025-08-11T02:10:41.302665Z",
     "shell.execute_reply": "2025-08-11T02:10:41.302183Z"
    }
   },
   "outputs": [
    {
     "data": {
      "text/html": [
       "<div>\n",
       "<style scoped>\n",
       "    .dataframe tbody tr th:only-of-type {\n",
       "        vertical-align: middle;\n",
       "    }\n",
       "\n",
       "    .dataframe tbody tr th {\n",
       "        vertical-align: top;\n",
       "    }\n",
       "\n",
       "    .dataframe thead tr th {\n",
       "        text-align: left;\n",
       "    }\n",
       "\n",
       "    .dataframe thead tr:last-of-type th {\n",
       "        text-align: right;\n",
       "    }\n",
       "</style>\n",
       "<table border=\"1\" class=\"dataframe\">\n",
       "  <thead>\n",
       "    <tr>\n",
       "      <th></th>\n",
       "      <th></th>\n",
       "      <th></th>\n",
       "      <th colspan=\"4\" halign=\"left\">delta frac coding sites</th>\n",
       "    </tr>\n",
       "    <tr>\n",
       "      <th></th>\n",
       "      <th></th>\n",
       "      <th></th>\n",
       "      <th>median</th>\n",
       "      <th>mean</th>\n",
       "      <th>std</th>\n",
       "      <th>count</th>\n",
       "    </tr>\n",
       "    <tr>\n",
       "      <th>what</th>\n",
       "      <th>fitness effect</th>\n",
       "      <th>fitness effect</th>\n",
       "      <th></th>\n",
       "      <th></th>\n",
       "      <th></th>\n",
       "      <th></th>\n",
       "    </tr>\n",
       "  </thead>\n",
       "  <tbody>\n",
       "    <tr>\n",
       "      <th rowspan=\"3\" valign=\"top\">insertion</th>\n",
       "      <th>beneficial</th>\n",
       "      <th>beneficial</th>\n",
       "      <td>0.300000</td>\n",
       "      <td>inf</td>\n",
       "      <td>NaN</td>\n",
       "      <td>62</td>\n",
       "    </tr>\n",
       "    <tr>\n",
       "      <th>deleterious</th>\n",
       "      <th>deleterious</th>\n",
       "      <td>-0.943741</td>\n",
       "      <td>-0.677902</td>\n",
       "      <td>0.395289</td>\n",
       "      <td>3202</td>\n",
       "    </tr>\n",
       "    <tr>\n",
       "      <th>neutral</th>\n",
       "      <th>neutral</th>\n",
       "      <td>-0.030928</td>\n",
       "      <td>inf</td>\n",
       "      <td>NaN</td>\n",
       "      <td>3782</td>\n",
       "    </tr>\n",
       "  </tbody>\n",
       "</table>\n",
       "</div>"
      ],
      "text/plain": [
       "                                        delta frac coding sites            \\\n",
       "                                                         median      mean   \n",
       "what      fitness effect fitness effect                                     \n",
       "insertion beneficial     beneficial                    0.300000       inf   \n",
       "          deleterious    deleterious                  -0.943741 -0.677902   \n",
       "          neutral        neutral                      -0.030928       inf   \n",
       "\n",
       "                                                         \n",
       "                                              std count  \n",
       "what      fitness effect fitness effect                  \n",
       "insertion beneficial     beneficial           NaN    62  \n",
       "          deleterious    deleterious     0.395289  3202  \n",
       "          neutral        neutral              NaN  3782  "
      ]
     },
     "metadata": {},
     "output_type": "display_data"
    },
    {
     "data": {
      "text/html": [
       "<div>\n",
       "<style scoped>\n",
       "    .dataframe tbody tr th:only-of-type {\n",
       "        vertical-align: middle;\n",
       "    }\n",
       "\n",
       "    .dataframe tbody tr th {\n",
       "        vertical-align: top;\n",
       "    }\n",
       "\n",
       "    .dataframe thead tr th {\n",
       "        text-align: left;\n",
       "    }\n",
       "\n",
       "    .dataframe thead tr:last-of-type th {\n",
       "        text-align: right;\n",
       "    }\n",
       "</style>\n",
       "<table border=\"1\" class=\"dataframe\">\n",
       "  <thead>\n",
       "    <tr>\n",
       "      <th></th>\n",
       "      <th></th>\n",
       "      <th></th>\n",
       "      <th colspan=\"4\" halign=\"left\">delta frac coding sites</th>\n",
       "    </tr>\n",
       "    <tr>\n",
       "      <th></th>\n",
       "      <th></th>\n",
       "      <th></th>\n",
       "      <th>median</th>\n",
       "      <th>mean</th>\n",
       "      <th>std</th>\n",
       "      <th>count</th>\n",
       "    </tr>\n",
       "    <tr>\n",
       "      <th>what</th>\n",
       "      <th>max components</th>\n",
       "      <th>fitness effect</th>\n",
       "      <th></th>\n",
       "      <th></th>\n",
       "      <th></th>\n",
       "      <th></th>\n",
       "    </tr>\n",
       "  </thead>\n",
       "  <tbody>\n",
       "    <tr>\n",
       "      <th rowspan=\"16\" valign=\"top\">insertion</th>\n",
       "      <th>0</th>\n",
       "      <th>neutral</th>\n",
       "      <td>1.000000</td>\n",
       "      <td>inf</td>\n",
       "      <td>NaN</td>\n",
       "      <td>34</td>\n",
       "    </tr>\n",
       "    <tr>\n",
       "      <th rowspan=\"3\" valign=\"top\">1</th>\n",
       "      <th>beneficial</th>\n",
       "      <td>2.400000</td>\n",
       "      <td>inf</td>\n",
       "      <td>NaN</td>\n",
       "      <td>9</td>\n",
       "    </tr>\n",
       "    <tr>\n",
       "      <th>deleterious</th>\n",
       "      <td>-0.692308</td>\n",
       "      <td>-0.623165</td>\n",
       "      <td>0.380656</td>\n",
       "      <td>101</td>\n",
       "    </tr>\n",
       "    <tr>\n",
       "      <th>neutral</th>\n",
       "      <td>0.000000</td>\n",
       "      <td>0.051175</td>\n",
       "      <td>0.561517</td>\n",
       "      <td>173</td>\n",
       "    </tr>\n",
       "    <tr>\n",
       "      <th rowspan=\"3\" valign=\"top\">2</th>\n",
       "      <th>beneficial</th>\n",
       "      <td>0.600000</td>\n",
       "      <td>2.063411</td>\n",
       "      <td>3.902785</td>\n",
       "      <td>11</td>\n",
       "    </tr>\n",
       "    <tr>\n",
       "      <th>deleterious</th>\n",
       "      <td>-0.812500</td>\n",
       "      <td>-0.626390</td>\n",
       "      <td>0.405080</td>\n",
       "      <td>97</td>\n",
       "    </tr>\n",
       "    <tr>\n",
       "      <th>neutral</th>\n",
       "      <td>0.000000</td>\n",
       "      <td>-0.115255</td>\n",
       "      <td>0.426855</td>\n",
       "      <td>227</td>\n",
       "    </tr>\n",
       "    <tr>\n",
       "      <th rowspan=\"3\" valign=\"top\">3</th>\n",
       "      <th>beneficial</th>\n",
       "      <td>0.102941</td>\n",
       "      <td>0.062434</td>\n",
       "      <td>0.419986</td>\n",
       "      <td>23</td>\n",
       "    </tr>\n",
       "    <tr>\n",
       "      <th>deleterious</th>\n",
       "      <td>-0.601171</td>\n",
       "      <td>-0.491575</td>\n",
       "      <td>0.505809</td>\n",
       "      <td>178</td>\n",
       "    </tr>\n",
       "    <tr>\n",
       "      <th>neutral</th>\n",
       "      <td>-0.020870</td>\n",
       "      <td>-0.102038</td>\n",
       "      <td>0.300432</td>\n",
       "      <td>430</td>\n",
       "    </tr>\n",
       "    <tr>\n",
       "      <th rowspan=\"3\" valign=\"top\">4</th>\n",
       "      <th>beneficial</th>\n",
       "      <td>0.222222</td>\n",
       "      <td>0.293770</td>\n",
       "      <td>0.628640</td>\n",
       "      <td>17</td>\n",
       "    </tr>\n",
       "    <tr>\n",
       "      <th>deleterious</th>\n",
       "      <td>-0.946429</td>\n",
       "      <td>-0.714866</td>\n",
       "      <td>0.377912</td>\n",
       "      <td>1473</td>\n",
       "    </tr>\n",
       "    <tr>\n",
       "      <th>neutral</th>\n",
       "      <td>-0.054545</td>\n",
       "      <td>-0.140572</td>\n",
       "      <td>0.233209</td>\n",
       "      <td>1830</td>\n",
       "    </tr>\n",
       "    <tr>\n",
       "      <th rowspan=\"3\" valign=\"top\">5</th>\n",
       "      <th>beneficial</th>\n",
       "      <td>0.101064</td>\n",
       "      <td>0.101064</td>\n",
       "      <td>0.142926</td>\n",
       "      <td>2</td>\n",
       "    </tr>\n",
       "    <tr>\n",
       "      <th>deleterious</th>\n",
       "      <td>-0.950000</td>\n",
       "      <td>-0.669951</td>\n",
       "      <td>0.389940</td>\n",
       "      <td>1353</td>\n",
       "    </tr>\n",
       "    <tr>\n",
       "      <th>neutral</th>\n",
       "      <td>-0.033333</td>\n",
       "      <td>-0.094742</td>\n",
       "      <td>0.206517</td>\n",
       "      <td>1088</td>\n",
       "    </tr>\n",
       "  </tbody>\n",
       "</table>\n",
       "</div>"
      ],
      "text/plain": [
       "                                        delta frac coding sites            \\\n",
       "                                                         median      mean   \n",
       "what      max components fitness effect                                     \n",
       "insertion 0              neutral                       1.000000       inf   \n",
       "          1              beneficial                    2.400000       inf   \n",
       "                         deleterious                  -0.692308 -0.623165   \n",
       "                         neutral                       0.000000  0.051175   \n",
       "          2              beneficial                    0.600000  2.063411   \n",
       "                         deleterious                  -0.812500 -0.626390   \n",
       "                         neutral                       0.000000 -0.115255   \n",
       "          3              beneficial                    0.102941  0.062434   \n",
       "                         deleterious                  -0.601171 -0.491575   \n",
       "                         neutral                      -0.020870 -0.102038   \n",
       "          4              beneficial                    0.222222  0.293770   \n",
       "                         deleterious                  -0.946429 -0.714866   \n",
       "                         neutral                      -0.054545 -0.140572   \n",
       "          5              beneficial                    0.101064  0.101064   \n",
       "                         deleterious                  -0.950000 -0.669951   \n",
       "                         neutral                      -0.033333 -0.094742   \n",
       "\n",
       "                                                         \n",
       "                                              std count  \n",
       "what      max components fitness effect                  \n",
       "insertion 0              neutral              NaN    34  \n",
       "          1              beneficial           NaN     9  \n",
       "                         deleterious     0.380656   101  \n",
       "                         neutral         0.561517   173  \n",
       "          2              beneficial      3.902785    11  \n",
       "                         deleterious     0.405080    97  \n",
       "                         neutral         0.426855   227  \n",
       "          3              beneficial      0.419986    23  \n",
       "                         deleterious     0.505809   178  \n",
       "                         neutral         0.300432   430  \n",
       "          4              beneficial      0.628640    17  \n",
       "                         deleterious     0.377912  1473  \n",
       "                         neutral         0.233209  1830  \n",
       "          5              beneficial      0.142926     2  \n",
       "                         deleterious     0.389940  1353  \n",
       "                         neutral         0.206517  1088  "
      ]
     },
     "metadata": {},
     "output_type": "display_data"
    },
    {
     "data": {
      "text/html": [
       "<div>\n",
       "<style scoped>\n",
       "    .dataframe tbody tr th:only-of-type {\n",
       "        vertical-align: middle;\n",
       "    }\n",
       "\n",
       "    .dataframe tbody tr th {\n",
       "        vertical-align: top;\n",
       "    }\n",
       "\n",
       "    .dataframe thead tr th {\n",
       "        text-align: left;\n",
       "    }\n",
       "\n",
       "    .dataframe thead tr:last-of-type th {\n",
       "        text-align: right;\n",
       "    }\n",
       "</style>\n",
       "<table border=\"1\" class=\"dataframe\">\n",
       "  <thead>\n",
       "    <tr>\n",
       "      <th></th>\n",
       "      <th></th>\n",
       "      <th></th>\n",
       "      <th colspan=\"4\" halign=\"left\">delta frac coding sites</th>\n",
       "    </tr>\n",
       "    <tr>\n",
       "      <th></th>\n",
       "      <th></th>\n",
       "      <th></th>\n",
       "      <th>median</th>\n",
       "      <th>mean</th>\n",
       "      <th>std</th>\n",
       "      <th>count</th>\n",
       "    </tr>\n",
       "    <tr>\n",
       "      <th>what</th>\n",
       "      <th>num tasks has</th>\n",
       "      <th>fitness effect</th>\n",
       "      <th></th>\n",
       "      <th></th>\n",
       "      <th></th>\n",
       "      <th></th>\n",
       "    </tr>\n",
       "  </thead>\n",
       "  <tbody>\n",
       "    <tr>\n",
       "      <th rowspan=\"28\" valign=\"top\">insertion</th>\n",
       "      <th rowspan=\"2\" valign=\"top\">0</th>\n",
       "      <th>beneficial</th>\n",
       "      <td>inf</td>\n",
       "      <td>inf</td>\n",
       "      <td>NaN</td>\n",
       "      <td>4</td>\n",
       "    </tr>\n",
       "    <tr>\n",
       "      <th>neutral</th>\n",
       "      <td>1.000000</td>\n",
       "      <td>inf</td>\n",
       "      <td>NaN</td>\n",
       "      <td>34</td>\n",
       "    </tr>\n",
       "    <tr>\n",
       "      <th rowspan=\"3\" valign=\"top\">1</th>\n",
       "      <th>beneficial</th>\n",
       "      <td>1.000000</td>\n",
       "      <td>1.262510</td>\n",
       "      <td>0.915742</td>\n",
       "      <td>13</td>\n",
       "    </tr>\n",
       "    <tr>\n",
       "      <th>deleterious</th>\n",
       "      <td>-0.692308</td>\n",
       "      <td>-0.652749</td>\n",
       "      <td>0.360009</td>\n",
       "      <td>85</td>\n",
       "    </tr>\n",
       "    <tr>\n",
       "      <th>neutral</th>\n",
       "      <td>0.000000</td>\n",
       "      <td>0.045828</td>\n",
       "      <td>0.586070</td>\n",
       "      <td>148</td>\n",
       "    </tr>\n",
       "    <tr>\n",
       "      <th rowspan=\"3\" valign=\"top\">2</th>\n",
       "      <th>beneficial</th>\n",
       "      <td>0.162963</td>\n",
       "      <td>2.358699</td>\n",
       "      <td>5.461317</td>\n",
       "      <td>6</td>\n",
       "    </tr>\n",
       "    <tr>\n",
       "      <th>deleterious</th>\n",
       "      <td>-0.741667</td>\n",
       "      <td>-0.577949</td>\n",
       "      <td>0.395109</td>\n",
       "      <td>26</td>\n",
       "    </tr>\n",
       "    <tr>\n",
       "      <th>neutral</th>\n",
       "      <td>0.000000</td>\n",
       "      <td>-0.077346</td>\n",
       "      <td>0.342736</td>\n",
       "      <td>82</td>\n",
       "    </tr>\n",
       "    <tr>\n",
       "      <th rowspan=\"3\" valign=\"top\">3</th>\n",
       "      <th>beneficial</th>\n",
       "      <td>0.095238</td>\n",
       "      <td>0.031198</td>\n",
       "      <td>0.591633</td>\n",
       "      <td>9</td>\n",
       "    </tr>\n",
       "    <tr>\n",
       "      <th>deleterious</th>\n",
       "      <td>-0.823529</td>\n",
       "      <td>-0.593874</td>\n",
       "      <td>0.429795</td>\n",
       "      <td>85</td>\n",
       "    </tr>\n",
       "    <tr>\n",
       "      <th>neutral</th>\n",
       "      <td>0.000000</td>\n",
       "      <td>-0.063887</td>\n",
       "      <td>0.495837</td>\n",
       "      <td>165</td>\n",
       "    </tr>\n",
       "    <tr>\n",
       "      <th rowspan=\"3\" valign=\"top\">4</th>\n",
       "      <th>beneficial</th>\n",
       "      <td>-0.014685</td>\n",
       "      <td>0.064237</td>\n",
       "      <td>0.406248</td>\n",
       "      <td>14</td>\n",
       "    </tr>\n",
       "    <tr>\n",
       "      <th>deleterious</th>\n",
       "      <td>-0.625000</td>\n",
       "      <td>-0.508391</td>\n",
       "      <td>0.476752</td>\n",
       "      <td>81</td>\n",
       "    </tr>\n",
       "    <tr>\n",
       "      <th>neutral</th>\n",
       "      <td>0.000000</td>\n",
       "      <td>-0.086759</td>\n",
       "      <td>0.302970</td>\n",
       "      <td>202</td>\n",
       "    </tr>\n",
       "    <tr>\n",
       "      <th rowspan=\"3\" valign=\"top\">5</th>\n",
       "      <th>beneficial</th>\n",
       "      <td>0.358876</td>\n",
       "      <td>0.263134</td>\n",
       "      <td>0.197995</td>\n",
       "      <td>6</td>\n",
       "    </tr>\n",
       "    <tr>\n",
       "      <th>deleterious</th>\n",
       "      <td>-0.896552</td>\n",
       "      <td>-0.564200</td>\n",
       "      <td>0.512730</td>\n",
       "      <td>73</td>\n",
       "    </tr>\n",
       "    <tr>\n",
       "      <th>neutral</th>\n",
       "      <td>-0.022497</td>\n",
       "      <td>-0.129672</td>\n",
       "      <td>0.259962</td>\n",
       "      <td>162</td>\n",
       "    </tr>\n",
       "    <tr>\n",
       "      <th rowspan=\"3\" valign=\"top\">6</th>\n",
       "      <th>beneficial</th>\n",
       "      <td>0.222222</td>\n",
       "      <td>0.148368</td>\n",
       "      <td>0.310998</td>\n",
       "      <td>7</td>\n",
       "    </tr>\n",
       "    <tr>\n",
       "      <th>deleterious</th>\n",
       "      <td>-0.903226</td>\n",
       "      <td>-0.571140</td>\n",
       "      <td>0.444571</td>\n",
       "      <td>143</td>\n",
       "    </tr>\n",
       "    <tr>\n",
       "      <th>neutral</th>\n",
       "      <td>-0.046512</td>\n",
       "      <td>-0.135508</td>\n",
       "      <td>0.250449</td>\n",
       "      <td>245</td>\n",
       "    </tr>\n",
       "    <tr>\n",
       "      <th rowspan=\"3\" valign=\"top\">7</th>\n",
       "      <th>beneficial</th>\n",
       "      <td>0.254902</td>\n",
       "      <td>0.254902</td>\n",
       "      <td>NaN</td>\n",
       "      <td>1</td>\n",
       "    </tr>\n",
       "    <tr>\n",
       "      <th>deleterious</th>\n",
       "      <td>-0.949153</td>\n",
       "      <td>-0.724539</td>\n",
       "      <td>0.376167</td>\n",
       "      <td>1041</td>\n",
       "    </tr>\n",
       "    <tr>\n",
       "      <th>neutral</th>\n",
       "      <td>-0.064516</td>\n",
       "      <td>-0.148390</td>\n",
       "      <td>0.231369</td>\n",
       "      <td>1443</td>\n",
       "    </tr>\n",
       "    <tr>\n",
       "      <th rowspan=\"3\" valign=\"top\">8</th>\n",
       "      <th>beneficial</th>\n",
       "      <td>0.101064</td>\n",
       "      <td>0.101064</td>\n",
       "      <td>0.142926</td>\n",
       "      <td>2</td>\n",
       "    </tr>\n",
       "    <tr>\n",
       "      <th>deleterious</th>\n",
       "      <td>-0.947368</td>\n",
       "      <td>-0.759841</td>\n",
       "      <td>0.335634</td>\n",
       "      <td>594</td>\n",
       "    </tr>\n",
       "    <tr>\n",
       "      <th>neutral</th>\n",
       "      <td>-0.019802</td>\n",
       "      <td>-0.078622</td>\n",
       "      <td>0.232979</td>\n",
       "      <td>371</td>\n",
       "    </tr>\n",
       "    <tr>\n",
       "      <th rowspan=\"2\" valign=\"top\">9</th>\n",
       "      <th>deleterious</th>\n",
       "      <td>-0.953596</td>\n",
       "      <td>-0.633167</td>\n",
       "      <td>0.405582</td>\n",
       "      <td>1074</td>\n",
       "    </tr>\n",
       "    <tr>\n",
       "      <th>neutral</th>\n",
       "      <td>-0.037975</td>\n",
       "      <td>-0.103640</td>\n",
       "      <td>0.200443</td>\n",
       "      <td>930</td>\n",
       "    </tr>\n",
       "  </tbody>\n",
       "</table>\n",
       "</div>"
      ],
      "text/plain": [
       "                                       delta frac coding sites            \\\n",
       "                                                        median      mean   \n",
       "what      num tasks has fitness effect                                     \n",
       "insertion 0             beneficial                         inf       inf   \n",
       "                        neutral                       1.000000       inf   \n",
       "          1             beneficial                    1.000000  1.262510   \n",
       "                        deleterious                  -0.692308 -0.652749   \n",
       "                        neutral                       0.000000  0.045828   \n",
       "          2             beneficial                    0.162963  2.358699   \n",
       "                        deleterious                  -0.741667 -0.577949   \n",
       "                        neutral                       0.000000 -0.077346   \n",
       "          3             beneficial                    0.095238  0.031198   \n",
       "                        deleterious                  -0.823529 -0.593874   \n",
       "                        neutral                       0.000000 -0.063887   \n",
       "          4             beneficial                   -0.014685  0.064237   \n",
       "                        deleterious                  -0.625000 -0.508391   \n",
       "                        neutral                       0.000000 -0.086759   \n",
       "          5             beneficial                    0.358876  0.263134   \n",
       "                        deleterious                  -0.896552 -0.564200   \n",
       "                        neutral                      -0.022497 -0.129672   \n",
       "          6             beneficial                    0.222222  0.148368   \n",
       "                        deleterious                  -0.903226 -0.571140   \n",
       "                        neutral                      -0.046512 -0.135508   \n",
       "          7             beneficial                    0.254902  0.254902   \n",
       "                        deleterious                  -0.949153 -0.724539   \n",
       "                        neutral                      -0.064516 -0.148390   \n",
       "          8             beneficial                    0.101064  0.101064   \n",
       "                        deleterious                  -0.947368 -0.759841   \n",
       "                        neutral                      -0.019802 -0.078622   \n",
       "          9             deleterious                  -0.953596 -0.633167   \n",
       "                        neutral                      -0.037975 -0.103640   \n",
       "\n",
       "                                                        \n",
       "                                             std count  \n",
       "what      num tasks has fitness effect                  \n",
       "insertion 0             beneficial           NaN     4  \n",
       "                        neutral              NaN    34  \n",
       "          1             beneficial      0.915742    13  \n",
       "                        deleterious     0.360009    85  \n",
       "                        neutral         0.586070   148  \n",
       "          2             beneficial      5.461317     6  \n",
       "                        deleterious     0.395109    26  \n",
       "                        neutral         0.342736    82  \n",
       "          3             beneficial      0.591633     9  \n",
       "                        deleterious     0.429795    85  \n",
       "                        neutral         0.495837   165  \n",
       "          4             beneficial      0.406248    14  \n",
       "                        deleterious     0.476752    81  \n",
       "                        neutral         0.302970   202  \n",
       "          5             beneficial      0.197995     6  \n",
       "                        deleterious     0.512730    73  \n",
       "                        neutral         0.259962   162  \n",
       "          6             beneficial      0.310998     7  \n",
       "                        deleterious     0.444571   143  \n",
       "                        neutral         0.250449   245  \n",
       "          7             beneficial           NaN     1  \n",
       "                        deleterious     0.376167  1041  \n",
       "                        neutral         0.231369  1443  \n",
       "          8             beneficial      0.142926     2  \n",
       "                        deleterious     0.335634   594  \n",
       "                        neutral         0.232979   371  \n",
       "          9             deleterious     0.405582  1074  \n",
       "                        neutral         0.200443   930  "
      ]
     },
     "metadata": {},
     "output_type": "display_data"
    }
   ],
   "source": [
    "for x in \"fitness effect\", \"max components\", \"num tasks has\":\n",
    "    display(\n",
    "        dfz.to_pandas().groupby(\n",
    "            [\"what\", x, \"fitness effect\"],\n",
    "        ).agg(\n",
    "            {\n",
    "                \"delta frac coding sites\": [\"median\", \"mean\", \"std\", \"count\"],\n",
    "            },\n",
    "        ),\n",
    "    )\n"
   ]
  },
  {
   "cell_type": "code",
   "execution_count": 37,
   "metadata": {
    "execution": {
     "iopub.execute_input": "2025-08-11T02:10:41.304441Z",
     "iopub.status.busy": "2025-08-11T02:10:41.304084Z",
     "iopub.status.idle": "2025-08-11T02:10:44.521434Z",
     "shell.execute_reply": "2025-08-11T02:10:44.520964Z"
    }
   },
   "outputs": [
    {
     "name": "stdout",
     "output_type": "stream",
     "text": [
      "teeplots/col=num-tasks-has+kind=hist+row=what+viz=displot+x=delta-num-coding-sites+y=delta-num-tasks-has+ext=.pdf\n"
     ]
    },
    {
     "name": "stdout",
     "output_type": "stream",
     "text": [
      "teeplots/col=num-tasks-has+kind=hist+row=what+viz=displot+x=delta-num-coding-sites+y=delta-num-tasks-has+ext=.png\n"
     ]
    },
    {
     "data": {
      "image/png": "[encoded data removed]",
      "text/plain": [
       "<Figure size 5000x500 with 10 Axes>"
      ]
     },
     "metadata": {},
     "output_type": "display_data"
    },
    {
     "data": {
      "text/plain": [
       "<seaborn.axisgrid.FacetGrid at 0x7f6fddd2f2f0>"
      ]
     },
     "execution_count": 37,
     "metadata": {},
     "output_type": "execute_result"
    }
   ],
   "source": [
    "tp.tee(\n",
    "    sns.displot,\n",
    "    data=dfz.to_pandas(),\n",
    "    x=\"delta num coding sites\",\n",
    "    y=\"delta num tasks has\",\n",
    "    row=\"what\",\n",
    "    common_norm=False,\n",
    "    col=\"num tasks has\",\n",
    "    kind=\"hist\",\n",
    ")\n"
   ]
  }
 ],
 "metadata": {
  "kernelspec": {
   "display_name": "Python 3",
   "language": "python",
   "name": "python3"
  },
  "language_info": {
   "codemirror_mode": {
    "name": "ipython",
    "version": 3
   },
   "file_extension": ".py",
   "mimetype": "text/x-python",
   "name": "python",
   "nbconvert_exporter": "python",
   "pygments_lexer": "ipython3",
   "version": "3.12.3"
  }
 },
 "nbformat": 4,
 "nbformat_minor": 2
}
