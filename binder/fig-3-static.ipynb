{
 "cells": [
  {
   "cell_type": "markdown",
   "metadata": {},
   "source": [
    "## Set Up Dependencies and Data\n"
   ]
  },
  {
   "cell_type": "code",
   "execution_count": 1,
   "metadata": {
    "execution": {
     "iopub.execute_input": "2025-03-28T00:50:51.725442Z",
     "iopub.status.busy": "2025-03-28T00:50:51.725271Z",
     "iopub.status.idle": "2025-03-28T00:50:53.305510Z",
     "shell.execute_reply": "2025-03-28T00:50:53.304985Z"
    }
   },
   "outputs": [],
   "source": [
    "import joblib\n",
    "from matplotlib import pyplot as plt\n",
    "import numpy as np\n",
    "import pandas as pd\n",
    "import seaborn as sns\n",
    "from teeplot import teeplot as tp\n"
   ]
  },
  {
   "cell_type": "code",
   "execution_count": 2,
   "metadata": {
    "execution": {
     "iopub.execute_input": "2025-03-28T00:50:53.307657Z",
     "iopub.status.busy": "2025-03-28T00:50:53.307184Z",
     "iopub.status.idle": "2025-03-28T00:50:54.533352Z",
     "shell.execute_reply": "2025-03-28T00:50:54.532794Z"
    }
   },
   "outputs": [],
   "source": [
    "df = pd.read_csv(\"https://raw.githubusercontent.com/chaynes2019/AvidaGeneDupe/abfd1563f20a0fa60229e68a125d9c3f6780493f/experiments/2022-3-29-PaperDuplication/TidiedData/TaskCountTimeCourse.csv\")\n"
   ]
  },
  {
   "cell_type": "markdown",
   "metadata": {},
   "source": [
    "## Reproducibility\n"
   ]
  },
  {
   "cell_type": "code",
   "execution_count": 3,
   "metadata": {
    "execution": {
     "iopub.execute_input": "2025-03-28T00:50:54.535532Z",
     "iopub.status.busy": "2025-03-28T00:50:54.535127Z",
     "iopub.status.idle": "2025-03-28T00:50:54.585259Z",
     "shell.execute_reply": "2025-03-28T00:50:54.584779Z"
    }
   },
   "outputs": [
    {
     "name": "stdout",
     "output_type": "stream",
     "text": [
      "Last updated: 2025-03-28T00:50:54.541626+00:00\n",
      "\n",
      "Python implementation: CPython\n",
      "Python version       : 3.12.3\n",
      "IPython version      : 8.32.0\n",
      "\n",
      "Compiler    : GCC 13.3.0\n",
      "OS          : Linux\n",
      "Release     : 6.8.0-1021-azure\n",
      "Machine     : x86_64\n",
      "Processor   : x86_64\n",
      "CPU cores   : 4\n",
      "Architecture: 64bit\n",
      "\n",
      "Git hash: 4509a89ad0cec1f91cc2675588d5b6f3d3a90758\n",
      "\n",
      "Git branch: main\n",
      "\n",
      "joblib    : 1.3.2\n",
      "numpy     : 2.2.2\n",
      "seaborn   : 0.13.2\n",
      "teeplot   : 1.2.0\n",
      "pandas    : 2.2.3\n",
      "matplotlib: 3.10.0\n",
      "\n",
      "Watermark: 2.4.3\n",
      "\n"
     ]
    }
   ],
   "source": [
    "%load_ext watermark\n",
    "%watermark -iwbmuvg -iv\n"
   ]
  },
  {
   "cell_type": "code",
   "execution_count": 4,
   "metadata": {
    "execution": {
     "iopub.execute_input": "2025-03-28T00:50:54.617335Z",
     "iopub.status.busy": "2025-03-28T00:50:54.616852Z",
     "iopub.status.idle": "2025-03-28T00:50:55.270874Z",
     "shell.execute_reply": "2025-03-28T00:50:55.270437Z"
    }
   },
   "outputs": [
    {
     "data": {
      "text/plain": [
       "'142c9ef657b86cd01efe882733f69fda'"
      ]
     },
     "execution_count": 4,
     "metadata": {},
     "output_type": "execute_result"
    }
   ],
   "source": [
    "joblib.hash(df)\n"
   ]
  },
  {
   "cell_type": "markdown",
   "metadata": {},
   "source": [
    "# Describe data\n"
   ]
  },
  {
   "cell_type": "code",
   "execution_count": 5,
   "metadata": {
    "execution": {
     "iopub.execute_input": "2025-03-28T00:50:55.272544Z",
     "iopub.status.busy": "2025-03-28T00:50:55.272371Z",
     "iopub.status.idle": "2025-03-28T00:50:55.283079Z",
     "shell.execute_reply": "2025-03-28T00:50:55.282679Z"
    }
   },
   "outputs": [
    {
     "data": {
      "text/html": [
       "<div>\n",
       "<style scoped>\n",
       "    .dataframe tbody tr th:only-of-type {\n",
       "        vertical-align: middle;\n",
       "    }\n",
       "\n",
       "    .dataframe tbody tr th {\n",
       "        vertical-align: top;\n",
       "    }\n",
       "\n",
       "    .dataframe thead th {\n",
       "        text-align: right;\n",
       "    }\n",
       "</style>\n",
       "<table border=\"1\" class=\"dataframe\">\n",
       "  <thead>\n",
       "    <tr style=\"text-align: right;\">\n",
       "      <th></th>\n",
       "      <th>Treatment</th>\n",
       "      <th>COPY_MUT_PROB</th>\n",
       "      <th>COPY_INS_PROB</th>\n",
       "      <th>COPY_DEL_PROB</th>\n",
       "      <th>DIVIDE_INS_PROB</th>\n",
       "      <th>DIVIDE_DEL_PROB</th>\n",
       "      <th>DIVIDE_SLIP_PROB</th>\n",
       "      <th>SLIP_FILL_MODE</th>\n",
       "      <th>Replicate #</th>\n",
       "      <th>Time</th>\n",
       "      <th>Tasks Present</th>\n",
       "    </tr>\n",
       "  </thead>\n",
       "  <tbody>\n",
       "    <tr>\n",
       "      <th>0</th>\n",
       "      <td>Slip-NOP</td>\n",
       "      <td>0.0</td>\n",
       "      <td>0.0</td>\n",
       "      <td>0.0</td>\n",
       "      <td>0.0</td>\n",
       "      <td>0.0</td>\n",
       "      <td>0.05</td>\n",
       "      <td>1</td>\n",
       "      <td>1637</td>\n",
       "      <td>74700</td>\n",
       "      <td>7</td>\n",
       "    </tr>\n",
       "    <tr>\n",
       "      <th>1</th>\n",
       "      <td>Slip-NOP</td>\n",
       "      <td>0.0</td>\n",
       "      <td>0.0</td>\n",
       "      <td>0.0</td>\n",
       "      <td>0.0</td>\n",
       "      <td>0.0</td>\n",
       "      <td>0.05</td>\n",
       "      <td>1</td>\n",
       "      <td>1637</td>\n",
       "      <td>183300</td>\n",
       "      <td>7</td>\n",
       "    </tr>\n",
       "    <tr>\n",
       "      <th>2</th>\n",
       "      <td>Slip-NOP</td>\n",
       "      <td>0.0</td>\n",
       "      <td>0.0</td>\n",
       "      <td>0.0</td>\n",
       "      <td>0.0</td>\n",
       "      <td>0.0</td>\n",
       "      <td>0.05</td>\n",
       "      <td>1</td>\n",
       "      <td>1637</td>\n",
       "      <td>110000</td>\n",
       "      <td>7</td>\n",
       "    </tr>\n",
       "    <tr>\n",
       "      <th>3</th>\n",
       "      <td>Slip-NOP</td>\n",
       "      <td>0.0</td>\n",
       "      <td>0.0</td>\n",
       "      <td>0.0</td>\n",
       "      <td>0.0</td>\n",
       "      <td>0.0</td>\n",
       "      <td>0.05</td>\n",
       "      <td>1</td>\n",
       "      <td>1637</td>\n",
       "      <td>141700</td>\n",
       "      <td>7</td>\n",
       "    </tr>\n",
       "    <tr>\n",
       "      <th>4</th>\n",
       "      <td>Slip-NOP</td>\n",
       "      <td>0.0</td>\n",
       "      <td>0.0</td>\n",
       "      <td>0.0</td>\n",
       "      <td>0.0</td>\n",
       "      <td>0.0</td>\n",
       "      <td>0.05</td>\n",
       "      <td>1</td>\n",
       "      <td>1637</td>\n",
       "      <td>81400</td>\n",
       "      <td>7</td>\n",
       "    </tr>\n",
       "  </tbody>\n",
       "</table>\n",
       "</div>"
      ],
      "text/plain": [
       "  Treatment  COPY_MUT_PROB  COPY_INS_PROB  COPY_DEL_PROB  DIVIDE_INS_PROB  \\\n",
       "0  Slip-NOP            0.0            0.0            0.0              0.0   \n",
       "1  Slip-NOP            0.0            0.0            0.0              0.0   \n",
       "2  Slip-NOP            0.0            0.0            0.0              0.0   \n",
       "3  Slip-NOP            0.0            0.0            0.0              0.0   \n",
       "4  Slip-NOP            0.0            0.0            0.0              0.0   \n",
       "\n",
       "   DIVIDE_DEL_PROB  DIVIDE_SLIP_PROB  SLIP_FILL_MODE  Replicate #    Time  \\\n",
       "0              0.0              0.05               1         1637   74700   \n",
       "1              0.0              0.05               1         1637  183300   \n",
       "2              0.0              0.05               1         1637  110000   \n",
       "3              0.0              0.05               1         1637  141700   \n",
       "4              0.0              0.05               1         1637   81400   \n",
       "\n",
       "   Tasks Present  \n",
       "0              7  \n",
       "1              7  \n",
       "2              7  \n",
       "3              7  \n",
       "4              7  "
      ]
     },
     "execution_count": 5,
     "metadata": {},
     "output_type": "execute_result"
    }
   ],
   "source": [
    "df.head()\n"
   ]
  },
  {
   "cell_type": "code",
   "execution_count": 6,
   "metadata": {
    "execution": {
     "iopub.execute_input": "2025-03-28T00:50:55.284594Z",
     "iopub.status.busy": "2025-03-28T00:50:55.284431Z",
     "iopub.status.idle": "2025-03-28T00:50:55.364358Z",
     "shell.execute_reply": "2025-03-28T00:50:55.363881Z"
    }
   },
   "outputs": [
    {
     "data": {
      "text/html": [
       "<div>\n",
       "<style scoped>\n",
       "    .dataframe tbody tr th:only-of-type {\n",
       "        vertical-align: middle;\n",
       "    }\n",
       "\n",
       "    .dataframe tbody tr th {\n",
       "        vertical-align: top;\n",
       "    }\n",
       "\n",
       "    .dataframe thead th {\n",
       "        text-align: right;\n",
       "    }\n",
       "</style>\n",
       "<table border=\"1\" class=\"dataframe\">\n",
       "  <thead>\n",
       "    <tr style=\"text-align: right;\">\n",
       "      <th></th>\n",
       "      <th>COPY_MUT_PROB</th>\n",
       "      <th>COPY_INS_PROB</th>\n",
       "      <th>COPY_DEL_PROB</th>\n",
       "      <th>DIVIDE_INS_PROB</th>\n",
       "      <th>DIVIDE_DEL_PROB</th>\n",
       "      <th>DIVIDE_SLIP_PROB</th>\n",
       "      <th>SLIP_FILL_MODE</th>\n",
       "      <th>Replicate #</th>\n",
       "      <th>Time</th>\n",
       "      <th>Tasks Present</th>\n",
       "    </tr>\n",
       "  </thead>\n",
       "  <tbody>\n",
       "    <tr>\n",
       "      <th>count</th>\n",
       "      <td>420210.000000</td>\n",
       "      <td>420210.000000</td>\n",
       "      <td>420210.000000</td>\n",
       "      <td>420210.000000</td>\n",
       "      <td>420210.000000</td>\n",
       "      <td>420210.000000</td>\n",
       "      <td>420210.000000</td>\n",
       "      <td>420210.000000</td>\n",
       "      <td>420210.000000</td>\n",
       "      <td>420210.000000</td>\n",
       "    </tr>\n",
       "    <tr>\n",
       "      <th>mean</th>\n",
       "      <td>0.000714</td>\n",
       "      <td>0.001071</td>\n",
       "      <td>0.001071</td>\n",
       "      <td>0.014286</td>\n",
       "      <td>0.014286</td>\n",
       "      <td>0.035714</td>\n",
       "      <td>1.571429</td>\n",
       "      <td>1634.500000</td>\n",
       "      <td>100000.000000</td>\n",
       "      <td>6.939280</td>\n",
       "    </tr>\n",
       "    <tr>\n",
       "      <th>std</th>\n",
       "      <td>0.001129</td>\n",
       "      <td>0.002624</td>\n",
       "      <td>0.002624</td>\n",
       "      <td>0.022588</td>\n",
       "      <td>0.022588</td>\n",
       "      <td>0.022588</td>\n",
       "      <td>1.761263</td>\n",
       "      <td>60.621163</td>\n",
       "      <td>57763.955951</td>\n",
       "      <td>1.576126</td>\n",
       "    </tr>\n",
       "    <tr>\n",
       "      <th>min</th>\n",
       "      <td>0.000000</td>\n",
       "      <td>0.000000</td>\n",
       "      <td>0.000000</td>\n",
       "      <td>0.000000</td>\n",
       "      <td>0.000000</td>\n",
       "      <td>0.000000</td>\n",
       "      <td>0.000000</td>\n",
       "      <td>1530.000000</td>\n",
       "      <td>0.000000</td>\n",
       "      <td>0.000000</td>\n",
       "    </tr>\n",
       "    <tr>\n",
       "      <th>25%</th>\n",
       "      <td>0.000000</td>\n",
       "      <td>0.000000</td>\n",
       "      <td>0.000000</td>\n",
       "      <td>0.000000</td>\n",
       "      <td>0.000000</td>\n",
       "      <td>0.000000</td>\n",
       "      <td>0.000000</td>\n",
       "      <td>1582.000000</td>\n",
       "      <td>50000.000000</td>\n",
       "      <td>6.000000</td>\n",
       "    </tr>\n",
       "    <tr>\n",
       "      <th>50%</th>\n",
       "      <td>0.000000</td>\n",
       "      <td>0.000000</td>\n",
       "      <td>0.000000</td>\n",
       "      <td>0.000000</td>\n",
       "      <td>0.000000</td>\n",
       "      <td>0.050000</td>\n",
       "      <td>1.000000</td>\n",
       "      <td>1634.500000</td>\n",
       "      <td>100000.000000</td>\n",
       "      <td>7.000000</td>\n",
       "    </tr>\n",
       "    <tr>\n",
       "      <th>75%</th>\n",
       "      <td>0.002500</td>\n",
       "      <td>0.000000</td>\n",
       "      <td>0.000000</td>\n",
       "      <td>0.050000</td>\n",
       "      <td>0.050000</td>\n",
       "      <td>0.050000</td>\n",
       "      <td>3.000000</td>\n",
       "      <td>1687.000000</td>\n",
       "      <td>150000.000000</td>\n",
       "      <td>8.000000</td>\n",
       "    </tr>\n",
       "    <tr>\n",
       "      <th>max</th>\n",
       "      <td>0.002500</td>\n",
       "      <td>0.007500</td>\n",
       "      <td>0.007500</td>\n",
       "      <td>0.050000</td>\n",
       "      <td>0.050000</td>\n",
       "      <td>0.050000</td>\n",
       "      <td>5.000000</td>\n",
       "      <td>1739.000000</td>\n",
       "      <td>200000.000000</td>\n",
       "      <td>9.000000</td>\n",
       "    </tr>\n",
       "  </tbody>\n",
       "</table>\n",
       "</div>"
      ],
      "text/plain": [
       "       COPY_MUT_PROB  COPY_INS_PROB  COPY_DEL_PROB  DIVIDE_INS_PROB  \\\n",
       "count  420210.000000  420210.000000  420210.000000    420210.000000   \n",
       "mean        0.000714       0.001071       0.001071         0.014286   \n",
       "std         0.001129       0.002624       0.002624         0.022588   \n",
       "min         0.000000       0.000000       0.000000         0.000000   \n",
       "25%         0.000000       0.000000       0.000000         0.000000   \n",
       "50%         0.000000       0.000000       0.000000         0.000000   \n",
       "75%         0.002500       0.000000       0.000000         0.050000   \n",
       "max         0.002500       0.007500       0.007500         0.050000   \n",
       "\n",
       "       DIVIDE_DEL_PROB  DIVIDE_SLIP_PROB  SLIP_FILL_MODE    Replicate #  \\\n",
       "count    420210.000000     420210.000000   420210.000000  420210.000000   \n",
       "mean          0.014286          0.035714        1.571429    1634.500000   \n",
       "std           0.022588          0.022588        1.761263      60.621163   \n",
       "min           0.000000          0.000000        0.000000    1530.000000   \n",
       "25%           0.000000          0.000000        0.000000    1582.000000   \n",
       "50%           0.000000          0.050000        1.000000    1634.500000   \n",
       "75%           0.050000          0.050000        3.000000    1687.000000   \n",
       "max           0.050000          0.050000        5.000000    1739.000000   \n",
       "\n",
       "                Time  Tasks Present  \n",
       "count  420210.000000  420210.000000  \n",
       "mean   100000.000000       6.939280  \n",
       "std     57763.955951       1.576126  \n",
       "min         0.000000       0.000000  \n",
       "25%     50000.000000       6.000000  \n",
       "50%    100000.000000       7.000000  \n",
       "75%    150000.000000       8.000000  \n",
       "max    200000.000000       9.000000  "
      ]
     },
     "execution_count": 6,
     "metadata": {},
     "output_type": "execute_result"
    }
   ],
   "source": [
    "df.describe()\n"
   ]
  },
  {
   "cell_type": "code",
   "execution_count": 7,
   "metadata": {
    "execution": {
     "iopub.execute_input": "2025-03-28T00:50:55.366105Z",
     "iopub.status.busy": "2025-03-28T00:50:55.365762Z",
     "iopub.status.idle": "2025-03-28T00:50:55.406126Z",
     "shell.execute_reply": "2025-03-28T00:50:55.405675Z"
    }
   },
   "outputs": [
    {
     "data": {
      "text/plain": [
       "Treatment              7\n",
       "COPY_MUT_PROB          2\n",
       "COPY_INS_PROB          2\n",
       "COPY_DEL_PROB          2\n",
       "DIVIDE_INS_PROB        2\n",
       "DIVIDE_DEL_PROB        2\n",
       "DIVIDE_SLIP_PROB       2\n",
       "SLIP_FILL_MODE         5\n",
       "Replicate #          210\n",
       "Time                2001\n",
       "Tasks Present         10\n",
       "dtype: int64"
      ]
     },
     "execution_count": 7,
     "metadata": {},
     "output_type": "execute_result"
    }
   ],
   "source": [
    "df.nunique()\n"
   ]
  },
  {
   "cell_type": "code",
   "execution_count": 8,
   "metadata": {
    "execution": {
     "iopub.execute_input": "2025-03-28T00:50:55.407909Z",
     "iopub.status.busy": "2025-03-28T00:50:55.407578Z",
     "iopub.status.idle": "2025-03-28T00:50:55.427192Z",
     "shell.execute_reply": "2025-03-28T00:50:55.426765Z"
    }
   },
   "outputs": [
    {
     "data": {
      "text/plain": [
       "array(['Slip-NOP', 'Baseline-Treatment', 'High-Mutation', 'Slip-random',\n",
       "       'Slip-duplicate', 'Slip-scatter', 'Slip-scramble'], dtype=object)"
      ]
     },
     "execution_count": 8,
     "metadata": {},
     "output_type": "execute_result"
    }
   ],
   "source": [
    "df[\"Treatment\"].unique()\n"
   ]
  },
  {
   "cell_type": "code",
   "execution_count": 9,
   "metadata": {
    "execution": {
     "iopub.execute_input": "2025-03-28T00:50:55.428884Z",
     "iopub.status.busy": "2025-03-28T00:50:55.428569Z",
     "iopub.status.idle": "2025-03-28T00:50:55.468407Z",
     "shell.execute_reply": "2025-03-28T00:50:55.467916Z"
    }
   },
   "outputs": [
    {
     "data": {
      "text/plain": [
       "array([200000])"
      ]
     },
     "execution_count": 9,
     "metadata": {},
     "output_type": "execute_result"
    }
   ],
   "source": [
    "df.groupby([\"Treatment\", \"Replicate #\"]).max(\"Time\")[\"Time\"].unique()\n"
   ]
  },
  {
   "cell_type": "markdown",
   "metadata": {},
   "source": [
    "## Plot Data\n"
   ]
  },
  {
   "cell_type": "code",
   "execution_count": 10,
   "metadata": {
    "execution": {
     "iopub.execute_input": "2025-03-28T00:50:55.470193Z",
     "iopub.status.busy": "2025-03-28T00:50:55.469849Z",
     "iopub.status.idle": "2025-03-28T00:50:55.472228Z",
     "shell.execute_reply": "2025-03-28T00:50:55.471813Z"
    }
   },
   "outputs": [],
   "source": [
    "signif = \"$^*$\"\n",
    "env = \"static\"\n"
   ]
  },
  {
   "cell_type": "code",
   "execution_count": 11,
   "metadata": {
    "execution": {
     "iopub.execute_input": "2025-03-28T00:50:55.473908Z",
     "iopub.status.busy": "2025-03-28T00:50:55.473598Z",
     "iopub.status.idle": "2025-03-28T00:50:55.476416Z",
     "shell.execute_reply": "2025-03-28T00:50:55.475895Z"
    }
   },
   "outputs": [],
   "source": [
    "def order(signif: str=\"\") -> list:\n",
    "    return [\n",
    "        \"Baseline\",\n",
    "        \"High mutation rate\",\n",
    "        \"Slip-scatter\",\n",
    "        \"Slip-NOP\",\n",
    "        \"Slip-random\",\n",
    "        f\"Slip-scramble{signif}\",\n",
    "        f\"Slip-duplicate{signif}\",\n",
    "    ]\n"
   ]
  },
  {
   "cell_type": "code",
   "execution_count": 12,
   "metadata": {
    "execution": {
     "iopub.execute_input": "2025-03-28T00:50:55.478211Z",
     "iopub.status.busy": "2025-03-28T00:50:55.477788Z",
     "iopub.status.idle": "2025-03-28T00:50:56.181418Z",
     "shell.execute_reply": "2025-03-28T00:50:56.180851Z"
    }
   },
   "outputs": [
    {
     "name": "stdout",
     "output_type": "stream",
     "text": [
      "teeplots/env=static+hue=treatment+inner=box+kind=violin+palette=muted+viz=catplot+x=treatment+y=tasks-present+ext=.pdf\n"
     ]
    },
    {
     "name": "stdout",
     "output_type": "stream",
     "text": [
      "teeplots/env=static+hue=treatment+inner=box+kind=violin+palette=muted+viz=catplot+x=treatment+y=tasks-present+ext=.png\n"
     ]
    },
    {
     "data": {
      "image/png": "[encoded data removed]",
      "text/plain": [
       "<Figure size 350x250 with 1 Axes>"
      ]
     },
     "metadata": {},
     "output_type": "display_data"
    }
   ],
   "source": [
    "df_ = df.groupby(\n",
    "    [\"Treatment\", \"Replicate #\"],\n",
    ").max(\"Time\").reset_index()\n",
    "df_[\"Treatment\"] = df_[\n",
    "    \"Treatment\"\n",
    "].replace(\n",
    "    \"Baseline-Treatment\", \"Baseline\"\n",
    ").replace(\n",
    "    \"High-Mutation\", \"High mutation rate\"\n",
    ").replace(\n",
    "    \"Slip-scramble\", f\"Slip-scramble{signif}\"\n",
    ").replace(\n",
    "    \"Slip-duplicate\", f\"Slip-duplicate{signif}\",\n",
    ")\n",
    "\n",
    "with tp.teed(\n",
    "    sns.catplot,\n",
    "    data=df_,\n",
    "    x=\"Treatment\",\n",
    "    y=\"Tasks Present\",\n",
    "    hue=\"Treatment\",\n",
    "    order=order(signif),\n",
    "    hue_order=order(signif),\n",
    "    aspect=1.4,\n",
    "    height=2.5,\n",
    "    inner=\"box\",\n",
    "    kind=\"violin\",\n",
    "    linewidth=1,\n",
    "    palette=\"muted\",\n",
    "    teeplot_outattrs={\"env\": env},\n",
    ") as g:\n",
    "    ax, = g.axes.flat\n",
    "    ax.set_ylabel(\"Phenotypic\\nMatch Score\")\n",
    "    ax.set_xlabel(\"\")\n",
    "    ax.set_ylim(0, 9)\n",
    "    ax.set_yticks(np.arange(0, 10, 1))\n",
    "    plt.xticks(rotation=30, ha=\"right\")\n"
   ]
  },
  {
   "cell_type": "code",
   "execution_count": 13,
   "metadata": {
    "execution": {
     "iopub.execute_input": "2025-03-28T00:50:56.183293Z",
     "iopub.status.busy": "2025-03-28T00:50:56.183114Z",
     "iopub.status.idle": "2025-03-28T00:53:21.755189Z",
     "shell.execute_reply": "2025-03-28T00:53:21.754661Z"
    }
   },
   "outputs": [
    {
     "name": "stdout",
     "output_type": "stream",
     "text": [
      "teeplots/env=static+errorbar=ci+hue=treatment+kind=line+palette=muted+viz=relplot+x=time+y=tasks-present+ext=.pdf\n",
      "teeplots/env=static+errorbar=ci+hue=treatment+kind=line+palette=muted+viz=relplot+x=time+y=tasks-present+ext=.png\n"
     ]
    },
    {
     "data": {
      "image/png": "[encoded data removed]",
      "text/plain": [
       "<Figure size 225x250 with 1 Axes>"
      ]
     },
     "metadata": {},
     "output_type": "display_data"
    }
   ],
   "source": [
    "df_ = df.copy()\n",
    "df_[\"Treatment\"] = df_[\n",
    "    \"Treatment\"\n",
    "].replace(\n",
    "    \"Baseline-Treatment\", \"Baseline\"\n",
    ").replace(\n",
    "    \"High-Mutation\", \"High mutation\\nrate\"\n",
    ").replace(\n",
    "    \"Slip-scramble\", f\"Slip-scramble\"\n",
    ").replace(\n",
    "    \"Slip-duplicate\", f\"Slip-duplicate\",\n",
    ")\n",
    "\n",
    "with tp.teed(\n",
    "    sns.relplot,\n",
    "    data=df_[\n",
    "        df_[\"Time\"] % 100 == 0  # speed up confidence interval bootstraps\n",
    "    ],\n",
    "    x=\"Time\",\n",
    "    y=\"Tasks Present\",\n",
    "    hue=\"Treatment\",\n",
    "    hue_order=order(\"\"),\n",
    "    aspect=0.9,\n",
    "    errorbar=\"ci\",\n",
    "    height=2.5,\n",
    "    kind=\"line\",\n",
    "    legend=False,\n",
    "    linewidth=1,\n",
    "    palette=\"muted\",\n",
    "    teeplot_outattrs={\"env\": env},\n",
    ") as g:\n",
    "    ax, = g.axes.flat\n",
    "    ax.set_ylabel(\"Phenotypic Match Score\")\n",
    "    ax.set_xlabel(\"Time (updates)\")\n",
    "    ax.set_ylim(0, 9)\n",
    "    ax.set_xlim(0, None)\n",
    "    ax.set_yticks(np.arange(0, 10, 1))\n",
    "    plt.xticks(rotation=30, ha=\"right\")\n"
   ]
  }
 ],
 "metadata": {
  "kernelspec": {
   "display_name": "env310",
   "language": "python",
   "name": "python3"
  },
  "language_info": {
   "codemirror_mode": {
    "name": "ipython",
    "version": 3
   },
   "file_extension": ".py",
   "mimetype": "text/x-python",
   "name": "python",
   "nbconvert_exporter": "python",
   "pygments_lexer": "ipython3",
   "version": "3.12.3"
  }
 },
 "nbformat": 4,
 "nbformat_minor": 4
}
