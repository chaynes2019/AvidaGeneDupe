{
 "cells": [
  {
   "cell_type": "markdown",
   "metadata": {},
   "source": [
    "## Set Up Dependencies and Data\n"
   ]
  },
  {
   "cell_type": "code",
   "execution_count": 1,
   "metadata": {
    "execution": {
     "iopub.execute_input": "2025-06-06T13:47:15.876339Z",
     "iopub.status.busy": "2025-06-06T13:47:15.876172Z",
     "iopub.status.idle": "2025-06-06T13:47:16.952587Z",
     "shell.execute_reply": "2025-06-06T13:47:16.952036Z"
    }
   },
   "outputs": [],
   "source": [
    "import joblib\n",
    "from matplotlib import pyplot as plt\n",
    "import numpy as np\n",
    "import pandas as pd\n",
    "import seaborn as sns\n",
    "from tqdm import tqdm\n"
   ]
  },
  {
   "cell_type": "code",
   "execution_count": 2,
   "metadata": {
    "execution": {
     "iopub.execute_input": "2025-06-06T13:47:16.954928Z",
     "iopub.status.busy": "2025-06-06T13:47:16.954321Z",
     "iopub.status.idle": "2025-06-06T13:47:18.887018Z",
     "shell.execute_reply": "2025-06-06T13:47:18.886580Z"
    }
   },
   "outputs": [],
   "source": [
    "slip_df = pd.read_csv(\"https://osf.io/ftb8m/download\")\n",
    "baseline_df = pd.read_csv(\"https://osf.io/zfkvm/download\")\n"
   ]
  },
  {
   "cell_type": "markdown",
   "metadata": {},
   "source": [
    "## Reproducibility\n"
   ]
  },
  {
   "cell_type": "code",
   "execution_count": 3,
   "metadata": {
    "execution": {
     "iopub.execute_input": "2025-06-06T13:47:18.889051Z",
     "iopub.status.busy": "2025-06-06T13:47:18.888717Z",
     "iopub.status.idle": "2025-06-06T13:47:18.913921Z",
     "shell.execute_reply": "2025-06-06T13:47:18.913368Z"
    }
   },
   "outputs": [
    {
     "name": "stdout",
     "output_type": "stream",
     "text": [
      "Last updated: 2025-06-06T13:47:18.893704+00:00\n",
      "\n",
      "Python implementation: CPython\n",
      "Python version       : 3.12.3\n",
      "IPython version      : 8.32.0\n",
      "\n",
      "Compiler    : GCC 13.3.0\n",
      "OS          : Linux\n",
      "Release     : 6.11.0-1015-azure\n",
      "Machine     : x86_64\n",
      "Processor   : x86_64\n",
      "CPU cores   : 4\n",
      "Architecture: 64bit\n",
      "\n",
      "Git hash: ef90cd8084a90538afb7630ec55e2122a25f1cbc\n",
      "\n",
      "Git branch: main\n",
      "\n",
      "numpy     : 2.2.2\n",
      "pandas    : 2.2.3\n",
      "seaborn   : 0.13.2\n",
      "matplotlib: 3.10.0\n",
      "joblib    : 1.3.2\n",
      "\n",
      "Watermark: 2.4.3\n",
      "\n"
     ]
    }
   ],
   "source": [
    "%load_ext watermark\n",
    "%watermark -iwbmuvg -iv\n"
   ]
  },
  {
   "cell_type": "code",
   "execution_count": 4,
   "metadata": {
    "execution": {
     "iopub.execute_input": "2025-06-06T13:47:18.944345Z",
     "iopub.status.busy": "2025-06-06T13:47:18.944143Z",
     "iopub.status.idle": "2025-06-06T13:47:18.952008Z",
     "shell.execute_reply": "2025-06-06T13:47:18.951578Z"
    }
   },
   "outputs": [
    {
     "data": {
      "text/plain": [
       "'8b26bd2bdb19bd31284ceb2f054518d1'"
      ]
     },
     "execution_count": 4,
     "metadata": {},
     "output_type": "execute_result"
    }
   ],
   "source": [
    "joblib.hash(slip_df)\n"
   ]
  },
  {
   "cell_type": "code",
   "execution_count": 5,
   "metadata": {
    "execution": {
     "iopub.execute_input": "2025-06-06T13:47:18.953490Z",
     "iopub.status.busy": "2025-06-06T13:47:18.953317Z",
     "iopub.status.idle": "2025-06-06T13:47:18.959370Z",
     "shell.execute_reply": "2025-06-06T13:47:18.958868Z"
    }
   },
   "outputs": [
    {
     "data": {
      "text/plain": [
       "'aa54a1ed83c544fc164b3cd3963cb62e'"
      ]
     },
     "execution_count": 5,
     "metadata": {},
     "output_type": "execute_result"
    }
   ],
   "source": [
    "joblib.hash(baseline_df)\n"
   ]
  },
  {
   "cell_type": "markdown",
   "metadata": {},
   "source": [
    "# Preprocess data\n"
   ]
  },
  {
   "cell_type": "code",
   "execution_count": 6,
   "metadata": {
    "execution": {
     "iopub.execute_input": "2025-06-06T13:47:18.960961Z",
     "iopub.status.busy": "2025-06-06T13:47:18.960795Z",
     "iopub.status.idle": "2025-06-06T13:47:18.964954Z",
     "shell.execute_reply": "2025-06-06T13:47:18.964424Z"
    }
   },
   "outputs": [],
   "source": [
    "slip_df[\"condition\"] = \"slip\"\n",
    "baseline_df[\"condition\"] = \"baseline\"\n",
    "\n",
    "df = pd.concat([slip_df, baseline_df])\n"
   ]
  },
  {
   "cell_type": "code",
   "execution_count": 7,
   "metadata": {
    "execution": {
     "iopub.execute_input": "2025-06-06T13:47:18.966585Z",
     "iopub.status.busy": "2025-06-06T13:47:18.966257Z",
     "iopub.status.idle": "2025-06-06T13:47:18.981997Z",
     "shell.execute_reply": "2025-06-06T13:47:18.981468Z"
    }
   },
   "outputs": [],
   "source": [
    "df[\"Task Coding Sites\"] = df[\"Task Coding Sites\"].apply(eval)\n"
   ]
  },
  {
   "cell_type": "code",
   "execution_count": 8,
   "metadata": {
    "execution": {
     "iopub.execute_input": "2025-06-06T13:47:18.983520Z",
     "iopub.status.busy": "2025-06-06T13:47:18.983335Z",
     "iopub.status.idle": "2025-06-06T13:47:18.986789Z",
     "shell.execute_reply": "2025-06-06T13:47:18.986377Z"
    }
   },
   "outputs": [],
   "source": [
    "df[\"Run ID\"] = df[\"Unnamed: 0\"].apply(lambda x: x.split(\",\")[0])\n",
    "df[\"Task\"] = df[\"Unnamed: 0\"].apply(lambda x: x.split(\",\")[1])\n"
   ]
  },
  {
   "cell_type": "code",
   "execution_count": 9,
   "metadata": {
    "execution": {
     "iopub.execute_input": "2025-06-06T13:47:18.988332Z",
     "iopub.status.busy": "2025-06-06T13:47:18.988075Z",
     "iopub.status.idle": "2025-06-06T13:47:18.992241Z",
     "shell.execute_reply": "2025-06-06T13:47:18.991842Z"
    }
   },
   "outputs": [],
   "source": [
    "df[\"Genome Site\"] = df[\"Genome\"].apply(list)\n"
   ]
  },
  {
   "cell_type": "code",
   "execution_count": 10,
   "metadata": {
    "execution": {
     "iopub.execute_input": "2025-06-06T13:47:18.993755Z",
     "iopub.status.busy": "2025-06-06T13:47:18.993590Z",
     "iopub.status.idle": "2025-06-06T13:47:19.037755Z",
     "shell.execute_reply": "2025-06-06T13:47:19.037184Z"
    }
   },
   "outputs": [
    {
     "data": {
      "text/html": [
       "<div>\n",
       "<style scoped>\n",
       "    .dataframe tbody tr th:only-of-type {\n",
       "        vertical-align: middle;\n",
       "    }\n",
       "\n",
       "    .dataframe tbody tr th {\n",
       "        vertical-align: top;\n",
       "    }\n",
       "\n",
       "    .dataframe thead th {\n",
       "        text-align: right;\n",
       "    }\n",
       "</style>\n",
       "<table border=\"1\" class=\"dataframe\">\n",
       "  <thead>\n",
       "    <tr style=\"text-align: right;\">\n",
       "      <th></th>\n",
       "      <th>Unnamed: 0</th>\n",
       "      <th>Task Coding Sites</th>\n",
       "      <th>Number of Task Coding Sites</th>\n",
       "      <th>Number of Unique Coding Sites</th>\n",
       "      <th>Viability Sites</th>\n",
       "      <th>Number of Viability Sites</th>\n",
       "      <th>Genome Length</th>\n",
       "      <th>Fraction Task Coding Sites</th>\n",
       "      <th>Fraction Viability Sites</th>\n",
       "      <th>Ratio of Viability Sites to Coding Sites</th>\n",
       "      <th>Genome</th>\n",
       "      <th>condition</th>\n",
       "      <th>Run ID</th>\n",
       "      <th>Task</th>\n",
       "      <th>Genome Site</th>\n",
       "    </tr>\n",
       "  </thead>\n",
       "  <tbody>\n",
       "    <tr>\n",
       "      <th>0</th>\n",
       "      <td>run_1593,NOT</td>\n",
       "      <td>[50, 52, 56, 69, 74, 81, 85, 91]</td>\n",
       "      <td>8</td>\n",
       "      <td>45</td>\n",
       "      <td>[16, 60, 77, 78, 82, 83, 136, 137, 138, 139, 1...</td>\n",
       "      <td>28</td>\n",
       "      <td>161</td>\n",
       "      <td>0.279503</td>\n",
       "      <td>0.173913</td>\n",
       "      <td>0.622222</td>\n",
       "      <td>pplbttjklijAzbzawnieqeuonyycucucAcycoucscfkjbo...</td>\n",
       "      <td>slip</td>\n",
       "      <td>run_1593</td>\n",
       "      <td>NOT</td>\n",
       "      <td>p</td>\n",
       "    </tr>\n",
       "    <tr>\n",
       "      <th>0</th>\n",
       "      <td>run_1593,NOT</td>\n",
       "      <td>[50, 52, 56, 69, 74, 81, 85, 91]</td>\n",
       "      <td>8</td>\n",
       "      <td>45</td>\n",
       "      <td>[16, 60, 77, 78, 82, 83, 136, 137, 138, 139, 1...</td>\n",
       "      <td>28</td>\n",
       "      <td>161</td>\n",
       "      <td>0.279503</td>\n",
       "      <td>0.173913</td>\n",
       "      <td>0.622222</td>\n",
       "      <td>pplbttjklijAzbzawnieqeuonyycucucAcycoucscfkjbo...</td>\n",
       "      <td>slip</td>\n",
       "      <td>run_1593</td>\n",
       "      <td>NOT</td>\n",
       "      <td>p</td>\n",
       "    </tr>\n",
       "    <tr>\n",
       "      <th>0</th>\n",
       "      <td>run_1593,NOT</td>\n",
       "      <td>[50, 52, 56, 69, 74, 81, 85, 91]</td>\n",
       "      <td>8</td>\n",
       "      <td>45</td>\n",
       "      <td>[16, 60, 77, 78, 82, 83, 136, 137, 138, 139, 1...</td>\n",
       "      <td>28</td>\n",
       "      <td>161</td>\n",
       "      <td>0.279503</td>\n",
       "      <td>0.173913</td>\n",
       "      <td>0.622222</td>\n",
       "      <td>pplbttjklijAzbzawnieqeuonyycucucAcycoucscfkjbo...</td>\n",
       "      <td>slip</td>\n",
       "      <td>run_1593</td>\n",
       "      <td>NOT</td>\n",
       "      <td>l</td>\n",
       "    </tr>\n",
       "    <tr>\n",
       "      <th>0</th>\n",
       "      <td>run_1593,NOT</td>\n",
       "      <td>[50, 52, 56, 69, 74, 81, 85, 91]</td>\n",
       "      <td>8</td>\n",
       "      <td>45</td>\n",
       "      <td>[16, 60, 77, 78, 82, 83, 136, 137, 138, 139, 1...</td>\n",
       "      <td>28</td>\n",
       "      <td>161</td>\n",
       "      <td>0.279503</td>\n",
       "      <td>0.173913</td>\n",
       "      <td>0.622222</td>\n",
       "      <td>pplbttjklijAzbzawnieqeuonyycucucAcycoucscfkjbo...</td>\n",
       "      <td>slip</td>\n",
       "      <td>run_1593</td>\n",
       "      <td>NOT</td>\n",
       "      <td>b</td>\n",
       "    </tr>\n",
       "    <tr>\n",
       "      <th>0</th>\n",
       "      <td>run_1593,NOT</td>\n",
       "      <td>[50, 52, 56, 69, 74, 81, 85, 91]</td>\n",
       "      <td>8</td>\n",
       "      <td>45</td>\n",
       "      <td>[16, 60, 77, 78, 82, 83, 136, 137, 138, 139, 1...</td>\n",
       "      <td>28</td>\n",
       "      <td>161</td>\n",
       "      <td>0.279503</td>\n",
       "      <td>0.173913</td>\n",
       "      <td>0.622222</td>\n",
       "      <td>pplbttjklijAzbzawnieqeuonyycucucAcycoucscfkjbo...</td>\n",
       "      <td>slip</td>\n",
       "      <td>run_1593</td>\n",
       "      <td>NOT</td>\n",
       "      <td>t</td>\n",
       "    </tr>\n",
       "    <tr>\n",
       "      <th>...</th>\n",
       "      <td>...</td>\n",
       "      <td>...</td>\n",
       "      <td>...</td>\n",
       "      <td>...</td>\n",
       "      <td>...</td>\n",
       "      <td>...</td>\n",
       "      <td>...</td>\n",
       "      <td>...</td>\n",
       "      <td>...</td>\n",
       "      <td>...</td>\n",
       "      <td>...</td>\n",
       "      <td>...</td>\n",
       "      <td>...</td>\n",
       "      <td>...</td>\n",
       "      <td>...</td>\n",
       "    </tr>\n",
       "    <tr>\n",
       "      <th>269</th>\n",
       "      <td>run_1554,EQUALS</td>\n",
       "      <td>[]</td>\n",
       "      <td>0</td>\n",
       "      <td>38</td>\n",
       "      <td>[0, 3, 4, 5, 6, 86, 95, 99]</td>\n",
       "      <td>8</td>\n",
       "      <td>100</td>\n",
       "      <td>0.380000</td>\n",
       "      <td>0.080000</td>\n",
       "      <td>0.210526</td>\n",
       "      <td>wpbjagctblavyaAaujuyctcqbqjljbutawawyaybcuycta...</td>\n",
       "      <td>baseline</td>\n",
       "      <td>run_1554</td>\n",
       "      <td>EQUALS</td>\n",
       "      <td>x</td>\n",
       "    </tr>\n",
       "    <tr>\n",
       "      <th>269</th>\n",
       "      <td>run_1554,EQUALS</td>\n",
       "      <td>[]</td>\n",
       "      <td>0</td>\n",
       "      <td>38</td>\n",
       "      <td>[0, 3, 4, 5, 6, 86, 95, 99]</td>\n",
       "      <td>8</td>\n",
       "      <td>100</td>\n",
       "      <td>0.380000</td>\n",
       "      <td>0.080000</td>\n",
       "      <td>0.210526</td>\n",
       "      <td>wpbjagctblavyaAaujuyctcqbqjljbutawawyaybcuycta...</td>\n",
       "      <td>baseline</td>\n",
       "      <td>run_1554</td>\n",
       "      <td>EQUALS</td>\n",
       "      <td>v</td>\n",
       "    </tr>\n",
       "    <tr>\n",
       "      <th>269</th>\n",
       "      <td>run_1554,EQUALS</td>\n",
       "      <td>[]</td>\n",
       "      <td>0</td>\n",
       "      <td>38</td>\n",
       "      <td>[0, 3, 4, 5, 6, 86, 95, 99]</td>\n",
       "      <td>8</td>\n",
       "      <td>100</td>\n",
       "      <td>0.380000</td>\n",
       "      <td>0.080000</td>\n",
       "      <td>0.210526</td>\n",
       "      <td>wpbjagctblavyaAaujuyctcqbqjljbutawawyaybcuycta...</td>\n",
       "      <td>baseline</td>\n",
       "      <td>run_1554</td>\n",
       "      <td>EQUALS</td>\n",
       "      <td>v</td>\n",
       "    </tr>\n",
       "    <tr>\n",
       "      <th>269</th>\n",
       "      <td>run_1554,EQUALS</td>\n",
       "      <td>[]</td>\n",
       "      <td>0</td>\n",
       "      <td>38</td>\n",
       "      <td>[0, 3, 4, 5, 6, 86, 95, 99]</td>\n",
       "      <td>8</td>\n",
       "      <td>100</td>\n",
       "      <td>0.380000</td>\n",
       "      <td>0.080000</td>\n",
       "      <td>0.210526</td>\n",
       "      <td>wpbjagctblavyaAaujuyctcqbqjljbutawawyaybcuycta...</td>\n",
       "      <td>baseline</td>\n",
       "      <td>run_1554</td>\n",
       "      <td>EQUALS</td>\n",
       "      <td>v</td>\n",
       "    </tr>\n",
       "    <tr>\n",
       "      <th>269</th>\n",
       "      <td>run_1554,EQUALS</td>\n",
       "      <td>[]</td>\n",
       "      <td>0</td>\n",
       "      <td>38</td>\n",
       "      <td>[0, 3, 4, 5, 6, 86, 95, 99]</td>\n",
       "      <td>8</td>\n",
       "      <td>100</td>\n",
       "      <td>0.380000</td>\n",
       "      <td>0.080000</td>\n",
       "      <td>0.210526</td>\n",
       "      <td>wpbjagctblavyaAaujuyctcqbqjljbutawawyaybcuycta...</td>\n",
       "      <td>baseline</td>\n",
       "      <td>run_1554</td>\n",
       "      <td>EQUALS</td>\n",
       "      <td>g</td>\n",
       "    </tr>\n",
       "  </tbody>\n",
       "</table>\n",
       "<p>161766 rows × 15 columns</p>\n",
       "</div>"
      ],
      "text/plain": [
       "          Unnamed: 0                 Task Coding Sites  \\\n",
       "0       run_1593,NOT  [50, 52, 56, 69, 74, 81, 85, 91]   \n",
       "0       run_1593,NOT  [50, 52, 56, 69, 74, 81, 85, 91]   \n",
       "0       run_1593,NOT  [50, 52, 56, 69, 74, 81, 85, 91]   \n",
       "0       run_1593,NOT  [50, 52, 56, 69, 74, 81, 85, 91]   \n",
       "0       run_1593,NOT  [50, 52, 56, 69, 74, 81, 85, 91]   \n",
       "..               ...                               ...   \n",
       "269  run_1554,EQUALS                                []   \n",
       "269  run_1554,EQUALS                                []   \n",
       "269  run_1554,EQUALS                                []   \n",
       "269  run_1554,EQUALS                                []   \n",
       "269  run_1554,EQUALS                                []   \n",
       "\n",
       "     Number of Task Coding Sites  Number of Unique Coding Sites  \\\n",
       "0                              8                             45   \n",
       "0                              8                             45   \n",
       "0                              8                             45   \n",
       "0                              8                             45   \n",
       "0                              8                             45   \n",
       "..                           ...                            ...   \n",
       "269                            0                             38   \n",
       "269                            0                             38   \n",
       "269                            0                             38   \n",
       "269                            0                             38   \n",
       "269                            0                             38   \n",
       "\n",
       "                                       Viability Sites  \\\n",
       "0    [16, 60, 77, 78, 82, 83, 136, 137, 138, 139, 1...   \n",
       "0    [16, 60, 77, 78, 82, 83, 136, 137, 138, 139, 1...   \n",
       "0    [16, 60, 77, 78, 82, 83, 136, 137, 138, 139, 1...   \n",
       "0    [16, 60, 77, 78, 82, 83, 136, 137, 138, 139, 1...   \n",
       "0    [16, 60, 77, 78, 82, 83, 136, 137, 138, 139, 1...   \n",
       "..                                                 ...   \n",
       "269                        [0, 3, 4, 5, 6, 86, 95, 99]   \n",
       "269                        [0, 3, 4, 5, 6, 86, 95, 99]   \n",
       "269                        [0, 3, 4, 5, 6, 86, 95, 99]   \n",
       "269                        [0, 3, 4, 5, 6, 86, 95, 99]   \n",
       "269                        [0, 3, 4, 5, 6, 86, 95, 99]   \n",
       "\n",
       "     Number of Viability Sites  Genome Length  Fraction Task Coding Sites  \\\n",
       "0                           28            161                    0.279503   \n",
       "0                           28            161                    0.279503   \n",
       "0                           28            161                    0.279503   \n",
       "0                           28            161                    0.279503   \n",
       "0                           28            161                    0.279503   \n",
       "..                         ...            ...                         ...   \n",
       "269                          8            100                    0.380000   \n",
       "269                          8            100                    0.380000   \n",
       "269                          8            100                    0.380000   \n",
       "269                          8            100                    0.380000   \n",
       "269                          8            100                    0.380000   \n",
       "\n",
       "     Fraction Viability Sites  Ratio of Viability Sites to Coding Sites  \\\n",
       "0                    0.173913                                  0.622222   \n",
       "0                    0.173913                                  0.622222   \n",
       "0                    0.173913                                  0.622222   \n",
       "0                    0.173913                                  0.622222   \n",
       "0                    0.173913                                  0.622222   \n",
       "..                        ...                                       ...   \n",
       "269                  0.080000                                  0.210526   \n",
       "269                  0.080000                                  0.210526   \n",
       "269                  0.080000                                  0.210526   \n",
       "269                  0.080000                                  0.210526   \n",
       "269                  0.080000                                  0.210526   \n",
       "\n",
       "                                                Genome condition    Run ID  \\\n",
       "0    pplbttjklijAzbzawnieqeuonyycucucAcycoucscfkjbo...      slip  run_1593   \n",
       "0    pplbttjklijAzbzawnieqeuonyycucucAcycoucscfkjbo...      slip  run_1593   \n",
       "0    pplbttjklijAzbzawnieqeuonyycucucAcycoucscfkjbo...      slip  run_1593   \n",
       "0    pplbttjklijAzbzawnieqeuonyycucucAcycoucscfkjbo...      slip  run_1593   \n",
       "0    pplbttjklijAzbzawnieqeuonyycucucAcycoucscfkjbo...      slip  run_1593   \n",
       "..                                                 ...       ...       ...   \n",
       "269  wpbjagctblavyaAaujuyctcqbqjljbutawawyaybcuycta...  baseline  run_1554   \n",
       "269  wpbjagctblavyaAaujuyctcqbqjljbutawawyaybcuycta...  baseline  run_1554   \n",
       "269  wpbjagctblavyaAaujuyctcqbqjljbutawawyaybcuycta...  baseline  run_1554   \n",
       "269  wpbjagctblavyaAaujuyctcqbqjljbutawawyaybcuycta...  baseline  run_1554   \n",
       "269  wpbjagctblavyaAaujuyctcqbqjljbutawawyaybcuycta...  baseline  run_1554   \n",
       "\n",
       "       Task Genome Site  \n",
       "0       NOT           p  \n",
       "0       NOT           p  \n",
       "0       NOT           l  \n",
       "0       NOT           b  \n",
       "0       NOT           t  \n",
       "..      ...         ...  \n",
       "269  EQUALS           x  \n",
       "269  EQUALS           v  \n",
       "269  EQUALS           v  \n",
       "269  EQUALS           v  \n",
       "269  EQUALS           g  \n",
       "\n",
       "[161766 rows x 15 columns]"
      ]
     },
     "execution_count": 10,
     "metadata": {},
     "output_type": "execute_result"
    }
   ],
   "source": [
    "tidy_df = df.explode(\"Genome Site\")\n",
    "tidy_df\n"
   ]
  },
  {
   "cell_type": "markdown",
   "metadata": {},
   "source": [
    "### Absolute Instruction Abundances\n"
   ]
  },
  {
   "cell_type": "code",
   "execution_count": 11,
   "metadata": {
    "execution": {
     "iopub.execute_input": "2025-06-06T13:47:19.039635Z",
     "iopub.status.busy": "2025-06-06T13:47:19.039307Z",
     "iopub.status.idle": "2025-06-06T13:47:19.592114Z",
     "shell.execute_reply": "2025-06-06T13:47:19.591625Z"
    }
   },
   "outputs": [
    {
     "data": {
      "text/plain": [
       "<Axes: xlabel='Genome Site', ylabel='count'>"
      ]
     },
     "execution_count": 11,
     "metadata": {},
     "output_type": "execute_result"
    },
    {
     "data": {
      "image/png": "[encoded data removed]",
      "text/plain": [
       "<Figure size 640x480 with 1 Axes>"
      ]
     },
     "metadata": {},
     "output_type": "display_data"
    }
   ],
   "source": [
    "sns.countplot(\n",
    "    data=tidy_df,\n",
    "    x=\"Genome Site\",\n",
    "    hue=\"condition\",\n",
    ")\n"
   ]
  },
  {
   "cell_type": "code",
   "execution_count": 12,
   "metadata": {
    "execution": {
     "iopub.execute_input": "2025-06-06T13:47:19.593784Z",
     "iopub.status.busy": "2025-06-06T13:47:19.593613Z",
     "iopub.status.idle": "2025-06-06T13:47:19.622564Z",
     "shell.execute_reply": "2025-06-06T13:47:19.621987Z"
    }
   },
   "outputs": [
    {
     "data": {
      "text/html": [
       "<div>\n",
       "<style scoped>\n",
       "    .dataframe tbody tr th:only-of-type {\n",
       "        vertical-align: middle;\n",
       "    }\n",
       "\n",
       "    .dataframe tbody tr th {\n",
       "        vertical-align: top;\n",
       "    }\n",
       "\n",
       "    .dataframe thead th {\n",
       "        text-align: right;\n",
       "    }\n",
       "</style>\n",
       "<table border=\"1\" class=\"dataframe\">\n",
       "  <thead>\n",
       "    <tr style=\"text-align: right;\">\n",
       "      <th></th>\n",
       "      <th>Run ID</th>\n",
       "      <th>condition</th>\n",
       "      <th>Genome Site</th>\n",
       "      <th>0</th>\n",
       "    </tr>\n",
       "  </thead>\n",
       "  <tbody>\n",
       "    <tr>\n",
       "      <th>0</th>\n",
       "      <td>run_1530</td>\n",
       "      <td>baseline</td>\n",
       "      <td>A</td>\n",
       "      <td>0.010000</td>\n",
       "    </tr>\n",
       "    <tr>\n",
       "      <th>1</th>\n",
       "      <td>run_1530</td>\n",
       "      <td>baseline</td>\n",
       "      <td>a</td>\n",
       "      <td>0.120000</td>\n",
       "    </tr>\n",
       "    <tr>\n",
       "      <th>2</th>\n",
       "      <td>run_1530</td>\n",
       "      <td>baseline</td>\n",
       "      <td>b</td>\n",
       "      <td>0.040000</td>\n",
       "    </tr>\n",
       "    <tr>\n",
       "      <th>3</th>\n",
       "      <td>run_1530</td>\n",
       "      <td>baseline</td>\n",
       "      <td>c</td>\n",
       "      <td>0.140000</td>\n",
       "    </tr>\n",
       "    <tr>\n",
       "      <th>4</th>\n",
       "      <td>run_1530</td>\n",
       "      <td>baseline</td>\n",
       "      <td>d</td>\n",
       "      <td>0.020000</td>\n",
       "    </tr>\n",
       "    <tr>\n",
       "      <th>...</th>\n",
       "      <td>...</td>\n",
       "      <td>...</td>\n",
       "      <td>...</td>\n",
       "      <td>...</td>\n",
       "    </tr>\n",
       "    <tr>\n",
       "      <th>1530</th>\n",
       "      <td>run_1619</td>\n",
       "      <td>slip</td>\n",
       "      <td>v</td>\n",
       "      <td>0.043364</td>\n",
       "    </tr>\n",
       "    <tr>\n",
       "      <th>1531</th>\n",
       "      <td>run_1619</td>\n",
       "      <td>slip</td>\n",
       "      <td>w</td>\n",
       "      <td>0.040736</td>\n",
       "    </tr>\n",
       "    <tr>\n",
       "      <th>1532</th>\n",
       "      <td>run_1619</td>\n",
       "      <td>slip</td>\n",
       "      <td>x</td>\n",
       "      <td>0.043364</td>\n",
       "    </tr>\n",
       "    <tr>\n",
       "      <th>1533</th>\n",
       "      <td>run_1619</td>\n",
       "      <td>slip</td>\n",
       "      <td>y</td>\n",
       "      <td>0.040736</td>\n",
       "    </tr>\n",
       "    <tr>\n",
       "      <th>1534</th>\n",
       "      <td>run_1619</td>\n",
       "      <td>slip</td>\n",
       "      <td>z</td>\n",
       "      <td>0.010512</td>\n",
       "    </tr>\n",
       "  </tbody>\n",
       "</table>\n",
       "<p>1535 rows × 4 columns</p>\n",
       "</div>"
      ],
      "text/plain": [
       "        Run ID condition Genome Site         0\n",
       "0     run_1530  baseline           A  0.010000\n",
       "1     run_1530  baseline           a  0.120000\n",
       "2     run_1530  baseline           b  0.040000\n",
       "3     run_1530  baseline           c  0.140000\n",
       "4     run_1530  baseline           d  0.020000\n",
       "...        ...       ...         ...       ...\n",
       "1530  run_1619      slip           v  0.043364\n",
       "1531  run_1619      slip           w  0.040736\n",
       "1532  run_1619      slip           x  0.043364\n",
       "1533  run_1619      slip           y  0.040736\n",
       "1534  run_1619      slip           z  0.010512\n",
       "\n",
       "[1535 rows x 4 columns]"
      ]
     },
     "execution_count": 12,
     "metadata": {},
     "output_type": "execute_result"
    }
   ],
   "source": [
    "count_df = (\n",
    "    tidy_df.groupby([\"Run ID\", \"condition\", \"Genome Site\"]).size().reset_index()\n",
    ")\n",
    "count_df[0] /= count_df.groupby([\"Run ID\", \"condition\"])[0].transform(\"sum\")\n",
    "count_df\n"
   ]
  },
  {
   "cell_type": "markdown",
   "metadata": {},
   "source": [
    "## Relative Instruction Abundances\n"
   ]
  },
  {
   "cell_type": "code",
   "execution_count": 13,
   "metadata": {
    "execution": {
     "iopub.execute_input": "2025-06-06T13:47:19.624329Z",
     "iopub.status.busy": "2025-06-06T13:47:19.624155Z",
     "iopub.status.idle": "2025-06-06T13:47:20.606353Z",
     "shell.execute_reply": "2025-06-06T13:47:20.605781Z"
    }
   },
   "outputs": [
    {
     "data": {
      "text/plain": [
       "<Axes: xlabel='Genome Site', ylabel='0'>"
      ]
     },
     "execution_count": 13,
     "metadata": {},
     "output_type": "execute_result"
    },
    {
     "data": {
      "image/png": "[encoded data removed]",
      "text/plain": [
       "<Figure size 640x480 with 1 Axes>"
      ]
     },
     "metadata": {},
     "output_type": "display_data"
    }
   ],
   "source": [
    "sns.barplot(\n",
    "    data=count_df,\n",
    "    x=\"Genome Site\",\n",
    "    hue=\"condition\",\n",
    "    y=0,\n",
    ")\n"
   ]
  }
 ],
 "metadata": {
  "kernelspec": {
   "display_name": "Python 3",
   "language": "python",
   "name": "python3"
  },
  "language_info": {
   "codemirror_mode": {
    "name": "ipython",
    "version": 3
   },
   "file_extension": ".py",
   "mimetype": "text/x-python",
   "name": "python",
   "nbconvert_exporter": "python",
   "pygments_lexer": "ipython3",
   "version": "3.12.3"
  }
 },
 "nbformat": 4,
 "nbformat_minor": 4
}
