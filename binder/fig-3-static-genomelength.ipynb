{
 "cells": [
  {
   "cell_type": "markdown",
   "metadata": {},
   "source": [
    "## Set Up Dependencies and Data\n"
   ]
  },
  {
   "cell_type": "code",
   "execution_count": 1,
   "metadata": {
    "execution": {
     "iopub.execute_input": "2025-06-26T21:58:01.626811Z",
     "iopub.status.busy": "2025-06-26T21:58:01.626649Z",
     "iopub.status.idle": "2025-06-26T21:58:03.179805Z",
     "shell.execute_reply": "2025-06-26T21:58:03.179327Z"
    }
   },
   "outputs": [],
   "source": [
    "import joblib\n",
    "from matplotlib import pyplot as plt\n",
    "import numpy as np\n",
    "import pandas as pd\n",
    "from scipy import stats as scipy_stats\n",
    "import seaborn as sns\n",
    "from teeplot import teeplot as tp\n"
   ]
  },
  {
   "cell_type": "code",
   "execution_count": 2,
   "metadata": {
    "execution": {
     "iopub.execute_input": "2025-06-26T21:58:03.182040Z",
     "iopub.status.busy": "2025-06-26T21:58:03.181512Z",
     "iopub.status.idle": "2025-06-26T21:58:03.521424Z",
     "shell.execute_reply": "2025-06-26T21:58:03.520848Z"
    }
   },
   "outputs": [],
   "source": [
    "df = pd.read_csv(\"https://raw.githubusercontent.com/chaynes2019/AvidaGeneDupe/refs/heads/main/experiments/2022-3-29-PaperDuplication/TidiedData/FinalDominantGenomeLengths.csv\")\n"
   ]
  },
  {
   "cell_type": "markdown",
   "metadata": {},
   "source": [
    "## Reproducibility\n"
   ]
  },
  {
   "cell_type": "code",
   "execution_count": 3,
   "metadata": {
    "execution": {
     "iopub.execute_input": "2025-06-26T21:58:03.523455Z",
     "iopub.status.busy": "2025-06-26T21:58:03.523182Z",
     "iopub.status.idle": "2025-06-26T21:58:03.570028Z",
     "shell.execute_reply": "2025-06-26T21:58:03.569491Z"
    }
   },
   "outputs": [
    {
     "name": "stdout",
     "output_type": "stream",
     "text": [
      "Last updated: 2025-06-26T21:58:03.529203+00:00\n",
      "\n",
      "Python implementation: CPython\n",
      "Python version       : 3.12.3\n",
      "IPython version      : 8.32.0\n",
      "\n",
      "Compiler    : GCC 13.3.0\n",
      "OS          : Linux\n",
      "Release     : 6.11.0-1015-azure\n",
      "Machine     : x86_64\n",
      "Processor   : x86_64\n",
      "CPU cores   : 4\n",
      "Architecture: 64bit\n",
      "\n",
      "Git hash: 0faa553bdba22a8b8017319b0bab26011d786203\n",
      "\n",
      "Git branch: main\n",
      "\n",
      "scipy     : 1.15.1\n",
      "teeplot   : 1.2.0\n",
      "seaborn   : 0.13.2\n",
      "numpy     : 2.2.2\n",
      "matplotlib: 3.10.0\n",
      "joblib    : 1.3.2\n",
      "pandas    : 2.2.3\n",
      "\n",
      "Watermark: 2.4.3\n",
      "\n"
     ]
    }
   ],
   "source": [
    "%load_ext watermark\n",
    "%watermark -iwbmuvg -iv\n"
   ]
  },
  {
   "cell_type": "code",
   "execution_count": 4,
   "metadata": {
    "execution": {
     "iopub.execute_input": "2025-06-26T21:58:03.601586Z",
     "iopub.status.busy": "2025-06-26T21:58:03.601065Z",
     "iopub.status.idle": "2025-06-26T21:58:03.607599Z",
     "shell.execute_reply": "2025-06-26T21:58:03.607102Z"
    }
   },
   "outputs": [
    {
     "data": {
      "text/plain": [
       "'feb88d22d682c00ebafcff9c650522c3'"
      ]
     },
     "execution_count": 4,
     "metadata": {},
     "output_type": "execute_result"
    }
   ],
   "source": [
    "joblib.hash(df)\n"
   ]
  },
  {
   "cell_type": "markdown",
   "metadata": {},
   "source": [
    "# Describe data\n"
   ]
  },
  {
   "cell_type": "code",
   "execution_count": 5,
   "metadata": {
    "execution": {
     "iopub.execute_input": "2025-06-26T21:58:03.609375Z",
     "iopub.status.busy": "2025-06-26T21:58:03.609065Z",
     "iopub.status.idle": "2025-06-26T21:58:03.619833Z",
     "shell.execute_reply": "2025-06-26T21:58:03.619420Z"
    }
   },
   "outputs": [
    {
     "data": {
      "text/html": [
       "<div>\n",
       "<style scoped>\n",
       "    .dataframe tbody tr th:only-of-type {\n",
       "        vertical-align: middle;\n",
       "    }\n",
       "\n",
       "    .dataframe tbody tr th {\n",
       "        vertical-align: top;\n",
       "    }\n",
       "\n",
       "    .dataframe thead th {\n",
       "        text-align: right;\n",
       "    }\n",
       "</style>\n",
       "<table border=\"1\" class=\"dataframe\">\n",
       "  <thead>\n",
       "    <tr style=\"text-align: right;\">\n",
       "      <th></th>\n",
       "      <th>Treatment</th>\n",
       "      <th>COPY_MUT_PROB</th>\n",
       "      <th>COPY_INS_PROB</th>\n",
       "      <th>COPY_DEL_PROB</th>\n",
       "      <th>DIVIDE_INS_PROB</th>\n",
       "      <th>DIVIDE_DEL_PROB</th>\n",
       "      <th>DIVIDE_SLIP_PROB</th>\n",
       "      <th>SLIP_FILL_MODE</th>\n",
       "      <th>Replicate #</th>\n",
       "      <th>Organism ID</th>\n",
       "      <th>Update Born</th>\n",
       "      <th>Task Count</th>\n",
       "    </tr>\n",
       "  </thead>\n",
       "  <tbody>\n",
       "    <tr>\n",
       "      <th>0</th>\n",
       "      <td>Slip-NOP</td>\n",
       "      <td>0.0</td>\n",
       "      <td>0.0</td>\n",
       "      <td>0.0</td>\n",
       "      <td>0.0</td>\n",
       "      <td>0.0</td>\n",
       "      <td>0.05</td>\n",
       "      <td>1</td>\n",
       "      <td>1637</td>\n",
       "      <td>21818483</td>\n",
       "      <td>198469</td>\n",
       "      <td>100</td>\n",
       "    </tr>\n",
       "    <tr>\n",
       "      <th>1</th>\n",
       "      <td>Slip-NOP</td>\n",
       "      <td>0.0</td>\n",
       "      <td>0.0</td>\n",
       "      <td>0.0</td>\n",
       "      <td>0.0</td>\n",
       "      <td>0.0</td>\n",
       "      <td>0.05</td>\n",
       "      <td>1</td>\n",
       "      <td>1643</td>\n",
       "      <td>18603933</td>\n",
       "      <td>199567</td>\n",
       "      <td>117</td>\n",
       "    </tr>\n",
       "    <tr>\n",
       "      <th>2</th>\n",
       "      <td>Slip-NOP</td>\n",
       "      <td>0.0</td>\n",
       "      <td>0.0</td>\n",
       "      <td>0.0</td>\n",
       "      <td>0.0</td>\n",
       "      <td>0.0</td>\n",
       "      <td>0.05</td>\n",
       "      <td>1</td>\n",
       "      <td>1622</td>\n",
       "      <td>16254391</td>\n",
       "      <td>199669</td>\n",
       "      <td>149</td>\n",
       "    </tr>\n",
       "    <tr>\n",
       "      <th>3</th>\n",
       "      <td>Slip-NOP</td>\n",
       "      <td>0.0</td>\n",
       "      <td>0.0</td>\n",
       "      <td>0.0</td>\n",
       "      <td>0.0</td>\n",
       "      <td>0.0</td>\n",
       "      <td>0.05</td>\n",
       "      <td>1</td>\n",
       "      <td>1640</td>\n",
       "      <td>19401843</td>\n",
       "      <td>199586</td>\n",
       "      <td>113</td>\n",
       "    </tr>\n",
       "    <tr>\n",
       "      <th>4</th>\n",
       "      <td>Slip-NOP</td>\n",
       "      <td>0.0</td>\n",
       "      <td>0.0</td>\n",
       "      <td>0.0</td>\n",
       "      <td>0.0</td>\n",
       "      <td>0.0</td>\n",
       "      <td>0.05</td>\n",
       "      <td>1</td>\n",
       "      <td>1638</td>\n",
       "      <td>18787017</td>\n",
       "      <td>199627</td>\n",
       "      <td>100</td>\n",
       "    </tr>\n",
       "  </tbody>\n",
       "</table>\n",
       "</div>"
      ],
      "text/plain": [
       "  Treatment  COPY_MUT_PROB  COPY_INS_PROB  COPY_DEL_PROB  DIVIDE_INS_PROB  \\\n",
       "0  Slip-NOP            0.0            0.0            0.0              0.0   \n",
       "1  Slip-NOP            0.0            0.0            0.0              0.0   \n",
       "2  Slip-NOP            0.0            0.0            0.0              0.0   \n",
       "3  Slip-NOP            0.0            0.0            0.0              0.0   \n",
       "4  Slip-NOP            0.0            0.0            0.0              0.0   \n",
       "\n",
       "   DIVIDE_DEL_PROB  DIVIDE_SLIP_PROB  SLIP_FILL_MODE  Replicate #  \\\n",
       "0              0.0              0.05               1         1637   \n",
       "1              0.0              0.05               1         1643   \n",
       "2              0.0              0.05               1         1622   \n",
       "3              0.0              0.05               1         1640   \n",
       "4              0.0              0.05               1         1638   \n",
       "\n",
       "   Organism ID  Update Born  Task Count  \n",
       "0     21818483       198469         100  \n",
       "1     18603933       199567         117  \n",
       "2     16254391       199669         149  \n",
       "3     19401843       199586         113  \n",
       "4     18787017       199627         100  "
      ]
     },
     "execution_count": 5,
     "metadata": {},
     "output_type": "execute_result"
    }
   ],
   "source": [
    "df.head()\n"
   ]
  },
  {
   "cell_type": "code",
   "execution_count": 6,
   "metadata": {
    "execution": {
     "iopub.execute_input": "2025-06-26T21:58:03.621437Z",
     "iopub.status.busy": "2025-06-26T21:58:03.621265Z",
     "iopub.status.idle": "2025-06-26T21:58:03.642082Z",
     "shell.execute_reply": "2025-06-26T21:58:03.641654Z"
    }
   },
   "outputs": [
    {
     "data": {
      "text/html": [
       "<div>\n",
       "<style scoped>\n",
       "    .dataframe tbody tr th:only-of-type {\n",
       "        vertical-align: middle;\n",
       "    }\n",
       "\n",
       "    .dataframe tbody tr th {\n",
       "        vertical-align: top;\n",
       "    }\n",
       "\n",
       "    .dataframe thead th {\n",
       "        text-align: right;\n",
       "    }\n",
       "</style>\n",
       "<table border=\"1\" class=\"dataframe\">\n",
       "  <thead>\n",
       "    <tr style=\"text-align: right;\">\n",
       "      <th></th>\n",
       "      <th>COPY_MUT_PROB</th>\n",
       "      <th>COPY_INS_PROB</th>\n",
       "      <th>COPY_DEL_PROB</th>\n",
       "      <th>DIVIDE_INS_PROB</th>\n",
       "      <th>DIVIDE_DEL_PROB</th>\n",
       "      <th>DIVIDE_SLIP_PROB</th>\n",
       "      <th>SLIP_FILL_MODE</th>\n",
       "      <th>Replicate #</th>\n",
       "      <th>Organism ID</th>\n",
       "      <th>Update Born</th>\n",
       "      <th>Task Count</th>\n",
       "    </tr>\n",
       "  </thead>\n",
       "  <tbody>\n",
       "    <tr>\n",
       "      <th>count</th>\n",
       "      <td>210.000000</td>\n",
       "      <td>210.000000</td>\n",
       "      <td>210.000000</td>\n",
       "      <td>210.000000</td>\n",
       "      <td>210.000000</td>\n",
       "      <td>210.000000</td>\n",
       "      <td>210.000000</td>\n",
       "      <td>210.000000</td>\n",
       "      <td>2.100000e+02</td>\n",
       "      <td>210.000000</td>\n",
       "      <td>210.000000</td>\n",
       "    </tr>\n",
       "    <tr>\n",
       "      <th>mean</th>\n",
       "      <td>0.000714</td>\n",
       "      <td>0.001071</td>\n",
       "      <td>0.001071</td>\n",
       "      <td>0.014286</td>\n",
       "      <td>0.014286</td>\n",
       "      <td>0.035714</td>\n",
       "      <td>1.571429</td>\n",
       "      <td>1634.500000</td>\n",
       "      <td>1.999271e+07</td>\n",
       "      <td>199606.395238</td>\n",
       "      <td>185.752381</td>\n",
       "    </tr>\n",
       "    <tr>\n",
       "      <th>std</th>\n",
       "      <td>0.001132</td>\n",
       "      <td>0.002631</td>\n",
       "      <td>0.002631</td>\n",
       "      <td>0.022642</td>\n",
       "      <td>0.022642</td>\n",
       "      <td>0.022642</td>\n",
       "      <td>1.765470</td>\n",
       "      <td>60.765944</td>\n",
       "      <td>1.139001e+07</td>\n",
       "      <td>273.493282</td>\n",
       "      <td>164.911128</td>\n",
       "    </tr>\n",
       "    <tr>\n",
       "      <th>min</th>\n",
       "      <td>0.000000</td>\n",
       "      <td>0.000000</td>\n",
       "      <td>0.000000</td>\n",
       "      <td>0.000000</td>\n",
       "      <td>0.000000</td>\n",
       "      <td>0.000000</td>\n",
       "      <td>0.000000</td>\n",
       "      <td>1530.000000</td>\n",
       "      <td>4.010272e+06</td>\n",
       "      <td>197872.000000</td>\n",
       "      <td>100.000000</td>\n",
       "    </tr>\n",
       "    <tr>\n",
       "      <th>25%</th>\n",
       "      <td>0.000000</td>\n",
       "      <td>0.000000</td>\n",
       "      <td>0.000000</td>\n",
       "      <td>0.000000</td>\n",
       "      <td>0.000000</td>\n",
       "      <td>0.000000</td>\n",
       "      <td>0.000000</td>\n",
       "      <td>1582.250000</td>\n",
       "      <td>1.290504e+07</td>\n",
       "      <td>199468.000000</td>\n",
       "      <td>100.000000</td>\n",
       "    </tr>\n",
       "    <tr>\n",
       "      <th>50%</th>\n",
       "      <td>0.000000</td>\n",
       "      <td>0.000000</td>\n",
       "      <td>0.000000</td>\n",
       "      <td>0.000000</td>\n",
       "      <td>0.000000</td>\n",
       "      <td>0.050000</td>\n",
       "      <td>1.000000</td>\n",
       "      <td>1634.500000</td>\n",
       "      <td>1.860179e+07</td>\n",
       "      <td>199644.000000</td>\n",
       "      <td>103.000000</td>\n",
       "    </tr>\n",
       "    <tr>\n",
       "      <th>75%</th>\n",
       "      <td>0.002500</td>\n",
       "      <td>0.000000</td>\n",
       "      <td>0.000000</td>\n",
       "      <td>0.050000</td>\n",
       "      <td>0.050000</td>\n",
       "      <td>0.050000</td>\n",
       "      <td>3.000000</td>\n",
       "      <td>1686.750000</td>\n",
       "      <td>2.164564e+07</td>\n",
       "      <td>199781.000000</td>\n",
       "      <td>183.000000</td>\n",
       "    </tr>\n",
       "    <tr>\n",
       "      <th>max</th>\n",
       "      <td>0.002500</td>\n",
       "      <td>0.007500</td>\n",
       "      <td>0.007500</td>\n",
       "      <td>0.050000</td>\n",
       "      <td>0.050000</td>\n",
       "      <td>0.050000</td>\n",
       "      <td>5.000000</td>\n",
       "      <td>1739.000000</td>\n",
       "      <td>4.862347e+07</td>\n",
       "      <td>199978.000000</td>\n",
       "      <td>866.000000</td>\n",
       "    </tr>\n",
       "  </tbody>\n",
       "</table>\n",
       "</div>"
      ],
      "text/plain": [
       "       COPY_MUT_PROB  COPY_INS_PROB  COPY_DEL_PROB  DIVIDE_INS_PROB  \\\n",
       "count     210.000000     210.000000     210.000000       210.000000   \n",
       "mean        0.000714       0.001071       0.001071         0.014286   \n",
       "std         0.001132       0.002631       0.002631         0.022642   \n",
       "min         0.000000       0.000000       0.000000         0.000000   \n",
       "25%         0.000000       0.000000       0.000000         0.000000   \n",
       "50%         0.000000       0.000000       0.000000         0.000000   \n",
       "75%         0.002500       0.000000       0.000000         0.050000   \n",
       "max         0.002500       0.007500       0.007500         0.050000   \n",
       "\n",
       "       DIVIDE_DEL_PROB  DIVIDE_SLIP_PROB  SLIP_FILL_MODE  Replicate #  \\\n",
       "count       210.000000        210.000000      210.000000   210.000000   \n",
       "mean          0.014286          0.035714        1.571429  1634.500000   \n",
       "std           0.022642          0.022642        1.765470    60.765944   \n",
       "min           0.000000          0.000000        0.000000  1530.000000   \n",
       "25%           0.000000          0.000000        0.000000  1582.250000   \n",
       "50%           0.000000          0.050000        1.000000  1634.500000   \n",
       "75%           0.050000          0.050000        3.000000  1686.750000   \n",
       "max           0.050000          0.050000        5.000000  1739.000000   \n",
       "\n",
       "        Organism ID    Update Born  Task Count  \n",
       "count  2.100000e+02     210.000000  210.000000  \n",
       "mean   1.999271e+07  199606.395238  185.752381  \n",
       "std    1.139001e+07     273.493282  164.911128  \n",
       "min    4.010272e+06  197872.000000  100.000000  \n",
       "25%    1.290504e+07  199468.000000  100.000000  \n",
       "50%    1.860179e+07  199644.000000  103.000000  \n",
       "75%    2.164564e+07  199781.000000  183.000000  \n",
       "max    4.862347e+07  199978.000000  866.000000  "
      ]
     },
     "execution_count": 6,
     "metadata": {},
     "output_type": "execute_result"
    }
   ],
   "source": [
    "df.describe()\n"
   ]
  },
  {
   "cell_type": "code",
   "execution_count": 7,
   "metadata": {
    "execution": {
     "iopub.execute_input": "2025-06-26T21:58:03.643590Z",
     "iopub.status.busy": "2025-06-26T21:58:03.643424Z",
     "iopub.status.idle": "2025-06-26T21:58:03.649148Z",
     "shell.execute_reply": "2025-06-26T21:58:03.648718Z"
    }
   },
   "outputs": [
    {
     "data": {
      "text/plain": [
       "Treatment             7\n",
       "COPY_MUT_PROB         2\n",
       "COPY_INS_PROB         2\n",
       "COPY_DEL_PROB         2\n",
       "DIVIDE_INS_PROB       2\n",
       "DIVIDE_DEL_PROB       2\n",
       "DIVIDE_SLIP_PROB      2\n",
       "SLIP_FILL_MODE        5\n",
       "Replicate #         210\n",
       "Organism ID         210\n",
       "Update Born         184\n",
       "Task Count           88\n",
       "dtype: int64"
      ]
     },
     "execution_count": 7,
     "metadata": {},
     "output_type": "execute_result"
    }
   ],
   "source": [
    "df.nunique()\n"
   ]
  },
  {
   "cell_type": "code",
   "execution_count": 8,
   "metadata": {
    "execution": {
     "iopub.execute_input": "2025-06-26T21:58:03.650594Z",
     "iopub.status.busy": "2025-06-26T21:58:03.650446Z",
     "iopub.status.idle": "2025-06-26T21:58:03.653798Z",
     "shell.execute_reply": "2025-06-26T21:58:03.653399Z"
    }
   },
   "outputs": [
    {
     "data": {
      "text/plain": [
       "array(['Slip-NOP', 'Baseline-Treatment', 'High-Mutation', 'Slip-random',\n",
       "       'Slip-duplicate', 'Slip-scatter', 'Slip-scramble'], dtype=object)"
      ]
     },
     "execution_count": 8,
     "metadata": {},
     "output_type": "execute_result"
    }
   ],
   "source": [
    "df[\"Treatment\"].unique()\n"
   ]
  },
  {
   "cell_type": "code",
   "execution_count": 9,
   "metadata": {
    "execution": {
     "iopub.execute_input": "2025-06-26T21:58:03.655408Z",
     "iopub.status.busy": "2025-06-26T21:58:03.655108Z",
     "iopub.status.idle": "2025-06-26T21:58:03.658014Z",
     "shell.execute_reply": "2025-06-26T21:58:03.657496Z"
    }
   },
   "outputs": [],
   "source": [
    "df[\"Genome Length\"] = df[\"Task Count\"]\n"
   ]
  },
  {
   "cell_type": "markdown",
   "metadata": {},
   "source": [
    "## Plot Data\n"
   ]
  },
  {
   "cell_type": "code",
   "execution_count": 10,
   "metadata": {
    "execution": {
     "iopub.execute_input": "2025-06-26T21:58:03.659830Z",
     "iopub.status.busy": "2025-06-26T21:58:03.659535Z",
     "iopub.status.idle": "2025-06-26T21:58:03.661961Z",
     "shell.execute_reply": "2025-06-26T21:58:03.661451Z"
    }
   },
   "outputs": [],
   "source": [
    "signif = \"\"\n",
    "env = \"static\"\n"
   ]
  },
  {
   "cell_type": "code",
   "execution_count": 11,
   "metadata": {
    "execution": {
     "iopub.execute_input": "2025-06-26T21:58:03.663577Z",
     "iopub.status.busy": "2025-06-26T21:58:03.663210Z",
     "iopub.status.idle": "2025-06-26T21:58:03.665875Z",
     "shell.execute_reply": "2025-06-26T21:58:03.665476Z"
    }
   },
   "outputs": [],
   "source": [
    "def order(signif: str=\"\") -> list:\n",
    "    return [\n",
    "        \"Baseline\",\n",
    "        \"High mutation rate\",\n",
    "        \"Slip-scatter\",\n",
    "        \"Slip-NOP\",\n",
    "        \"Slip-random\",\n",
    "        f\"Slip-scramble{signif}\",\n",
    "        f\"Slip-duplicate{signif}\",\n",
    "    ]\n"
   ]
  },
  {
   "cell_type": "code",
   "execution_count": 12,
   "metadata": {
    "execution": {
     "iopub.execute_input": "2025-06-26T21:58:03.667446Z",
     "iopub.status.busy": "2025-06-26T21:58:03.667153Z",
     "iopub.status.idle": "2025-06-26T21:58:04.139504Z",
     "shell.execute_reply": "2025-06-26T21:58:04.138944Z"
    }
   },
   "outputs": [
    {
     "name": "stdout",
     "output_type": "stream",
     "text": [
      "teeplots/env=static+hue=treatment+inner=box+kind=violin+palette=muted+viz=catplot+x=treatment+y=genome-length+ext=.pdf\n",
      "teeplots/env=static+hue=treatment+inner=box+kind=violin+palette=muted+viz=catplot+x=treatment+y=genome-length+ext=.png\n"
     ]
    },
    {
     "data": {
      "image/png": "[encoded data removed]",
      "text/plain": [
       "<Figure size 350x250 with 1 Axes>"
      ]
     },
     "metadata": {},
     "output_type": "display_data"
    }
   ],
   "source": [
    "df_ = df.groupby(\n",
    "    [\"Treatment\", \"Replicate #\"],\n",
    ").max(\"Time\").reset_index()\n",
    "df_[\"Treatment\"] = df_[\n",
    "    \"Treatment\"\n",
    "].replace(\n",
    "    \"Baseline-Treatment\", \"Baseline\"\n",
    ").replace(\n",
    "    \"High-Mutation\", \"High mutation rate\"\n",
    ").replace(\n",
    "    \"Slip-scramble\", f\"Slip-scramble{signif}\"\n",
    ").replace(\n",
    "    \"Slip-duplicate\", f\"Slip-duplicate{signif}\",\n",
    ")\n",
    "\n",
    "with tp.teed(\n",
    "    sns.catplot,\n",
    "    data=df_,\n",
    "    x=\"Treatment\",\n",
    "    y=\"Genome Length\",\n",
    "    hue=\"Treatment\",\n",
    "    order=order(signif),\n",
    "    hue_order=order(signif),\n",
    "    aspect=1.4,\n",
    "    height=2.5,\n",
    "    inner=\"box\",\n",
    "    kind=\"violin\",\n",
    "    linewidth=1,\n",
    "    cut=0,\n",
    "    palette=\"muted\",\n",
    "    teeplot_outattrs={\"env\": env},\n",
    ") as g:\n",
    "    ax, = g.axes.flat\n",
    "    ax.set_ylabel(\"Genome Length\")\n",
    "    ax.set_xlabel(\"\")\n",
    "    plt.xticks(rotation=30, ha=\"right\")\n"
   ]
  },
  {
   "cell_type": "markdown",
   "metadata": {},
   "source": [
    "## Slice and Dice\n"
   ]
  },
  {
   "cell_type": "code",
   "execution_count": 13,
   "metadata": {
    "execution": {
     "iopub.execute_input": "2025-06-26T21:58:04.141393Z",
     "iopub.status.busy": "2025-06-26T21:58:04.141052Z",
     "iopub.status.idle": "2025-06-26T21:58:04.146993Z",
     "shell.execute_reply": "2025-06-26T21:58:04.146581Z"
    }
   },
   "outputs": [],
   "source": [
    "df_ = df.groupby(\n",
    "    [\"Treatment\", \"Replicate #\"],\n",
    ").max(\"Time\").reset_index()\n",
    "df_[\"Treatment\"] = df_[\n",
    "    \"Treatment\"\n",
    "].replace(\n",
    "    \"Baseline-Treatment\", \"Baseline\"\n",
    ").replace(\n",
    "    \"High-Mutation\", \"High mutation rate\"\n",
    ").replace(\n",
    "    \"Slip-scramble\", f\"Slip-scramble{signif}\"\n",
    ").replace(\n",
    "    \"Slip-duplicate\", f\"Slip-duplicate{signif}\",\n",
    ")\n"
   ]
  },
  {
   "cell_type": "code",
   "execution_count": 14,
   "metadata": {
    "execution": {
     "iopub.execute_input": "2025-06-26T21:58:04.148544Z",
     "iopub.status.busy": "2025-06-26T21:58:04.148276Z",
     "iopub.status.idle": "2025-06-26T21:58:04.151104Z",
     "shell.execute_reply": "2025-06-26T21:58:04.150572Z"
    }
   },
   "outputs": [],
   "source": [
    "def order2(signif):\n",
    "    return [\n",
    "        \"Baseline\",\n",
    "        f\"Slip-duplicate{signif}\",\n",
    "        \"High mutation rate\",\n",
    "        \"Slip-scatter\",\n",
    "        \"Slip-NOP\",\n",
    "        \"Slip-random\",\n",
    "        f\"Slip-scramble{signif}\",\n",
    "    ]\n"
   ]
  },
  {
   "cell_type": "code",
   "execution_count": 15,
   "metadata": {
    "execution": {
     "iopub.execute_input": "2025-06-26T21:58:04.152774Z",
     "iopub.status.busy": "2025-06-26T21:58:04.152457Z",
     "iopub.status.idle": "2025-06-26T21:58:04.608295Z",
     "shell.execute_reply": "2025-06-26T21:58:04.607772Z"
    }
   },
   "outputs": [
    {
     "name": "stderr",
     "output_type": "stream",
     "text": [
      "/tmp/ipykernel_4063/2007968040.py:25: UserWarning: set_ticklabels() should only be used with a fixed number of ticks, i.e. after set_ticks() or using a FixedLocator.\n",
      "  ax.set_xticklabels(ax.get_xticklabels(), rotation=40, ha=\"left\")\n",
      "/home/runner/.local/lib/python3.12/site-packages/teeplot/teeplot.py:322: UserWarning: teeplot already created file teeplots/env=static+hue=treatment+inner=box+kind=violin+palette=muted+viz=catplot+x=treatment+y=genome-length+ext=.pdf, overwriting it\n",
      "  warnings.warn(\n",
      "/home/runner/.local/lib/python3.12/site-packages/teeplot/teeplot.py:322: UserWarning: teeplot already created file teeplots/env=static+hue=treatment+inner=box+kind=violin+palette=muted+viz=catplot+x=treatment+y=genome-length+ext=.png, overwriting it\n",
      "  warnings.warn(\n"
     ]
    },
    {
     "name": "stdout",
     "output_type": "stream",
     "text": [
      "teeplots/env=static+hue=treatment+inner=box+kind=violin+palette=muted+viz=catplot+x=treatment+y=genome-length+ext=.pdf\n",
      "teeplots/env=static+hue=treatment+inner=box+kind=violin+palette=muted+viz=catplot+x=treatment+y=genome-length+ext=.png\n"
     ]
    },
    {
     "data": {
      "image/png": "[encoded data removed]",
      "text/plain": [
       "<Figure size 350x250 with 1 Axes>"
      ]
     },
     "metadata": {},
     "output_type": "display_data"
    }
   ],
   "source": [
    "with tp.teed(\n",
    "    sns.catplot,\n",
    "    data=df_,\n",
    "    x=\"Treatment\",\n",
    "    y=\"Genome Length\",\n",
    "    hue=\"Treatment\",\n",
    "    order=order2(signif),\n",
    "    hue_order=order2(signif),\n",
    "    aspect=1.4,\n",
    "    height=2.5,\n",
    "    cut=0,\n",
    "    inner=\"box\",\n",
    "    kind=\"violin\",\n",
    "    linewidth=1,\n",
    "    palette=\"muted\",\n",
    "    teeplot_outattrs={\"env\": env},\n",
    ") as g:\n",
    "    ax, = g.axes.flat\n",
    "    # Core lines for your request:\n",
    "    ax.xaxis.set_ticks_position(\"bottom\")\n",
    "    ax.xaxis.set_label_position(\"top\")\n",
    "    ax.tick_params(axis=\"x\", labelbottom=False, labeltop=True)\n",
    "    ax.set_ylabel(\"Genome Length\")\n",
    "    ax.set_xlabel(\"\")\n",
    "    ax.set_xticklabels(ax.get_xticklabels(), rotation=40, ha=\"left\")\n"
   ]
  },
  {
   "cell_type": "code",
   "execution_count": 16,
   "metadata": {
    "execution": {
     "iopub.execute_input": "2025-06-26T21:58:04.610150Z",
     "iopub.status.busy": "2025-06-26T21:58:04.609794Z",
     "iopub.status.idle": "2025-06-26T21:58:05.106810Z",
     "shell.execute_reply": "2025-06-26T21:58:05.106259Z"
    }
   },
   "outputs": [
    {
     "name": "stderr",
     "output_type": "stream",
     "text": [
      "/tmp/ipykernel_4063/3217939903.py:39: UserWarning: set_ticklabels() should only be used with a fixed number of ticks, i.e. after set_ticks() or using a FixedLocator.\n",
      "  ax.set_xticklabels(ax.get_xticklabels(), rotation=40, ha=\"left\")\n",
      "/tmp/ipykernel_4063/3217939903.py:39: UserWarning: set_ticklabels() should only be used with a fixed number of ticks, i.e. after set_ticks() or using a FixedLocator.\n",
      "  ax.set_xticklabels(ax.get_xticklabels(), rotation=40, ha=\"left\")\n"
     ]
    },
    {
     "name": "stdout",
     "output_type": "stream",
     "text": [
      "teeplots/col=split+env=static+hue=treatment+inner=box+kind=violin+palette=muted+viz=catplot+x=treatment+y=genome-length+ext=.pdf\n",
      "teeplots/col=split+env=static+hue=treatment+inner=box+kind=violin+palette=muted+viz=catplot+x=treatment+y=genome-length+ext=.png\n"
     ]
    },
    {
     "data": {
      "image/png": "[encoded data removed]",
      "text/plain": [
       "<Figure size 400x250 with 2 Axes>"
      ]
     },
     "metadata": {},
     "output_type": "display_data"
    }
   ],
   "source": [
    "df_[\"split\"] = df_[\"Treatment\"].map(\n",
    "    {\n",
    "        \"Baseline\": 0,\n",
    "        \"High mutation rate\": 1,\n",
    "        f\"Slip-duplicate{signif}\": 0,\n",
    "        f\"Slip-scramble{signif}\": 1,\n",
    "        \"Slip-NOP\": 1,\n",
    "        \"Slip-random\": 1,\n",
    "        \"Slip-scatter\": 1,\n",
    "    },\n",
    ")\n",
    "\n",
    "with tp.teed(\n",
    "    sns.catplot,\n",
    "    data=df_,\n",
    "    x=\"Treatment\",\n",
    "    y=\"Genome Length\",\n",
    "    hue=\"Treatment\",\n",
    "    col=\"split\",\n",
    "    order=order2(signif),\n",
    "    hue_order=order2(signif),\n",
    "    aspect=0.8,\n",
    "    height=2.5,\n",
    "    inner=\"box\",\n",
    "    kind=\"violin\",\n",
    "    cut=0,\n",
    "    sharex=False,\n",
    "    linewidth=1,\n",
    "    palette=\"muted\",\n",
    "    teeplot_outattrs={\"env\": env},\n",
    ") as g:\n",
    "    g.set(ylabel=\"Genome Length\")\n",
    "    g.set_titles(\"\")\n",
    "    for ax in g.axes.flat:\n",
    "        ax.xaxis.set_ticks_position(\"bottom\")\n",
    "        ax.xaxis.set_label_position(\"top\")\n",
    "        ax.tick_params(axis=\"x\", labelbottom=False, labeltop=True)\n",
    "        ax.set_xlabel(\"\")\n",
    "        ax.set_xticklabels(ax.get_xticklabels(), rotation=40, ha=\"left\")\n",
    "\n",
    "\n",
    "    g.sharex = False\n",
    "    g.axes.flat[0].set_xlim(None, 1.5)\n",
    "    g.axes.flat[1].set_xlim(1.5, None)\n",
    "\n",
    "    gs = g.axes[0, 0].get_gridspec()\n",
    "    gs.set_width_ratios([2, 5])  # [left, right]\n",
    "\n",
    "    g.fig.subplots_adjust(wspace=0.2)\n"
   ]
  },
  {
   "cell_type": "markdown",
   "metadata": {},
   "source": [
    "## Statistical Tests\n"
   ]
  },
  {
   "cell_type": "code",
   "execution_count": 17,
   "metadata": {
    "execution": {
     "iopub.execute_input": "2025-06-26T21:58:05.108881Z",
     "iopub.status.busy": "2025-06-26T21:58:05.108467Z",
     "iopub.status.idle": "2025-06-26T21:58:05.120615Z",
     "shell.execute_reply": "2025-06-26T21:58:05.120112Z"
    }
   },
   "outputs": [
    {
     "name": "stdout",
     "output_type": "stream",
     "text": [
      "Kruskal-Wallis: H = 130.093, p = 1.229e-25\n",
      "Mann-Whitney Slip-scramble vs Slip-NOP: U = 814, raw p = 3.784e-08, Bonferroni-corrected p = 1.135e-07\n",
      "Mann-Whitney Slip-duplicate vs Slip-NOP: U = 877, raw p = 1.474e-10, Bonferroni-corrected p = 4.422e-10\n",
      "Mann-Whitney Slip-duplicate vs Slip-scramble: U = 734, raw p = 2.770e-05, Bonferroni-corrected p = 8.309e-05\n"
     ]
    }
   ],
   "source": [
    "# --------------------------------------------------------------------\n",
    "# Kruskal-Wallis across all treatment groups\n",
    "# --------------------------------------------------------------------\n",
    "grouped = df.groupby(\"Treatment\")[\"Task Count\"].apply(list)\n",
    "kw_stat, kw_p = scipy_stats.kruskal(*grouped)\n",
    "\n",
    "print(f\"Kruskal-Wallis: H = {kw_stat:.3f}, p = {kw_p:.3e}\")\n",
    "\n",
    "# --------------------------------------------------------------------\n",
    "# Pair-wise Mann-Whitney U tests\n",
    "#    - Slip-scramble  vs Slip-NOP\n",
    "#    - Slip-duplicate vs Slip-NOP\n",
    "#    - Slip-duplicate vs Slip-scramble\n",
    "#    Bonferroni-correct p-values for 3 comparisons\n",
    "# --------------------------------------------------------------------\n",
    "comparisons = [\n",
    "    (\"Slip-scramble\",  \"Slip-NOP\"),\n",
    "    (\"Slip-duplicate\", \"Slip-NOP\"),\n",
    "    (\"Slip-duplicate\", \"Slip-scramble\")\n",
    "]\n",
    "\n",
    "results   = []\n",
    "raw_ps    = []\n",
    "\n",
    "for a, b in comparisons:\n",
    "    x = df.loc[df[\"Treatment\"] == a, \"Genome Length\"]\n",
    "    y = df.loc[df[\"Treatment\"] == b, \"Genome Length\"]\n",
    "\n",
    "    u, p = scipy_stats.mannwhitneyu(x, y, alternative=\"two-sided\")\n",
    "    raw_ps.append(p)\n",
    "    results.append((a, b, u, p))\n",
    "\n",
    "# Bonferroni adjustment (alpha_nominal * number_of_tests)\n",
    "bonf_ps = [min(p * len(comparisons), 1.0) for p in raw_ps]\n",
    "\n",
    "# --------------------------------------------------------------------\n",
    "# Report\n",
    "# --------------------------------------------------------------------\n",
    "for (a, b, u, p_raw), p_adj in zip(results, bonf_ps):\n",
    "    print(f\"Mann-Whitney {a} vs {b}: \"\n",
    "          f\"U = {u:.0f}, raw p = {p_raw:.3e}, Bonferroni-corrected p = {p_adj:.3e}\")\n"
   ]
  },
  {
   "cell_type": "code",
   "execution_count": 18,
   "metadata": {
    "execution": {
     "iopub.execute_input": "2025-06-26T21:58:05.122443Z",
     "iopub.status.busy": "2025-06-26T21:58:05.122057Z",
     "iopub.status.idle": "2025-06-26T21:58:05.129756Z",
     "shell.execute_reply": "2025-06-26T21:58:05.129347Z"
    }
   },
   "outputs": [
    {
     "data": {
      "text/html": [
       "<div>\n",
       "<style scoped>\n",
       "    .dataframe tbody tr th:only-of-type {\n",
       "        vertical-align: middle;\n",
       "    }\n",
       "\n",
       "    .dataframe tbody tr th {\n",
       "        vertical-align: top;\n",
       "    }\n",
       "\n",
       "    .dataframe thead th {\n",
       "        text-align: right;\n",
       "    }\n",
       "</style>\n",
       "<table border=\"1\" class=\"dataframe\">\n",
       "  <thead>\n",
       "    <tr style=\"text-align: right;\">\n",
       "      <th></th>\n",
       "      <th>mean</th>\n",
       "      <th>std</th>\n",
       "    </tr>\n",
       "    <tr>\n",
       "      <th>Treatment</th>\n",
       "      <th></th>\n",
       "      <th></th>\n",
       "    </tr>\n",
       "  </thead>\n",
       "  <tbody>\n",
       "    <tr>\n",
       "      <th>Baseline-Treatment</th>\n",
       "      <td>107.80</td>\n",
       "      <td>8.90</td>\n",
       "    </tr>\n",
       "    <tr>\n",
       "      <th>High-Mutation</th>\n",
       "      <td>105.80</td>\n",
       "      <td>24.09</td>\n",
       "    </tr>\n",
       "    <tr>\n",
       "      <th>Slip-NOP</th>\n",
       "      <td>124.00</td>\n",
       "      <td>54.30</td>\n",
       "    </tr>\n",
       "    <tr>\n",
       "      <th>Slip-duplicate</th>\n",
       "      <td>491.33</td>\n",
       "      <td>222.96</td>\n",
       "    </tr>\n",
       "    <tr>\n",
       "      <th>Slip-random</th>\n",
       "      <td>102.00</td>\n",
       "      <td>7.88</td>\n",
       "    </tr>\n",
       "    <tr>\n",
       "      <th>Slip-scatter</th>\n",
       "      <td>116.53</td>\n",
       "      <td>35.48</td>\n",
       "    </tr>\n",
       "    <tr>\n",
       "      <th>Slip-scramble</th>\n",
       "      <td>252.80</td>\n",
       "      <td>105.11</td>\n",
       "    </tr>\n",
       "  </tbody>\n",
       "</table>\n",
       "</div>"
      ],
      "text/plain": [
       "                      mean     std\n",
       "Treatment                         \n",
       "Baseline-Treatment  107.80    8.90\n",
       "High-Mutation       105.80   24.09\n",
       "Slip-NOP            124.00   54.30\n",
       "Slip-duplicate      491.33  222.96\n",
       "Slip-random         102.00    7.88\n",
       "Slip-scatter        116.53   35.48\n",
       "Slip-scramble       252.80  105.11"
      ]
     },
     "execution_count": 18,
     "metadata": {},
     "output_type": "execute_result"
    }
   ],
   "source": [
    "df.groupby(\"Treatment\")[\"Genome Length\"].agg([\"mean\", \"std\"]).round(2)\n"
   ]
  }
 ],
 "metadata": {
  "kernelspec": {
   "display_name": "usr",
   "language": "python",
   "name": "python3"
  },
  "language_info": {
   "codemirror_mode": {
    "name": "ipython",
    "version": 3
   },
   "file_extension": ".py",
   "mimetype": "text/x-python",
   "name": "python",
   "nbconvert_exporter": "python",
   "pygments_lexer": "ipython3",
   "version": "3.12.3"
  }
 },
 "nbformat": 4,
 "nbformat_minor": 4
}
