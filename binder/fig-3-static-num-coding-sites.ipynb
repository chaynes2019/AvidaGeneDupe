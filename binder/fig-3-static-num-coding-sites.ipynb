{
 "cells": [
  {
   "cell_type": "markdown",
   "metadata": {},
   "source": [
    "## Set Up Dependencies and Data\n"
   ]
  },
  {
   "cell_type": "code",
   "execution_count": 1,
   "metadata": {
    "execution": {
     "iopub.execute_input": "2025-06-26T21:58:07.770995Z",
     "iopub.status.busy": "2025-06-26T21:58:07.770797Z",
     "iopub.status.idle": "2025-06-26T21:58:08.849140Z",
     "shell.execute_reply": "2025-06-26T21:58:08.848519Z"
    }
   },
   "outputs": [],
   "source": [
    "import joblib\n",
    "from matplotlib import pyplot as plt\n",
    "import numpy as np\n",
    "import pandas as pd\n",
    "from scipy import stats as scipy_stats\n",
    "import seaborn as sns\n",
    "from teeplot import teeplot as tp\n"
   ]
  },
  {
   "cell_type": "code",
   "execution_count": 2,
   "metadata": {
    "execution": {
     "iopub.execute_input": "2025-06-26T21:58:08.851069Z",
     "iopub.status.busy": "2025-06-26T21:58:08.850821Z",
     "iopub.status.idle": "2025-06-26T21:58:09.071241Z",
     "shell.execute_reply": "2025-06-26T21:58:09.070710Z"
    }
   },
   "outputs": [],
   "source": [
    "df = pd.read_csv(\"https://raw.githubusercontent.com/chaynes2019/AvidaGeneDupe/43233fc584bdfa8f354f8fcf7908a5e456c10f7e/experiments/2022-3-29-PaperDuplication/TidiedData/FinalDominantInfo.csv\")\n"
   ]
  },
  {
   "cell_type": "markdown",
   "metadata": {},
   "source": [
    "## Reproducibility\n"
   ]
  },
  {
   "cell_type": "code",
   "execution_count": 3,
   "metadata": {
    "execution": {
     "iopub.execute_input": "2025-06-26T21:58:09.073192Z",
     "iopub.status.busy": "2025-06-26T21:58:09.073013Z",
     "iopub.status.idle": "2025-06-26T21:58:09.101072Z",
     "shell.execute_reply": "2025-06-26T21:58:09.100592Z"
    }
   },
   "outputs": [
    {
     "name": "stdout",
     "output_type": "stream",
     "text": [
      "Last updated: 2025-06-26T21:58:09.078196+00:00\n",
      "\n",
      "Python implementation: CPython\n",
      "Python version       : 3.12.3\n",
      "IPython version      : 8.32.0\n",
      "\n",
      "Compiler    : GCC 13.3.0\n",
      "OS          : Linux\n",
      "Release     : 6.11.0-1015-azure\n",
      "Machine     : x86_64\n",
      "Processor   : x86_64\n",
      "CPU cores   : 4\n",
      "Architecture: 64bit\n",
      "\n",
      "Git hash: 0faa553bdba22a8b8017319b0bab26011d786203\n",
      "\n",
      "Git branch: main\n",
      "\n",
      "teeplot   : 1.2.0\n",
      "scipy     : 1.15.1\n",
      "pandas    : 2.2.3\n",
      "numpy     : 2.2.2\n",
      "matplotlib: 3.10.0\n",
      "joblib    : 1.3.2\n",
      "seaborn   : 0.13.2\n",
      "\n",
      "Watermark: 2.4.3\n",
      "\n"
     ]
    }
   ],
   "source": [
    "%load_ext watermark\n",
    "%watermark -iwbmuvg -iv\n"
   ]
  },
  {
   "cell_type": "code",
   "execution_count": 4,
   "metadata": {
    "execution": {
     "iopub.execute_input": "2025-06-26T21:58:09.132738Z",
     "iopub.status.busy": "2025-06-26T21:58:09.132343Z",
     "iopub.status.idle": "2025-06-26T21:58:09.142807Z",
     "shell.execute_reply": "2025-06-26T21:58:09.142383Z"
    }
   },
   "outputs": [
    {
     "data": {
      "text/plain": [
       "'6f0942aabab7103c2cab799df4c5e572'"
      ]
     },
     "execution_count": 4,
     "metadata": {},
     "output_type": "execute_result"
    }
   ],
   "source": [
    "joblib.hash(df)\n"
   ]
  },
  {
   "cell_type": "markdown",
   "metadata": {},
   "source": [
    "# Describe data\n"
   ]
  },
  {
   "cell_type": "code",
   "execution_count": 5,
   "metadata": {
    "execution": {
     "iopub.execute_input": "2025-06-26T21:58:09.144601Z",
     "iopub.status.busy": "2025-06-26T21:58:09.144145Z",
     "iopub.status.idle": "2025-06-26T21:58:09.147732Z",
     "shell.execute_reply": "2025-06-26T21:58:09.147343Z"
    }
   },
   "outputs": [],
   "source": [
    "df = df[\n",
    "    df[\"Information Type\"] == \"Task Count\"\n",
    "].reset_index(drop=True)\n"
   ]
  },
  {
   "cell_type": "code",
   "execution_count": 6,
   "metadata": {
    "execution": {
     "iopub.execute_input": "2025-06-26T21:58:09.149193Z",
     "iopub.status.busy": "2025-06-26T21:58:09.149029Z",
     "iopub.status.idle": "2025-06-26T21:58:09.160342Z",
     "shell.execute_reply": "2025-06-26T21:58:09.159836Z"
    }
   },
   "outputs": [
    {
     "data": {
      "text/html": [
       "<div>\n",
       "<style scoped>\n",
       "    .dataframe tbody tr th:only-of-type {\n",
       "        vertical-align: middle;\n",
       "    }\n",
       "\n",
       "    .dataframe tbody tr th {\n",
       "        vertical-align: top;\n",
       "    }\n",
       "\n",
       "    .dataframe thead th {\n",
       "        text-align: right;\n",
       "    }\n",
       "</style>\n",
       "<table border=\"1\" class=\"dataframe\">\n",
       "  <thead>\n",
       "    <tr style=\"text-align: right;\">\n",
       "      <th></th>\n",
       "      <th>Treatment</th>\n",
       "      <th>COPY_MUT_PROB</th>\n",
       "      <th>COPY_INS_PROB</th>\n",
       "      <th>COPY_DEL_PROB</th>\n",
       "      <th>DIVIDE_INS_PROB</th>\n",
       "      <th>DIVIDE_DEL_PROB</th>\n",
       "      <th>DIVIDE_SLIP_PROB</th>\n",
       "      <th>SLIP_FILL_MODE</th>\n",
       "      <th>Replicate #</th>\n",
       "      <th>Length</th>\n",
       "      <th>Task Coding Sites Average</th>\n",
       "      <th>Task Coding Sites Standard Deviation</th>\n",
       "      <th>Information Type</th>\n",
       "      <th>Information</th>\n",
       "      <th>Information Concentration</th>\n",
       "    </tr>\n",
       "  </thead>\n",
       "  <tbody>\n",
       "    <tr>\n",
       "      <th>0</th>\n",
       "      <td>Slip-NOP</td>\n",
       "      <td>0.0</td>\n",
       "      <td>0.0</td>\n",
       "      <td>0.0</td>\n",
       "      <td>0.0</td>\n",
       "      <td>0.0</td>\n",
       "      <td>0.05</td>\n",
       "      <td>1</td>\n",
       "      <td>1637</td>\n",
       "      <td>100</td>\n",
       "      <td>19.142857</td>\n",
       "      <td>3.090473</td>\n",
       "      <td>Task Count</td>\n",
       "      <td>48.0</td>\n",
       "      <td>0.480000</td>\n",
       "    </tr>\n",
       "    <tr>\n",
       "      <th>1</th>\n",
       "      <td>Slip-NOP</td>\n",
       "      <td>0.0</td>\n",
       "      <td>0.0</td>\n",
       "      <td>0.0</td>\n",
       "      <td>0.0</td>\n",
       "      <td>0.0</td>\n",
       "      <td>0.05</td>\n",
       "      <td>1</td>\n",
       "      <td>1643</td>\n",
       "      <td>117</td>\n",
       "      <td>22.875000</td>\n",
       "      <td>8.781194</td>\n",
       "      <td>Task Count</td>\n",
       "      <td>58.0</td>\n",
       "      <td>0.495726</td>\n",
       "    </tr>\n",
       "    <tr>\n",
       "      <th>2</th>\n",
       "      <td>Slip-NOP</td>\n",
       "      <td>0.0</td>\n",
       "      <td>0.0</td>\n",
       "      <td>0.0</td>\n",
       "      <td>0.0</td>\n",
       "      <td>0.0</td>\n",
       "      <td>0.05</td>\n",
       "      <td>1</td>\n",
       "      <td>1622</td>\n",
       "      <td>149</td>\n",
       "      <td>29.777778</td>\n",
       "      <td>7.799968</td>\n",
       "      <td>Task Count</td>\n",
       "      <td>65.0</td>\n",
       "      <td>0.436242</td>\n",
       "    </tr>\n",
       "    <tr>\n",
       "      <th>3</th>\n",
       "      <td>Slip-NOP</td>\n",
       "      <td>0.0</td>\n",
       "      <td>0.0</td>\n",
       "      <td>0.0</td>\n",
       "      <td>0.0</td>\n",
       "      <td>0.0</td>\n",
       "      <td>0.05</td>\n",
       "      <td>1</td>\n",
       "      <td>1640</td>\n",
       "      <td>113</td>\n",
       "      <td>26.428571</td>\n",
       "      <td>4.776644</td>\n",
       "      <td>Task Count</td>\n",
       "      <td>52.0</td>\n",
       "      <td>0.460177</td>\n",
       "    </tr>\n",
       "    <tr>\n",
       "      <th>4</th>\n",
       "      <td>Slip-NOP</td>\n",
       "      <td>0.0</td>\n",
       "      <td>0.0</td>\n",
       "      <td>0.0</td>\n",
       "      <td>0.0</td>\n",
       "      <td>0.0</td>\n",
       "      <td>0.05</td>\n",
       "      <td>1</td>\n",
       "      <td>1638</td>\n",
       "      <td>100</td>\n",
       "      <td>28.333333</td>\n",
       "      <td>3.248931</td>\n",
       "      <td>Task Count</td>\n",
       "      <td>55.0</td>\n",
       "      <td>0.550000</td>\n",
       "    </tr>\n",
       "  </tbody>\n",
       "</table>\n",
       "</div>"
      ],
      "text/plain": [
       "  Treatment  COPY_MUT_PROB  COPY_INS_PROB  COPY_DEL_PROB  DIVIDE_INS_PROB  \\\n",
       "0  Slip-NOP            0.0            0.0            0.0              0.0   \n",
       "1  Slip-NOP            0.0            0.0            0.0              0.0   \n",
       "2  Slip-NOP            0.0            0.0            0.0              0.0   \n",
       "3  Slip-NOP            0.0            0.0            0.0              0.0   \n",
       "4  Slip-NOP            0.0            0.0            0.0              0.0   \n",
       "\n",
       "   DIVIDE_DEL_PROB  DIVIDE_SLIP_PROB  SLIP_FILL_MODE  Replicate #  Length  \\\n",
       "0              0.0              0.05               1         1637     100   \n",
       "1              0.0              0.05               1         1643     117   \n",
       "2              0.0              0.05               1         1622     149   \n",
       "3              0.0              0.05               1         1640     113   \n",
       "4              0.0              0.05               1         1638     100   \n",
       "\n",
       "   Task Coding Sites Average  Task Coding Sites Standard Deviation  \\\n",
       "0                  19.142857                              3.090473   \n",
       "1                  22.875000                              8.781194   \n",
       "2                  29.777778                              7.799968   \n",
       "3                  26.428571                              4.776644   \n",
       "4                  28.333333                              3.248931   \n",
       "\n",
       "  Information Type  Information  Information Concentration  \n",
       "0       Task Count         48.0                   0.480000  \n",
       "1       Task Count         58.0                   0.495726  \n",
       "2       Task Count         65.0                   0.436242  \n",
       "3       Task Count         52.0                   0.460177  \n",
       "4       Task Count         55.0                   0.550000  "
      ]
     },
     "execution_count": 6,
     "metadata": {},
     "output_type": "execute_result"
    }
   ],
   "source": [
    "df.head()\n"
   ]
  },
  {
   "cell_type": "code",
   "execution_count": 7,
   "metadata": {
    "execution": {
     "iopub.execute_input": "2025-06-26T21:58:09.161832Z",
     "iopub.status.busy": "2025-06-26T21:58:09.161663Z",
     "iopub.status.idle": "2025-06-26T21:58:09.183688Z",
     "shell.execute_reply": "2025-06-26T21:58:09.183192Z"
    }
   },
   "outputs": [
    {
     "data": {
      "text/html": [
       "<div>\n",
       "<style scoped>\n",
       "    .dataframe tbody tr th:only-of-type {\n",
       "        vertical-align: middle;\n",
       "    }\n",
       "\n",
       "    .dataframe tbody tr th {\n",
       "        vertical-align: top;\n",
       "    }\n",
       "\n",
       "    .dataframe thead th {\n",
       "        text-align: right;\n",
       "    }\n",
       "</style>\n",
       "<table border=\"1\" class=\"dataframe\">\n",
       "  <thead>\n",
       "    <tr style=\"text-align: right;\">\n",
       "      <th></th>\n",
       "      <th>COPY_MUT_PROB</th>\n",
       "      <th>COPY_INS_PROB</th>\n",
       "      <th>COPY_DEL_PROB</th>\n",
       "      <th>DIVIDE_INS_PROB</th>\n",
       "      <th>DIVIDE_DEL_PROB</th>\n",
       "      <th>DIVIDE_SLIP_PROB</th>\n",
       "      <th>SLIP_FILL_MODE</th>\n",
       "      <th>Replicate #</th>\n",
       "      <th>Length</th>\n",
       "      <th>Task Coding Sites Average</th>\n",
       "      <th>Task Coding Sites Standard Deviation</th>\n",
       "      <th>Information</th>\n",
       "      <th>Information Concentration</th>\n",
       "    </tr>\n",
       "  </thead>\n",
       "  <tbody>\n",
       "    <tr>\n",
       "      <th>count</th>\n",
       "      <td>210.000000</td>\n",
       "      <td>210.000000</td>\n",
       "      <td>210.000000</td>\n",
       "      <td>210.000000</td>\n",
       "      <td>210.000000</td>\n",
       "      <td>210.000000</td>\n",
       "      <td>210.000000</td>\n",
       "      <td>210.000000</td>\n",
       "      <td>210.000000</td>\n",
       "      <td>210.000000</td>\n",
       "      <td>210.000000</td>\n",
       "      <td>210.000000</td>\n",
       "      <td>210.000000</td>\n",
       "    </tr>\n",
       "    <tr>\n",
       "      <th>mean</th>\n",
       "      <td>0.000714</td>\n",
       "      <td>0.001071</td>\n",
       "      <td>0.001071</td>\n",
       "      <td>0.014286</td>\n",
       "      <td>0.014286</td>\n",
       "      <td>0.035714</td>\n",
       "      <td>1.571429</td>\n",
       "      <td>1634.500000</td>\n",
       "      <td>185.752381</td>\n",
       "      <td>30.353537</td>\n",
       "      <td>7.632483</td>\n",
       "      <td>63.761905</td>\n",
       "      <td>0.422253</td>\n",
       "    </tr>\n",
       "    <tr>\n",
       "      <th>std</th>\n",
       "      <td>0.001132</td>\n",
       "      <td>0.002631</td>\n",
       "      <td>0.002631</td>\n",
       "      <td>0.022642</td>\n",
       "      <td>0.022642</td>\n",
       "      <td>0.022642</td>\n",
       "      <td>1.765470</td>\n",
       "      <td>60.765944</td>\n",
       "      <td>164.911128</td>\n",
       "      <td>13.482652</td>\n",
       "      <td>4.544573</td>\n",
       "      <td>26.525612</td>\n",
       "      <td>0.120205</td>\n",
       "    </tr>\n",
       "    <tr>\n",
       "      <th>min</th>\n",
       "      <td>0.000000</td>\n",
       "      <td>0.000000</td>\n",
       "      <td>0.000000</td>\n",
       "      <td>0.000000</td>\n",
       "      <td>0.000000</td>\n",
       "      <td>0.000000</td>\n",
       "      <td>0.000000</td>\n",
       "      <td>1530.000000</td>\n",
       "      <td>100.000000</td>\n",
       "      <td>15.571429</td>\n",
       "      <td>1.958758</td>\n",
       "      <td>27.000000</td>\n",
       "      <td>0.132515</td>\n",
       "    </tr>\n",
       "    <tr>\n",
       "      <th>25%</th>\n",
       "      <td>0.000000</td>\n",
       "      <td>0.000000</td>\n",
       "      <td>0.000000</td>\n",
       "      <td>0.000000</td>\n",
       "      <td>0.000000</td>\n",
       "      <td>0.000000</td>\n",
       "      <td>0.000000</td>\n",
       "      <td>1582.250000</td>\n",
       "      <td>100.000000</td>\n",
       "      <td>20.375000</td>\n",
       "      <td>4.642252</td>\n",
       "      <td>46.000000</td>\n",
       "      <td>0.350000</td>\n",
       "    </tr>\n",
       "    <tr>\n",
       "      <th>50%</th>\n",
       "      <td>0.000000</td>\n",
       "      <td>0.000000</td>\n",
       "      <td>0.000000</td>\n",
       "      <td>0.000000</td>\n",
       "      <td>0.000000</td>\n",
       "      <td>0.050000</td>\n",
       "      <td>1.000000</td>\n",
       "      <td>1634.500000</td>\n",
       "      <td>103.000000</td>\n",
       "      <td>26.226190</td>\n",
       "      <td>6.302065</td>\n",
       "      <td>54.000000</td>\n",
       "      <td>0.432822</td>\n",
       "    </tr>\n",
       "    <tr>\n",
       "      <th>75%</th>\n",
       "      <td>0.002500</td>\n",
       "      <td>0.000000</td>\n",
       "      <td>0.000000</td>\n",
       "      <td>0.050000</td>\n",
       "      <td>0.050000</td>\n",
       "      <td>0.050000</td>\n",
       "      <td>3.000000</td>\n",
       "      <td>1686.750000</td>\n",
       "      <td>183.000000</td>\n",
       "      <td>36.339286</td>\n",
       "      <td>9.285138</td>\n",
       "      <td>75.500000</td>\n",
       "      <td>0.517500</td>\n",
       "    </tr>\n",
       "    <tr>\n",
       "      <th>max</th>\n",
       "      <td>0.002500</td>\n",
       "      <td>0.007500</td>\n",
       "      <td>0.007500</td>\n",
       "      <td>0.050000</td>\n",
       "      <td>0.050000</td>\n",
       "      <td>0.050000</td>\n",
       "      <td>5.000000</td>\n",
       "      <td>1739.000000</td>\n",
       "      <td>866.000000</td>\n",
       "      <td>89.777778</td>\n",
       "      <td>29.323359</td>\n",
       "      <td>159.000000</td>\n",
       "      <td>0.690000</td>\n",
       "    </tr>\n",
       "  </tbody>\n",
       "</table>\n",
       "</div>"
      ],
      "text/plain": [
       "       COPY_MUT_PROB  COPY_INS_PROB  COPY_DEL_PROB  DIVIDE_INS_PROB  \\\n",
       "count     210.000000     210.000000     210.000000       210.000000   \n",
       "mean        0.000714       0.001071       0.001071         0.014286   \n",
       "std         0.001132       0.002631       0.002631         0.022642   \n",
       "min         0.000000       0.000000       0.000000         0.000000   \n",
       "25%         0.000000       0.000000       0.000000         0.000000   \n",
       "50%         0.000000       0.000000       0.000000         0.000000   \n",
       "75%         0.002500       0.000000       0.000000         0.050000   \n",
       "max         0.002500       0.007500       0.007500         0.050000   \n",
       "\n",
       "       DIVIDE_DEL_PROB  DIVIDE_SLIP_PROB  SLIP_FILL_MODE  Replicate #  \\\n",
       "count       210.000000        210.000000      210.000000   210.000000   \n",
       "mean          0.014286          0.035714        1.571429  1634.500000   \n",
       "std           0.022642          0.022642        1.765470    60.765944   \n",
       "min           0.000000          0.000000        0.000000  1530.000000   \n",
       "25%           0.000000          0.000000        0.000000  1582.250000   \n",
       "50%           0.000000          0.050000        1.000000  1634.500000   \n",
       "75%           0.050000          0.050000        3.000000  1686.750000   \n",
       "max           0.050000          0.050000        5.000000  1739.000000   \n",
       "\n",
       "           Length  Task Coding Sites Average  \\\n",
       "count  210.000000                 210.000000   \n",
       "mean   185.752381                  30.353537   \n",
       "std    164.911128                  13.482652   \n",
       "min    100.000000                  15.571429   \n",
       "25%    100.000000                  20.375000   \n",
       "50%    103.000000                  26.226190   \n",
       "75%    183.000000                  36.339286   \n",
       "max    866.000000                  89.777778   \n",
       "\n",
       "       Task Coding Sites Standard Deviation  Information  \\\n",
       "count                            210.000000   210.000000   \n",
       "mean                               7.632483    63.761905   \n",
       "std                                4.544573    26.525612   \n",
       "min                                1.958758    27.000000   \n",
       "25%                                4.642252    46.000000   \n",
       "50%                                6.302065    54.000000   \n",
       "75%                                9.285138    75.500000   \n",
       "max                               29.323359   159.000000   \n",
       "\n",
       "       Information Concentration  \n",
       "count                 210.000000  \n",
       "mean                    0.422253  \n",
       "std                     0.120205  \n",
       "min                     0.132515  \n",
       "25%                     0.350000  \n",
       "50%                     0.432822  \n",
       "75%                     0.517500  \n",
       "max                     0.690000  "
      ]
     },
     "execution_count": 7,
     "metadata": {},
     "output_type": "execute_result"
    }
   ],
   "source": [
    "df.describe()\n"
   ]
  },
  {
   "cell_type": "code",
   "execution_count": 8,
   "metadata": {
    "execution": {
     "iopub.execute_input": "2025-06-26T21:58:09.185268Z",
     "iopub.status.busy": "2025-06-26T21:58:09.185105Z",
     "iopub.status.idle": "2025-06-26T21:58:09.190479Z",
     "shell.execute_reply": "2025-06-26T21:58:09.190061Z"
    }
   },
   "outputs": [
    {
     "data": {
      "text/plain": [
       "Treatment                                 7\n",
       "COPY_MUT_PROB                             2\n",
       "COPY_INS_PROB                             2\n",
       "COPY_DEL_PROB                             2\n",
       "DIVIDE_INS_PROB                           2\n",
       "DIVIDE_DEL_PROB                           2\n",
       "DIVIDE_SLIP_PROB                          2\n",
       "SLIP_FILL_MODE                            5\n",
       "Replicate #                             210\n",
       "Length                                   88\n",
       "Task Coding Sites Average               175\n",
       "Task Coding Sites Standard Deviation    204\n",
       "Information Type                          1\n",
       "Information                              77\n",
       "Information Concentration               142\n",
       "dtype: int64"
      ]
     },
     "execution_count": 8,
     "metadata": {},
     "output_type": "execute_result"
    }
   ],
   "source": [
    "df.nunique()\n"
   ]
  },
  {
   "cell_type": "code",
   "execution_count": 9,
   "metadata": {
    "execution": {
     "iopub.execute_input": "2025-06-26T21:58:09.192028Z",
     "iopub.status.busy": "2025-06-26T21:58:09.191764Z",
     "iopub.status.idle": "2025-06-26T21:58:09.195361Z",
     "shell.execute_reply": "2025-06-26T21:58:09.194850Z"
    }
   },
   "outputs": [
    {
     "data": {
      "text/plain": [
       "array(['Slip-NOP', 'Baseline-Treatment', 'High-Mutation', 'Slip-random',\n",
       "       'Slip-duplicate', 'Slip-scatter', 'Slip-scramble'], dtype=object)"
      ]
     },
     "execution_count": 9,
     "metadata": {},
     "output_type": "execute_result"
    }
   ],
   "source": [
    "df[\"Treatment\"].unique()\n"
   ]
  },
  {
   "cell_type": "code",
   "execution_count": 10,
   "metadata": {
    "execution": {
     "iopub.execute_input": "2025-06-26T21:58:09.196988Z",
     "iopub.status.busy": "2025-06-26T21:58:09.196711Z",
     "iopub.status.idle": "2025-06-26T21:58:09.199393Z",
     "shell.execute_reply": "2025-06-26T21:58:09.199011Z"
    }
   },
   "outputs": [],
   "source": [
    "df[\"Num Coding Sites\"] = df[\"Information\"]\n"
   ]
  },
  {
   "cell_type": "markdown",
   "metadata": {},
   "source": [
    "## Plot Data\n"
   ]
  },
  {
   "cell_type": "code",
   "execution_count": 11,
   "metadata": {
    "execution": {
     "iopub.execute_input": "2025-06-26T21:58:09.200961Z",
     "iopub.status.busy": "2025-06-26T21:58:09.200772Z",
     "iopub.status.idle": "2025-06-26T21:58:09.202832Z",
     "shell.execute_reply": "2025-06-26T21:58:09.202450Z"
    }
   },
   "outputs": [],
   "source": [
    "signif = \"\"\n",
    "env = \"static\"\n"
   ]
  },
  {
   "cell_type": "code",
   "execution_count": 12,
   "metadata": {
    "execution": {
     "iopub.execute_input": "2025-06-26T21:58:09.204307Z",
     "iopub.status.busy": "2025-06-26T21:58:09.204146Z",
     "iopub.status.idle": "2025-06-26T21:58:09.206969Z",
     "shell.execute_reply": "2025-06-26T21:58:09.206466Z"
    }
   },
   "outputs": [],
   "source": [
    "def order(signif: str=\"\") -> list:\n",
    "    return [\n",
    "        \"Baseline\",\n",
    "        \"High mutation rate\",\n",
    "        \"Slip-scatter\",\n",
    "        \"Slip-NOP\",\n",
    "        \"Slip-random\",\n",
    "        f\"Slip-scramble{signif}\",\n",
    "        f\"Slip-duplicate{signif}\",\n",
    "    ]\n"
   ]
  },
  {
   "cell_type": "code",
   "execution_count": 13,
   "metadata": {
    "execution": {
     "iopub.execute_input": "2025-06-26T21:58:09.208436Z",
     "iopub.status.busy": "2025-06-26T21:58:09.208277Z",
     "iopub.status.idle": "2025-06-26T21:58:09.755834Z",
     "shell.execute_reply": "2025-06-26T21:58:09.755354Z"
    }
   },
   "outputs": [
    {
     "name": "stdout",
     "output_type": "stream",
     "text": [
      "teeplots/env=static+hue=treatment+inner=box+kind=violin+palette=muted+viz=catplot+x=treatment+y=num-coding-sites+ext=.pdf\n",
      "teeplots/env=static+hue=treatment+inner=box+kind=violin+palette=muted+viz=catplot+x=treatment+y=num-coding-sites+ext=.png\n"
     ]
    },
    {
     "data": {
      "image/png": "[encoded data removed]",
      "text/plain": [
       "<Figure size 350x250 with 1 Axes>"
      ]
     },
     "metadata": {},
     "output_type": "display_data"
    }
   ],
   "source": [
    "df_ = df.groupby(\n",
    "    [\"Treatment\", \"Replicate #\"],\n",
    ").max(\"Time\").reset_index()\n",
    "df_[\"Treatment\"] = df_[\n",
    "    \"Treatment\"\n",
    "].replace(\n",
    "    \"Baseline-Treatment\", \"Baseline\"\n",
    ").replace(\n",
    "    \"High-Mutation\", \"High mutation rate\"\n",
    ").replace(\n",
    "    \"Slip-scramble\", f\"Slip-scramble{signif}\"\n",
    ").replace(\n",
    "    \"Slip-duplicate\", f\"Slip-duplicate{signif}\",\n",
    ")\n",
    "\n",
    "with tp.teed(\n",
    "    sns.catplot,\n",
    "    data=df_,\n",
    "    x=\"Treatment\",\n",
    "    y=\"Num Coding Sites\",\n",
    "    hue=\"Treatment\",\n",
    "    order=order(signif),\n",
    "    hue_order=order(signif),\n",
    "    aspect=1.4,\n",
    "    height=2.5,\n",
    "    inner=\"box\",\n",
    "    kind=\"violin\",\n",
    "    linewidth=1,\n",
    "    cut=0,\n",
    "    palette=\"muted\",\n",
    "    teeplot_outattrs={\"env\": env},\n",
    ") as g:\n",
    "    ax, = g.axes.flat\n",
    "    ax.set_ylabel(\"Num Task\\nCoding Sites\")\n",
    "    ax.set_xlabel(\"\")\n",
    "    plt.xticks(rotation=30, ha=\"right\")\n"
   ]
  },
  {
   "cell_type": "markdown",
   "metadata": {},
   "source": [
    "## Slice and Dice\n"
   ]
  },
  {
   "cell_type": "code",
   "execution_count": 14,
   "metadata": {
    "execution": {
     "iopub.execute_input": "2025-06-26T21:58:09.757460Z",
     "iopub.status.busy": "2025-06-26T21:58:09.757287Z",
     "iopub.status.idle": "2025-06-26T21:58:09.763299Z",
     "shell.execute_reply": "2025-06-26T21:58:09.762899Z"
    }
   },
   "outputs": [],
   "source": [
    "df_ = df.groupby(\n",
    "    [\"Treatment\", \"Replicate #\"],\n",
    ").max(\"Time\").reset_index()\n",
    "df_[\"Treatment\"] = df_[\n",
    "    \"Treatment\"\n",
    "].replace(\n",
    "    \"Baseline-Treatment\", \"Baseline\"\n",
    ").replace(\n",
    "    \"High-Mutation\", \"High mutation rate\"\n",
    ").replace(\n",
    "    \"Slip-scramble\", f\"Slip-scramble{signif}\"\n",
    ").replace(\n",
    "    \"Slip-duplicate\", f\"Slip-duplicate{signif}\",\n",
    ")\n"
   ]
  },
  {
   "cell_type": "code",
   "execution_count": 15,
   "metadata": {
    "execution": {
     "iopub.execute_input": "2025-06-26T21:58:09.764721Z",
     "iopub.status.busy": "2025-06-26T21:58:09.764556Z",
     "iopub.status.idle": "2025-06-26T21:58:09.767257Z",
     "shell.execute_reply": "2025-06-26T21:58:09.766835Z"
    }
   },
   "outputs": [],
   "source": [
    "def order2(signif):\n",
    "    return [\n",
    "        \"Baseline\",\n",
    "        f\"Slip-duplicate{signif}\",\n",
    "        \"High mutation rate\",\n",
    "        \"Slip-scatter\",\n",
    "        \"Slip-NOP\",\n",
    "        \"Slip-random\",\n",
    "        f\"Slip-scramble{signif}\",\n",
    "    ]\n"
   ]
  },
  {
   "cell_type": "code",
   "execution_count": 16,
   "metadata": {
    "execution": {
     "iopub.execute_input": "2025-06-26T21:58:09.768725Z",
     "iopub.status.busy": "2025-06-26T21:58:09.768562Z",
     "iopub.status.idle": "2025-06-26T21:58:10.169584Z",
     "shell.execute_reply": "2025-06-26T21:58:10.169070Z"
    }
   },
   "outputs": [
    {
     "name": "stderr",
     "output_type": "stream",
     "text": [
      "/tmp/ipykernel_4096/2569454436.py:25: UserWarning: set_ticklabels() should only be used with a fixed number of ticks, i.e. after set_ticks() or using a FixedLocator.\n",
      "  ax.set_xticklabels(ax.get_xticklabels(), rotation=40, ha=\"left\")\n",
      "/home/runner/.local/lib/python3.12/site-packages/teeplot/teeplot.py:322: UserWarning: teeplot already created file teeplots/env=static+hue=treatment+inner=box+kind=violin+palette=muted+viz=catplot+x=treatment+y=num-coding-sites+ext=.pdf, overwriting it\n",
      "  warnings.warn(\n",
      "/home/runner/.local/lib/python3.12/site-packages/teeplot/teeplot.py:322: UserWarning: teeplot already created file teeplots/env=static+hue=treatment+inner=box+kind=violin+palette=muted+viz=catplot+x=treatment+y=num-coding-sites+ext=.png, overwriting it\n",
      "  warnings.warn(\n"
     ]
    },
    {
     "name": "stdout",
     "output_type": "stream",
     "text": [
      "teeplots/env=static+hue=treatment+inner=box+kind=violin+palette=muted+viz=catplot+x=treatment+y=num-coding-sites+ext=.pdf\n",
      "teeplots/env=static+hue=treatment+inner=box+kind=violin+palette=muted+viz=catplot+x=treatment+y=num-coding-sites+ext=.png\n"
     ]
    },
    {
     "data": {
      "image/png": "[encoded data removed]",
      "text/plain": [
       "<Figure size 350x250 with 1 Axes>"
      ]
     },
     "metadata": {},
     "output_type": "display_data"
    }
   ],
   "source": [
    "with tp.teed(\n",
    "    sns.catplot,\n",
    "    data=df_,\n",
    "    x=\"Treatment\",\n",
    "    y=\"Num Coding Sites\",\n",
    "    hue=\"Treatment\",\n",
    "    order=order2(signif),\n",
    "    hue_order=order2(signif),\n",
    "    aspect=1.4,\n",
    "    height=2.5,\n",
    "    cut=0,\n",
    "    inner=\"box\",\n",
    "    kind=\"violin\",\n",
    "    linewidth=1,\n",
    "    palette=\"muted\",\n",
    "    teeplot_outattrs={\"env\": env},\n",
    ") as g:\n",
    "    ax, = g.axes.flat\n",
    "    # Core lines for your request:\n",
    "    ax.xaxis.set_ticks_position(\"bottom\")\n",
    "    ax.xaxis.set_label_position(\"top\")\n",
    "    ax.tick_params(axis=\"x\", labelbottom=False, labeltop=True)\n",
    "    ax.set_ylabel(\"Num Task\\nCoding Sites\")\n",
    "    ax.set_xlabel(\"\")\n",
    "    ax.set_xticklabels(ax.get_xticklabels(), rotation=40, ha=\"left\")\n"
   ]
  },
  {
   "cell_type": "code",
   "execution_count": 17,
   "metadata": {
    "execution": {
     "iopub.execute_input": "2025-06-26T21:58:10.171353Z",
     "iopub.status.busy": "2025-06-26T21:58:10.171030Z",
     "iopub.status.idle": "2025-06-26T21:58:10.674205Z",
     "shell.execute_reply": "2025-06-26T21:58:10.673714Z"
    }
   },
   "outputs": [
    {
     "name": "stderr",
     "output_type": "stream",
     "text": [
      "/tmp/ipykernel_4096/4096752586.py:39: UserWarning: set_ticklabels() should only be used with a fixed number of ticks, i.e. after set_ticks() or using a FixedLocator.\n",
      "  ax.set_xticklabels(ax.get_xticklabels(), rotation=40, ha=\"left\")\n",
      "/tmp/ipykernel_4096/4096752586.py:39: UserWarning: set_ticklabels() should only be used with a fixed number of ticks, i.e. after set_ticks() or using a FixedLocator.\n",
      "  ax.set_xticklabels(ax.get_xticklabels(), rotation=40, ha=\"left\")\n"
     ]
    },
    {
     "name": "stdout",
     "output_type": "stream",
     "text": [
      "teeplots/col=split+env=static+hue=treatment+inner=box+kind=violin+palette=muted+viz=catplot+x=treatment+y=num-coding-sites+ext=.pdf\n",
      "teeplots/col=split+env=static+hue=treatment+inner=box+kind=violin+palette=muted+viz=catplot+x=treatment+y=num-coding-sites+ext=.png\n"
     ]
    },
    {
     "data": {
      "image/png": "[encoded data removed]",
      "text/plain": [
       "<Figure size 400x250 with 2 Axes>"
      ]
     },
     "metadata": {},
     "output_type": "display_data"
    }
   ],
   "source": [
    "df_[\"split\"] = df_[\"Treatment\"].map(\n",
    "    {\n",
    "        \"Baseline\": 0,\n",
    "        \"High mutation rate\": 1,\n",
    "        f\"Slip-duplicate{signif}\": 0,\n",
    "        f\"Slip-scramble{signif}\": 1,\n",
    "        \"Slip-NOP\": 1,\n",
    "        \"Slip-random\": 1,\n",
    "        \"Slip-scatter\": 1,\n",
    "    },\n",
    ")\n",
    "\n",
    "with tp.teed(\n",
    "    sns.catplot,\n",
    "    data=df_,\n",
    "    x=\"Treatment\",\n",
    "    y=\"Num Coding Sites\",\n",
    "    hue=\"Treatment\",\n",
    "    col=\"split\",\n",
    "    order=order2(signif),\n",
    "    hue_order=order2(signif),\n",
    "    aspect=0.8,\n",
    "    height=2.5,\n",
    "    inner=\"box\",\n",
    "    kind=\"violin\",\n",
    "    cut=0,\n",
    "    sharex=False,\n",
    "    linewidth=1,\n",
    "    palette=\"muted\",\n",
    "    teeplot_outattrs={\"env\": env},\n",
    ") as g:\n",
    "    g.set(ylabel=\"Num Task\\nCoding Sites\")\n",
    "    g.set_titles(\"\")\n",
    "    for ax in g.axes.flat:\n",
    "        ax.xaxis.set_ticks_position(\"bottom\")\n",
    "        ax.xaxis.set_label_position(\"top\")\n",
    "        ax.tick_params(axis=\"x\", labelbottom=False, labeltop=True)\n",
    "        ax.set_xlabel(\"\")\n",
    "        ax.set_xticklabels(ax.get_xticklabels(), rotation=40, ha=\"left\")\n",
    "\n",
    "\n",
    "    g.sharex = False\n",
    "    g.axes.flat[0].set_xlim(None, 1.5)\n",
    "    g.axes.flat[1].set_xlim(1.5, None)\n",
    "\n",
    "    gs = g.axes[0, 0].get_gridspec()\n",
    "    gs.set_width_ratios([2, 5])  # [left, right]\n",
    "\n",
    "    g.fig.subplots_adjust(wspace=0.2)\n"
   ]
  },
  {
   "cell_type": "markdown",
   "metadata": {},
   "source": [
    "## Statistical Tests\n"
   ]
  },
  {
   "cell_type": "code",
   "execution_count": 18,
   "metadata": {
    "execution": {
     "iopub.execute_input": "2025-06-26T21:58:10.676342Z",
     "iopub.status.busy": "2025-06-26T21:58:10.675746Z",
     "iopub.status.idle": "2025-06-26T21:58:10.687488Z",
     "shell.execute_reply": "2025-06-26T21:58:10.686982Z"
    }
   },
   "outputs": [
    {
     "name": "stdout",
     "output_type": "stream",
     "text": [
      "Kruskal-Wallis: H = 135.654, p = 8.274e-27\n",
      "Mann-Whitney Slip-scramble vs Slip-NOP: U = 811, raw p = 9.745e-08, Bonferroni-corrected p = 2.924e-07\n",
      "Mann-Whitney Slip-duplicate vs Slip-NOP: U = 894, raw p = 5.152e-11, Bonferroni-corrected p = 1.546e-10\n",
      "Mann-Whitney Slip-duplicate vs Slip-scramble: U = 654, raw p = 2.616e-03, Bonferroni-corrected p = 7.847e-03\n"
     ]
    }
   ],
   "source": [
    "# --------------------------------------------------------------------\n",
    "# Kruskal-Wallis across all treatment groups\n",
    "# --------------------------------------------------------------------\n",
    "grouped = df.groupby(\"Treatment\")[\"Num Coding Sites\"].apply(list)\n",
    "kw_stat, kw_p = scipy_stats.kruskal(*grouped)\n",
    "\n",
    "print(f\"Kruskal-Wallis: H = {kw_stat:.3f}, p = {kw_p:.3e}\")\n",
    "\n",
    "# --------------------------------------------------------------------\n",
    "# Pair-wise Mann-Whitney U tests\n",
    "#    - Slip-scramble  vs Slip-NOP\n",
    "#    - Slip-duplicate vs Slip-NOP\n",
    "#    - Slip-duplicate vs Slip-scramble\n",
    "#    Bonferroni-correct p-values for 3 comparisons\n",
    "# --------------------------------------------------------------------\n",
    "comparisons = [\n",
    "    (\"Slip-scramble\",  \"Slip-NOP\"),\n",
    "    (\"Slip-duplicate\", \"Slip-NOP\"),\n",
    "    (\"Slip-duplicate\", \"Slip-scramble\")\n",
    "]\n",
    "\n",
    "results   = []\n",
    "raw_ps    = []\n",
    "\n",
    "for a, b in comparisons:\n",
    "    x = df.loc[df[\"Treatment\"] == a, \"Num Coding Sites\"]\n",
    "    y = df.loc[df[\"Treatment\"] == b, \"Num Coding Sites\"]\n",
    "\n",
    "    u, p = scipy_stats.mannwhitneyu(x, y, alternative=\"two-sided\")\n",
    "    raw_ps.append(p)\n",
    "    results.append((a, b, u, p))\n",
    "\n",
    "# Bonferroni adjustment (alpha_nominal * number_of_tests)\n",
    "bonf_ps = [min(p * len(comparisons), 1.0) for p in raw_ps]\n",
    "\n",
    "# --------------------------------------------------------------------\n",
    "# Report\n",
    "# --------------------------------------------------------------------\n",
    "for (a, b, u, p_raw), p_adj in zip(results, bonf_ps):\n",
    "    print(f\"Mann-Whitney {a} vs {b}: \"\n",
    "          f\"U = {u:.0f}, raw p = {p_raw:.3e}, Bonferroni-corrected p = {p_adj:.3e}\")\n"
   ]
  },
  {
   "cell_type": "code",
   "execution_count": 19,
   "metadata": {
    "execution": {
     "iopub.execute_input": "2025-06-26T21:58:10.689270Z",
     "iopub.status.busy": "2025-06-26T21:58:10.688838Z",
     "iopub.status.idle": "2025-06-26T21:58:10.695863Z",
     "shell.execute_reply": "2025-06-26T21:58:10.695449Z"
    }
   },
   "outputs": [
    {
     "data": {
      "text/html": [
       "<div>\n",
       "<style scoped>\n",
       "    .dataframe tbody tr th:only-of-type {\n",
       "        vertical-align: middle;\n",
       "    }\n",
       "\n",
       "    .dataframe tbody tr th {\n",
       "        vertical-align: top;\n",
       "    }\n",
       "\n",
       "    .dataframe thead th {\n",
       "        text-align: right;\n",
       "    }\n",
       "</style>\n",
       "<table border=\"1\" class=\"dataframe\">\n",
       "  <thead>\n",
       "    <tr style=\"text-align: right;\">\n",
       "      <th></th>\n",
       "      <th>mean</th>\n",
       "      <th>std</th>\n",
       "    </tr>\n",
       "    <tr>\n",
       "      <th>Treatment</th>\n",
       "      <th></th>\n",
       "      <th></th>\n",
       "    </tr>\n",
       "  </thead>\n",
       "  <tbody>\n",
       "    <tr>\n",
       "      <th>Baseline-Treatment</th>\n",
       "      <td>49.60</td>\n",
       "      <td>9.14</td>\n",
       "    </tr>\n",
       "    <tr>\n",
       "      <th>High-Mutation</th>\n",
       "      <td>40.83</td>\n",
       "      <td>6.07</td>\n",
       "    </tr>\n",
       "    <tr>\n",
       "      <th>Slip-NOP</th>\n",
       "      <td>53.53</td>\n",
       "      <td>9.56</td>\n",
       "    </tr>\n",
       "    <tr>\n",
       "      <th>Slip-duplicate</th>\n",
       "      <td>107.13</td>\n",
       "      <td>23.01</td>\n",
       "    </tr>\n",
       "    <tr>\n",
       "      <th>Slip-random</th>\n",
       "      <td>51.13</td>\n",
       "      <td>7.29</td>\n",
       "    </tr>\n",
       "    <tr>\n",
       "      <th>Slip-scatter</th>\n",
       "      <td>56.27</td>\n",
       "      <td>10.41</td>\n",
       "    </tr>\n",
       "    <tr>\n",
       "      <th>Slip-scramble</th>\n",
       "      <td>87.83</td>\n",
       "      <td>23.24</td>\n",
       "    </tr>\n",
       "  </tbody>\n",
       "</table>\n",
       "</div>"
      ],
      "text/plain": [
       "                      mean    std\n",
       "Treatment                        \n",
       "Baseline-Treatment   49.60   9.14\n",
       "High-Mutation        40.83   6.07\n",
       "Slip-NOP             53.53   9.56\n",
       "Slip-duplicate      107.13  23.01\n",
       "Slip-random          51.13   7.29\n",
       "Slip-scatter         56.27  10.41\n",
       "Slip-scramble        87.83  23.24"
      ]
     },
     "execution_count": 19,
     "metadata": {},
     "output_type": "execute_result"
    }
   ],
   "source": [
    "df.groupby(\"Treatment\")[\"Num Coding Sites\"].agg([\"mean\", \"std\"]).round(2)\n"
   ]
  }
 ],
 "metadata": {
  "kernelspec": {
   "display_name": "usr",
   "language": "python",
   "name": "python3"
  },
  "language_info": {
   "codemirror_mode": {
    "name": "ipython",
    "version": 3
   },
   "file_extension": ".py",
   "mimetype": "text/x-python",
   "name": "python",
   "nbconvert_exporter": "python",
   "pygments_lexer": "ipython3",
   "version": "3.12.3"
  }
 },
 "nbformat": 4,
 "nbformat_minor": 4
}
